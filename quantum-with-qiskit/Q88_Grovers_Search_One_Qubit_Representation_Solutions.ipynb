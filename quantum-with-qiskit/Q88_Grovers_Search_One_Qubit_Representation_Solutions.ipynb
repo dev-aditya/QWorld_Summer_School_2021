{
 "cells": [
  {
   "cell_type": "markdown",
   "metadata": {},
   "source": [
    "<a href=\"https://qworld.net\" target=\"_blank\" align=\"left\"><img src=\"../qworld/images/header.jpg\"  align=\"left\"></a>\n",
    "$ \\newcommand{\\bra}[1]{\\langle #1|} $\n",
    "$ \\newcommand{\\ket}[1]{|#1\\rangle} $\n",
    "$ \\newcommand{\\braket}[2]{\\langle #1|#2\\rangle} $\n",
    "$ \\newcommand{\\dot}[2]{ #1 \\cdot #2} $\n",
    "$ \\newcommand{\\biginner}[2]{\\left\\langle #1,#2\\right\\rangle} $\n",
    "$ \\newcommand{\\mymatrix}[2]{\\left( \\begin{array}{#1} #2\\end{array} \\right)} $\n",
    "$ \\newcommand{\\myvector}[1]{\\mymatrix{c}{#1}} $\n",
    "$ \\newcommand{\\myrvector}[1]{\\mymatrix{r}{#1}} $\n",
    "$ \\newcommand{\\mypar}[1]{\\left( #1 \\right)} $\n",
    "$ \\newcommand{\\mybigpar}[1]{ \\Big( #1 \\Big)} $\n",
    "$ \\newcommand{\\sqrttwo}{\\frac{1}{\\sqrt{2}}} $\n",
    "$ \\newcommand{\\dsqrttwo}{\\dfrac{1}{\\sqrt{2}}} $\n",
    "$ \\newcommand{\\onehalf}{\\frac{1}{2}} $\n",
    "$ \\newcommand{\\donehalf}{\\dfrac{1}{2}} $\n",
    "$ \\newcommand{\\hadamard}{ \\mymatrix{rr}{ \\sqrttwo & \\sqrttwo \\\\ \\sqrttwo & -\\sqrttwo }} $\n",
    "$ \\newcommand{\\vzero}{\\myvector{1\\\\0}} $\n",
    "$ \\newcommand{\\vone}{\\myvector{0\\\\1}} $\n",
    "$ \\newcommand{\\stateplus}{\\myvector{ \\sqrttwo \\\\  \\sqrttwo } } $\n",
    "$ \\newcommand{\\stateminus}{ \\myrvector{ \\sqrttwo \\\\ -\\sqrttwo } } $\n",
    "$ \\newcommand{\\myarray}[2]{ \\begin{array}{#1}#2\\end{array}} $\n",
    "$ \\newcommand{\\X}{ \\mymatrix{cc}{0 & 1 \\\\ 1 & 0}  } $\n",
    "$ \\newcommand{\\I}{ \\mymatrix{rr}{1 & 0 \\\\ 0 & 1}  } $\n",
    "$ \\newcommand{\\Z}{ \\mymatrix{rr}{1 & 0 \\\\ 0 & -1}  } $\n",
    "$ \\newcommand{\\Htwo}{ \\mymatrix{rrrr}{ \\frac{1}{2} & \\frac{1}{2} & \\frac{1}{2} & \\frac{1}{2} \\\\ \\frac{1}{2} & -\\frac{1}{2} & \\frac{1}{2} & -\\frac{1}{2} \\\\ \\frac{1}{2} & \\frac{1}{2} & -\\frac{1}{2} & -\\frac{1}{2} \\\\ \\frac{1}{2} & -\\frac{1}{2} & -\\frac{1}{2} & \\frac{1}{2} } } $\n",
    "$ \\newcommand{\\CNOT}{ \\mymatrix{cccc}{1 & 0 & 0 & 0 \\\\ 0 & 1 & 0 & 0 \\\\ 0 & 0 & 0 & 1 \\\\ 0 & 0 & 1 & 0} } $\n",
    "$ \\newcommand{\\norm}[1]{ \\left\\lVert #1 \\right\\rVert } $\n",
    "$ \\newcommand{\\pstate}[1]{ \\lceil \\mspace{-1mu} #1 \\mspace{-1.5mu} \\rfloor } $\n",
    "$ \\newcommand{\\greenbit}[1] {\\mathbf{{\\color{green}#1}}} $\n",
    "$ \\newcommand{\\bluebit}[1] {\\mathbf{{\\color{blue}#1}}} $\n",
    "$ \\newcommand{\\redbit}[1] {\\mathbf{{\\color{red}#1}}} $\n",
    "$ \\newcommand{\\brownbit}[1] {\\mathbf{{\\color{brown}#1}}} $\n",
    "$ \\newcommand{\\blackbit}[1] {\\mathbf{{\\color{black}#1}}} $"
   ]
  },
  {
   "cell_type": "markdown",
   "metadata": {},
   "source": [
    "<font style=\"font-size:28px;\" align=\"left\"><b> <font color=\"blue\"> Solutions for </font>Grover's Search: One Qubit Representation </b></font>\n",
    "<br>\n",
    "_prepared by Abuzer Yakaryilmaz_\n",
    "<br><br>"
   ]
  },
  {
   "cell_type": "markdown",
   "metadata": {},
   "source": [
    "<a id=\"task1\"></a>\n",
    "<h3> Task 1 </h3>\n",
    "\n",
    "Execute Grover's search algorithm for 5 steps where $ N = 16 $ and the first element is marked.\n",
    "\n",
    "Draw all quantum states on the unit circle during the execution.\n",
    "\n",
    "Print the angle of each state in degree (use $\\sin^{-1}$), and check whether there is any pattern created by the oracle and inversion operators?\n",
    "\n",
    "Is there any pattern for each step of Grover's algorithm?"
   ]
  },
  {
   "cell_type": "markdown",
   "metadata": {},
   "source": [
    "<h3> Solution </h3>"
   ]
  },
  {
   "cell_type": "code",
   "execution_count": null,
   "metadata": {},
   "outputs": [],
   "source": [
    "def query(elements=[1],marked_elements=[0]):\n",
    "    for i in marked_elements:\n",
    "        elements[i] = -1 * elements[i]    \n",
    "    return elements\n",
    "\n",
    "def inversion (elements=[1]):\n",
    "    # summation of all values\n",
    "    summation = 0\n",
    "    for i in range(len(elements)):\n",
    "        summation += elements[i]\n",
    "\n",
    "    # mean of all values\n",
    "    mean = summation / len(elements)\n",
    "\n",
    "    # reflection over mean\n",
    "    for i in range(len(elements)):\n",
    "        value = elements[i]\n",
    "        new_value = mean - (elements[i]-mean)\n",
    "        elements[i] = new_value   \n",
    "    return elements"
   ]
  },
  {
   "cell_type": "code",
   "execution_count": null,
   "metadata": {},
   "outputs": [],
   "source": [
    "from math import asin, pi\n",
    "\n",
    "# initial values\n",
    "iteration = 5\n",
    "N = 16\n",
    "marked_elements = [0]\n",
    "k = len(marked_elements)\n",
    "elements = []\n",
    "states_on_unit_circle= []\n",
    "\n",
    "# initial quantum state\n",
    "for i in range(N):\n",
    "    elements.append(1/N**0.5)\n",
    "\n",
    "x = elements[N-1] * ((N-k)**0.5)\n",
    "y = elements[0] * (k**0.5)\n",
    "states_on_unit_circle.append([x,y,\"0\"])\n",
    "\n",
    "# Execute Grover's search algorithm for $iteration steps\n",
    "for step in range(iteration):\n",
    "    # query\n",
    "    elements = query(elements,marked_elements)\n",
    "    x = elements[N-1] * ((N-k)**0.5)\n",
    "    y = elements[0] * (k**0.5)\n",
    "    states_on_unit_circle.append([x,y,str(step)+\"'\"])\n",
    "    # inversion\n",
    "    elements = inversion(elements)\n",
    "    x = elements[N-1] * ((N-k)**0.5)\n",
    "    y = elements[0] * (k**0.5)\n",
    "    states_on_unit_circle.append([x,y,str(step+1)])\n",
    "\n",
    "# draw all states\n",
    "%run quantum.py\n",
    "draw_qubit_grover()\n",
    "for state in states_on_unit_circle:\n",
    "    draw_quantum_state(state[0],state[1],state[2])\n",
    "show_plt()\n",
    "    \n",
    "# print the angles\n",
    "print(\"angles in degree\")\n",
    "for state in states_on_unit_circle:\n",
    "    print(asin(state[1])/pi*180)"
   ]
  },
  {
   "cell_type": "markdown",
   "metadata": {},
   "source": [
    "#### Observations\n",
    "\n",
    "The operator oracle is a reflection over the $x$-axis.\n",
    "\n",
    "The operator inversion is a reflection over the initial state.\n",
    "\n",
    "If the angle of the first state $ \\theta $, then each step of Grover's algorithm is a rotation with angle $ 2 \\theta $."
   ]
  },
  {
   "cell_type": "markdown",
   "metadata": {},
   "source": [
    "<hr>"
   ]
  },
  {
   "cell_type": "markdown",
   "metadata": {},
   "source": [
    "<a id=\"task2\"></a>\n",
    "<h3> Task 2 </h3>\n",
    "\n",
    "In Task 1, after which step the probability of observing a marked element is the highest?"
   ]
  },
  {
   "cell_type": "markdown",
   "metadata": {},
   "source": [
    "<h3> Solution </h3>"
   ]
  },
  {
   "cell_type": "markdown",
   "metadata": {},
   "source": [
    "As can be verified from the angles, after the third step, the probability of observing a marking element is the highest. "
   ]
  },
  {
   "cell_type": "markdown",
   "metadata": {},
   "source": [
    "<hr>"
   ]
  },
  {
   "cell_type": "markdown",
   "metadata": {},
   "source": [
    "<a id=\"task3\"></a>\n",
    "<h3> Task 3 </h3>\n",
    "\n",
    "We have a list of size $ N = 128 $. We iterate Grover's search algorithm 10 steps.\n",
    "\n",
    "Visually determine (i.e., Tasks 1 & 2) the good number of iterations if the number of marked elements is 1, 2, 4, or 8. (The quantum state on the unit circle should be close to the $y$-axis.)"
   ]
  },
  {
   "cell_type": "markdown",
   "metadata": {},
   "source": [
    "<h3> Solution </h3>"
   ]
  },
  {
   "cell_type": "code",
   "execution_count": null,
   "metadata": {},
   "outputs": [],
   "source": [
    "def query(elements=[1],marked_elements=[0]):\n",
    "    for i in marked_elements:\n",
    "        elements[i] = -1 * elements[i]    \n",
    "    return elements\n",
    "\n",
    "def inversion (elements=[1]):\n",
    "    # summation of all values\n",
    "    summation = 0\n",
    "    for i in range(len(elements)):\n",
    "        summation += elements[i]\n",
    "\n",
    "    # mean of all values\n",
    "    mean = summation / len(elements)\n",
    "\n",
    "    # reflection over mean\n",
    "    for i in range(len(elements)):\n",
    "        value = elements[i]\n",
    "        new_value = mean - (elements[i]-mean)\n",
    "        elements[i] = new_value   \n",
    "    return elements"
   ]
  },
  {
   "cell_type": "code",
   "execution_count": null,
   "metadata": {
    "scrolled": true
   },
   "outputs": [],
   "source": [
    "from math import asin, pi\n",
    "\n",
    "# initial values\n",
    "iteration = 10\n",
    "N = 128\n",
    "\n",
    "# try each case one by one\n",
    "marked_elements = [0]\n",
    "#marked_elements = [0,1]\n",
    "#marked_elements = [0,1,2,3]\n",
    "#marked_elements = [0,1,2,3,4,5,6,7]\n",
    "\n",
    "k = len(marked_elements)\n",
    "elements = []\n",
    "states_on_unit_circle= []\n",
    "\n",
    "# initial quantum state\n",
    "for i in range(N):\n",
    "    elements.append(1/N**0.5)\n",
    "\n",
    "\n",
    "x = elements[N-1] * ((N-k)**0.5)\n",
    "y = elements[0] * (k**0.5)\n",
    "states_on_unit_circle.append([x,y,\"0\"])\n",
    "\n",
    "# Execute Grover's search algorithm for $iteration steps\n",
    "for step in range(iteration):\n",
    "    # query\n",
    "    elements = query(elements,marked_elements)\n",
    "    x = elements[N-1] * ((N-k)**0.5)\n",
    "    y = elements[0] * (k**0.5)\n",
    "    states_on_unit_circle.append([x,y,str(step)+\"''\"])\n",
    "    # inversion\n",
    "    elements = inversion(elements)\n",
    "    x = elements[N-1] * ((N-k)**0.5)\n",
    "    y = elements[0] * (k**0.5)\n",
    "    states_on_unit_circle.append([x,y,str(step+1)])\n",
    "\n",
    "# draw all states\n",
    "%run quantum.py\n",
    "draw_qubit_grover()\n",
    "for state in states_on_unit_circle:\n",
    "    draw_quantum_state(state[0],state[1],state[2])\n",
    "show_plt()\n",
    "\n",
    "# print the angles\n",
    "print(\"angles in degree\")\n",
    "for state in states_on_unit_circle:\n",
    "    print(asin(state[1])/pi*180)"
   ]
  },
  {
   "cell_type": "markdown",
   "metadata": {},
   "source": [
    "#### Observations\n",
    "\n",
    "The good number of iterations\n",
    "- For $ k = 1 $, $ 8 $ iterations\n",
    "- For $ k = 2 $, $ 6 $ iterations\n",
    "- For $ k = 4 $, $ 4 $ iterations\n",
    "- For $ k = 8 $, $ 3 $ or $ 9 $ iterations"
   ]
  },
  {
   "cell_type": "markdown",
   "metadata": {},
   "source": [
    "<hr>"
   ]
  },
  {
   "cell_type": "markdown",
   "metadata": {},
   "source": [
    "<a id=\"task4\"></a>\n",
    "<h3> Task 4 </h3>\n",
    "\n",
    "We have a list of size $ N = 256 $. We iterate Grover's search algorithm 20 (or 10) steps.\n",
    "\n",
    "Visually determine (i.e., Tasks 1 & 2) the good number of iterations if the number of marked elements is 1, 2, 4, or 8. (The quantum state on the unit circle should be close to the $y$-axis.)"
   ]
  },
  {
   "cell_type": "markdown",
   "metadata": {},
   "source": [
    "<h3> Solution </h3>"
   ]
  },
  {
   "cell_type": "code",
   "execution_count": null,
   "metadata": {},
   "outputs": [],
   "source": [
    "def query(elements=[1],marked_elements=[0]):\n",
    "    for i in marked_elements:\n",
    "        elements[i] = -1 * elements[i]    \n",
    "    return elements\n",
    "\n",
    "def inversion (elements=[1]):\n",
    "    # summation of all values\n",
    "    summation = 0\n",
    "    for i in range(len(elements)):\n",
    "        summation += elements[i]\n",
    "\n",
    "    # mean of all values\n",
    "    mean = summation / len(elements)\n",
    "\n",
    "    # reflection over mean\n",
    "    for i in range(len(elements)):\n",
    "        value = elements[i]\n",
    "        new_value = mean - (elements[i]-mean)\n",
    "        elements[i] = new_value   \n",
    "    return elements"
   ]
  },
  {
   "cell_type": "code",
   "execution_count": null,
   "metadata": {},
   "outputs": [],
   "source": [
    "from math import asin, pi\n",
    "\n",
    "# initial values\n",
    "iteration = 20\n",
    "#iteration = 10\n",
    "N = 256\n",
    "\n",
    "# try each case one by one\n",
    "marked_elements = [0]\n",
    "#marked_elements = [0,1]\n",
    "#marked_elements = [0,1,2,3]\n",
    "#marked_elements = [0,1,2,3,4,5,6,7]\n",
    "\n",
    "k = len(marked_elements)\n",
    "elements = []\n",
    "states_on_unit_circle= []\n",
    "\n",
    "# initial quantum state\n",
    "for i in range(N):\n",
    "    elements.append(1/N**0.5)\n",
    "\n",
    "\n",
    "x = elements[N-1] * ((N-k)**0.5)\n",
    "y = elements[0] * (k**0.5)\n",
    "states_on_unit_circle.append([x,y,\"0\"])\n",
    "\n",
    "# Execute Grover's search algorithm for $iteration steps\n",
    "for step in range(iteration):\n",
    "    # query\n",
    "    elements = query(elements,marked_elements)\n",
    "    x = elements[N-1] * ((N-k)**0.5)\n",
    "    y = elements[0] * (k**0.5)\n",
    "    states_on_unit_circle.append([x,y,str(step)+\"''\"])\n",
    "    # inversion\n",
    "    elements = inversion(elements)\n",
    "    x = elements[N-1] * ((N-k)**0.5)\n",
    "    y = elements[0] * (k**0.5)\n",
    "    states_on_unit_circle.append([x,y,str(step+1)])\n",
    "\n",
    "# draw all states\n",
    "%run quantum.py\n",
    "draw_qubit_grover()\n",
    "for state in states_on_unit_circle:\n",
    "    draw_quantum_state(state[0],state[1],state[2])\n",
    "show_plt()\n",
    "\n",
    "# print the angles\n",
    "print(\"angles in degree\")\n",
    "for state in states_on_unit_circle:\n",
    "    print(asin(state[1])/pi*180)"
   ]
  },
  {
   "cell_type": "markdown",
   "metadata": {},
   "source": [
    "#### Observations\n",
    "\n",
    "The good number of iterations\n",
    "- For $ k = 1 $, $ 12 $ iterations\n",
    "- For $ k = 2 $, $ 8 $ iterations\n",
    "- For $ k = 4 $, $ 6 $ iterations\n",
    "- For $ k = 8 $, $ 4 $ iterations"
   ]
  }
 ],
 "metadata": {
  "kernelspec": {
   "display_name": "Python 3",
   "language": "python",
   "name": "python3"
  },
  "language_info": {
   "codemirror_mode": {
    "name": "ipython",
    "version": 3
   },
   "file_extension": ".py",
   "mimetype": "text/x-python",
   "name": "python",
   "nbconvert_exporter": "python",
   "pygments_lexer": "ipython3",
   "version": "3.7.1"
  }
 },
 "nbformat": 4,
 "nbformat_minor": 2
}
