{
 "cells": [
  {
   "cell_type": "markdown",
   "metadata": {},
   "source": [
    "<a href=\"https://qworld.net\" target=\"_blank\" align=\"left\"><img src=\"../qworld/images/header.jpg\"  align=\"left\"></a>\n",
    "$ \\newcommand{\\bra}[1]{\\langle #1|} $\n",
    "$ \\newcommand{\\ket}[1]{|#1\\rangle} $\n",
    "$ \\newcommand{\\braket}[2]{\\langle #1|#2\\rangle} $\n",
    "$ \\newcommand{\\dot}[2]{ #1 \\cdot #2} $\n",
    "$ \\newcommand{\\biginner}[2]{\\left\\langle #1,#2\\right\\rangle} $\n",
    "$ \\newcommand{\\mymatrix}[2]{\\left( \\begin{array}{#1} #2\\end{array} \\right)} $\n",
    "$ \\newcommand{\\myvector}[1]{\\mymatrix{c}{#1}} $\n",
    "$ \\newcommand{\\myrvector}[1]{\\mymatrix{r}{#1}} $\n",
    "$ \\newcommand{\\mypar}[1]{\\left( #1 \\right)} $\n",
    "$ \\newcommand{\\mybigpar}[1]{ \\Big( #1 \\Big)} $\n",
    "$ \\newcommand{\\sqrttwo}{\\frac{1}{\\sqrt{2}}} $\n",
    "$ \\newcommand{\\dsqrttwo}{\\dfrac{1}{\\sqrt{2}}} $\n",
    "$ \\newcommand{\\onehalf}{\\frac{1}{2}} $\n",
    "$ \\newcommand{\\donehalf}{\\dfrac{1}{2}} $\n",
    "$ \\newcommand{\\hadamard}{ \\mymatrix{rr}{ \\sqrttwo & \\sqrttwo \\\\ \\sqrttwo & -\\sqrttwo }} $\n",
    "$ \\newcommand{\\vzero}{\\myvector{1\\\\0}} $\n",
    "$ \\newcommand{\\vone}{\\myvector{0\\\\1}} $\n",
    "$ \\newcommand{\\stateplus}{\\myvector{ \\sqrttwo \\\\  \\sqrttwo } } $\n",
    "$ \\newcommand{\\stateminus}{ \\myrvector{ \\sqrttwo \\\\ -\\sqrttwo } } $\n",
    "$ \\newcommand{\\myarray}[2]{ \\begin{array}{#1}#2\\end{array}} $\n",
    "$ \\newcommand{\\X}{ \\mymatrix{cc}{0 & 1 \\\\ 1 & 0}  } $\n",
    "$ \\newcommand{\\I}{ \\mymatrix{rr}{1 & 0 \\\\ 0 & 1}  } $\n",
    "$ \\newcommand{\\Z}{ \\mymatrix{rr}{1 & 0 \\\\ 0 & -1}  } $\n",
    "$ \\newcommand{\\Htwo}{ \\mymatrix{rrrr}{ \\frac{1}{2} & \\frac{1}{2} & \\frac{1}{2} & \\frac{1}{2} \\\\ \\frac{1}{2} & -\\frac{1}{2} & \\frac{1}{2} & -\\frac{1}{2} \\\\ \\frac{1}{2} & \\frac{1}{2} & -\\frac{1}{2} & -\\frac{1}{2} \\\\ \\frac{1}{2} & -\\frac{1}{2} & -\\frac{1}{2} & \\frac{1}{2} } } $\n",
    "$ \\newcommand{\\CNOT}{ \\mymatrix{cccc}{1 & 0 & 0 & 0 \\\\ 0 & 1 & 0 & 0 \\\\ 0 & 0 & 0 & 1 \\\\ 0 & 0 & 1 & 0} } $\n",
    "$ \\newcommand{\\norm}[1]{ \\left\\lVert #1 \\right\\rVert } $\n",
    "$ \\newcommand{\\pstate}[1]{ \\lceil \\mspace{-1mu} #1 \\mspace{-1.5mu} \\rfloor } $\n",
    "$ \\newcommand{\\greenbit}[1] {\\mathbf{{\\color{green}#1}}} $\n",
    "$ \\newcommand{\\bluebit}[1] {\\mathbf{{\\color{blue}#1}}} $\n",
    "$ \\newcommand{\\redbit}[1] {\\mathbf{{\\color{red}#1}}} $\n",
    "$ \\newcommand{\\brownbit}[1] {\\mathbf{{\\color{brown}#1}}} $\n",
    "$ \\newcommand{\\blackbit}[1] {\\mathbf{{\\color{black}#1}}} $"
   ]
  },
  {
   "cell_type": "markdown",
   "metadata": {},
   "source": [
    "<font style=\"font-size:28px;\" align=\"left\"><b>Operations on the Unit Circle  </b></font>\n",
    "<br>\n",
    "_prepared by Abuzer Yakaryilmaz_\n",
    "<br><br>\n",
    "[<img src=\"../qworld/images/watch_lecture.jpg\" align=\"left\">](https://youtu.be/FDn7cMimNAU)\n",
    "<br><br><br>"
   ]
  },
  {
   "cell_type": "markdown",
   "metadata": {},
   "source": [
    "_We use certain tools from python library \"<b>matplotlib.pyplot</b>\" for drawing. Check the notebook [Python: Drawing](../python/Python06_Drawing.ipynb) for the list of these tools._"
   ]
  },
  {
   "cell_type": "markdown",
   "metadata": {},
   "source": [
    "<h3>Scenario 1</h3>\n",
    "\n",
    "We start with drawing the quantum states $ \\ket{0} $ and $ \\ket{+} = \\myvector{ \\frac{1}{\\sqrt{2}} \\\\ \\frac{1}{\\sqrt{2}} } $."
   ]
  },
  {
   "cell_type": "markdown",
   "metadata": {},
   "source": [
    "<i style=\"font-size:10pt;\">\n",
    "Our predefined function \"draw_qubit()\" draws a figure, the origin, the axes, the unit circle, and base quantum states.\n",
    "<br>\n",
    "Our predefined function \"draw_quantum_state(x,y,name)\" draws an arrow from (0,0) to (x,y) and associates it with <u>name</u>.\n",
    "<br>\n",
    "We include our predefined functions with the following line of code:\n",
    "    \n",
    "    %run quantum.py\n",
    "</i>   "
   ]
  },
  {
   "cell_type": "code",
   "execution_count": null,
   "metadata": {},
   "outputs": [],
   "source": [
    "%run quantum.py\n",
    "\n",
    "draw_qubit()\n",
    "\n",
    "sqrttwo=2**0.5\n",
    "\n",
    "draw_quantum_state(1,0,\"\")\n",
    "\n",
    "draw_quantum_state(1/sqrttwo,1/sqrttwo,\"|+>\")\n",
    "\n",
    "# drawing the angle with |0>-axis\n",
    "from matplotlib.pyplot import gca, text\n",
    "from matplotlib.patches import Arc\n",
    "gca().add_patch( Arc((0,0),0.4,0.4,angle=0,theta1=0,theta2=45) )\n",
    "text(0.08,0.05,'.',fontsize=30)\n",
    "text(0.21,0.09,'\\u03C0/4')\n",
    "show_plt()"
   ]
  },
  {
   "cell_type": "markdown",
   "metadata": {},
   "source": [
    "<h3> Task 1 (Discussion) </h3>\n",
    "\n",
    "When starting in the state $ \\ket{0} $, we apply a quantum operator, say $ M $, then we obtain the state $\\ket{+}$.\n",
    "\n",
    "If we apply the operator $ M $ once more, what can be the next state?\n",
    "\n",
    "How can we classify possible $ M $'s geometrically? How can we parameterize each possible $ M $?"
   ]
  },
  {
   "cell_type": "markdown",
   "metadata": {},
   "source": [
    "<h3>Scenario 2</h3>\n",
    "\n",
    "We draw the quantum states $ \\ket{1} $ and $ \\ket{-} = \\stateminus $."
   ]
  },
  {
   "cell_type": "code",
   "execution_count": null,
   "metadata": {},
   "outputs": [],
   "source": [
    "%run quantum.py\n",
    "\n",
    "draw_qubit()\n",
    "\n",
    "sqrttwo=2**0.5\n",
    "\n",
    "draw_quantum_state(0,1,\"\")\n",
    "\n",
    "draw_quantum_state(1/sqrttwo,-1/sqrttwo,\"|->\")\n",
    "\n",
    "# drawing the angle with |0>-axis\n",
    "from matplotlib.pyplot import gca, text\n",
    "from matplotlib.patches import Arc\n",
    "gca().add_patch( Arc((0,0),0.4,0.4,angle=0,theta1=-45,theta2=90) )\n",
    "text(0.08,0.05,'.',fontsize=30)\n",
    "text(0.21,0.09,'3\\u03C0/4')\n",
    "show_plt()"
   ]
  },
  {
   "cell_type": "markdown",
   "metadata": {},
   "source": [
    "<h3> Task 2 (Discussion) </h3>\n",
    "\n",
    "When starting in the state $ \\ket{1} $, we apply a quantum operator, say $ M $, then we obtain the state $\\ket{-}$.\n",
    "\n",
    "If we apply the operator $ M $ again, what can be the next state?\n",
    "\n",
    "How can we parameterize each possible $ M $?"
   ]
  },
  {
   "cell_type": "markdown",
   "metadata": {},
   "source": [
    "<hr>\n",
    "<h3>Initialize a (real-valued) qubit with an arbitrary state</h3>\n",
    "\n",
    "A qubit is set to the state $\\ket{0}$ at the beginning.\n",
    "\n",
    "Any real-valued quantum state is a point in the unit circle, and it can be described by an angle, say $\\theta$:\n",
    "\n",
    "For $ \\theta \\in [0,2\\pi) $, the quantum state is $ \\ket{v} = \\myvector{\\cos \\theta \\\\ \\sin \\theta} $.\n",
    "\n",
    "We can set the qubit to the state $ \\ket{v} $ by using a rotation operator between $ \\ket{0} $ and $ \\ket{1} $ with angle $ \\theta $."
   ]
  },
  {
   "cell_type": "markdown",
   "metadata": {},
   "source": [
    "<h3>Rotations with ry-gate</h3>"
   ]
  },
  {
   "cell_type": "markdown",
   "metadata": {},
   "source": [
    "In Qiskit, the ry-gate can be used for the rotations on the unit circle.\n",
    "\n",
    "The default direction of a rotation by ry-gate is counterclockwise. It is used as follows:\n",
    "\n",
    "    quantum_circuit.ry(2 * angle_of_rotation,qubit)\n",
    "\n",
    "<i>Technical remark: ry-gate is defined on <a href=\"https://en.wikipedia.org/wiki/Bloch_sphere\" target=\"_blank\">Bloch sphere</a>. The states $ \\ket{0} $ and $ \\ket{1} $ are placed on the poles of Bloch sphere, and so the angle between them is $ \\pi $ on Bloch sphere. On the other hand, the angles between the states $ \\ket{0} $ and $ \\ket{1} $ on the unit circle is $ \\frac{\\pi}{2} $. Therefore, when using ry-gate, we provide twice of $ \\theta $ for a rotation with angle $\\theta$ on the unit circle.</i>"
   ]
  },
  {
   "cell_type": "code",
   "execution_count": null,
   "metadata": {},
   "outputs": [],
   "source": [
    "from qiskit import QuantumRegister, ClassicalRegister, QuantumCircuit, execute, Aer\n",
    "from qiskit.visualization import plot_histogram\n",
    "from math import pi\n",
    "\n",
    "# we define a quantum circuit with one qubit and one bit\n",
    "q =  QuantumRegister(1) # quantum register with a single qubit\n",
    "c = ClassicalRegister(1) # classical register with a single bit\n",
    "qc = QuantumCircuit(q,c) # quantum circuit with quantum and classical registers\n",
    "\n",
    "# angle of rotation in radian\n",
    "rotation_angle = 2*pi/3\n",
    "\n",
    "# rotate the qubit with rotation_angle\n",
    "qc.ry(2*rotation_angle,q[0]) \n",
    "\n",
    "# measure the qubit\n",
    "qc.measure(q,c)\n",
    "\n",
    "# draw the circuit\n",
    "qc.draw(output='mpl')"
   ]
  },
  {
   "cell_type": "code",
   "execution_count": null,
   "metadata": {},
   "outputs": [],
   "source": [
    "# execute the program 1000 times\n",
    "job = execute(qc,Aer.get_backend('qasm_simulator'),shots=1000)\n",
    "\n",
    "# print the results\n",
    "counts = job.result().get_counts(qc)\n",
    "print(counts)\n",
    "\n",
    "# draw the histogram\n",
    "plot_histogram(counts)"
   ]
  },
  {
   "cell_type": "code",
   "execution_count": null,
   "metadata": {},
   "outputs": [],
   "source": [
    "from math import sin,cos\n",
    "\n",
    "# the quantum state\n",
    "quantum_state = [ cos(rotation_angle) , sin (rotation_angle) ]\n",
    "print(\"The quantum state is\",round(quantum_state[0],4),\"|0> +\",round(quantum_state[1],4),\"|1>\")\n",
    "\n",
    "the_expected_number_of_zeros = 1000*cos(rotation_angle)**2\n",
    "the_expected_number_of_ones = 1000*sin(rotation_angle)**2\n",
    "\n",
    "# expected results\n",
    "print(\"The expected value of observing '0' is\",round(the_expected_number_of_zeros,4))\n",
    "print(\"The expected value of observing '1' is\",round(the_expected_number_of_ones,4))"
   ]
  },
  {
   "cell_type": "code",
   "execution_count": null,
   "metadata": {},
   "outputs": [],
   "source": [
    "# draw the quantum state\n",
    "\n",
    "%run quantum.py\n",
    "\n",
    "draw_qubit()\n",
    "\n",
    "draw_quantum_state(quantum_state[0],quantum_state[1],\"|v>\")"
   ]
  },
  {
   "cell_type": "markdown",
   "metadata": {},
   "source": [
    "<h3> Task 3</h3>\n",
    "\n",
    "Randomly pick an angle $ \\theta \\in [0,2\\pi) $.\n",
    "\n",
    "Suppose that we have 1000 copies of quantum state $ \\ket{v} = \\myvector{ \\cos \\theta \\\\ \\sin \\theta } $ and we measure each of them.\n",
    "\n",
    "What are the expected numbers of observing the states 0 and 1?\n",
    "\n",
    "Implement the above experiment by designing a quantum circuit and set the quantum state by using ry-gate.\n",
    "\n",
    "Compare your experimental and analytic results.\n",
    "\n",
    "Repeat the task a couple of times."
   ]
  },
  {
   "cell_type": "code",
   "execution_count": null,
   "metadata": {},
   "outputs": [],
   "source": [
    "#\n",
    "# your code is here\n",
    "#\n"
   ]
  },
  {
   "cell_type": "markdown",
   "metadata": {},
   "source": [
    "[click for our solution](Q40_Operations_on_the_Unit_Circle_Solution.ipynb#task3)"
   ]
  }
 ],
 "metadata": {
  "kernelspec": {
   "display_name": "Python 3",
   "language": "python",
   "name": "python3"
  },
  "language_info": {
   "codemirror_mode": {
    "name": "ipython",
    "version": 3
   },
   "file_extension": ".py",
   "mimetype": "text/x-python",
   "name": "python",
   "nbconvert_exporter": "python",
   "pygments_lexer": "ipython3",
   "version": "3.7.1"
  }
 },
 "nbformat": 4,
 "nbformat_minor": 2
}
