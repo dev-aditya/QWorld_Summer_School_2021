{
 "cells": [
  {
   "cell_type": "markdown",
   "metadata": {},
   "source": [
    "<a href=\"https://qworld.net\" target=\"_blank\" align=\"left\"><img src=\"../qworld/images/header.jpg\"  align=\"left\"></a>\n",
    "$ \\newcommand{\\bra}[1]{\\langle #1|} $\n",
    "$ \\newcommand{\\ket}[1]{|#1\\rangle} $\n",
    "$ \\newcommand{\\braket}[2]{\\langle #1|#2\\rangle} $\n",
    "$ \\newcommand{\\dot}[2]{ #1 \\cdot #2} $\n",
    "$ \\newcommand{\\biginner}[2]{\\left\\langle #1,#2\\right\\rangle} $\n",
    "$ \\newcommand{\\mymatrix}[2]{\\left( \\begin{array}{#1} #2\\end{array} \\right)} $\n",
    "$ \\newcommand{\\myvector}[1]{\\mymatrix{c}{#1}} $\n",
    "$ \\newcommand{\\myrvector}[1]{\\mymatrix{r}{#1}} $\n",
    "$ \\newcommand{\\mypar}[1]{\\left( #1 \\right)} $\n",
    "$ \\newcommand{\\mybigpar}[1]{ \\Big( #1 \\Big)} $\n",
    "$ \\newcommand{\\sqrttwo}{\\frac{1}{\\sqrt{2}}} $\n",
    "$ \\newcommand{\\dsqrttwo}{\\dfrac{1}{\\sqrt{2}}} $\n",
    "$ \\newcommand{\\onehalf}{\\frac{1}{2}} $\n",
    "$ \\newcommand{\\donehalf}{\\dfrac{1}{2}} $\n",
    "$ \\newcommand{\\hadamard}{ \\mymatrix{rr}{ \\sqrttwo & \\sqrttwo \\\\ \\sqrttwo & -\\sqrttwo }} $\n",
    "$ \\newcommand{\\vzero}{\\myvector{1\\\\0}} $\n",
    "$ \\newcommand{\\vone}{\\myvector{0\\\\1}} $\n",
    "$ \\newcommand{\\stateplus}{\\myvector{ \\sqrttwo \\\\  \\sqrttwo } } $\n",
    "$ \\newcommand{\\stateminus}{ \\myrvector{ \\sqrttwo \\\\ -\\sqrttwo } } $\n",
    "$ \\newcommand{\\myarray}[2]{ \\begin{array}{#1}#2\\end{array}} $\n",
    "$ \\newcommand{\\X}{ \\mymatrix{cc}{0 & 1 \\\\ 1 & 0}  } $\n",
    "$ \\newcommand{\\I}{ \\mymatrix{rr}{1 & 0 \\\\ 0 & 1}  } $\n",
    "$ \\newcommand{\\Z}{ \\mymatrix{rr}{1 & 0 \\\\ 0 & -1}  } $\n",
    "$ \\newcommand{\\Htwo}{ \\mymatrix{rrrr}{ \\frac{1}{2} & \\frac{1}{2} & \\frac{1}{2} & \\frac{1}{2} \\\\ \\frac{1}{2} & -\\frac{1}{2} & \\frac{1}{2} & -\\frac{1}{2} \\\\ \\frac{1}{2} & \\frac{1}{2} & -\\frac{1}{2} & -\\frac{1}{2} \\\\ \\frac{1}{2} & -\\frac{1}{2} & -\\frac{1}{2} & \\frac{1}{2} } } $\n",
    "$ \\newcommand{\\CNOT}{ \\mymatrix{cccc}{1 & 0 & 0 & 0 \\\\ 0 & 1 & 0 & 0 \\\\ 0 & 0 & 0 & 1 \\\\ 0 & 0 & 1 & 0} } $\n",
    "$ \\newcommand{\\norm}[1]{ \\left\\lVert #1 \\right\\rVert } $\n",
    "$ \\newcommand{\\pstate}[1]{ \\lceil \\mspace{-1mu} #1 \\mspace{-1.5mu} \\rfloor } $\n",
    "$ \\newcommand{\\greenbit}[1] {\\mathbf{{\\color{green}#1}}} $\n",
    "$ \\newcommand{\\bluebit}[1] {\\mathbf{{\\color{blue}#1}}} $\n",
    "$ \\newcommand{\\redbit}[1] {\\mathbf{{\\color{red}#1}}} $\n",
    "$ \\newcommand{\\brownbit}[1] {\\mathbf{{\\color{brown}#1}}} $\n",
    "$ \\newcommand{\\blackbit}[1] {\\mathbf{{\\color{black}#1}}} $"
   ]
  },
  {
   "cell_type": "markdown",
   "metadata": {},
   "source": [
    "<font style=\"font-size:28px;\" align=\"left\"><b>Two Qubits</b></font>\n",
    "<br>\n",
    "_prepared by Abuzer Yakaryilmaz_\n",
    "<br><br>\n",
    "[<img src=\"../qworld/images/watch_lecture.jpg\" align=\"left\">](https://youtu.be/qvQrDjRRj28)\n",
    "<br><br><br>"
   ]
  },
  {
   "cell_type": "markdown",
   "metadata": {},
   "source": [
    "Remember that when we have a quantum system with two qubits, then we can represent its states as $ \\ket{00}, \\ket{01}, \\ket{10}, \\ket{11} $.\n",
    "\n",
    "The state $ \\ket{ab} $ means that \n",
    "<ul>\n",
    "    <li>the first qubit is in state $ \\ket{a} $ and </li>\n",
    "    <li> the second qubit is in state $ \\ket{b} $, </li>\n",
    "</ul>\n",
    "where $ a,b \\in \\{0,1\\} $.\n",
    "\n",
    "$ \\ket{ab} = \\ket{a} \\otimes \\ket{b} $ (or shortly $\\ket{a}\\ket{b}$."
   ]
  },
  {
   "cell_type": "markdown",
   "metadata": {},
   "source": [
    "<h3> Task 1 (vector representation)</h3>\n",
    "\n",
    "Verify the vector representations of $ \\ket{00}, \\ket{01}, \\ket{10}, \\ket{11} $:\n",
    "\n",
    "$$\n",
    "    \\ket{00} = \\myvector{1 \\\\ 0 \\\\ 0 \\\\ 0},\n",
    "    ~~~~~~\n",
    "    \\ket{01} = \\myvector{0 \\\\ 1 \\\\ 0 \\\\ 0},\n",
    "    ~~~~~~\n",
    "    \\ket{10} = \\myvector{0 \\\\ 0 \\\\ 1 \\\\ 0},\n",
    "    ~~~ \\mbox{ and }  ~~~\n",
    "    \\ket{11} = \\myvector{0 \\\\ 0 \\\\ 0 \\\\ 1}.\n",
    "$$"
   ]
  },
  {
   "cell_type": "markdown",
   "metadata": {},
   "source": [
    "<h3> Task 2 (generalization)</h3>\n",
    "\n",
    "Suppose that we have $ k>1 $ qubits (or bits). \n",
    "\n",
    "Then, any deterministic (basis) state can be represented by $ k $ bits:  $ \\ket{b_1b_2\\cdots b_k} $, where any $ b_j \\in \\{0,1\\} $ for $ 1 \\leq j \\leq k $.\n",
    "- What is the size of the vector representing the states of $k$ qubits?\n",
    "- If the decimal value of $ \\ket{b_1 b_2 \\cdots b_k} $ is $ b $, then which entry has the value of 1?"
   ]
  },
  {
   "cell_type": "markdown",
   "metadata": {},
   "source": [
    "<h3>Operators on two qubits</h3>\n",
    "\n",
    "We define a quantum circuit with two qubits and apply the Hadamard operator to each of them."
   ]
  },
  {
   "cell_type": "code",
   "execution_count": null,
   "metadata": {},
   "outputs": [],
   "source": [
    "from qiskit import QuantumCircuit\n",
    "\n",
    "# remark the coincise representation of a quantum circuit\n",
    "qc = QuantumCircuit(2)\n",
    "\n",
    "qc.h(0)\n",
    "qc.h(1)\n",
    "\n",
    "qc.draw(output='mpl',reverse_bits=True)"
   ]
  },
  {
   "cell_type": "markdown",
   "metadata": {},
   "source": [
    "These two Hadamards can also be represented as a single quantum operator on two qubits: $ H \\otimes H $. \n",
    "\n",
    "$$\n",
    "   H^{\\otimes 2} = H \\otimes H = \\hadamard \\otimes \\hadamard = \\Htwo .\n",
    "$$"
   ]
  },
  {
   "cell_type": "markdown",
   "metadata": {},
   "source": [
    "<h3> Unitary backend</h3>\n",
    "\n",
    "Unitary_simulator gives a single matrix representation of all gates in the circuit until that point.\n",
    "\n",
    "    job = execute(circuit, Aer.get_backend('unitary_simulator'),optimization_level=0)\n",
    "    current_unitary = job.result().get_unitary(circuit, decimals=3)\n",
    "    print(current_unitary)"
   ]
  },
  {
   "cell_type": "code",
   "execution_count": null,
   "metadata": {},
   "outputs": [],
   "source": [
    "from qiskit import execute, Aer\n",
    "\n",
    "job = execute(qc, Aer.get_backend('unitary_simulator'),shots=1,optimization_level=0)\n",
    "current_unitary = job.result().get_unitary(qc, decimals=3)\n",
    "for row in current_unitary:\n",
    "    column = \"\"\n",
    "    for entry in row:\n",
    "        column = column + str(entry.real) + \" \"\n",
    "    print(column)"
   ]
  },
  {
   "cell_type": "markdown",
   "metadata": {},
   "source": [
    "<h3> Task 3 </h3>\n",
    "\n",
    "We define a quantum circuit with two qubits: $ q_0 $ and $ q_1 $. They are tensored as $ q_1 \\otimes q_0 $ in Qiskit.\n",
    "\n",
    "We apply the Hadamard operator to $q_1$."
   ]
  },
  {
   "cell_type": "code",
   "execution_count": null,
   "metadata": {},
   "outputs": [],
   "source": [
    "from qiskit import QuantumCircuit\n",
    "qc = QuantumCircuit(2)\n",
    "qc.h(1)\n",
    "qc.draw(output='mpl',reverse_bits=True)"
   ]
  },
  {
   "cell_type": "markdown",
   "metadata": {},
   "source": [
    "Then, the quantum operator applied to both qubits will be $ H \\otimes I $.\n",
    "\n",
    "Read the quantum operator of the above circuit by using 'unitary_simulator' and then verify that it is $ H \\otimes I $."
   ]
  },
  {
   "cell_type": "code",
   "execution_count": null,
   "metadata": {},
   "outputs": [],
   "source": [
    "from qiskit import execute, Aer\n",
    "#\n",
    "# your code is here\n",
    "#"
   ]
  },
  {
   "cell_type": "markdown",
   "metadata": {},
   "source": [
    "[click for our solution](Q60_Two_Qubits_Solutions.ipynb#task3)"
   ]
  },
  {
   "cell_type": "markdown",
   "metadata": {},
   "source": [
    "<h3>Applying Hadamards to both qubits</h3>\n",
    "\n",
    "Applying a h-gate to the first and second qubits is the same as applying the following single operator on both qubits:\n",
    "\n",
    "$$\n",
    "   H^{\\otimes 2} = H \\otimes H = \\hadamard \\otimes \\hadamard = \\Htwo .\n",
    "$$"
   ]
  },
  {
   "cell_type": "markdown",
   "metadata": {},
   "source": [
    "<h4> Case 1: Let's find $ H^{\\otimes 2} \\ket{00} $ (in three different ways) </h4>\n",
    "<ul>\n",
    "    <li> Direct matrix-vector multiplication:\n",
    "        $$\n",
    "            H^{\\otimes 2} \\ket{00} \n",
    "            = \\Htwo \\myvector{1 \\\\ 0 \\\\ 0 \\\\ 0} \n",
    "            = \\myvector{ \\frac{1}{2} \\\\ \\frac{1}{2} \\\\ \\frac{1}{2} \\\\ \\frac{1}{2} } .\n",
    "        $$ </li> \n",
    "    <li> We calculate the quantum state of each state, and then we find the quantum state of the composite system.\n",
    "        $$\n",
    "            H\\ket{0} \\otimes H \\ket{0} \n",
    "            = \\stateplus \\otimes \\stateplus \n",
    "            = \\myvector{ \\frac{1}{2} \\\\ \\frac{1}{2} \\\\ \\frac{1}{2} \\\\ \\frac{1}{2} }.\n",
    "        $$ </li>\n",
    "    <li> We make calculations with $ \\ket{0} $ and $ \\ket{1} $.\n",
    "        $$\n",
    "            H \\ket{0} \\otimes H \\ket{0} \n",
    "            = \\mypar{ \\frac{1}{\\sqrt{2}} \\ket{0} + \\frac{1}{\\sqrt{2}} \\ket{1} } \n",
    "                \\otimes \\mypar{ \\frac{1}{\\sqrt{2}} \\ket{0} + \\frac{1}{\\sqrt{2}} \\ket{1} }\n",
    "            = \\frac{1}{2} \\ket{00} + \\frac{1}{2} \\ket{01} + \\frac{1}{2} \\ket{10} + \\frac{1}{2} \\ket{11} \n",
    "            = \\myvector{ \\frac{1}{2} \\\\ \\frac{1}{2} \\\\ \\frac{1}{2} \\\\ \\frac{1}{2} }.\n",
    "        $$\n",
    "</ul>"
   ]
  },
  {
   "cell_type": "markdown",
   "metadata": {},
   "source": [
    "<hr>\n",
    "<h3> Task 4 </h3>\n",
    "\n",
    "Pick one of the following cases (2, 3, or 4), and verify the correctness of all three different ways for this selected case.\n",
    "<hr>"
   ]
  },
  {
   "cell_type": "markdown",
   "metadata": {},
   "source": [
    "<h4> Case 2: Let's find $ H^{\\otimes 2} \\ket{01} $ (in three different ways) </h4>\n",
    "<ul>\n",
    "    <li> Direct matrix-vector multiplication:\n",
    "        $$\n",
    "            H^{\\otimes 2} \\ket{01} \n",
    "            = \\Htwo \\myvector{0 \\\\ 1 \\\\ 0 \\\\ 0} \n",
    "            = \\myrvector{ \\frac{1}{2} \\\\ - \\frac{1}{2} \\\\ \\frac{1}{2} \\\\ - \\frac{1}{2} } .\n",
    "        $$ </li> \n",
    "    <li> We calculate the quantum state of each state, and then we find the quantum state of the composite system.\n",
    "        $$\n",
    "            H\\ket{0} \\otimes H \\ket{1} \n",
    "            = \\stateplus \\otimes \\stateminus \n",
    "            = \\myrvector{ \\frac{1}{2} \\\\ - \\frac{1}{2} \\\\ \\frac{1}{2} \\\\ - \\frac{1}{2} }.\n",
    "        $$ </li>\n",
    "    <li> We make calculations with $ \\ket{0} $ and $ \\ket{1} $.\n",
    "        $$\n",
    "            H \\ket{0} \\otimes H \\ket{1} \n",
    "            = \\mypar{ \\frac{1}{\\sqrt{2}} \\ket{0} + \\frac{1}{\\sqrt{2}} \\ket{1} } \n",
    "                \\otimes \\mypar{ \\frac{1}{\\sqrt{2}} \\ket{0} - \\frac{1}{\\sqrt{2}} \\ket{1} }\n",
    "            = \\frac{1}{2} \\ket{00} - \\frac{1}{2} \\ket{01} + \\frac{1}{2} \\ket{10} - \\frac{1}{2} \\ket{11} \n",
    "            = \\myrvector{ \\frac{1}{2} \\\\ - \\frac{1}{2} \\\\ \\frac{1}{2} \\\\ - \\frac{1}{2} }.\n",
    "        $$\n",
    "</ul>"
   ]
  },
  {
   "cell_type": "markdown",
   "metadata": {},
   "source": [
    "<h4> Case 3: Let's find $ H^{\\otimes 2} \\ket{10} $ (in three different ways) </h4>\n",
    "<ul>\n",
    "    <li> Direct matrix-vector multiplication:\n",
    "        $$\n",
    "            H^{\\otimes 2} \\ket{10} \n",
    "            = \\Htwo \\myvector{0 \\\\ 0 \\\\ 1 \\\\ 0} \n",
    "            = \\myrvector{ \\frac{1}{2} \\\\ \\frac{1}{2} \\\\ - \\frac{1}{2} \\\\ - \\frac{1}{2} } .\n",
    "        $$ </li> \n",
    "    <li> We calculate the quantum state of each state, and then we find the quantum state of the composite system.\n",
    "        $$\n",
    "            H\\ket{1} \\otimes H \\ket{0} \n",
    "            = \\stateminus \\otimes \\stateplus \n",
    "            = \\myrvector{ \\frac{1}{2} \\\\ \\frac{1}{2} \\\\ - \\frac{1}{2} \\\\ - \\frac{1}{2} }.\n",
    "        $$ </li>\n",
    "    <li> We make calculations with $ \\ket{0} $ and $ \\ket{1} $.\n",
    "        $$\n",
    "            H \\ket{1} \\otimes H \\ket{0} \n",
    "            = \\mypar{ \\frac{1}{\\sqrt{2}} \\ket{0} - \\frac{1}{\\sqrt{2}} \\ket{1} } \n",
    "                \\otimes \\mypar{ \\frac{1}{\\sqrt{2}} \\ket{0} + \\frac{1}{\\sqrt{2}} \\ket{1} }\n",
    "            = \\frac{1}{2} \\ket{00} + \\frac{1}{2} \\ket{01} - \\frac{1}{2} \\ket{10} - \\frac{1}{2} \\ket{11} \n",
    "            = \\myrvector{ \\frac{1}{2} \\\\ \\frac{1}{2} \\\\ - \\frac{1}{2} \\\\ -\\frac{1}{2} }.\n",
    "        $$\n",
    "</ul>"
   ]
  },
  {
   "cell_type": "markdown",
   "metadata": {},
   "source": [
    "<h4> Case 4: Let's find $ H^{\\otimes 2} \\ket{11} $ (in three different ways) </h4>\n",
    "<ul>\n",
    "    <li> Direct matrix-vector multiplication:\n",
    "        $$\n",
    "            H^{\\otimes 2} \\ket{11} \n",
    "            = \\Htwo \\myvector{0 \\\\ 0 \\\\ 0 \\\\ 1} \n",
    "            = \\myrvector{ \\frac{1}{2} \\\\ - \\frac{1}{2} \\\\ - \\frac{1}{2} \\\\ \\frac{1}{2} } .\n",
    "        $$ </li> \n",
    "    <li> We calculate the quantum state of each state,and then we find the quantum state of the composite system.\n",
    "        $$\n",
    "            H\\ket{1} \\otimes H \\ket{1} \n",
    "            = \\stateminus \\otimes \\stateminus \n",
    "            = \\myrvector{ \\frac{1}{2} \\\\ - \\frac{1}{2} \\\\ - \\frac{1}{2} \\\\ \\frac{1}{2} }.\n",
    "        $$ </li>\n",
    "    <li> We make calculations with $ \\ket{0} $ and $ \\ket{1} $.\n",
    "        $$\n",
    "            H \\ket{1} \\otimes H \\ket{1} \n",
    "            = \\mypar{ \\frac{1}{\\sqrt{2}} \\ket{0} - \\frac{1}{\\sqrt{2}} \\ket{1} } \n",
    "                \\otimes \\mypar{ \\frac{1}{\\sqrt{2}} \\ket{0} - \\frac{1}{\\sqrt{2}} \\ket{1} }\n",
    "            = \\frac{1}{2} \\ket{00} - \\frac{1}{2} \\ket{01} - \\frac{1}{2} \\ket{10} + \\frac{1}{2} \\ket{11} \n",
    "            = \\myrvector{ \\frac{1}{2} \\\\ - \\frac{1}{2} \\\\ - \\frac{1}{2} \\\\ \\frac{1}{2} }.\n",
    "        $$\n",
    "</ul>"
   ]
  },
  {
   "cell_type": "markdown",
   "metadata": {},
   "source": [
    "<hr>"
   ]
  },
  {
   "cell_type": "markdown",
   "metadata": {},
   "source": [
    "<h3> CNOT operator </h3>"
   ]
  },
  {
   "cell_type": "markdown",
   "metadata": {},
   "source": [
    "CNOT is an operator defined on two qubits:\n",
    "\n",
    "$$\n",
    "    CNOT = \\mymatrix{cccc}{1 & 0 & 0 & 0 \\\\ 0 & 1 & 0 & 0 \\\\ 0 & 0 & 0 & 1 \\\\ 0 & 0 & 1 & 0} .\n",
    "$$\n",
    "\n",
    "Its effect is very simple: if the state of the first qubit is one, then the state of the second qubit is flipped. \n",
    "\n",
    "If the state of the first qubit is zero, then the state of the second qubit remains the same. \n",
    "\n",
    "In summary:\n",
    "<ul>\n",
    "    <li>$ CNOT \\ket{00} = \\ket{00} $, </li>\n",
    "    <li>$ CNOT \\ket{01} = \\ket{01} $, </li>\n",
    "    <li>$ CNOT \\ket{10} = \\ket{11} $, and, </li>\n",
    "    <li>$ CNOT \\ket{11} = \\ket{10} $. </li>\n",
    "</ul>\n",
    "\n",
    "CNOT refers to as Controlled-NOT: NOT operator is applied in a controlled way."
   ]
  },
  {
   "cell_type": "markdown",
   "metadata": {},
   "source": [
    "<h3> cx-gate </h3>\n",
    "\n",
    "In Qiskit, CNOT operator is represented as cx-gate.\n",
    "\n",
    "It takes two arguments: controller-qubit and target-qubit.\n",
    "\n",
    "Its implementation is as follows:\n",
    "\n",
    "<i> <b>x-gate</b> (NOT operator) is applied to <u>the target qubit</u> that is <b>CONTROLLED</b> by <u>the controller qubit</u>.</i> \n",
    "\n",
    "We apply CNOT operator to the states $ \\ket{00}, \\ket{01}, \\ket{10}, \\ket{11} $ and then measure each."
   ]
  },
  {
   "cell_type": "code",
   "execution_count": null,
   "metadata": {},
   "outputs": [],
   "source": [
    "pairs = ['00','01','10','11']\n",
    "\n",
    "for pair in pairs:\n",
    "    from qiskit import QuantumCircuit, execute, Aer\n",
    "    qc = QuantumCircuit(2,2)\n",
    "    # initialize the pair\n",
    "    # we follow the reading order in Qiskit\n",
    "    # q1-tensor-q0\n",
    "    if pair[1] == '1':\n",
    "        qc.x(0)\n",
    "    if pair[0] =='1':\n",
    "        qc.x(1)\n",
    "    qc.cx(1,0)\n",
    "    qc.measure(0,0)\n",
    "    qc.measure(1,1)\n",
    "    display(qc.draw(output='mpl',reverse_bits=True))\n",
    "    job = execute(qc,Aer.get_backend('qasm_simulator'),shots=1024)\n",
    "    counts = job.result().get_counts(qc)\n",
    "    print(pair,\"--CNOT->\",counts)"
   ]
  },
  {
   "cell_type": "markdown",
   "metadata": {},
   "source": [
    "<h3> Task 5 </h3>\n",
    "\n",
    "Create a quantum circuit with $ n=5 $ qubits.\n",
    "\n",
    "Set each qubit to $ \\ket{1} $.\n",
    "\n",
    "Repeat 4 times:\n",
    "<ul>\n",
    "    <li>Randomly pick a pair of qubits, and apply cx-gate (CNOT operator) on the pair.</li>\n",
    "</ul>\n",
    "\n",
    "Draw your circuit, and execute your program 100 times.\n",
    "\n",
    "Verify your measurement results by checking the diagram of the circuit. "
   ]
  },
  {
   "cell_type": "code",
   "execution_count": null,
   "metadata": {},
   "outputs": [],
   "source": [
    "# import all necessary objects and methods for quantum circuits\n",
    "from qiskit import QuantumRegister, ClassicalRegister, QuantumCircuit, execute, Aer\n",
    "# import randrange for random choices\n",
    "from random import randrange\n",
    "\n",
    "#\n",
    "# your code is here\n",
    "#\n"
   ]
  },
  {
   "cell_type": "markdown",
   "metadata": {},
   "source": [
    "[click for our solution](Q60_Two_Qubits_Solutions.ipynb#task5)"
   ]
  },
  {
   "cell_type": "markdown",
   "metadata": {},
   "source": [
    "<h3>Task 6</h3>\n",
    "\n",
    "Our task is to learn the behavior of the following quantum circuit by doing experiments.\n",
    "\n",
    "Our circuit has two qubits: $ q_0 $ and $ q_1 $. They are tensored as $ q_1 \\otimes q_0 $ in Qiskit.\n",
    "<ul>\n",
    "    <li> Apply Hadamard to the both qubits.\n",
    "    <li> Apply CNOT($q_1$,$q_0$).\n",
    "    <li> Apply Hadamard to the both qubits.\n",
    "    <li> Measure the circuit.\n",
    "</ul>\n",
    "\n",
    "Iteratively initialize  the qubits to $ \\ket{00} $, $ \\ket{01} $, $ \\ket{10} $, and $ \\ket{11} $.\n",
    "\n",
    "Execute your program 100 times for each iteration, and then check the outcomes for each iteration. \n",
    "\n",
    "Observe that the overall circuit implements CNOT($q_0$,$q_1$)."
   ]
  },
  {
   "cell_type": "code",
   "execution_count": null,
   "metadata": {},
   "outputs": [],
   "source": [
    "# import all necessary objects and methods for quantum circuits\n",
    "from qiskit import QuantumRegister, ClassicalRegister, QuantumCircuit, execute, Aer\n",
    "\n",
    "#\n",
    "# your code is here\n",
    "#\n"
   ]
  },
  {
   "cell_type": "markdown",
   "metadata": {},
   "source": [
    "[click for our solution](Q60_Two_Qubits_Solutions.ipynb#task6)"
   ]
  },
  {
   "cell_type": "markdown",
   "metadata": {},
   "source": [
    "<h3>Task 7</h3>\n",
    "\n",
    "Our task is to learn the behavior of the following quantum circuit by doing experiments.\n",
    "\n",
    "Our circuit has two qubits: $ q_0 $ and $ q_1 $. They are tensored as $ q_1 \\otimes q_0 $ in Qiskit.\n",
    "<ul>\n",
    "    <li> Apply CNOT($q_1$,$q_0$).\n",
    "    <li> Apply CNOT($q_0$,$q_1$).\n",
    "    <li> Apply CNOT($q_1$,$q_0$).\n",
    "</ul>\n",
    "\n",
    "Iteratively initialize  the qubits to $ \\ket{00} $, $ \\ket{01} $, $ \\ket{10} $, and $ \\ket{11} $.\n",
    "\n",
    "Execute your program 100 times for each iteration, and then check the outcomes for each iteration. \n",
    "\n",
    "Observe that the overall circuit swaps the values of the first and second qubits:\n",
    "<ul>\n",
    "    <li> $\\ket{00} \\rightarrow \\ket{00} $ </li>\n",
    "    <li> $\\ket{01} \\rightarrow \\ket{10} $ </li>\n",
    "    <li> $\\ket{10} \\rightarrow \\ket{01} $ </li>\n",
    "    <li> $\\ket{11} \\rightarrow \\ket{11} $ </li>\n",
    "</ul>"
   ]
  },
  {
   "cell_type": "code",
   "execution_count": null,
   "metadata": {},
   "outputs": [],
   "source": [
    "# import all necessary objects and methods for quantum circuits\n",
    "from qiskit import QuantumRegister, ClassicalRegister, QuantumCircuit, execute, Aer\n",
    "\n",
    "#\n",
    "# your code is here\n",
    "#\n"
   ]
  },
  {
   "cell_type": "markdown",
   "metadata": {},
   "source": [
    "[click for our solution](Q60_Two_Qubits_Solutions.ipynb#task7)"
   ]
  }
 ],
 "metadata": {
  "kernelspec": {
   "display_name": "Python 3",
   "language": "python",
   "name": "python3"
  },
  "language_info": {
   "codemirror_mode": {
    "name": "ipython",
    "version": 3
   },
   "file_extension": ".py",
   "mimetype": "text/x-python",
   "name": "python",
   "nbconvert_exporter": "python",
   "pygments_lexer": "ipython3",
   "version": "3.7.1"
  }
 },
 "nbformat": 4,
 "nbformat_minor": 2
}
