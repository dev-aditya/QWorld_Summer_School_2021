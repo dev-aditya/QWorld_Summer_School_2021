{
 "cells": [
  {
   "cell_type": "markdown",
   "metadata": {},
   "source": [
    "<a href=\"https://qworld.net\" target=\"_blank\" align=\"left\"><img src=\"../qworld/images/header.jpg\"  align=\"left\"></a>\n",
    "$ \\newcommand{\\bra}[1]{\\langle #1|} $\n",
    "$ \\newcommand{\\ket}[1]{|#1\\rangle} $\n",
    "$ \\newcommand{\\braket}[2]{\\langle #1|#2\\rangle} $\n",
    "$ \\newcommand{\\dot}[2]{ #1 \\cdot #2} $\n",
    "$ \\newcommand{\\biginner}[2]{\\left\\langle #1,#2\\right\\rangle} $\n",
    "$ \\newcommand{\\mymatrix}[2]{\\left( \\begin{array}{#1} #2\\end{array} \\right)} $\n",
    "$ \\newcommand{\\myvector}[1]{\\mymatrix{c}{#1}} $\n",
    "$ \\newcommand{\\myrvector}[1]{\\mymatrix{r}{#1}} $\n",
    "$ \\newcommand{\\mypar}[1]{\\left( #1 \\right)} $\n",
    "$ \\newcommand{\\mybigpar}[1]{ \\Big( #1 \\Big)} $\n",
    "$ \\newcommand{\\sqrttwo}{\\frac{1}{\\sqrt{2}}} $\n",
    "$ \\newcommand{\\dsqrttwo}{\\dfrac{1}{\\sqrt{2}}} $\n",
    "$ \\newcommand{\\onehalf}{\\frac{1}{2}} $\n",
    "$ \\newcommand{\\donehalf}{\\dfrac{1}{2}} $\n",
    "$ \\newcommand{\\hadamard}{ \\mymatrix{rr}{ \\sqrttwo & \\sqrttwo \\\\ \\sqrttwo & -\\sqrttwo }} $\n",
    "$ \\newcommand{\\vzero}{\\myvector{1\\\\0}} $\n",
    "$ \\newcommand{\\vone}{\\myvector{0\\\\1}} $\n",
    "$ \\newcommand{\\stateplus}{\\myvector{ \\sqrttwo \\\\  \\sqrttwo } } $\n",
    "$ \\newcommand{\\stateminus}{ \\myrvector{ \\sqrttwo \\\\ -\\sqrttwo } } $\n",
    "$ \\newcommand{\\myarray}[2]{ \\begin{array}{#1}#2\\end{array}} $\n",
    "$ \\newcommand{\\X}{ \\mymatrix{cc}{0 & 1 \\\\ 1 & 0}  } $\n",
    "$ \\newcommand{\\I}{ \\mymatrix{rr}{1 & 0 \\\\ 0 & 1}  } $\n",
    "$ \\newcommand{\\Z}{ \\mymatrix{rr}{1 & 0 \\\\ 0 & -1}  } $\n",
    "$ \\newcommand{\\Htwo}{ \\mymatrix{rrrr}{ \\frac{1}{2} & \\frac{1}{2} & \\frac{1}{2} & \\frac{1}{2} \\\\ \\frac{1}{2} & -\\frac{1}{2} & \\frac{1}{2} & -\\frac{1}{2} \\\\ \\frac{1}{2} & \\frac{1}{2} & -\\frac{1}{2} & -\\frac{1}{2} \\\\ \\frac{1}{2} & -\\frac{1}{2} & -\\frac{1}{2} & \\frac{1}{2} } } $\n",
    "$ \\newcommand{\\CNOT}{ \\mymatrix{cccc}{1 & 0 & 0 & 0 \\\\ 0 & 1 & 0 & 0 \\\\ 0 & 0 & 0 & 1 \\\\ 0 & 0 & 1 & 0} } $\n",
    "$ \\newcommand{\\norm}[1]{ \\left\\lVert #1 \\right\\rVert } $\n",
    "$ \\newcommand{\\pstate}[1]{ \\lceil \\mspace{-1mu} #1 \\mspace{-1.5mu} \\rfloor } $\n",
    "$ \\newcommand{\\greenbit}[1] {\\mathbf{{\\color{green}#1}}} $\n",
    "$ \\newcommand{\\bluebit}[1] {\\mathbf{{\\color{blue}#1}}} $\n",
    "$ \\newcommand{\\redbit}[1] {\\mathbf{{\\color{red}#1}}} $\n",
    "$ \\newcommand{\\brownbit}[1] {\\mathbf{{\\color{brown}#1}}} $\n",
    "$ \\newcommand{\\blackbit}[1] {\\mathbf{{\\color{black}#1}}} $"
   ]
  },
  {
   "cell_type": "markdown",
   "metadata": {},
   "source": [
    "<font style=\"font-size:28px;\" align=\"left\"><b> Quantum State </b></font>\n",
    "<br>\n",
    "_prepared by Abuzer Yakaryilmaz_\n",
    "<br><br>\n",
    "[<img src=\"../qworld/images/watch_lecture.jpg\" align=\"left\">](https://youtu.be/6OE96rgQz8s)\n",
    "<br><br><br>"
   ]
  },
  {
   "cell_type": "markdown",
   "metadata": {},
   "source": [
    "_The overall probability must be 1 when we observe a quantum system._\n",
    "\n",
    "For example, the following vectors <u>cannot</u> be a valid quantum state:\n",
    "\n",
    "$$\n",
    "    \\myvector{ \\dfrac{1}{2} \\\\ \\dfrac{1}{2} } \n",
    "    \\mbox{ and }\n",
    "    \\myvector{ \\dfrac{\\sqrt{3}}{2} \\\\ \\dfrac{1}{\\sqrt{2}} }.\n",
    "$$\n",
    "\n",
    "For the first vector, the probabilities of observing the states $\\ket{0} $ and $ \\ket{1} $ are $ \\dfrac{1}{4} $. \n",
    "\n",
    "So, the overall probability of getting a result is $ \\dfrac{1}{4} + \\dfrac{1}{4} = \\dfrac{1}{2} $, which is less than 1.\n",
    "\n",
    "For the second vector, the probabilities of observing the states $\\ket{0} $ and $ \\ket{1} $ are respectively $ \\dfrac{3}{4} $ and $ \\dfrac{1}{2} $. \n",
    "\n",
    "So, the overall probability of getting a result is $ \\dfrac{3}{4} + \\dfrac{1}{2} = \\dfrac{5}{4} $, which is greater than 1."
   ]
  },
  {
   "cell_type": "markdown",
   "metadata": {},
   "source": [
    "<font color=\"blue\"><b>The summation of amplitude squares must be 1 for a valid quantum state.</b></font>"
   ]
  },
  {
   "cell_type": "markdown",
   "metadata": {},
   "source": [
    "<font color=\"blue\"><b>More formally, a quantum state can be represented by a vector having length 1, and vice versa.</b></font>\n",
    "\n",
    "<i>The summation of amplitude squares gives the square of the length of vector.\n",
    "\n",
    "But, this summation is 1, and its square root is also 1. So, we can use the term <u>length</u> in the definition.</i>"
   ]
  },
  {
   "cell_type": "markdown",
   "metadata": {},
   "source": [
    "<i> <b>Technical notes:</b> We represent a quantum state as $ \\ket{u} $ instead of $ u $. Remember the relation between the length and dot product: $ \\norm{u} = \\sqrt{\\dot{u}{u}} $. \n",
    "    \n",
    "In quantum computation, we use inner product instead of dot product, which is defined on complex numbers. By using bra-ket notation, $ \\norm{ \\ket{u} } = \\sqrt{ \\braket{u}{u} } = 1 $, or equivalently $ \\braket{u}{u} = 1 $, where $ \\braket{u}{u} $ is a short form of $ \\bra{u}\\ket{u} $. For real-valued vectors, $ \\braket{v}{v} = \\dot{v}{v}  $.\n",
    "</i>"
   ]
  },
  {
   "cell_type": "markdown",
   "metadata": {},
   "source": [
    "<h3> Task 1 </h3>\n",
    "\n",
    "If the following vectors are valid quantum states defined with real numbers, then what can be the values of $a$ and $b$?\n",
    "\n",
    "$$\n",
    "    \\ket{v} = \\myrvector{a \\\\ -0.1 \\\\ -0.3 \\\\ 0.4 \\\\ 0.5}\n",
    "    ~~~~~ \\mbox{and} ~~~~~\n",
    "   \\ket{u} = \\myrvector{ \\frac{1}{\\sqrt{2}} \\\\ \\frac{1}{\\sqrt{b}} \\\\ -\\frac{1}{\\sqrt{3}} }.\n",
    "$$"
   ]
  },
  {
   "cell_type": "code",
   "execution_count": null,
   "metadata": {},
   "outputs": [],
   "source": [
    "#\n",
    "# your code is here \n",
    "#    (you may find the values by hand (in mind) as well)\n",
    "#\n"
   ]
  },
  {
   "cell_type": "markdown",
   "metadata": {},
   "source": [
    "<a href=\"Q28_Quantum_State_Solutions.ipynb#task1\">click for our solution</a>"
   ]
  },
  {
   "cell_type": "markdown",
   "metadata": {},
   "source": [
    "<h3> Quantum Operators </h3>\n",
    "\n",
    "Once the quantum state is defined, the definition of quantum operator is very easy.\n",
    "\n",
    "<font color=\"blue\"><b>Any length preserving (square) matrix is a quantum operator, and vice versa.</b></font>"
   ]
  },
  {
   "cell_type": "markdown",
   "metadata": {},
   "source": [
    "<a id=\"task2\"></a>\n",
    "<h3> Task 2</h3>\n",
    "\n",
    "Remember Hadamard operator:\n",
    "\n",
    "$$\n",
    "    H = \\hadamard.\n",
    "$$"
   ]
  },
  {
   "cell_type": "markdown",
   "metadata": {},
   "source": [
    "Randomly create a 2-dimensional quantum state, and test whether Hadamard operator preserves its length or not.\n",
    "\n",
    "<b>Write a function</b> that returns a randomly created 2-dimensional quantum state.\n",
    "\n",
    "<i>Hint:\n",
    "<ul>\n",
    "    <li> Pick two random values between -100 and 100 for the amplitudes of state 0 and state 1 </li>\n",
    "    <li> Find an appropriate normalization factor to divide each amplitude such that the length of quantum state should be 1 </li>\n",
    "</ul>\n",
    "</i>"
   ]
  },
  {
   "cell_type": "markdown",
   "metadata": {},
   "source": [
    "<b>Write a function</b> that determines whether a given vector is a valid quantum state or not.\n",
    "\n",
    "(Due to precision problem, the summation of squares may not be exactly 1 but very close to 1, e.g., 0.9999999999999998.)\n",
    "\n",
    "<b>Repeat 10 times:</b>\n",
    "<ul>\n",
    "    <li> Randomly pick a quantum state </li>\n",
    "    <li> Check whether the picked quantum state is valid </li>\n",
    "    <li> Multiply Hadamard operator with the randomly created quantum state </li>\n",
    "    <li> Check whether the quantum state in result is valid </li>\n",
    "</ul>"
   ]
  },
  {
   "cell_type": "code",
   "execution_count": null,
   "metadata": {},
   "outputs": [],
   "source": [
    "#\n",
    "# you may define your first function in a separate cell \n",
    "#\n",
    "\n",
    "from random import randrange\n",
    "def random_quantum_state():\n",
    "    # quantum state \n",
    "    quantum_state=[0,0]\n",
    "    #\n",
    "    #\n",
    "    #\n",
    "    return quantum_state"
   ]
  },
  {
   "cell_type": "code",
   "execution_count": null,
   "metadata": {},
   "outputs": [],
   "source": [
    "#\n",
    "# your code is here\n",
    "#\n"
   ]
  },
  {
   "cell_type": "markdown",
   "metadata": {},
   "source": [
    "<a href=\"Q28_Quantum_State_Solutions.ipynb#task2\">click for our solution</a>"
   ]
  },
  {
   "cell_type": "markdown",
   "metadata": {},
   "source": [
    "<a id=\"task3\"></a>\n",
    "<h3> Task 3 (extra)</h3>\n",
    "\n",
    "Let $ \\ket{u} =  \\myvector{x \\\\ y} \\in \\mathbb{R}^2 $ is a quantum state. \n",
    "\n",
    "Show that $ \\ket{u'} = H \\ket{u} $ is also a quantum state.\n",
    "\n",
    "_Hint: The length of $ \\ket{u'} $ must be 1, given that the length of $ \\ket{u} $ is 1._"
   ]
  }
 ],
 "metadata": {
  "kernelspec": {
   "display_name": "Python 3",
   "language": "python",
   "name": "python3"
  },
  "language_info": {
   "codemirror_mode": {
    "name": "ipython",
    "version": 3
   },
   "file_extension": ".py",
   "mimetype": "text/x-python",
   "name": "python",
   "nbconvert_exporter": "python",
   "pygments_lexer": "ipython3",
   "version": "3.7.1"
  }
 },
 "nbformat": 4,
 "nbformat_minor": 2
}
