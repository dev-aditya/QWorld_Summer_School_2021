{
 "cells": [
  {
   "cell_type": "markdown",
   "id": "5eb410e0",
   "metadata": {
    "deletable": false,
    "editable": false,
    "nbgrader": {
     "cell_type": "markdown",
     "checksum": "a73fbe0ac582d9d1bc262ba80f97238b",
     "grade": false,
     "grade_id": "cell-fbe6abe85e486269",
     "locked": true,
     "schema_version": 3,
     "solution": false,
     "task": false
    }
   },
   "source": [
    "# Instructions\n",
    "\n",
    "The places where you have enter code, to answer the questions, are marked with `# YOUR CODE HERE`. Once you have written your code you should remove the `raise NotImplementedError()` statement.\n",
    "\n",
    "The first two questions are on phase estimation and the rest is about order finding algorithm."
   ]
  },
  {
   "cell_type": "markdown",
   "id": "ce8a1ac6",
   "metadata": {
    "deletable": false,
    "editable": false,
    "nbgrader": {
     "cell_type": "markdown",
     "checksum": "1a0ae903fb34bc1c3efc09b5c724cb9f",
     "grade": false,
     "grade_id": "cell-ce3ae9e7e95b1bda",
     "locked": true,
     "schema_version": 3,
     "solution": false,
     "task": false
    }
   },
   "source": [
    "## Question 1 (2 points)\n",
    "\n",
    "Complete the function `create_operator` that returns a controlled $U$ gate where $U$ is an operator with eigenvector $|1\\rangle$ and eigenvalue $e^{2\\pi i \\phi}$.\n",
    "\n",
    "The function `create_operator` has\n",
    "\n",
    "- Input: $\\phi$\n",
    "- Returns: Controlled $U$ gate with the properties described above\n",
    "\n",
    "Don't create any circuit. Only a gate should be returned."
   ]
  },
  {
   "cell_type": "code",
   "execution_count": null,
   "id": "8a0a61cf",
   "metadata": {
    "deletable": false,
    "nbgrader": {
     "cell_type": "code",
     "checksum": "8254fd4bc4ba7eb5a837b0525ac5f1b3",
     "grade": false,
     "grade_id": "cell-1209ccd054e2ce48",
     "locked": false,
     "schema_version": 3,
     "solution": true,
     "task": false
    }
   },
   "outputs": [],
   "source": [
    "from cirq import CZPowGate\n",
    "\n",
    "def create_operator(phi):\n",
    "    # YOUR CODE HERE\n",
    "    raise NotImplementedError()\n",
    "    \n",
    "    # Do not modify anything below this line  \n",
    "    return CU"
   ]
  },
  {
   "cell_type": "code",
   "execution_count": null,
   "id": "cf776427",
   "metadata": {},
   "outputs": [],
   "source": [
    "# You can use this code to test your function by checking the bottom right corner of the unitary matrix\n",
    "import cirq\n",
    "from cmath import exp, pi\n",
    "\n",
    "def test(phi):\n",
    "    CU = create_operator(phi)\n",
    "    unitary_matrix = cirq.unitary(CU)\n",
    "    print(unitary_matrix)\n",
    "\n",
    "phi=3/5\n",
    "test(phi)\n",
    "print(exp(2*pi*phi*1j))"
   ]
  },
  {
   "cell_type": "code",
   "execution_count": null,
   "id": "f5d04ee2",
   "metadata": {
    "deletable": false,
    "editable": false,
    "nbgrader": {
     "cell_type": "code",
     "checksum": "70ffc17e6da75172fd6e8f9ad3cd0741",
     "grade": true,
     "grade_id": "cell-69b5bef54dfed34c",
     "locked": true,
     "points": 1,
     "schema_version": 3,
     "solution": false,
     "task": false
    }
   },
   "outputs": [],
   "source": [
    "# hidden tests in this cell will be used for grading."
   ]
  },
  {
   "cell_type": "code",
   "execution_count": null,
   "id": "ca4f5deb",
   "metadata": {
    "deletable": false,
    "editable": false,
    "nbgrader": {
     "cell_type": "code",
     "checksum": "953354eea20b310acd65e310714229a5",
     "grade": true,
     "grade_id": "cell-9f992189d7c3e6ce",
     "locked": true,
     "points": 1,
     "schema_version": 3,
     "solution": false,
     "task": false
    }
   },
   "outputs": [],
   "source": [
    "# hidden tests in this cell will be used for grading."
   ]
  },
  {
   "cell_type": "markdown",
   "id": "ca467740",
   "metadata": {
    "deletable": false,
    "editable": false,
    "nbgrader": {
     "cell_type": "markdown",
     "checksum": "0fe45ce422156d7df2cc9eb04e154ac3",
     "grade": false,
     "grade_id": "cell-69a226588a84da96",
     "locked": true,
     "schema_version": 3,
     "solution": false,
     "task": false
    }
   },
   "source": [
    "## Question 2 (8 points)\n",
    "\n",
    "Complete the function `estimate_phi` such that given a controlled $U$ gate where $U$ is an operator with eigenvector $|1\\rangle$ and eigenvalue $e^{2\\pi i \\phi}$, it estimates and returns $\\phi$.\n",
    "\n",
    "The function `estimate_phi` has\n",
    "\n",
    "- Input: Controlled $U$ gate\n",
    "- Returns: Estimate for phi \n",
    "\n",
    "You are given iqft and qpe algorithms and you can use them in your solution. Let the size of the first register equal 10."
   ]
  },
  {
   "cell_type": "code",
   "execution_count": null,
   "id": "1308dc55",
   "metadata": {},
   "outputs": [],
   "source": [
    "def iqft(n,qubits,circuit):\n",
    "    \n",
    "    #Swap the qubits\n",
    "    for i in range(n//2):\n",
    "        circuit.append(SWAP(qubits[i],qubits[n-i-1]), strategy = InsertStrategy.NEW)\n",
    "     \n",
    "    #For each qubit\n",
    "    for i in range(n-1,-1,-1):\n",
    "        #Apply CR_k gates where j is the control and i is the target\n",
    "        k=n-i #We start with k=n-i\n",
    "        for j in range(n-1,i,-1):\n",
    "            #Define and apply CR_k gate\n",
    "            crk = CZPowGate(exponent = -2/2**(k))\n",
    "            circuit.append(crk(qubits[j],qubits[i]),strategy = InsertStrategy.NEW)\n",
    "            k=k-1 #Decrement at each step\n",
    "            \n",
    "        #Apply Hadamard to the qubit\n",
    "        circuit.append(H(qubits[i]),strategy = InsertStrategy.NEW)\n",
    "\n",
    "def qpe(t,control, target, circuit, CU):\n",
    "    \n",
    "    #Apply Hadamard to control qubits\n",
    "    circuit.append(cirq.H.on_each(control))\n",
    "    \n",
    "    #Apply CU gates\n",
    "    for i in range(t):\n",
    "        #Obtain the power of CU gate \n",
    "        CUi = CU**(2**i)\n",
    "        #Apply CUi gate where t-i-1 is the control\n",
    "        circuit.append(CUi(control[t-i-1],*target))\n",
    "        \n",
    "    #Apply inverse QFT\n",
    "    iqft(t,control,circuit)"
   ]
  },
  {
   "cell_type": "code",
   "execution_count": null,
   "id": "4a9c3592",
   "metadata": {
    "deletable": false,
    "nbgrader": {
     "cell_type": "code",
     "checksum": "f396238897be99f5cee97efb14c674ba",
     "grade": false,
     "grade_id": "cell-28c6d391223a0a01",
     "locked": false,
     "schema_version": 3,
     "solution": true,
     "task": false
    }
   },
   "outputs": [],
   "source": [
    "import cirq\n",
    "from cirq.circuits import InsertStrategy\n",
    "from cirq import H, SWAP, CZPowGate\n",
    "def estimate_phi(mystery):\n",
    "    \n",
    "\n",
    "    #Create cirucit\n",
    "    circuit = cirq.Circuit()\n",
    "    # YOUR CODE HERE\n",
    "    raise NotImplementedError()\n",
    "    s=cirq.Simulator()\n",
    "    samples=s.run(circuit, repetitions=1000)\n",
    "    \n",
    "    #Most frequent observation\n",
    "    freq = list(samples.histogram(key='result').keys())[0]\n",
    "    \n",
    "    return freq/2**t"
   ]
  },
  {
   "cell_type": "code",
   "execution_count": null,
   "id": "56ca5b07",
   "metadata": {},
   "outputs": [],
   "source": [
    "import math\n",
    "# You can use this code to test your function by different operators\n",
    "def test_qpe(phi):\n",
    "    operator = CZPowGate(exponent=2*phi)\n",
    "    return estimate_phi(operator)\n",
    "\n",
    "assert(math.isclose(test_qpe(0.23),0.23,rel_tol=1e-2))"
   ]
  },
  {
   "cell_type": "code",
   "execution_count": null,
   "id": "4a739c68",
   "metadata": {
    "deletable": false,
    "editable": false,
    "nbgrader": {
     "cell_type": "code",
     "checksum": "e9e9b416bc32e7eefc76e1595039ecfd",
     "grade": true,
     "grade_id": "cell-7a498dc5e783888f",
     "locked": true,
     "points": 4,
     "schema_version": 3,
     "solution": false,
     "task": false
    }
   },
   "outputs": [],
   "source": [
    "# hidden tests will be used for grading."
   ]
  },
  {
   "cell_type": "code",
   "execution_count": null,
   "id": "023c44e0",
   "metadata": {
    "deletable": false,
    "editable": false,
    "nbgrader": {
     "cell_type": "code",
     "checksum": "9402a897847c242e392faaa6f4a96649",
     "grade": true,
     "grade_id": "cell-c068da8c51694c52",
     "locked": true,
     "points": 4,
     "schema_version": 3,
     "solution": false,
     "task": false
    }
   },
   "outputs": [],
   "source": []
  },
  {
   "cell_type": "markdown",
   "id": "b9bacfef",
   "metadata": {},
   "source": [
    "## Question 3 (1 point)\n",
    "\n",
    "Complete the function `calcL` such that given $N$, it returns the size $L$ of the target register. Note that $L = \\log_2 N$. \n",
    "\n",
    "The function `calcL` has\n",
    "\n",
    "- Input: $N$\n",
    "- Returns: size of the target register"
   ]
  },
  {
   "cell_type": "code",
   "execution_count": null,
   "id": "46838d23",
   "metadata": {
    "deletable": false,
    "nbgrader": {
     "cell_type": "code",
     "checksum": "0e4612adc8aa3c9e0af72e482d72075c",
     "grade": false,
     "grade_id": "cell-4d50dbdbe7c3b0e0",
     "locked": false,
     "schema_version": 3,
     "solution": true,
     "task": false
    }
   },
   "outputs": [],
   "source": [
    "import math\n",
    "def calcL(N):\n",
    "    # YOUR CODE HERE\n",
    "    raise NotImplementedError()\n",
    "    return L"
   ]
  },
  {
   "cell_type": "code",
   "execution_count": null,
   "id": "612bfb80",
   "metadata": {},
   "outputs": [],
   "source": [
    "# You can use this cell to test your function\n",
    "\n",
    "print(calcL(30))\n",
    "print(calcL(62))"
   ]
  },
  {
   "cell_type": "code",
   "execution_count": null,
   "id": "a7a14f5f",
   "metadata": {
    "deletable": false,
    "editable": false,
    "nbgrader": {
     "cell_type": "code",
     "checksum": "d7dd87c7ccdbfc60803485458041b157",
     "grade": true,
     "grade_id": "cell-4472f5d730dc849c",
     "locked": true,
     "points": 1,
     "schema_version": 3,
     "solution": false,
     "task": false
    }
   },
   "outputs": [],
   "source": [
    "# hidden tests will be used for grading."
   ]
  },
  {
   "cell_type": "markdown",
   "id": "dffe6ce6",
   "metadata": {},
   "source": [
    "## Question 4 (1 point)\n",
    "\n",
    "Complete the function `calct` such that given $N$, it returns the size $t$ of the control register. Note that $t = 2L + 1 + \\big \\lceil \\log \\big( 2 + \\frac{1}{2\\epsilon} \\big) \\big \\rceil$. Let $\\epsilon=0.1$. \n",
    "\n",
    "The function `calct` has\n",
    "\n",
    "- Input: $N$\n",
    "- Returns: size of the control register"
   ]
  },
  {
   "cell_type": "code",
   "execution_count": null,
   "id": "6bc6a365",
   "metadata": {
    "deletable": false,
    "nbgrader": {
     "cell_type": "code",
     "checksum": "c09cba51df21cc0fa180caad472e4519",
     "grade": false,
     "grade_id": "cell-5e4eb5f0e18c826c",
     "locked": false,
     "schema_version": 3,
     "solution": true,
     "task": false
    }
   },
   "outputs": [],
   "source": [
    "import math\n",
    "def calct(N):\n",
    "    # YOUR CODE HERE\n",
    "    raise NotImplementedError()\n",
    "    return t"
   ]
  },
  {
   "cell_type": "code",
   "execution_count": null,
   "id": "87d740dc",
   "metadata": {},
   "outputs": [],
   "source": [
    "# You can use this cell to test your function\n",
    "\n",
    "print(calct(30)) #For 30 the answer is 14\n",
    "print(calct(62)) #For 62 the answer is 16"
   ]
  },
  {
   "cell_type": "code",
   "execution_count": null,
   "id": "09643cac",
   "metadata": {
    "deletable": false,
    "editable": false,
    "nbgrader": {
     "cell_type": "code",
     "checksum": "e476cb655ea75aae7fb03fd0f801a067",
     "grade": true,
     "grade_id": "cell-d35e8e77a113a36f",
     "locked": true,
     "points": 1,
     "schema_version": 3,
     "solution": false,
     "task": false
    }
   },
   "outputs": [],
   "source": [
    "# hidden tests will be used for grading."
   ]
  },
  {
   "cell_type": "markdown",
   "id": "9b957c8d",
   "metadata": {},
   "source": [
    "## Question 5 ( 2 points)\n",
    "\n",
    "Complete the function `create_regs` such that given the size of the control and target registers, it returns the control and target registers.\n",
    "\n",
    "The function `create_regs` has\n",
    "\n",
    "- Input: $L$ and $t$\n",
    "- Returns: Two registers `control` and `target`"
   ]
  },
  {
   "cell_type": "code",
   "execution_count": null,
   "id": "b7108019",
   "metadata": {
    "deletable": false,
    "nbgrader": {
     "cell_type": "code",
     "checksum": "12ff0bd3fcc22a139ace97c3fe66f0ae",
     "grade": false,
     "grade_id": "cell-981c159daba85b71",
     "locked": false,
     "schema_version": 3,
     "solution": true,
     "task": false
    }
   },
   "outputs": [],
   "source": [
    "import cirq\n",
    "def create_regs(t,L):\n",
    "\n",
    "    # YOUR CODE HERE\n",
    "    raise NotImplementedError()\n",
    "    return control, target"
   ]
  },
  {
   "cell_type": "code",
   "execution_count": null,
   "id": "687986eb",
   "metadata": {
    "deletable": false,
    "editable": false,
    "nbgrader": {
     "cell_type": "code",
     "checksum": "2e3ade86ee9b8770eb46fbd30191fbe4",
     "grade": true,
     "grade_id": "cell-4114095d75497f1f",
     "locked": true,
     "points": 1,
     "schema_version": 3,
     "solution": false,
     "task": false
    }
   },
   "outputs": [],
   "source": [
    "# hidden tests will be used for grading.\n",
    "# If this cell results in an error, your implementation is incorrect"
   ]
  },
  {
   "cell_type": "code",
   "execution_count": null,
   "id": "77049bac",
   "metadata": {
    "deletable": false,
    "editable": false,
    "nbgrader": {
     "cell_type": "code",
     "checksum": "76eed1a7983bdf2bb2728b0d8580483f",
     "grade": true,
     "grade_id": "cell-b7e2645d83e11864",
     "locked": true,
     "points": 1,
     "schema_version": 3,
     "solution": false,
     "task": false
    }
   },
   "outputs": [],
   "source": [
    "# hidden tests will be used for grading.\n",
    "# If this cell results in an error, your implementation is incorrect"
   ]
  },
  {
   "cell_type": "markdown",
   "id": "891edd76",
   "metadata": {},
   "source": [
    "## Question 6 (8 points)\n",
    "\n",
    "Complete the function `order` so that given $x$ and $N$, it returns the histogram of samples from the order finding circuit.\n",
    "\n",
    "The function `order` has\n",
    "\n",
    "- Input: $x$ and $N$\n",
    "- Returns: A histogram of samples\n",
    "\n",
    "Notes:\n",
    "\n",
    "- You are given a function named $U_x$ which implements $U_x |y\\rangle \\rightarrow |xy {\\mod N}\\rangle $ and returns its controlled version. Run the following cell to load the function. In order to use the function you should pass $x$ and $N$ as parameter.\n",
    "\n",
    "    <pre>CU=Ux(x,N)</pre>\n",
    "\n",
    "- You are also given the code for `qpe` and `iqft`."
   ]
  },
  {
   "cell_type": "code",
   "execution_count": null,
   "id": "6cd34670",
   "metadata": {},
   "outputs": [],
   "source": [
    "import numpy as np\n",
    "def Ux(x,N):\n",
    "\n",
    "    k=1\n",
    "    while(N>2**k):\n",
    "        k=k+1\n",
    "        \n",
    "    u = np.zeros([2**k, 2**k], dtype = int) \n",
    "\n",
    "    for i in range(N):\n",
    "        u[x*i%N][i]=1\n",
    "    for i in range(N,2**k):\n",
    "        u[i][i]=1\n",
    "        \n",
    "\n",
    "    XU = cirq.MatrixGate(u).controlled()\n",
    "    return XU"
   ]
  },
  {
   "cell_type": "code",
   "execution_count": null,
   "id": "a5294444",
   "metadata": {},
   "outputs": [],
   "source": [
    "import cirq\n",
    "from cirq.circuits import InsertStrategy\n",
    "from cirq import H, SWAP, CZPowGate\n",
    "def iqft(n,qubits,circuit):\n",
    "    \n",
    "    #Swap the qubits\n",
    "    for i in range(n//2):\n",
    "        circuit.append(SWAP(qubits[i],qubits[n-i-1]), strategy = InsertStrategy.NEW)\n",
    "     \n",
    "    #For each qubit\n",
    "    for i in range(n-1,-1,-1):\n",
    "        #Apply CR_k gates where j is the control and i is the target\n",
    "        k=n-i #We start with k=n-i\n",
    "        for j in range(n-1,i,-1):\n",
    "            #Define and apply CR_k gate\n",
    "            crk = CZPowGate(exponent = -2/2**(k))\n",
    "            circuit.append(crk(qubits[j],qubits[i]),strategy = InsertStrategy.NEW)\n",
    "            k=k-1 #Decrement at each step\n",
    "            \n",
    "        #Apply Hadamard to the qubit\n",
    "        circuit.append(H(qubits[i]),strategy = InsertStrategy.NEW)\n",
    "\n",
    "def qpe(t,control, target, circuit, CU):\n",
    "    \n",
    "    #Apply Hadamard to control qubits\n",
    "    circuit.append(cirq.H.on_each(control))\n",
    "    \n",
    "    #Apply CU gates\n",
    "    for i in range(t):\n",
    "        #Obtain the power of CU gate \n",
    "        CUi = CU**(2**i)\n",
    "        #Apply CUi gate where t-i-1 is the control\n",
    "        circuit.append(CUi(control[t-i-1],*target))\n",
    "        \n",
    "    #Apply inverse QFT\n",
    "    iqft(t,control,circuit)"
   ]
  },
  {
   "cell_type": "code",
   "execution_count": null,
   "id": "1f476ac5",
   "metadata": {
    "deletable": false,
    "nbgrader": {
     "cell_type": "code",
     "checksum": "37959a2a696cf856df486dd062a9e29a",
     "grade": false,
     "grade_id": "cell-d6953b0d7c212dfc",
     "locked": false,
     "schema_version": 3,
     "solution": true,
     "task": false
    }
   },
   "outputs": [],
   "source": [
    "import cirq\n",
    "from cirq import X, SWAP\n",
    "\n",
    "def order(x,N):\n",
    "    #Create a circuit\n",
    "    circuit = cirq.Circuit()\n",
    "    # YOUR CODE HERE\n",
    "    raise NotImplementedError()\n",
    "\n",
    "    #Measure the control register\n",
    "    circuit.append(cirq.measure(*control, key='result'))\n",
    "\n",
    "    #Sample the circuit\n",
    "    s=cirq.Simulator()\n",
    "    samples=s.run(circuit, repetitions=1000)\n",
    "\n",
    "    # Return a histogram of samples\n",
    "    results= samples.histogram(key='result')\n",
    "    return results"
   ]
  },
  {
   "cell_type": "code",
   "execution_count": null,
   "id": "80a32d3d",
   "metadata": {},
   "outputs": [],
   "source": [
    "#You can use this cell to test your function\n",
    "\n",
    "results = order(4,31)\n",
    "print(results)"
   ]
  },
  {
   "cell_type": "code",
   "execution_count": null,
   "id": "f360d1f3",
   "metadata": {
    "deletable": false,
    "editable": false,
    "nbgrader": {
     "cell_type": "code",
     "checksum": "7d1e2bc09cf9b72db7935fad231a806d",
     "grade": true,
     "grade_id": "cell-0a4e8d27c4788f91",
     "locked": true,
     "points": 6,
     "schema_version": 3,
     "solution": false,
     "task": false
    }
   },
   "outputs": [],
   "source": [
    "# hidden tests will be used for grading.\n",
    "# If this cell results in an error, your implementation is incorrect"
   ]
  },
  {
   "cell_type": "code",
   "execution_count": null,
   "id": "2a90007f",
   "metadata": {},
   "outputs": [],
   "source": []
  }
 ],
 "metadata": {
  "kernelspec": {
   "display_name": "Python 3 (ipykernel)",
   "language": "python",
   "name": "python3"
  },
  "language_info": {
   "codemirror_mode": {
    "name": "ipython",
    "version": 3
   },
   "file_extension": ".py",
   "mimetype": "text/x-python",
   "name": "python",
   "nbconvert_exporter": "python",
   "pygments_lexer": "ipython3",
   "version": "3.8.10"
  }
 },
 "nbformat": 4,
 "nbformat_minor": 5
}
