{
 "cells": [
  {
   "cell_type": "code",
   "execution_count": 1,
   "id": "15304186",
   "metadata": {},
   "outputs": [],
   "source": [
    "import numpy as np\n",
    "import numpy.random as random"
   ]
  },
  {
   "cell_type": "code",
   "execution_count": 12,
   "id": "9f1df105",
   "metadata": {},
   "outputs": [],
   "source": [
    "def basis(n_basis):\n",
    "    dic = dict({})\n",
    "    \n",
    "    for i in range(1, n_basis +1):\n",
    "        _ = np.zeros(n_basis)\n",
    "        _[i-1] = 1\n",
    "        dic[f\"e{i}\"] = _\n",
    "    return dic\n",
    "\n",
    "class Dice():\n",
    "    \n",
    "    def __init__(self, prob):\n",
    "        self.prob = np.array(prob)"
   ]
  },
  {
   "cell_type": "code",
   "execution_count": 9,
   "id": "d9388429",
   "metadata": {},
   "outputs": [],
   "source": []
  },
  {
   "cell_type": "code",
   "execution_count": 29,
   "id": "1f70ce9b",
   "metadata": {},
   "outputs": [],
   "source": [
    "def create_prob_state(n):\n",
    "    probs = random.randint(1, 10000\\\n",
    "                           , size = n)\n",
    "    probs = probs / probs.sum()\n",
    "    return probs"
   ]
  },
  {
   "cell_type": "code",
   "execution_count": 30,
   "id": "5180fece",
   "metadata": {},
   "outputs": [
    {
     "data": {
      "text/plain": [
       "array([0.0116329 , 0.10644394, 0.03372396, 0.17538179, 0.03908197,\n",
       "       0.16329045, 0.1754964 , 0.1701957 , 0.07143062, 0.05332225])"
      ]
     },
     "execution_count": 30,
     "metadata": {},
     "output_type": "execute_result"
    }
   ],
   "source": [
    "create_prob_state(10)"
   ]
  },
  {
   "cell_type": "code",
   "execution_count": null,
   "id": "3e147e27",
   "metadata": {},
   "outputs": [],
   "source": []
  },
  {
   "cell_type": "code",
   "execution_count": null,
   "id": "b7da7682",
   "metadata": {},
   "outputs": [],
   "source": []
  }
 ],
 "metadata": {
  "kernelspec": {
   "display_name": "Python 3 (ipykernel)",
   "language": "python",
   "name": "python3"
  },
  "language_info": {
   "codemirror_mode": {
    "name": "ipython",
    "version": 3
   },
   "file_extension": ".py",
   "mimetype": "text/x-python",
   "name": "python",
   "nbconvert_exporter": "python",
   "pygments_lexer": "ipython3",
   "version": "3.8.10"
  }
 },
 "nbformat": 4,
 "nbformat_minor": 5
}
