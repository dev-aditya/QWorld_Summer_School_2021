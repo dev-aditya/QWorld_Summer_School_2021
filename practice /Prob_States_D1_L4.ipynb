{
 "cells": [
  {
   "cell_type": "code",
   "execution_count": 1,
   "id": "15304186",
   "metadata": {},
   "outputs": [],
   "source": [
    "import numpy as np\n",
    "import numpy.random as random"
   ]
  },
  {
   "cell_type": "code",
   "execution_count": 2,
   "id": "9f1df105",
   "metadata": {},
   "outputs": [],
   "source": [
    "def basis(n_basis):\n",
    "    dic = dict({})\n",
    "    \n",
    "    for i in range(1, n_basis +1):\n",
    "        _ = np.zeros(n_basis)\n",
    "        _[i-1] = 1\n",
    "        dic[f\"e{i}\"] = _\n",
    "    return dic\n",
    "\n",
    "class Dice():\n",
    "    \n",
    "    def __init__(self, prob):\n",
    "        self.prob = np.array(prob)"
   ]
  },
  {
   "cell_type": "code",
   "execution_count": null,
   "id": "d9388429",
   "metadata": {},
   "outputs": [],
   "source": []
  },
  {
   "cell_type": "code",
   "execution_count": 3,
   "id": "1f70ce9b",
   "metadata": {},
   "outputs": [],
   "source": [
    "def create_prob_state(n):\n",
    "    probs = random.randint(1, 10000\\\n",
    "                           , size = n)\n",
    "    probs = probs / probs.sum()\n",
    "    return probs"
   ]
  },
  {
   "cell_type": "code",
   "execution_count": 4,
   "id": "5180fece",
   "metadata": {},
   "outputs": [
    {
     "data": {
      "text/plain": [
       "array([0.08465253, 0.13209462, 0.05238602, 0.07397888, 0.06400917,\n",
       "       0.11546206, 0.1518376 , 0.10932307, 0.1333879 , 0.08286813])"
      ]
     },
     "execution_count": 4,
     "metadata": {},
     "output_type": "execute_result"
    }
   ],
   "source": [
    "create_prob_state(10)"
   ]
  },
  {
   "cell_type": "code",
   "execution_count": 12,
   "id": "3e147e27",
   "metadata": {},
   "outputs": [
    {
     "data": {
      "text/plain": [
       "array([1., 0.])"
      ]
     },
     "execution_count": 12,
     "metadata": {},
     "output_type": "execute_result"
    }
   ],
   "source": [
    "x = basis(2)\n"
   ]
  },
  {
   "cell_type": "code",
   "execution_count": 13,
   "id": "b7da7682",
   "metadata": {},
   "outputs": [],
   "source": [
    "y = np.tensordot(x['e1'], x['e2'], axes = 0)\n",
    "for i in [2, 2]:\n",
    "    y = np.tensordot(x[f'e{i}'], y, axes = 0)"
   ]
  },
  {
   "cell_type": "code",
   "execution_count": 14,
   "id": "5f190951",
   "metadata": {},
   "outputs": [
    {
     "data": {
      "text/plain": [
       "array([[[[0., 0.],\n",
       "         [0., 0.]],\n",
       "\n",
       "        [[0., 0.],\n",
       "         [0., 0.]]],\n",
       "\n",
       "\n",
       "       [[[0., 0.],\n",
       "         [0., 0.]],\n",
       "\n",
       "        [[0., 1.],\n",
       "         [0., 0.]]]])"
      ]
     },
     "execution_count": 14,
     "metadata": {},
     "output_type": "execute_result"
    }
   ],
   "source": [
    "y"
   ]
  },
  {
   "cell_type": "code",
   "execution_count": null,
   "id": "1c4fb11b",
   "metadata": {},
   "outputs": [],
   "source": []
  }
 ],
 "metadata": {
  "kernelspec": {
   "display_name": "Python 3 (ipykernel)",
   "language": "python",
   "name": "python3"
  },
  "language_info": {
   "codemirror_mode": {
    "name": "ipython",
    "version": 3
   },
   "file_extension": ".py",
   "mimetype": "text/x-python",
   "name": "python",
   "nbconvert_exporter": "python",
   "pygments_lexer": "ipython3",
   "version": "3.8.10"
  }
 },
 "nbformat": 4,
 "nbformat_minor": 5
}
