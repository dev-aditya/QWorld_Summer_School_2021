{
 "cells": [
  {
   "cell_type": "code",
   "execution_count": 1,
   "id": "ff16d5d7",
   "metadata": {},
   "outputs": [],
   "source": [
    "import numpy as np"
   ]
  },
  {
   "cell_type": "code",
   "execution_count": 60,
   "id": "19c3ca6b",
   "metadata": {},
   "outputs": [],
   "source": [
    "class State():\n",
    "    def __init__(self, value = None):\n",
    "        if value: self.value = 1\n",
    "        elif value == None:\n",
    "            print(\"Need to provide a value. \\n either 0 or 1\")\n",
    "        else: self.value = 0\n",
    "            \n",
    "    def NOT(self):\n",
    "        self.value = int(not self.value)\n",
    "        return self.value\n",
    "    \n",
    "    def ZERO(self):\n",
    "        self.value = 0\n",
    "        return 0\n",
    "    \n",
    "    def ONE(self):\n",
    "        self.value = 1\n",
    "        return 1\n",
    "    \n",
    "    def EYE(self):\n",
    "        return self.value"
   ]
  },
  {
   "cell_type": "code",
   "execution_count": 59,
   "id": "e90ca214",
   "metadata": {},
   "outputs": [
    {
     "name": "stdout",
     "output_type": "stream",
     "text": [
      "0\n",
      "1\n"
     ]
    },
    {
     "data": {
      "text/plain": [
       "1"
      ]
     },
     "execution_count": 59,
     "metadata": {},
     "output_type": "execute_result"
    }
   ],
   "source": [
    "S = State(0)\n",
    "print(S.value)\n",
    "print(S.NOT())\n",
    "S.value"
   ]
  },
  {
   "cell_type": "code",
   "execution_count": null,
   "id": "00dc6438",
   "metadata": {},
   "outputs": [],
   "source": []
  },
  {
   "cell_type": "code",
   "execution_count": null,
   "id": "8ddbcd98",
   "metadata": {},
   "outputs": [],
   "source": []
  }
 ],
 "metadata": {
  "kernelspec": {
   "display_name": "Python 3 (ipykernel)",
   "language": "python",
   "name": "python3"
  },
  "language_info": {
   "codemirror_mode": {
    "name": "ipython",
    "version": 3
   },
   "file_extension": ".py",
   "mimetype": "text/x-python",
   "name": "python",
   "nbconvert_exporter": "python",
   "pygments_lexer": "ipython3",
   "version": "3.8.10"
  }
 },
 "nbformat": 4,
 "nbformat_minor": 5
}
