{
 "cells": [
  {
   "cell_type": "code",
   "execution_count": 8,
   "id": "53db49d3",
   "metadata": {},
   "outputs": [],
   "source": [
    "import numpy as np\n",
    "import numpy.random as random\n",
    "\n",
    "class Coin():\n",
    "    def __init__(self, p = 0.5, q = 0.5):\n",
    "        if (p + q) != 1:\n",
    "            print(\"Error! Probabilities must sum to 1\")\n",
    "            return None\n",
    "        self.p = p\n",
    "        self.q = q\n",
    "        \n",
    "    def flips(self, n):\n",
    "        result = random.choice([1, 0], p = [self.p, self.q], size = n)\n",
    "        self.result = result\n",
    "        self.nheads = self.n_heads()\n",
    "        self.ntails = self.n_tails()\n",
    "        \n",
    "        return self.result\n",
    "    \n",
    "    def n_heads(self):\n",
    "        return np.count_nonzero(self.result == 1)\n",
    "    \n",
    "    def n_tails(self):\n",
    "        return np.count_nonzero(self.result == 0)\n",
    "    \n",
    "    def __repr__(self):\n",
    "        return (\"\"\"Coin with weights:\n",
    "        H = {}\n",
    "        T = {}\"\"\".format(self.p, self.q))"
   ]
  },
  {
   "cell_type": "code",
   "execution_count": 9,
   "id": "02471330",
   "metadata": {},
   "outputs": [
    {
     "name": "stdout",
     "output_type": "stream",
     "text": [
      "54 46\n"
     ]
    }
   ],
   "source": [
    "C = Coin()\n",
    "C.flips(100)\n",
    "print(C.nheads, C.ntails)"
   ]
  },
  {
   "cell_type": "code",
   "execution_count": null,
   "id": "91318ced",
   "metadata": {},
   "outputs": [],
   "source": []
  },
  {
   "cell_type": "code",
   "execution_count": 54,
   "id": "64e7ae93",
   "metadata": {},
   "outputs": [],
   "source": [
    "class Game_Coins():\n",
    "    def __init__(self, C1, C2):\n",
    "        self.C1 = C1\n",
    "        self.C2 = C2\n",
    "        self.Trans_Mat = np.matrix([[self.C1.p, self.C2.p],\\\n",
    "                           [self.C1.q, self.C2.q]])\n",
    "    \n",
    "    def flip(self, start, n_times):\n",
    "        f_prob_mat = (self.Trans_Mat)**n_times\n",
    "        #print(f_prob_mat)\n",
    "        if start == self.C1:\n",
    "            return f_prob_mat[0, 0], f_prob_mat[1, 0]\n",
    "        elif start == self.C2:\n",
    "            return f_prob_mat[1, 0], f_prob_mat[1, 1]"
   ]
  },
  {
   "cell_type": "code",
   "execution_count": 58,
   "id": "0c247932",
   "metadata": {},
   "outputs": [
    {
     "name": "stdout",
     "output_type": "stream",
     "text": [
      "The probability of getting head after 3 coin tosses is 0.44399999999999995\n",
      "The probability of getting tail after 3 coin tosses is 0.556 \n",
      "\n",
      "The probability of getting head after 10 coin tosses is 0.42857480279999993\n",
      "The probability of getting tail after 10 coin tosses is 0.5714251972 \n",
      "\n",
      "The probability of getting head after 20 coin tosses is 0.42857142859135283\n",
      "The probability of getting tail after 20 coin tosses is 0.5714285714086468 \n",
      "\n",
      "The probability of getting head after 30 coin tosses is 0.4285714285714284\n",
      "The probability of getting tail after 30 coin tosses is 0.571428571428571 \n",
      "\n",
      "The probability of getting head after 50 coin tosses is 0.42857142857142805\n",
      "The probability of getting tail after 50 coin tosses is 0.5714285714285707 \n",
      "\n"
     ]
    }
   ],
   "source": [
    "cent = Coin(0.3, 0.7)\n",
    "euro = Coin(.6, .4)\n",
    "\n",
    "G = Game_Coins(C2 = cent, C1 = euro)\n",
    "\n",
    "\n",
    "for n in [3, 10, 20, 30, 50]:\n",
    "    heads, tails = G.flip(start = euro, n_times = n)\n",
    "    print(f\"The probability of getting head after {n} coin tosses is\", heads)\n",
    "    print(f\"The probability of getting tail after {n} coin tosses is\", tails, \"\\n\")"
   ]
  },
  {
   "cell_type": "code",
   "execution_count": 60,
   "id": "c2ceb376",
   "metadata": {},
   "outputs": [
    {
     "name": "stdout",
     "output_type": "stream",
     "text": [
      "The probability of getting head after 3 coin tosses is 0.8033392108216401\n",
      "The probability of getting tail after 3 coin tosses is 0.19666078917835994 \n",
      "\n",
      "The probability of getting head after 10 coin tosses is 0.8029005829694157\n",
      "The probability of getting tail after 10 coin tosses is 0.1970994170305848 \n",
      "\n",
      "The probability of getting head after 20 coin tosses is 0.8029005826858057\n",
      "The probability of getting tail after 20 coin tosses is 0.19709941731419556 \n",
      "\n",
      "The probability of getting head after 30 coin tosses is 0.8029005826858061\n",
      "The probability of getting tail after 30 coin tosses is 0.19709941731419564 \n",
      "\n",
      "The probability of getting head after 50 coin tosses is 0.8029005826858071\n",
      "The probability of getting tail after 50 coin tosses is 0.1970994173141959 \n",
      "\n"
     ]
    }
   ],
   "source": [
    "p1 = random.rand()\n",
    "p2 = random.rand()\n",
    "cent = Coin(p1, 1-p1)\n",
    "euro = Coin(p2, 1-p2)\n",
    "\n",
    "G = Game_Coins(C2 = cent, C1 = euro)\n",
    "\n",
    "\n",
    "for n in [3, 10, 20, 30, 50]:\n",
    "    heads, tails = G.flip(start = euro, n_times = n)\n",
    "    print(f\"The probability of getting head after {n} coin tosses is\", heads)\n",
    "    print(f\"The probability of getting tail after {n} coin tosses is\", tails, \"\\n\")"
   ]
  },
  {
   "cell_type": "code",
   "execution_count": null,
   "id": "b6898754",
   "metadata": {},
   "outputs": [],
   "source": []
  },
  {
   "cell_type": "code",
   "execution_count": null,
   "id": "e4a9be92",
   "metadata": {},
   "outputs": [],
   "source": []
  }
 ],
 "metadata": {
  "kernelspec": {
   "display_name": "Python 3 (ipykernel)",
   "language": "python",
   "name": "python3"
  },
  "language_info": {
   "codemirror_mode": {
    "name": "ipython",
    "version": 3
   },
   "file_extension": ".py",
   "mimetype": "text/x-python",
   "name": "python",
   "nbconvert_exporter": "python",
   "pygments_lexer": "ipython3",
   "version": "3.8.10"
  }
 },
 "nbformat": 4,
 "nbformat_minor": 5
}
