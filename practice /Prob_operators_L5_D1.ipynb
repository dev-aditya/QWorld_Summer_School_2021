{
 "cells": [
  {
   "cell_type": "code",
   "execution_count": 1,
   "id": "590c1426",
   "metadata": {},
   "outputs": [],
   "source": [
    "import numpy as np"
   ]
  },
  {
   "cell_type": "code",
   "execution_count": 31,
   "id": "6b34e34d",
   "metadata": {},
   "outputs": [],
   "source": [
    "def prob_oper(n):\n",
    "    M = np.zeros(shape = [n, n])\n",
    "    for i in range(n):\n",
    "        for j in range(n):\n",
    "            M[i, j] = np.random.randint(1, 100)\n",
    "    #print(M)\n",
    "    for i in range(n):\n",
    "        M[:, i] = M[:, i] / (M[:, i]).sum()\n",
    "    return np.matrix(M)"
   ]
  },
  {
   "cell_type": "code",
   "execution_count": 32,
   "id": "c04dc760",
   "metadata": {},
   "outputs": [],
   "source": [
    "x = prob_oper(3)"
   ]
  },
  {
   "cell_type": "code",
   "execution_count": 37,
   "id": "a4e5e019",
   "metadata": {},
   "outputs": [
    {
     "data": {
      "text/plain": [
       "matrix([[0.40336134],\n",
       "        [0.26470588],\n",
       "        [0.33193277]])"
      ]
     },
     "execution_count": 37,
     "metadata": {},
     "output_type": "execute_result"
    }
   ],
   "source": [
    "x[:, 1]"
   ]
  },
  {
   "cell_type": "code",
   "execution_count": 36,
   "id": "829f3735",
   "metadata": {},
   "outputs": [
    {
     "data": {
      "text/plain": [
       "matrix([[0.32421875, 0.40336134, 0.3440367 ],\n",
       "        [0.328125  , 0.26470588, 0.38073394],\n",
       "        [0.34765625, 0.33193277, 0.27522936]])"
      ]
     },
     "execution_count": 36,
     "metadata": {},
     "output_type": "execute_result"
    }
   ],
   "source": [
    "x = "
   ]
  },
  {
   "cell_type": "code",
   "execution_count": 38,
   "id": "ddc73bb8",
   "metadata": {},
   "outputs": [],
   "source": [
    "I = np.matrix(\"0.999 0.001;0.001 0.999\")"
   ]
  },
  {
   "cell_type": "code",
   "execution_count": 50,
   "id": "bef176d8",
   "metadata": {},
   "outputs": [],
   "source": [
    "v = np.array([0.2, 0.8])\n",
    "w = np.array([0.6, 0.4])"
   ]
  },
  {
   "cell_type": "code",
   "execution_count": 51,
   "id": "855647f0",
   "metadata": {},
   "outputs": [
    {
     "data": {
      "text/plain": [
       "array([[0.12, 0.08],\n",
       "       [0.48, 0.32]])"
      ]
     },
     "execution_count": 51,
     "metadata": {},
     "output_type": "execute_result"
    }
   ],
   "source": [
    "np.tensordot(v, w, axes = 0)"
   ]
  },
  {
   "cell_type": "code",
   "execution_count": null,
   "id": "5f17b5e5",
   "metadata": {},
   "outputs": [],
   "source": []
  },
  {
   "cell_type": "code",
   "execution_count": null,
   "id": "05f1c6de",
   "metadata": {},
   "outputs": [],
   "source": []
  }
 ],
 "metadata": {
  "kernelspec": {
   "display_name": "Python 3 (ipykernel)",
   "language": "python",
   "name": "python3"
  },
  "language_info": {
   "codemirror_mode": {
    "name": "ipython",
    "version": 3
   },
   "file_extension": ".py",
   "mimetype": "text/x-python",
   "name": "python",
   "nbconvert_exporter": "python",
   "pygments_lexer": "ipython3",
   "version": "3.8.10"
  }
 },
 "nbformat": 4,
 "nbformat_minor": 5
}
