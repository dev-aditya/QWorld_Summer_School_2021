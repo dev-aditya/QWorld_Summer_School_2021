{
 "cells": [
  {
   "cell_type": "code",
   "execution_count": 1,
   "id": "de42b976",
   "metadata": {},
   "outputs": [],
   "source": [
    "import numpy as np"
   ]
  },
  {
   "cell_type": "code",
   "execution_count": 48,
   "id": "c9894c1c",
   "metadata": {},
   "outputs": [],
   "source": [
    "class Coin():\n",
    "    def __init__(self, p = 0.5, q = 0.5):\n",
    "        if (p + q) != 1:\n",
    "            print(\"Error! Probabilities must sum to 1\")\n",
    "            return None\n",
    "        self.p = p\n",
    "        self.q = q\n",
    "        \n",
    "    def flips(self, n):\n",
    "        result = random.choice([1, 0], p = [self.p, self.q], size = n)\n",
    "        self.result = result\n",
    "        return self.result\n",
    "    \n",
    "    def n_heads(self):\n",
    "        return np.count_nonzero(self.result == 1)\n",
    "    \n",
    "    def n_tails(self):\n",
    "        return np.count_nonzero(self.result == 0)"
   ]
  },
  {
   "cell_type": "markdown",
   "id": "58f7c9af",
   "metadata": {},
   "source": [
    "## Task 1: Simulating FairCoin in Python\n",
    "\n",
    "1. Flip a fair coin 100 times. Calculate the total number of heads and tails, and then check the ratio of the number of heads and the number of tails.\n",
    "\n",
    "2. Do the same experiment 1000 times.\n",
    "\n",
    "3. Do the same experiment 10,000 times.\n",
    "\n",
    "4. Do the same experiment 100,000 times.\n",
    "\n",
    "5. Do your results get close to the ideal case (the numbers of heads and tails are equal)?"
   ]
  },
  {
   "cell_type": "code",
   "execution_count": 43,
   "id": "6c9c5804",
   "metadata": {},
   "outputs": [
    {
     "name": "stdout",
     "output_type": "stream",
     "text": [
      "For 100 coin flips \n",
      "No. of Heads: 40 \n",
      "No. of Tails: 60 \n",
      "Ratio H:T = 0.6666666666666666\n",
      "\n",
      "For 1000 coin flips \n",
      "No. of Heads: 499 \n",
      "No. of Tails: 501 \n",
      "Ratio H:T = 0.9960079840319361\n",
      "\n",
      "For 10000 coin flips \n",
      "No. of Heads: 4943 \n",
      "No. of Tails: 5057 \n",
      "Ratio H:T = 0.9774569903104607\n",
      "\n",
      "For 100000 coin flips \n",
      "No. of Heads: 49903 \n",
      "No. of Tails: 50097 \n",
      "Ratio H:T = 0.9961275126255065\n",
      "\n"
     ]
    }
   ],
   "source": [
    "import numpy.random as random\n",
    "\n",
    "for flips in [10**i for i in range(2, 6)]:\n",
    "    result = random.randint(0, 2, flips)\n",
    "    heads = np.count_nonzero(result)\n",
    "    tails = flips - np.count_nonzero(result)\n",
    "    print(f\"For {flips} coin flips \")\n",
    "    print(f\"No. of Heads: {heads} \")\n",
    "    print(f\"No. of Tails: {tails} \")\n",
    "    print(f\"Ratio H:T = {heads/tails}\\n\")"
   ]
  },
  {
   "cell_type": "code",
   "execution_count": 50,
   "id": "70ffe8ad",
   "metadata": {},
   "outputs": [
    {
     "name": "stdout",
     "output_type": "stream",
     "text": [
      "For 100000 coin flips \n",
      "No. of Heads: 48 \n",
      "No. of Tails: 52 \n",
      "Ratio H:T = 0.9230769230769231\n",
      "\n",
      "For 100000 coin flips \n",
      "No. of Heads: 528 \n",
      "No. of Tails: 472 \n",
      "Ratio H:T = 1.11864406779661\n",
      "\n",
      "For 100000 coin flips \n",
      "No. of Heads: 5036 \n",
      "No. of Tails: 4964 \n",
      "Ratio H:T = 1.0145044319097503\n",
      "\n",
      "For 100000 coin flips \n",
      "No. of Heads: 50039 \n",
      "No. of Tails: 49961 \n",
      "Ratio H:T = 1.001561217749845\n",
      "\n"
     ]
    }
   ],
   "source": [
    "for n_flip in [10**i for i in range(2, 6)]:\n",
    "    C = Coin()\n",
    "    C.flips(n_flip)\n",
    "    print(f\"For {flips} coin flips \")\n",
    "    print(f\"No. of Heads: {C.n_heads()} \")\n",
    "    print(f\"No. of Tails: {C.n_tails()} \")\n",
    "    print(f\"Ratio H:T = {C.n_heads()/C.n_tails()}\\n\")"
   ]
  },
  {
   "cell_type": "code",
   "execution_count": null,
   "id": "f7339405",
   "metadata": {},
   "outputs": [],
   "source": []
  },
  {
   "cell_type": "code",
   "execution_count": null,
   "id": "999d64ec",
   "metadata": {},
   "outputs": [],
   "source": []
  }
 ],
 "metadata": {
  "kernelspec": {
   "display_name": "Python 3 (ipykernel)",
   "language": "python",
   "name": "python3"
  },
  "language_info": {
   "codemirror_mode": {
    "name": "ipython",
    "version": 3
   },
   "file_extension": ".py",
   "mimetype": "text/x-python",
   "name": "python",
   "nbconvert_exporter": "python",
   "pygments_lexer": "ipython3",
   "version": "3.8.10"
  }
 },
 "nbformat": 4,
 "nbformat_minor": 5
}
