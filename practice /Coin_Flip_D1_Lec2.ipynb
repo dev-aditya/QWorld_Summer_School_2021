{
 "cells": [
  {
   "cell_type": "code",
   "execution_count": 2,
   "id": "de42b976",
   "metadata": {},
   "outputs": [],
   "source": [
    "import numpy as np"
   ]
  },
  {
   "cell_type": "code",
   "execution_count": 47,
   "id": "c9894c1c",
   "metadata": {},
   "outputs": [],
   "source": [
    "class Coin():\n",
    "    def __init__(self, p = 0.5, q = 0.5):\n",
    "        if (p + q) != 1:\n",
    "            print(\"Error! Probabilities must sum to 1\")\n",
    "            return None\n",
    "        self.p = p\n",
    "        self.q = q\n",
    "        \n",
    "    def flips(self, n):\n",
    "        result = random.choice([1, 0], p = [self.p, self.q], size = n)\n",
    "        self.result = result\n",
    "        return self.result\n",
    "    \n",
    "    def n_heads(self):\n",
    "        return np.count_nonzero(self.result == 1)\n",
    "    \n",
    "    def n_tails(self):\n",
    "        return np.count_nonzero(self.result == 0)\n",
    "    \n",
    "    def __repr__(self):\n",
    "        return (\"\"\"Coin with weights:\n",
    "        H = {}\n",
    "        T = {}\"\"\".format(self.p, self.q))"
   ]
  },
  {
   "cell_type": "markdown",
   "id": "58f7c9af",
   "metadata": {},
   "source": [
    "## Task 1: Simulating FairCoin in Python\n",
    "\n",
    "1. Flip a fair coin 100 times. Calculate the total number of heads and tails, and then check the ratio of the number of heads and the number of tails.\n",
    "\n",
    "2. Do the same experiment 1000 times.\n",
    "\n",
    "3. Do the same experiment 10,000 times.\n",
    "\n",
    "4. Do the same experiment 100,000 times.\n",
    "\n",
    "5. Do your results get close to the ideal case (the numbers of heads and tails are equal)?"
   ]
  },
  {
   "cell_type": "code",
   "execution_count": 48,
   "id": "6c9c5804",
   "metadata": {},
   "outputs": [
    {
     "name": "stdout",
     "output_type": "stream",
     "text": [
      "For 100 coin flips \n",
      "No. of Heads: 40 \n",
      "No. of Tails: 60 \n",
      "Ratio H:T = 0.6666666666666666\n",
      "\n",
      "For 1000 coin flips \n",
      "No. of Heads: 501 \n",
      "No. of Tails: 499 \n",
      "Ratio H:T = 1.0040080160320641\n",
      "\n",
      "For 10000 coin flips \n",
      "No. of Heads: 5036 \n",
      "No. of Tails: 4964 \n",
      "Ratio H:T = 1.0145044319097503\n",
      "\n",
      "For 100000 coin flips \n",
      "No. of Heads: 50428 \n",
      "No. of Tails: 49572 \n",
      "Ratio H:T = 1.0172678124747843\n",
      "\n"
     ]
    }
   ],
   "source": [
    "import numpy.random as random\n",
    "\n",
    "for flips in [10**i for i in range(2, 6)]:\n",
    "    result = random.randint(0, 2, flips)\n",
    "    heads = np.count_nonzero(result)\n",
    "    tails = flips - np.count_nonzero(result)\n",
    "    print(f\"For {flips} coin flips \")\n",
    "    print(f\"No. of Heads: {heads} \")\n",
    "    print(f\"No. of Tails: {tails} \")\n",
    "    print(f\"Ratio H:T = {heads/tails}\\n\")"
   ]
  },
  {
   "cell_type": "code",
   "execution_count": 49,
   "id": "70ffe8ad",
   "metadata": {},
   "outputs": [
    {
     "name": "stdout",
     "output_type": "stream",
     "text": [
      "For 100000 coin flips \n",
      "No. of Heads: 56 \n",
      "No. of Tails: 44 \n",
      "Ratio H:T = 1.2727272727272727\n",
      "\n",
      "For 100000 coin flips \n",
      "No. of Heads: 513 \n",
      "No. of Tails: 487 \n",
      "Ratio H:T = 1.053388090349076\n",
      "\n",
      "For 100000 coin flips \n",
      "No. of Heads: 5048 \n",
      "No. of Tails: 4952 \n",
      "Ratio H:T = 1.0193861066235865\n",
      "\n",
      "For 100000 coin flips \n",
      "No. of Heads: 50093 \n",
      "No. of Tails: 49907 \n",
      "Ratio H:T = 1.0037269320936943\n",
      "\n"
     ]
    }
   ],
   "source": [
    "## Unbiased Coin\n",
    "\n",
    "for n_flip in [10**i for i in range(2, 6)]:\n",
    "    C = Coin()\n",
    "    C.flips(n_flip)\n",
    "    print(f\"For {flips} coin flips \")\n",
    "    print(f\"No. of Heads: {C.n_heads()} \")\n",
    "    print(f\"No. of Tails: {C.n_tails()} \")\n",
    "    print(f\"Ratio H:T = {C.n_heads()/C.n_tails()}\\n\")"
   ]
  },
  {
   "cell_type": "code",
   "execution_count": 50,
   "id": "f7339405",
   "metadata": {},
   "outputs": [
    {
     "name": "stdout",
     "output_type": "stream",
     "text": [
      "For 100000 coin flips \n",
      "No. of Heads: 65 \n",
      "No. of Tails: 35 \n",
      "Ratio H:T = 1.8571428571428572\n",
      "\n",
      "For 100000 coin flips \n",
      "No. of Heads: 578 \n",
      "No. of Tails: 422 \n",
      "Ratio H:T = 1.3696682464454977\n",
      "\n",
      "For 100000 coin flips \n",
      "No. of Heads: 6012 \n",
      "No. of Tails: 3988 \n",
      "Ratio H:T = 1.5075225677031092\n",
      "\n",
      "For 100000 coin flips \n",
      "No. of Heads: 59803 \n",
      "No. of Tails: 40197 \n",
      "Ratio H:T = 1.487747841878747\n",
      "\n"
     ]
    }
   ],
   "source": [
    "## Baised Coin\n",
    "\n",
    "for n_flip in [10**i for i in range(2, 6)]:\n",
    "    C = Coin(p = 0.6, q = 0.4)\n",
    "    C.flips(n_flip)\n",
    "    print(f\"For {flips} coin flips \")\n",
    "    print(f\"No. of Heads: {C.n_heads()} \")\n",
    "    print(f\"No. of Tails: {C.n_tails()} \")\n",
    "    print(f\"Ratio H:T = {C.n_heads()/C.n_tails()}\\n\")"
   ]
  },
  {
   "cell_type": "code",
   "execution_count": 106,
   "id": "999d64ec",
   "metadata": {},
   "outputs": [],
   "source": [
    "def based_coin(N, B):\n",
    "    if B > N:\n",
    "        raise ValueError(\"B must be less than N\")\n",
    "    rand = random.randint(0, N)\n",
    "    if rand < B:\n",
    "        #print(\"Heads\")\n",
    "        return 1\n",
    "    else: \n",
    "        #print(\"Tails\")\n",
    "        return 0"
   ]
  },
  {
   "cell_type": "code",
   "execution_count": 120,
   "id": "2a55f68d",
   "metadata": {},
   "outputs": [
    {
     "name": "stdout",
     "output_type": "stream",
     "text": [
      "Actual value = 0.9603960396039604\n",
      "Predicted value = 0.958\n",
      "Erroe = 0.24948453608247445\n"
     ]
    }
   ],
   "source": [
    "N = 101\n",
    "B = random.choice(np.arange(0, N+1))\n",
    "\n",
    "heads = 0\n",
    "flips = 500\n",
    "for i in np.arange(flips):\n",
    "    if based_coin(N, B):\n",
    "        heads += 1\n",
    "pred_val = heads/flips\n",
    "actual_val = B/N\n",
    "\n",
    "error = np.abs(actual_val - pred_val)/actual_val * 100\n",
    "\n",
    "print(f\"Actual value = {actual_val}\")\n",
    "print(f\"Predicted value = {pred_val}\")\n",
    "print(f\"Erroe = {error}\")"
   ]
  },
  {
   "cell_type": "code",
   "execution_count": null,
   "id": "0ed52fe1",
   "metadata": {},
   "outputs": [],
   "source": []
  },
  {
   "cell_type": "code",
   "execution_count": null,
   "id": "99a0452d",
   "metadata": {},
   "outputs": [],
   "source": []
  }
 ],
 "metadata": {
  "kernelspec": {
   "display_name": "Python 3 (ipykernel)",
   "language": "python",
   "name": "python3"
  },
  "language_info": {
   "codemirror_mode": {
    "name": "ipython",
    "version": 3
   },
   "file_extension": ".py",
   "mimetype": "text/x-python",
   "name": "python",
   "nbconvert_exporter": "python",
   "pygments_lexer": "ipython3",
   "version": "3.8.10"
  }
 },
 "nbformat": 4,
 "nbformat_minor": 5
}
