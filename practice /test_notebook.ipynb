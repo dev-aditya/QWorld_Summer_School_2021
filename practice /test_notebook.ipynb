{
 "cells": [
  {
   "cell_type": "code",
   "execution_count": 1,
   "id": "7ce96bd0",
   "metadata": {},
   "outputs": [],
   "source": [
    "from qiskit import QuantumCircuit, QuantumRegister, ClassicalRegister,\\\n",
    "execute, Aer"
   ]
  },
  {
   "cell_type": "code",
   "execution_count": 10,
   "id": "e5dbe9ab",
   "metadata": {},
   "outputs": [
    {
     "name": "stdout",
     "output_type": "stream",
     "text": [
      "[[1.+0.j 0.+0.j 0.+0.j 0.+0.j]\n",
      " [0.+0.j 0.+0.j 1.+0.j 0.+0.j]\n",
      " [0.+0.j 1.+0.j 0.+0.j 0.+0.j]\n",
      " [0.+0.j 0.+0.j 0.+0.j 1.+0.j]]\n"
     ]
    },
    {
     "data": {
      "image/png": "[encoded data removed]",
      "text/plain": [
       "<Figure size 293.595x204.68 with 1 Axes>"
      ]
     },
     "metadata": {},
     "output_type": "display_data"
    }
   ],
   "source": [
    "## For assignment INtro to CIrq\n",
    "\n",
    "ql = QuantumRegister(2)\n",
    "cl = ClassicalRegister(2)\n",
    "\n",
    "qc = QuantumCircuit(ql, cl)\n",
    "\n",
    "qc.cnot(ql[0], ql[1])\n",
    "qc.cnot(ql[1], ql[0])\n",
    "qc.cnot(ql[0], ql[1])\n",
    "\n",
    "#qc.measure(ql, cl)\n",
    "\n",
    "qc.draw(output='mpl')\n",
    "\n",
    "job = execute(qc, Aer.get_backend(\"unitary_simulator\"))\n",
    "\n",
    "print(job.result().get_unitary())"
   ]
  },
  {
   "cell_type": "code",
   "execution_count": null,
   "id": "1f476c21",
   "metadata": {},
   "outputs": [],
   "source": [
    "q =  QuantumRegister(1) \n",
    "c = ClassicalRegister(1) \n",
    "qc = QuantumCircuit(q,c)\n",
    "\n",
    "#Your code here\n",
    "\n",
    "qc.h(q)\n",
    "\n",
    "qc.measure(q[0],c[0])\n",
    "\n",
    "qc.draw(output=\"mpl\")\n",
    "job = execute(qc,Aer.get_backend('qasm_simulator'),shots=1024)\n",
    "counts = job.result().get_counts(qc)\n",
    "print(counts) # counts is a dictionary"
   ]
  },
  {
   "cell_type": "code",
   "execution_count": null,
   "id": "5db28475",
   "metadata": {},
   "outputs": [],
   "source": [
    "q2 = QuantumRegister(1,\"qreg\")\n",
    "c2 = ClassicalRegister(1,\"creg\")\n",
    "qc2 = QuantumCircuit(q2,c2)\n",
    "\n",
    "qc2.x(q2[0])\n",
    "\n",
    "qc2.draw()\n",
    "\n",
    "\n",
    "qc2.measure(q2,c2)\n",
    "qc2.draw(output='mpl')\n",
    "\n",
    "job = execute(qc2,Aer.get_backend('qasm_simulator'),shots=100)\n",
    "counts = job.result().get_counts(qc2)\n",
    "print(counts) # counts is a dictionary"
   ]
  },
  {
   "cell_type": "code",
   "execution_count": null,
   "id": "518167eb",
   "metadata": {},
   "outputs": [],
   "source": [
    "import numpy as np\n",
    "M = np.matrix(\"0.2 0.4;0.8 0.6\")"
   ]
  },
  {
   "cell_type": "code",
   "execution_count": null,
   "id": "464190c8",
   "metadata": {},
   "outputs": [],
   "source": [
    "M"
   ]
  },
  {
   "cell_type": "code",
   "execution_count": null,
   "id": "3e488c24",
   "metadata": {},
   "outputs": [],
   "source": [
    "((M**2), (np.matrix(\"1 0\")))"
   ]
  },
  {
   "cell_type": "code",
   "execution_count": null,
   "id": "991aa25a",
   "metadata": {},
   "outputs": [],
   "source": [
    "q2 = QuantumRegister(2,\"qreg\")\n",
    "c2 = ClassicalRegister(2,\"creg\")\n",
    "qc2 = QuantumCircuit(q2,c2)\n",
    "\n",
    "qc2.x(q2[0])\n",
    "\n",
    "qc2.measure(q2,c2)\n",
    "job = execute(qc2,Aer.get_backend('qasm_simulator'),shots=100)\n",
    "counts = job.result().get_counts(qc2)\n",
    "print(counts) # counts is a dictionary"
   ]
  },
  {
   "cell_type": "code",
   "execution_count": null,
   "id": "91a43ff5",
   "metadata": {},
   "outputs": [],
   "source": [
    "from math import pi\n",
    "\n",
    "q =  QuantumRegister(1) # quantum register with a single qubit\n",
    "c = ClassicalRegister(1) # classical register with a single bit\n",
    "qc = QuantumCircuit(q,c) # quantum circuit with quantum and classical registers\n",
    "\n",
    "#Your code here\n",
    "#qc.ry(2*np.pi/3, q[0])\n",
    "qc.z(0)\n",
    "\n",
    "# measure the qubit\n",
    "qc.measure(q,c)\n",
    "\n",
    "qc.draw(output = 'mpl')\n",
    "\n",
    "job = execute(qc, Aer.get_backend(\"qasm_simulator\"))\n",
    "print(job.result().get_counts())"
   ]
  },
  {
   "cell_type": "code",
   "execution_count": null,
   "id": "42e65f10",
   "metadata": {},
   "outputs": [],
   "source": [
    "from qiskit.visualization import plot_histogram, plot_bloch_vector"
   ]
  },
  {
   "cell_type": "code",
   "execution_count": null,
   "id": "fc8bcef1",
   "metadata": {},
   "outputs": [],
   "source": [
    "Z = np.matrix(\"1 0;0 -1\")\n",
    "H = 1/np.sqrt(2)*np.matrix(\"1 1;1 -1\")"
   ]
  },
  {
   "cell_type": "code",
   "execution_count": null,
   "id": "3db70103",
   "metadata": {},
   "outputs": [],
   "source": [
    "qc = QuantumCircuit(2)\n",
    "\n",
    "qc.h(0);\n",
    "#qc.cx(1, 0)\n",
    "\n",
    "qc.draw(output='mpl')\n",
    "\n",
    "qc.measure_all()\n",
    "qc.draw(output='mpl')\n",
    "job = execute(qc,Aer.get_backend('qasm_simulator'),shots=1000)\n",
    "counts = job.result().get_counts(qc)\n",
    "print(counts) # counts is a dictionary"
   ]
  },
  {
   "cell_type": "code",
   "execution_count": null,
   "id": "59cbae6f",
   "metadata": {},
   "outputs": [],
   "source": [
    "q2 = QuantumRegister(2,\"qreg\")\n",
    "c2 = ClassicalRegister(2,\"creg\")\n",
    "qc2 = QuantumCircuit(q2,c2)\n",
    "\n",
    "\n",
    "qc2.h(q2[0])\n",
    "qc2.cx(q2[0],q2[1])\n",
    "qc2.x(q2[0])\n",
    "\n",
    "qc2.measure(q2,c2)\n",
    "\n",
    "qc2.draw(output='mpl')\n",
    "job = execute(qc2,Aer.get_backend('qasm_simulator'),shots=1000)\n",
    "counts = job.result().get_counts(qc2)\n",
    "print(counts) # counts is a dictionary"
   ]
  },
  {
   "cell_type": "code",
   "execution_count": null,
   "id": "d5daa650",
   "metadata": {},
   "outputs": [],
   "source": [
    "q2 = QuantumRegister(3,\"qreg\")\n",
    "c2 = ClassicalRegister(3,\"creg\")\n",
    "qc2 = QuantumCircuit(q2,c2)\n",
    "\n",
    "\n",
    "qc2.h(q2[1])\n",
    "\n",
    "qc2.measure(q2,c2)\n",
    "\n",
    "qc2.draw(output='mpl')\n",
    "job = execute(qc2,Aer.get_backend('qasm_simulator'),shots=1000)\n",
    "counts = job.result().get_counts(qc2)\n",
    "print(counts) # counts is a dictionary"
   ]
  },
  {
   "cell_type": "code",
   "execution_count": null,
   "id": "ed3586c0",
   "metadata": {},
   "outputs": [],
   "source": [
    "from qiskit import QuantumRegister, ClassicalRegister, QuantumCircuit, execute, Aer\n",
    "mycircuit = QuantumCircuit(2,2)\n",
    "\n",
    "mycircuit.y(1)\n",
    "\n",
    "mycircuit.draw(output='mpl', reverse_bits=True)\n",
    "\n",
    "job = execute(mycircuit, Aer.get_backend('statevector_simulator'))\n",
    "result = job.result().get_statevector(mycircuit)\n",
    "\n",
    "print(result)"
   ]
  },
  {
   "cell_type": "code",
   "execution_count": null,
   "id": "8fbd5157",
   "metadata": {},
   "outputs": [],
   "source": [
    "from qiskit import QuantumRegister, ClassicalRegister, QuantumCircuit, execute, Aer\n",
    "\n",
    "mycircuit = QuantumCircuit(1,1)\n",
    "\n",
    "mycircuit.h(0)\n",
    "\n",
    "mycircuit.s(0)\n",
    "\n",
    "mycircuit.z(0)\n",
    "\n",
    "mycircuit.draw(output='mpl', reverse_bits=True)\n",
    "\n",
    "job = execute(mycircuit, Aer.get_backend('statevector_simulator'))\n",
    "result = job.result().get_statevector(mycircuit, decimals = 3)\n",
    "\n",
    "print(result)"
   ]
  },
  {
   "cell_type": "code",
   "execution_count": null,
   "id": "a9a8d247",
   "metadata": {},
   "outputs": [],
   "source": [
    "mycircuit = QuantumCircuit(1,1)\n",
    "\n",
    "mycircuit.h(0)\n",
    "mycircuit.s(0)\n",
    "mycircuit.h(0)\n",
    "\n",
    "mycircuit.draw(output='mpl', reverse_bits=True)\n",
    "\n",
    "job = execute(mycircuit, Aer.get_backend('statevector_simulator'))\n",
    "result = job.result().get_statevector(mycircuit, decimals = 3)\n",
    "\n",
    "print(result)"
   ]
  },
  {
   "cell_type": "code",
   "execution_count": null,
   "id": "507805f4",
   "metadata": {},
   "outputs": [],
   "source": [
    "from numpy import pi, cos, sqrt, sin, exp"
   ]
  },
  {
   "cell_type": "code",
   "execution_count": null,
   "id": "5750cc52",
   "metadata": {},
   "outputs": [],
   "source": [
    "cos(pi/4)"
   ]
  },
  {
   "cell_type": "code",
   "execution_count": null,
   "id": "0bc232fc",
   "metadata": {},
   "outputs": [],
   "source": [
    "sqrt(3)/2"
   ]
  },
  {
   "cell_type": "code",
   "execution_count": null,
   "id": "0b0f4be4",
   "metadata": {},
   "outputs": [],
   "source": [
    "sin(2*pi/3)"
   ]
  },
  {
   "cell_type": "code",
   "execution_count": null,
   "id": "edd185ac",
   "metadata": {},
   "outputs": [],
   "source": [
    "exp(complex(0, 1)*pi/2 *3)*sin(pi/6)"
   ]
  },
  {
   "cell_type": "code",
   "execution_count": null,
   "id": "00e128ad",
   "metadata": {},
   "outputs": [],
   "source": [
    "pi/4"
   ]
  },
  {
   "cell_type": "code",
   "execution_count": null,
   "id": "085930e9",
   "metadata": {},
   "outputs": [],
   "source": []
  }
 ],
 "metadata": {
  "kernelspec": {
   "display_name": "Python 3 (ipykernel)",
   "language": "python",
   "name": "python3"
  },
  "language_info": {
   "codemirror_mode": {
    "name": "ipython",
    "version": 3
   },
   "file_extension": ".py",
   "mimetype": "text/x-python",
   "name": "python",
   "nbconvert_exporter": "python",
   "pygments_lexer": "ipython3",
   "version": "3.8.10"
  }
 },
 "nbformat": 4,
 "nbformat_minor": 5
}
