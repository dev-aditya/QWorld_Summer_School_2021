{
 "cells": [
  {
   "cell_type": "markdown",
   "metadata": {},
   "source": [
    "<a href=\"https://qworld.net\" target=\"_blank\" align=\"left\"><img src=\"../qworld/images/header.jpg\"  align=\"left\"></a>"
   ]
  },
  {
   "cell_type": "markdown",
   "metadata": {},
   "source": [
    "<font style=\"font-size:28px;\" align=\"left\"><b> Python: Quick Reference </b></font>\n",
    "<br>\n",
    "_prepared by Abuzer Yakaryilmaz_\n",
    "<br><br>"
   ]
  },
  {
   "cell_type": "markdown",
   "metadata": {},
   "source": [
    "<ul>\n",
    "    <li><a href=\"#Variables\">Variables</a></li>\n",
    "    <li><a href=\"#Strings\">Strings</a></li>\n",
    "    <li><a href=\"#Arithmetic_operators\">Arithmetic operators</a></li>\n",
    "    <li><a href=\"#Objects\">Objects</a></li>\n",
    "    <li><a href=\"#Size_of_an_object\">Size of an object</a></li>    \n",
    "    <li><a href=\"#Loops\">Loops</a></li>\n",
    "    <li><a href=\"#Conditionals\">Conditionals</a></li>\n",
    "    <li><a href=\"#Logical_and_Boolean_operators\">Logical and Boolean operators</a></li>\n",
    "    <li><a href=\"#Double_list\">Double list</a></li>\n",
    "    <li><a href=\"#List_operations\">List operations</a></li>\n",
    "    <li><a href=\"#Functions\">Functions</a></li>\n",
    "    <li><a href=\"#Random_number\">Random number</a></li>\n",
    "</ul>\n",
    "<hr>"
   ]
  },
  {
   "cell_type": "markdown",
   "metadata": {},
   "source": [
    "<a id=\"Variables\"></a>\n",
    "<h3> Variables </h3>"
   ]
  },
  {
   "cell_type": "code",
   "execution_count": null,
   "metadata": {},
   "outputs": [],
   "source": [
    "number = 5 # integer\n",
    "real = -3.4 # float\n",
    "\n",
    "name = 'Ada' # string\n",
    "surname = \"Lovelace\" # string\n",
    "\n",
    "boolean1 = True # Boolean \n",
    "boolean2 = False # Boolean "
   ]
  },
  {
   "cell_type": "markdown",
   "metadata": {},
   "source": [
    "<hr>"
   ]
  },
  {
   "cell_type": "markdown",
   "metadata": {},
   "source": [
    "<a id=\"Strings\"></a>\n",
    "<h3> Strings </h3>"
   ]
  },
  {
   "cell_type": "code",
   "execution_count": null,
   "metadata": {},
   "outputs": [],
   "source": [
    "str1 = \"I am a string\"\n",
    "str2 = 'I am also a string value'\n",
    "\n",
    "# a string can be seen as a list of character (a string with length 1)\n",
    "#    each of them is accessed from 0 to len(str)-1\n",
    "\n",
    "# print the first and last characters of str1\n",
    "print(\"the char at 0 is\",str1[0])\n",
    "print(\"the char at 0 is\",str1[len(str1)-1])\n",
    "\n",
    "# print every character of str1\n",
    "for ch in str1:\n",
    "    print(ch)"
   ]
  },
  {
   "cell_type": "code",
   "execution_count": null,
   "metadata": {},
   "outputs": [],
   "source": [
    "# define a string with multiple lines\n",
    "str3 = \"\"\"I am the first line,\n",
    "   I am the second line,\n",
    "I am the third line\n",
    "\"\"\"\n",
    "\n",
    "print(str3)\n",
    "\n",
    "# define a string with multiple lines\n",
    "str4 = '''>\n",
    "first\n",
    "    and second\n",
    "'''\n",
    "\n",
    "print(str4)"
   ]
  },
  {
   "cell_type": "markdown",
   "metadata": {},
   "source": [
    "<hr>"
   ]
  },
  {
   "cell_type": "markdown",
   "metadata": {},
   "source": [
    "<a id=\"Arithmetic_operators\"></a>\n",
    "<h3> Arithmetic operators </h3>"
   ]
  },
  {
   "cell_type": "markdown",
   "metadata": {},
   "source": [
    "<h4> Basic operators </h4>"
   ]
  },
  {
   "cell_type": "code",
   "execution_count": null,
   "metadata": {},
   "outputs": [],
   "source": [
    "a = 13\n",
    "b = 5\n",
    "print(\"a =\",a)\n",
    "print(\"b =\",b)\n",
    "print()\n",
    "\n",
    "# basics operators\n",
    "print(\"a + b =\",a+b)\n",
    "print(\"a - b =\",a-b)\n",
    "print(\"a * b =\",a*b)\n",
    "print(\"a / b =\",a/b)"
   ]
  },
  {
   "cell_type": "markdown",
   "metadata": {},
   "source": [
    "<h4> Integer division and modulus operators </h4>"
   ]
  },
  {
   "cell_type": "code",
   "execution_count": null,
   "metadata": {},
   "outputs": [],
   "source": [
    "a = 13\n",
    "b = 5\n",
    "print(\"a =\",a)\n",
    "print(\"b =\",b)\n",
    "print()\n",
    "\n",
    "print(\"integer division:\")\n",
    "print(\"a//b =\",a//b)\n",
    "\n",
    "print(\"modulus operator:\")\n",
    "print(\"a mod b =\",a % b)"
   ]
  },
  {
   "cell_type": "markdown",
   "metadata": {},
   "source": [
    "<h4> Exponent operator</h4>\n",
    "\n",
    "number\\*\\*exponent"
   ]
  },
  {
   "cell_type": "code",
   "execution_count": null,
   "metadata": {},
   "outputs": [],
   "source": [
    "b = 5\n",
    "print(\"b =\",b)\n",
    "print()\n",
    "\n",
    "print(\"b*b =\",b**2)\n",
    "print(\"b*b*b =\",b**3)\n",
    "print(\"sqrt(b)=\",b**0.5)"
   ]
  },
  {
   "cell_type": "markdown",
   "metadata": {},
   "source": [
    "<hr>"
   ]
  },
  {
   "cell_type": "markdown",
   "metadata": {},
   "source": [
    "<a id=\"Objects\"></a>\n",
    "<h3> Objects </h3>"
   ]
  },
  {
   "cell_type": "markdown",
   "metadata": {},
   "source": [
    "<h4> Lists </h4>"
   ]
  },
  {
   "cell_type": "code",
   "execution_count": null,
   "metadata": {},
   "outputs": [],
   "source": [
    "# list\n",
    "mylist = [10,8,6,4,2] \n",
    "\n",
    "print(mylist)"
   ]
  },
  {
   "cell_type": "markdown",
   "metadata": {},
   "source": [
    "<h4> Tuple </h4>"
   ]
  },
  {
   "cell_type": "code",
   "execution_count": null,
   "metadata": {},
   "outputs": [],
   "source": [
    "# tuple\n",
    "mytuple=(1,4,5,'Asja') \n",
    "\n",
    "print(mytuple)"
   ]
  },
  {
   "cell_type": "markdown",
   "metadata": {},
   "source": [
    "<h4> Dictionary </h4>"
   ]
  },
  {
   "cell_type": "code",
   "execution_count": null,
   "metadata": {},
   "outputs": [],
   "source": [
    "# dictionary\n",
    "mydictionary = {\n",
    "    'name' : \"Asja\",\n",
    "    'surname':'Karaindrou',\n",
    "    'age': 23\n",
    "}\n",
    "\n",
    "print(mydictionary)\n",
    "\n",
    "print(mydictionary['surname'])"
   ]
  },
  {
   "cell_type": "markdown",
   "metadata": {},
   "source": [
    "<h4>List of the other objects or variables </h4>"
   ]
  },
  {
   "cell_type": "code",
   "execution_count": null,
   "metadata": {},
   "outputs": [],
   "source": [
    "# list of the other objects or variables\n",
    "list_of_other_objects =[\n",
    "    mylist,\n",
    "    mytuple,\n",
    "    3,\n",
    "    \"Ada\",\n",
    "    mydictionary\n",
    "]\n",
    "\n",
    "print(list_of_other_objects)\n",
    "print()\n",
    "for el in list_of_other_objects:\n",
    "    print(el)"
   ]
  },
  {
   "cell_type": "markdown",
   "metadata": {},
   "source": [
    "<hr>"
   ]
  },
  {
   "cell_type": "markdown",
   "metadata": {},
   "source": [
    "<a id=\"Size_of_an_object\"></a>\n",
    "<h3> Size of an object </h3>\n",
    "\n",
    "We use the method \"len()\" that takes an object as the input."
   ]
  },
  {
   "cell_type": "code",
   "execution_count": null,
   "metadata": {},
   "outputs": [],
   "source": [
    "# length of a string\n",
    "print(len(\"Asja Karaindrou\"))\n",
    "\n",
    "# size of a list\n",
    "print(len([1,2,3,4]))\n",
    "\n",
    "# size of a dictionary\n",
    "mydictionary = { 'name' : \"Asja\", 'surname':'Karaindrou', 'age': 23}\n",
    "print(len(mydictionary))"
   ]
  },
  {
   "cell_type": "markdown",
   "metadata": {},
   "source": [
    "<hr>"
   ]
  },
  {
   "cell_type": "markdown",
   "metadata": {},
   "source": [
    "<a id=\"Loops\"></a>\n",
    "<h3> Loops </h3>"
   ]
  },
  {
   "cell_type": "markdown",
   "metadata": {},
   "source": [
    "<h4> While-loop </h4>"
   ]
  },
  {
   "cell_type": "code",
   "execution_count": null,
   "metadata": {},
   "outputs": [],
   "source": [
    "i = 10\n",
    "while i>0: # while condition(s):\n",
    "    print(i)\n",
    "    i = i - 1   "
   ]
  },
  {
   "cell_type": "markdown",
   "metadata": {},
   "source": [
    "<h4> For-loop </h4>"
   ]
  },
  {
   "cell_type": "code",
   "execution_count": null,
   "metadata": {},
   "outputs": [],
   "source": [
    "for i in range(10): # i is in [0,1,...,9]\n",
    "    print(i)"
   ]
  },
  {
   "cell_type": "code",
   "execution_count": null,
   "metadata": {},
   "outputs": [],
   "source": [
    "for i in range(-5,6): # i is in [-5,-4,...,0,...,4,5]\n",
    "    print(i)"
   ]
  },
  {
   "cell_type": "code",
   "execution_count": null,
   "metadata": {},
   "outputs": [],
   "source": [
    "for i in range(0,23,4): # i is in [0,4,8,12,16,20]\n",
    "    print(i)"
   ]
  },
  {
   "cell_type": "code",
   "execution_count": null,
   "metadata": {},
   "outputs": [],
   "source": [
    "for i in [3,8,-5,11]: \n",
    "    print(i)"
   ]
  },
  {
   "cell_type": "code",
   "execution_count": null,
   "metadata": {},
   "outputs": [],
   "source": [
    "for i in \"Karaindrou\":\n",
    "    print(i)"
   ]
  },
  {
   "cell_type": "code",
   "execution_count": null,
   "metadata": {},
   "outputs": [],
   "source": [
    "# dictionary\n",
    "mydictionary = {\n",
    "    'name' : \"Asja\",\n",
    "    'surname':'Karaindrou',\n",
    "    'age': 23,\n",
    "}\n",
    "\n",
    "for key in mydictionary:\n",
    "    print(\"key is\",key,\"and its value is\",mydictionary[key])"
   ]
  },
  {
   "cell_type": "markdown",
   "metadata": {},
   "source": [
    "<hr>"
   ]
  },
  {
   "cell_type": "markdown",
   "metadata": {},
   "source": [
    "<a id=\"Conditionals\"></a>\n",
    "<h3>Conditionals </h3>"
   ]
  },
  {
   "cell_type": "code",
   "execution_count": null,
   "metadata": {},
   "outputs": [],
   "source": [
    "for a in range(4,7):\n",
    "    \n",
    "    # if condition(s)\n",
    "    if a<5: \n",
    "        print(a,\"is less than 5\")\n",
    "        \n",
    "    # elif conditions(s)\n",
    "    elif a==5: \n",
    "        print(a,\"is equal to 5\")\n",
    "        \n",
    "    # else\n",
    "    else:\n",
    "        print(a,\"is greater than 5\")"
   ]
  },
  {
   "cell_type": "markdown",
   "metadata": {},
   "source": [
    "<hr>"
   ]
  },
  {
   "cell_type": "markdown",
   "metadata": {},
   "source": [
    "<a id=\"Logical_and_Boolean_operators\"></a>\n",
    "<h3>Logical and Boolean operators</h3>"
   ]
  },
  {
   "cell_type": "markdown",
   "metadata": {},
   "source": [
    "<h4> Logical operator \"and\"</h4>"
   ]
  },
  {
   "cell_type": "code",
   "execution_count": null,
   "metadata": {},
   "outputs": [],
   "source": [
    "# Logical operator \"and\"\n",
    "i = -3\n",
    "j = 4\n",
    "if i<0 and j > 0:  \n",
    "    print(i,\"has minus sign negative AND\",j,\"has plus sign\")"
   ]
  },
  {
   "cell_type": "markdown",
   "metadata": {},
   "source": [
    "<h4>Logical operator \"or\"</h4>"
   ]
  },
  {
   "cell_type": "code",
   "execution_count": null,
   "metadata": {},
   "outputs": [],
   "source": [
    "# Logical operator \"or\"\n",
    "i = -2\n",
    "j = 2\n",
    "if i==2 or j == 2:  \n",
    "    print(\"i OR j is 2: (\",i,\",\",j,\")\")"
   ]
  },
  {
   "cell_type": "markdown",
   "metadata": {},
   "source": [
    "<h4>Logical operator \"not\" </h4>"
   ]
  },
  {
   "cell_type": "code",
   "execution_count": null,
   "metadata": {},
   "outputs": [],
   "source": [
    "# Logical operator \"not\"\n",
    "i = 3\n",
    "if not (i==2):\n",
    "    print(i,\"is NOT equal to 2\")"
   ]
  },
  {
   "cell_type": "markdown",
   "metadata": {},
   "source": [
    "<h4> Operator \"equal to\" </h4>"
   ]
  },
  {
   "cell_type": "code",
   "execution_count": null,
   "metadata": {},
   "outputs": [],
   "source": [
    "# Operator \"equal to\"\n",
    "i = -1\n",
    "if i == -1:\n",
    "    print(i,\"is EQUAL TO -1\")"
   ]
  },
  {
   "cell_type": "markdown",
   "metadata": {},
   "source": [
    "<h4> Operator \"not equal to\" </h4>"
   ]
  },
  {
   "cell_type": "code",
   "execution_count": null,
   "metadata": {},
   "outputs": [],
   "source": [
    "# Operator \"not equal to\"\n",
    "i = 4\n",
    "if i != 3:\n",
    "    print(i,\"is NOT EQUAL TO 3\")"
   ]
  },
  {
   "cell_type": "markdown",
   "metadata": {},
   "source": [
    "<h4> Operator \"less than or equal to\" </h4>"
   ]
  },
  {
   "cell_type": "code",
   "execution_count": null,
   "metadata": {},
   "outputs": [],
   "source": [
    "# Operator \"not equal to\"\n",
    "i = 2\n",
    "if i <= 5:\n",
    "    print(i,\"is LESS THAN OR EQUAL TO 5\")"
   ]
  },
  {
   "cell_type": "markdown",
   "metadata": {},
   "source": [
    "<h4> Operator \"greater than or equal to\" </h4>"
   ]
  },
  {
   "cell_type": "code",
   "execution_count": null,
   "metadata": {},
   "outputs": [],
   "source": [
    "# Operator \"not equal to\"\n",
    "i = 5\n",
    "if i >= 1:\n",
    "    print(i,\"is GREATER THAN OR EQUAL TO 3\")"
   ]
  },
  {
   "cell_type": "markdown",
   "metadata": {},
   "source": [
    "<hr>"
   ]
  },
  {
   "cell_type": "markdown",
   "metadata": {},
   "source": [
    "<a id=\"Double_list\"></a>\n",
    "<h3> Double list </h3>"
   ]
  },
  {
   "cell_type": "code",
   "execution_count": null,
   "metadata": {},
   "outputs": [],
   "source": [
    "A =[\n",
    "    [1,2,3],\n",
    "    [-2,-4,-6],\n",
    "    [3,6,9]\n",
    "]\n",
    "\n",
    "# print all\n",
    "print(A)\n",
    "print()\n",
    "\n",
    "# print each list in a new line\n",
    "for list in A:\n",
    "    print(list)"
   ]
  },
  {
   "cell_type": "markdown",
   "metadata": {},
   "source": [
    "<hr>"
   ]
  },
  {
   "cell_type": "markdown",
   "metadata": {},
   "source": [
    "<a id=\"List_operations\"></a>\n",
    "<h3>List operations</h3>"
   ]
  },
  {
   "cell_type": "markdown",
   "metadata": {},
   "source": [
    "<h4> Concatenation of two lists </h4>"
   ]
  },
  {
   "cell_type": "code",
   "execution_count": null,
   "metadata": {},
   "outputs": [],
   "source": [
    "list1 = [1,2,3]\n",
    "list2 = [4,5,6]\n",
    "\n",
    "#concatenation of two lists\n",
    "\n",
    "list3 = list1 + list2\n",
    "print(list3)\n",
    "\n",
    "list4 = list2 + list1\n",
    "print(list4)"
   ]
  },
  {
   "cell_type": "markdown",
   "metadata": {},
   "source": [
    "<h4> Appending a new element </h4>"
   ]
  },
  {
   "cell_type": "code",
   "execution_count": null,
   "metadata": {},
   "outputs": [],
   "source": [
    "list = [0,1,2]\n",
    "\n",
    "list.append(3)\n",
    "print(list)\n",
    "\n",
    "list = list + [4]\n",
    "print(list)"
   ]
  },
  {
   "cell_type": "markdown",
   "metadata": {},
   "source": [
    "<hr>"
   ]
  },
  {
   "cell_type": "markdown",
   "metadata": {},
   "source": [
    "<a id=\"Functions\"></a>\n",
    "<h3>Functions</h3>"
   ]
  },
  {
   "cell_type": "code",
   "execution_count": null,
   "metadata": {},
   "outputs": [],
   "source": [
    "def summation_of_integers(n):\n",
    "    summation = 0\n",
    "    for integer in range(n+1):\n",
    "        summation = summation + integer\n",
    "    return summation\n",
    "\n",
    "print(summation_of_integers(10))\n",
    "print(summation_of_integers(20))"
   ]
  },
  {
   "cell_type": "markdown",
   "metadata": {},
   "source": [
    "<hr>"
   ]
  },
  {
   "cell_type": "markdown",
   "metadata": {},
   "source": [
    "<a id=\"Random_number\"></a>\n",
    "<h3>Random number</h3>\n",
    "\n",
    "We can use method \"randrange()\"."
   ]
  },
  {
   "cell_type": "code",
   "execution_count": null,
   "metadata": {},
   "outputs": [],
   "source": [
    "from random import randrange\n",
    "\n",
    "print(randrange(10),\"is picked randomly between 0 and 9\")\n",
    "      \n",
    "print(randrange(-9,10),\"is picked randomly between -9 and 9\")\n",
    "\n",
    "print(randrange(0,20,3),\"is picked randomly from the list [0,3,6,9,12,15,18]\")"
   ]
  }
 ],
 "metadata": {
  "kernelspec": {
   "display_name": "Python 3",
   "language": "python",
   "name": "python3"
  },
  "language_info": {
   "codemirror_mode": {
    "name": "ipython",
    "version": 3
   },
   "file_extension": ".py",
   "mimetype": "text/x-python",
   "name": "python",
   "nbconvert_exporter": "python",
   "pygments_lexer": "ipython3",
   "version": "3.7.1"
  }
 },
 "nbformat": 4,
 "nbformat_minor": 2
}
