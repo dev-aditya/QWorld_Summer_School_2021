{
 "cells": [
  {
   "cell_type": "markdown",
   "metadata": {},
   "source": [
    "<a href=\"https://qworld.net\" target=\"_blank\" align=\"left\"><img src=\"../qworld/images/header.jpg\"  align=\"left\"></a>\n",
    "$ \\newcommand{\\bra}[1]{\\langle #1|} $\n",
    "$ \\newcommand{\\ket}[1]{|#1\\rangle} $\n",
    "$ \\newcommand{\\braket}[2]{\\langle #1|#2\\rangle} $\n",
    "$ \\newcommand{\\dot}[2]{ #1 \\cdot #2} $\n",
    "$ \\newcommand{\\biginner}[2]{\\left\\langle #1,#2\\right\\rangle} $\n",
    "$ \\newcommand{\\mymatrix}[2]{\\left( \\begin{array}{#1} #2\\end{array} \\right)} $\n",
    "$ \\newcommand{\\myvector}[1]{\\mymatrix{c}{#1}} $\n",
    "$ \\newcommand{\\myrvector}[1]{\\mymatrix{r}{#1}} $\n",
    "$ \\newcommand{\\mypar}[1]{\\left( #1 \\right)} $\n",
    "$ \\newcommand{\\mybigpar}[1]{ \\Big( #1 \\Big)} $\n",
    "$ \\newcommand{\\sqrttwo}{\\frac{1}{\\sqrt{2}}} $\n",
    "$ \\newcommand{\\dsqrttwo}{\\dfrac{1}{\\sqrt{2}}} $\n",
    "$ \\newcommand{\\onehalf}{\\frac{1}{2}} $\n",
    "$ \\newcommand{\\donehalf}{\\dfrac{1}{2}} $\n",
    "$ \\newcommand{\\hadamard}{ \\mymatrix{rr}{ \\sqrttwo & \\sqrttwo \\\\ \\sqrttwo & -\\sqrttwo }} $\n",
    "$ \\newcommand{\\vzero}{\\myvector{1\\\\0}} $\n",
    "$ \\newcommand{\\vone}{\\myvector{0\\\\1}} $\n",
    "$ \\newcommand{\\stateplus}{\\myvector{ \\sqrttwo \\\\  \\sqrttwo } } $\n",
    "$ \\newcommand{\\stateminus}{ \\myrvector{ \\sqrttwo \\\\ -\\sqrttwo } } $\n",
    "$ \\newcommand{\\myarray}[2]{ \\begin{array}{#1}#2\\end{array}} $\n",
    "$ \\newcommand{\\X}{ \\mymatrix{cc}{0 & 1 \\\\ 1 & 0}  } $\n",
    "$ \\newcommand{\\I}{ \\mymatrix{rr}{1 & 0 \\\\ 0 & 1}  } $\n",
    "$ \\newcommand{\\Z}{ \\mymatrix{rr}{1 & 0 \\\\ 0 & -1}  } $\n",
    "$ \\newcommand{\\Htwo}{ \\mymatrix{rrrr}{ \\frac{1}{2} & \\frac{1}{2} & \\frac{1}{2} & \\frac{1}{2} \\\\ \\frac{1}{2} & -\\frac{1}{2} & \\frac{1}{2} & -\\frac{1}{2} \\\\ \\frac{1}{2} & \\frac{1}{2} & -\\frac{1}{2} & -\\frac{1}{2} \\\\ \\frac{1}{2} & -\\frac{1}{2} & -\\frac{1}{2} & \\frac{1}{2} } } $\n",
    "$ \\newcommand{\\CNOT}{ \\mymatrix{cccc}{1 & 0 & 0 & 0 \\\\ 0 & 1 & 0 & 0 \\\\ 0 & 0 & 0 & 1 \\\\ 0 & 0 & 1 & 0} } $\n",
    "$ \\newcommand{\\norm}[1]{ \\left\\lVert #1 \\right\\rVert } $\n",
    "$ \\newcommand{\\pstate}[1]{ \\lceil \\mspace{-1mu} #1 \\mspace{-1.5mu} \\rfloor } $\n",
    "$ \\newcommand{\\greenbit}[1] {\\mathbf{{\\color{green}#1}}} $\n",
    "$ \\newcommand{\\bluebit}[1] {\\mathbf{{\\color{blue}#1}}} $\n",
    "$ \\newcommand{\\redbit}[1] {\\mathbf{{\\color{red}#1}}} $\n",
    "$ \\newcommand{\\brownbit}[1] {\\mathbf{{\\color{brown}#1}}} $\n",
    "$ \\newcommand{\\blackbit}[1] {\\mathbf{{\\color{black}#1}}} $"
   ]
  },
  {
   "cell_type": "markdown",
   "metadata": {},
   "source": [
    "<font style=\"font-size:28px;\" align=\"left\"><b> <font color=\"blue\"> Solutions for </font> Inversion About the Mean </b></font>\n",
    "<br>\n",
    "_prepared by Abuzer Yakaryilmaz_\n",
    "<br><br>"
   ]
  },
  {
   "cell_type": "markdown",
   "metadata": {},
   "source": [
    "<a id=\"task1\"></a>\n",
    "<h3>Task 1</h3>\n",
    "\n",
    "We play this game for $ N = 8 $.\n",
    "\n",
    "Suppose that only the 4th element is marked.\n",
    "\n",
    "We can visualize the values of elements in the list in the beginning as follows."
   ]
  },
  {
   "cell_type": "code",
   "execution_count": 1,
   "metadata": {},
   "outputs": [
    {
     "data": {
      "text/plain": [
       "<BarContainer object of 8 artists>"
      ]
     },
     "execution_count": 1,
     "metadata": {},
     "output_type": "execute_result"
    },
    {
     "data": {
      "image/png": "[encoded data removed]",
      "text/plain": [
       "<Figure size 432x288 with 1 Axes>"
      ]
     },
     "metadata": {
      "needs_background": "light"
     },
     "output_type": "display_data"
    }
   ],
   "source": [
    "from matplotlib.pyplot import bar\n",
    "\n",
    "labels = []\n",
    "elements = []\n",
    "for i in range(8):\n",
    "    labels = labels + [i+1]\n",
    "    elements  = elements + [1]\n",
    "\n",
    "# visualize the values of elements in the list \n",
    "bar(labels,elements)"
   ]
  },
  {
   "cell_type": "markdown",
   "metadata": {},
   "source": [
    "<h3>Solution</h3>"
   ]
  },
  {
   "cell_type": "markdown",
   "metadata": {},
   "source": [
    "Iterate the game for one step and visualize the values of elements in the list after each phase."
   ]
  },
  {
   "cell_type": "markdown",
   "metadata": {},
   "source": [
    "1st step - query phase:"
   ]
  },
  {
   "cell_type": "code",
   "execution_count": 2,
   "metadata": {},
   "outputs": [
    {
     "data": {
      "text/plain": [
       "<BarContainer object of 8 artists>"
      ]
     },
     "execution_count": 2,
     "metadata": {},
     "output_type": "execute_result"
    },
    {
     "data": {
      "image/png": "[encoded data removed]",
      "text/plain": [
       "<Figure size 432x288 with 1 Axes>"
      ]
     },
     "metadata": {
      "needs_background": "light"
     },
     "output_type": "display_data"
    }
   ],
   "source": [
    "# \n",
    "# 1st step - query\n",
    "#\n",
    "\n",
    "# flip the sign of the marked element\n",
    "elements[3] = -1 * elements[3]\n",
    "\n",
    "# visualize the values of elements in the list \n",
    "bar(labels,elements)"
   ]
  },
  {
   "cell_type": "markdown",
   "metadata": {},
   "source": [
    "1st step - inversion phase:"
   ]
  },
  {
   "cell_type": "code",
   "execution_count": 3,
   "metadata": {},
   "outputs": [
    {
     "data": {
      "text/plain": [
       "<BarContainer object of 8 artists>"
      ]
     },
     "execution_count": 3,
     "metadata": {},
     "output_type": "execute_result"
    },
    {
     "data": {
      "image/png": "[encoded data removed]",
      "text/plain": [
       "<Figure size 432x288 with 1 Axes>"
      ]
     },
     "metadata": {
      "needs_background": "light"
     },
     "output_type": "display_data"
    }
   ],
   "source": [
    "#\n",
    "# 1st step - inversion\n",
    "#\n",
    "\n",
    "# summation of all values\n",
    "sum = 0\n",
    "for i in range(len(elements)):\n",
    "    sum += elements[i]\n",
    "\n",
    "# mean of all values\n",
    "mean = sum / len(elements)\n",
    "\n",
    "# reflection over the mean\n",
    "for i in range(len(elements)):\n",
    "    value = elements[i]\n",
    "    new_value = mean - (value-mean)\n",
    "    elements[i] = new_value\n",
    "\n",
    "# visualize the values of elements in the list \n",
    "bar(labels,elements)"
   ]
  },
  {
   "cell_type": "markdown",
   "metadata": {},
   "source": [
    "Iterate the game for one more step and visualize the values of elements in the list after each phase."
   ]
  },
  {
   "cell_type": "markdown",
   "metadata": {},
   "source": [
    "2nd step - query phase:"
   ]
  },
  {
   "cell_type": "code",
   "execution_count": 4,
   "metadata": {},
   "outputs": [
    {
     "data": {
      "text/plain": [
       "<BarContainer object of 8 artists>"
      ]
     },
     "execution_count": 4,
     "metadata": {},
     "output_type": "execute_result"
    },
    {
     "data": {
      "image/png": "[encoded data removed]",
      "text/plain": [
       "<Figure size 432x288 with 1 Axes>"
      ]
     },
     "metadata": {
      "needs_background": "light"
     },
     "output_type": "display_data"
    }
   ],
   "source": [
    "# \n",
    "# 2nd step - query\n",
    "#\n",
    "\n",
    "# flip the sign of the marked element\n",
    "elements[3] = -1 * elements[3]\n",
    "\n",
    "# visualize the values of elements in the list \n",
    "bar(labels,elements)"
   ]
  },
  {
   "cell_type": "markdown",
   "metadata": {},
   "source": [
    "2nd step - inversion phase:"
   ]
  },
  {
   "cell_type": "code",
   "execution_count": 5,
   "metadata": {},
   "outputs": [
    {
     "data": {
      "text/plain": [
       "<BarContainer object of 8 artists>"
      ]
     },
     "execution_count": 5,
     "metadata": {},
     "output_type": "execute_result"
    },
    {
     "data": {
      "image/png": "[encoded data removed]",
      "text/plain": [
       "<Figure size 432x288 with 1 Axes>"
      ]
     },
     "metadata": {
      "needs_background": "light"
     },
     "output_type": "display_data"
    }
   ],
   "source": [
    "#\n",
    "# 2nd step - inversion\n",
    "#\n",
    "\n",
    "# summation of all values\n",
    "sum = 0\n",
    "for i in range(len(elements)):\n",
    "    sum += elements[i]\n",
    "\n",
    "# mean of all values\n",
    "mean = sum / len(elements)\n",
    "\n",
    "# reflection over mean\n",
    "for i in range(len(elements)):\n",
    "    value = elements[i]\n",
    "    new_value = mean - (value-mean)\n",
    "    elements[i] = new_value\n",
    "\n",
    "# visualize the values of elements in the list \n",
    "bar(labels,elements)"
   ]
  },
  {
   "cell_type": "markdown",
   "metadata": {},
   "source": [
    "Iterate the game three more steps and visualize the values of elements in the list at the end."
   ]
  },
  {
   "cell_type": "code",
   "execution_count": 6,
   "metadata": {},
   "outputs": [
    {
     "data": {
      "text/plain": [
       "<BarContainer object of 8 artists>"
      ]
     },
     "execution_count": 6,
     "metadata": {},
     "output_type": "execute_result"
    },
    {
     "data": {
      "image/png": "[encoded data removed]",
      "text/plain": [
       "<Figure size 432x288 with 1 Axes>"
      ]
     },
     "metadata": {
      "needs_background": "light"
     },
     "output_type": "display_data"
    }
   ],
   "source": [
    "for i in range(3):\n",
    "    # flip the sign of the marked element\n",
    "    elements[3] = -1 * elements[3]\n",
    "    \n",
    "    # summation of all values\n",
    "    sum = 0\n",
    "    for i in range(len(elements)):\n",
    "        sum += elements[i]\n",
    "\n",
    "    # mean of all values\n",
    "    mean = sum / len(elements)\n",
    "\n",
    "    # reflection over mean\n",
    "    for i in range(len(elements)):\n",
    "        value = elements[i]\n",
    "        new_value = mean - (value-mean)\n",
    "        elements[i] = new_value\n",
    "        \n",
    "# visualize the values of elements in the list \n",
    "bar(labels,elements)        "
   ]
  },
  {
   "cell_type": "markdown",
   "metadata": {},
   "source": [
    "<hr>"
   ]
  },
  {
   "cell_type": "markdown",
   "metadata": {},
   "source": [
    "<a id=\"task2\"></a>\n",
    "<h3>Task 2</h3>\n",
    "\n",
    "Write a function called *query* that \n",
    "- takes a list of elements and the list of marked elements,\n",
    "- change the sign of the marked elements, and then\n",
    "- returns the list.\n",
    "\n",
    "Write a function called *inversion* that\n",
    "- takes a list of elements and\n",
    "- reflects the value of each element over the mean of all values, and then\n",
    "- return the list.\n",
    "\n",
    "We iterate the same game given in Task 1 ($ N = 8 $ and the 4th element is the only marked one) 20 steps by using the functions *query* and *inversion*.\n",
    "\n",
    "\n",
    "**This time we trace the values of only the 4th element. We store the values of the 4th element on a list after each step, and then, we display this list as a bar chart.**"
   ]
  },
  {
   "cell_type": "markdown",
   "metadata": {},
   "source": [
    "<h3>Solution</h3>"
   ]
  },
  {
   "cell_type": "code",
   "execution_count": 7,
   "metadata": {},
   "outputs": [],
   "source": [
    "def query(elements=[1],marked_elements=[0]):\n",
    "    for i in marked_elements:\n",
    "        elements[i] = -1 * elements[i]    \n",
    "    return elements"
   ]
  },
  {
   "cell_type": "code",
   "execution_count": 8,
   "metadata": {},
   "outputs": [],
   "source": [
    "def inversion (elements=[1]):\n",
    "    # summation of all values\n",
    "    summation = 0\n",
    "    for i in range(len(elements)):\n",
    "        summation += elements[i]\n",
    "\n",
    "    # mean of all values\n",
    "    mean = summation / len(elements)\n",
    "\n",
    "    # reflection over mean\n",
    "    for i in range(len(elements)):\n",
    "        value = elements[i]\n",
    "        new_value = mean - (value-mean)\n",
    "        elements[i] = new_value   \n",
    "    return elements"
   ]
  },
  {
   "cell_type": "code",
   "execution_count": 9,
   "metadata": {},
   "outputs": [
    {
     "name": "stdout",
     "output_type": "stream",
     "text": [
      "(0, 1) (1, 2.5) (2, 2.75) (3, 1.625) (4, -0.3125) (5, -2.09375) (6, -2.828125) (7, -2.1484375) (8, -0.39453125) (9, 1.556640625) (10, 2.7294921875) (11, 2.53759765625) (12, 1.076904296875) (13, -0.9222412109375) (14, -2.46026611328125) (15, -2.768157958984375) (16, -1.6919708251953125) (17, 0.23020172119140625) (18, 2.037273406982422) (19, 2.8257083892822266) (20, 2.201289176940918)\n"
     ]
    },
    {
     "data": {
      "image/png": "[encoded data removed]",
      "text/plain": [
       "<Figure size 432x288 with 1 Axes>"
      ]
     },
     "metadata": {
      "needs_background": "light"
     },
     "output_type": "display_data"
    }
   ],
   "source": [
    "from matplotlib.pyplot import bar\n",
    "\n",
    "# define the list of size 8 on which each element has value of 1\n",
    "elements = []\n",
    "for i in range(8):\n",
    "    elements  = elements + [1]\n",
    "\n",
    "# index of the marked element\n",
    "marked_elements = [3]\n",
    "    \n",
    "# define the list of iterations\n",
    "iterations = []\n",
    "# the list storing the values of the 4th element after each step\n",
    "L = []\n",
    "\n",
    "# the first values\n",
    "iterations.append(0)\n",
    "L.append(elements[marked_elements[0]])\n",
    "\n",
    "for step in range(20):\n",
    "    # store the iteration\n",
    "    iterations.append(step+1)\n",
    "    \n",
    "    # flip the sign of the marked element\n",
    "    elements = query(elements,marked_elements)\n",
    "    elements = inversion(elements)    \n",
    "    \n",
    "    # store the new value of the 4th element\n",
    "    L.append(elements[marked_elements[0]])\n",
    "    \n",
    "# visualize the values of the 4th elements after each iteration\n",
    "bar(iterations,L)\n",
    "print(*list(zip(iterations, L)))"
   ]
  },
  {
   "cell_type": "markdown",
   "metadata": {},
   "source": [
    "<hr>"
   ]
  },
  {
   "cell_type": "markdown",
   "metadata": {},
   "source": [
    "<a id=\"task3\"></a>\n",
    "<h3> Task 3</h3>\n",
    "\n",
    "Repeat Task 2 where $ N = 16 $ and the 11th element is marked."
   ]
  },
  {
   "cell_type": "markdown",
   "metadata": {},
   "source": [
    "<h3>Solution</h3>"
   ]
  },
  {
   "cell_type": "code",
   "execution_count": 10,
   "metadata": {},
   "outputs": [],
   "source": [
    "def query(elements=[1],marked_elements=[0]):\n",
    "    for i in marked_elements:\n",
    "        elements[i] = -1 * elements[i]    \n",
    "    return elements\n",
    "\n",
    "def inversion (elements=[1]):\n",
    "    # summation of all values\n",
    "    summation = 0\n",
    "    for i in range(len(elements)):\n",
    "        summation += elements[i]\n",
    "\n",
    "    # mean of all values\n",
    "    mean = summation / len(elements)\n",
    "\n",
    "    # reflection over mean\n",
    "    for i in range(len(elements)):\n",
    "        value = elements[i]\n",
    "        new_value = mean - (value-mean)\n",
    "        elements[i] = new_value   \n",
    "    return elements"
   ]
  },
  {
   "cell_type": "code",
   "execution_count": 11,
   "metadata": {},
   "outputs": [
    {
     "name": "stdout",
     "output_type": "stream",
     "text": [
      "[0, 1, 2, 3, 4, 5, 6, 7, 8, 9, 10, 11, 12, 13, 14, 15, 16, 17, 18, 19, 20]\n",
      "[1, 2.75, 3.8125, 3.921875, 3.05078125, 1.4169921875, -0.571044921875, -2.41632080078125, -3.6575164794921875, -3.984333038330078, -3.315066337585449, -1.817033052444458, 0.1352584958076477, 2.0537354201078415, 3.458778489381075, 3.9991269363090396, 3.5396936491597444, 2.195336949720513, 0.3021460128511535, -1.6665814272309944, -3.218663510505394]\n"
     ]
    },
    {
     "data": {
      "image/png": "[encoded data removed]",
      "text/plain": [
       "<Figure size 432x288 with 1 Axes>"
      ]
     },
     "metadata": {
      "needs_background": "light"
     },
     "output_type": "display_data"
    }
   ],
   "source": [
    "from matplotlib.pyplot import bar\n",
    "\n",
    "# define the list of size 8 on which each element has value of 1\n",
    "elements = []\n",
    "for i in range(16):\n",
    "    elements  = elements + [1]\n",
    "\n",
    "# index of the marked element\n",
    "marked_elements = [10]\n",
    "    \n",
    "# define the list of iterations\n",
    "iterations = []\n",
    "# the list storing the values of the marked element after each step\n",
    "L = []\n",
    "\n",
    "# the first values\n",
    "iterations.append(0)\n",
    "L.append(elements[marked_elements[0]])\n",
    "\n",
    "for step in range(20):\n",
    "    # store the iteration\n",
    "    iterations.append(step+1)\n",
    "    \n",
    "    # flip the sign of the marked element\n",
    "    elements = query(elements,marked_elements)\n",
    "    elements = inversion(elements)    \n",
    "    \n",
    "    # store the new value of the 4th element\n",
    "    L.append(elements[marked_elements[0]])\n",
    "    \n",
    "# visualize the values of the marked elements after each iteration\n",
    "bar(iterations,L)\n",
    "print(iterations)\n",
    "print(L)"
   ]
  },
  {
   "cell_type": "markdown",
   "metadata": {},
   "source": [
    "<hr>"
   ]
  },
  {
   "cell_type": "markdown",
   "metadata": {},
   "source": [
    "<a id=\"task4\"></a>\n",
    "<h3> Task 4</h3>\n",
    "\n",
    "Repeat Task 3 by tracing only the 5th element where $ N = 16 $ and the 5th, 8th, and 10th elements are marked."
   ]
  },
  {
   "cell_type": "markdown",
   "metadata": {},
   "source": [
    "<h3>Solution</h3>"
   ]
  },
  {
   "cell_type": "code",
   "execution_count": 27,
   "metadata": {},
   "outputs": [],
   "source": [
    "def query(elements=[1],marked_elements=[0]):\n",
    "    for i in marked_elements:\n",
    "        elements[i] = -1 * elements[i]    \n",
    "    return elements\n",
    "\n",
    "def inversion (elements=[1]):\n",
    "    # summation of all values\n",
    "    summation = 0\n",
    "    for i in range(len(elements)):\n",
    "        summation += elements[i]\n",
    "\n",
    "    # mean of all values\n",
    "    mean = summation / len(elements)\n",
    "\n",
    "    # reflection over mean\n",
    "    for i in range(len(elements)):\n",
    "        value = elements[i]\n",
    "        new_value = mean - (value-mean)\n",
    "        elements[i] = new_value   \n",
    "    return elements"
   ]
  },
  {
   "cell_type": "code",
   "execution_count": 28,
   "metadata": {},
   "outputs": [
    {
     "name": "stdout",
     "output_type": "stream",
     "text": [
      "[0, 1, 2, 3, 4, 5, 6, 7, 8, 9, 10, 11, 12, 13, 14, 15, 16, 17, 18, 19, 20]\n",
      "[1, 2.25, 1.8125, 0.015625, -1.79296875, -2.2568359375, -1.028076171875, 0.97174072265625, 2.2427520751953125, 1.8316993713378906, 0.04687213897705078, -1.7731091976165771, -2.263258635997772, -1.0559640973806381, 0.9433035142719746, 2.2350934902206063, 1.8505633485037833, 0.07811069540912285, -1.7529249792423798, -2.2692669194620976, -1.0836586700852422]\n"
     ]
    },
    {
     "data": {
      "image/png": "[encoded data removed]",
      "text/plain": [
       "<Figure size 432x288 with 1 Axes>"
      ]
     },
     "metadata": {
      "needs_background": "light"
     },
     "output_type": "display_data"
    }
   ],
   "source": [
    "from matplotlib.pyplot import bar\n",
    "\n",
    "# define the list of size 8 on which each element has value of 1\n",
    "elements = []\n",
    "for i in range(16):\n",
    "    elements  = elements + [1]\n",
    "\n",
    "# index of the marked element\n",
    "marked_elements = [4,7,9]\n",
    "    \n",
    "# define the list of iterations\n",
    "iterations = []\n",
    "# the list storing the values of the first element after each step\n",
    "L = []\n",
    "\n",
    "# the first values\n",
    "iterations.append(0)\n",
    "L.append(elements[marked_elements[0]])\n",
    "\n",
    "for step in range(20):\n",
    "    # store the iteration\n",
    "    iterations.append(step+1)\n",
    "    \n",
    "    # flip the sign of the marked element\n",
    "    elements = query(elements,marked_elements)\n",
    "    elements = inversion(elements)\n",
    "    \n",
    "    # store the new value of the first marked element\n",
    "    L.append(elements[marked_elements[0]])\n",
    "    \n",
    "# visualizing the values of the first marked elements after each iteration\n",
    "bar(iterations,L)\n",
    "print(iterations)\n",
    "print(L)"
   ]
  },
  {
   "cell_type": "markdown",
   "metadata": {},
   "source": [
    "<hr>"
   ]
  },
  {
   "cell_type": "markdown",
   "metadata": {},
   "source": [
    "<a id=\"task5\"></a>\n",
    "<h3> Task 5</h3>\n",
    "\n",
    "We iterate the same game 20 steps where $ N = 16 $ and the marked elements are the first four elements. \n",
    "\n",
    "Print the length of the list of elements (_i.e., consider it as a vector_) after each query and inversion phases. \n",
    "\n",
    "*Remark that the initial length is $ \\sqrt{ \\sum_{i=1}^{16} 1^2 }  =4 $.*"
   ]
  },
  {
   "cell_type": "markdown",
   "metadata": {},
   "source": [
    "<h3>Solution</h3>"
   ]
  },
  {
   "cell_type": "code",
   "execution_count": 22,
   "metadata": {},
   "outputs": [],
   "source": [
    "def query(elements=[1],marked_elements=[0]):\n",
    "    for i in marked_elements:\n",
    "        elements[i] = -1 * elements[i]    \n",
    "    return elements\n",
    "\n",
    "def inversion (elements=[1]):\n",
    "    # summation of all values\n",
    "    summation = 0\n",
    "    for i in range(len(elements)):\n",
    "        summation += elements[i]\n",
    "\n",
    "    # mean of all values\n",
    "    mean = summation / len(elements)\n",
    "\n",
    "    # reflection over mean\n",
    "    for i in range(len(elements)):\n",
    "        value = elements[i]\n",
    "        new_value = mean - (value-mean)\n",
    "        elements[i] = new_value   \n",
    "    return elements\n",
    "\n",
    "def length_of_list (elements=[1]):\n",
    "    summation = 0\n",
    "    for el in elements:\n",
    "        summation = summation + el**2\n",
    "    return round(summation**0.5,3)"
   ]
  },
  {
   "cell_type": "code",
   "execution_count": 23,
   "metadata": {},
   "outputs": [
    {
     "name": "stdout",
     "output_type": "stream",
     "text": [
      "the initial length 4.0\n",
      "step 0 the length after query is  4.0\n",
      "step 0 the length after inversion is  4.0\n",
      "step 1 the length after query is  4.0\n",
      "step 1 the length after inversion is  4.0\n",
      "step 2 the length after query is  4.0\n",
      "step 2 the length after inversion is  4.0\n",
      "step 3 the length after query is  4.0\n",
      "step 3 the length after inversion is  4.0\n",
      "step 4 the length after query is  4.0\n",
      "step 4 the length after inversion is  4.0\n",
      "step 5 the length after query is  4.0\n",
      "step 5 the length after inversion is  4.0\n",
      "step 6 the length after query is  4.0\n",
      "step 6 the length after inversion is  4.0\n",
      "step 7 the length after query is  4.0\n",
      "step 7 the length after inversion is  4.0\n",
      "step 8 the length after query is  4.0\n",
      "step 8 the length after inversion is  4.0\n",
      "step 9 the length after query is  4.0\n",
      "step 9 the length after inversion is  4.0\n",
      "step 10 the length after query is  4.0\n",
      "step 10 the length after inversion is  4.0\n",
      "step 11 the length after query is  4.0\n",
      "step 11 the length after inversion is  4.0\n",
      "step 12 the length after query is  4.0\n",
      "step 12 the length after inversion is  4.0\n",
      "step 13 the length after query is  4.0\n",
      "step 13 the length after inversion is  4.0\n",
      "step 14 the length after query is  4.0\n",
      "step 14 the length after inversion is  4.0\n",
      "step 15 the length after query is  4.0\n",
      "step 15 the length after inversion is  4.0\n",
      "step 16 the length after query is  4.0\n",
      "step 16 the length after inversion is  4.0\n",
      "step 17 the length after query is  4.0\n",
      "step 17 the length after inversion is  4.0\n",
      "step 18 the length after query is  4.0\n",
      "step 18 the length after inversion is  4.0\n",
      "step 19 the length after query is  4.0\n",
      "step 19 the length after inversion is  4.0\n"
     ]
    }
   ],
   "source": [
    "# define the list of size 8 on which each element has value of 1\n",
    "elements = []\n",
    "for i in range(16):\n",
    "    elements  = elements + [1]\n",
    "\n",
    "# index of the marked element\n",
    "marked_elements = [0,1,2,3]\n",
    "\n",
    "print(\"the initial length\",length_of_list(elements))\n",
    "\n",
    "for step in range(20):\n",
    "    # store the iteration\n",
    "    iterations.append(step+1)\n",
    "    \n",
    "    # flip the sign of the marked element\n",
    "    elements = query(elements,marked_elements)\n",
    "    print(\"step\",step,\"the length after query is \",length_of_list(elements))\n",
    "    elements = inversion(elements)\n",
    "    print(\"step\",step,\"the length after inversion is \",length_of_list(elements))"
   ]
  },
  {
   "cell_type": "markdown",
   "metadata": {},
   "source": [
    "<hr>"
   ]
  },
  {
   "cell_type": "markdown",
   "metadata": {},
   "source": [
    "<a id=\"task6\"></a>\n",
    "<h3> Task 6</h3>\n",
    "\n",
    "Repeat Task 5 where $ N = 10 $ and the last element is marked.\n",
    "\n",
    "*Remark that the initial length is $ \\sqrt{10} $.*"
   ]
  },
  {
   "cell_type": "markdown",
   "metadata": {},
   "source": [
    "<h3>Solution</h3>"
   ]
  },
  {
   "cell_type": "code",
   "execution_count": 16,
   "metadata": {},
   "outputs": [],
   "source": [
    "def query(elements=[1],marked_elements=[0]):\n",
    "    for i in marked_elements:\n",
    "        elements[i] = -1 * elements[i]    \n",
    "    return elements\n",
    "\n",
    "def inversion (elements=[1]):\n",
    "    # summation of all values\n",
    "    summation = 0\n",
    "    for i in range(len(elements)):\n",
    "        summation += elements[i]\n",
    "\n",
    "    # mean of all values\n",
    "    mean = summation / len(elements)\n",
    "\n",
    "    # reflection over mean\n",
    "    for i in range(len(elements)):\n",
    "        value = elements[i]\n",
    "        new_value = mean - (value-mean)\n",
    "        elements[i] = new_value   \n",
    "    return elements\n",
    "\n",
    "def length_of_list (elements=[1]):\n",
    "    summation = 0\n",
    "    for el in elements:\n",
    "        summation = summation + el**2\n",
    "    return round(summation**0.5,3)"
   ]
  },
  {
   "cell_type": "code",
   "execution_count": 24,
   "metadata": {},
   "outputs": [
    {
     "name": "stdout",
     "output_type": "stream",
     "text": [
      "the initial length 3.162\n",
      "step 0 the length after query is  3.162\n",
      "step 0 the length after inversion is  3.162\n",
      "step 1 the length after query is  3.162\n",
      "step 1 the length after inversion is  3.162\n",
      "step 2 the length after query is  3.162\n",
      "step 2 the length after inversion is  3.162\n",
      "step 3 the length after query is  3.162\n",
      "step 3 the length after inversion is  3.162\n",
      "step 4 the length after query is  3.162\n",
      "step 4 the length after inversion is  3.162\n",
      "step 5 the length after query is  3.162\n",
      "step 5 the length after inversion is  3.162\n",
      "step 6 the length after query is  3.162\n",
      "step 6 the length after inversion is  3.162\n",
      "step 7 the length after query is  3.162\n",
      "step 7 the length after inversion is  3.162\n",
      "step 8 the length after query is  3.162\n",
      "step 8 the length after inversion is  3.162\n",
      "step 9 the length after query is  3.162\n",
      "step 9 the length after inversion is  3.162\n",
      "step 10 the length after query is  3.162\n",
      "step 10 the length after inversion is  3.162\n",
      "step 11 the length after query is  3.162\n",
      "step 11 the length after inversion is  3.162\n",
      "step 12 the length after query is  3.162\n",
      "step 12 the length after inversion is  3.162\n",
      "step 13 the length after query is  3.162\n",
      "step 13 the length after inversion is  3.162\n",
      "step 14 the length after query is  3.162\n",
      "step 14 the length after inversion is  3.162\n",
      "step 15 the length after query is  3.162\n",
      "step 15 the length after inversion is  3.162\n",
      "step 16 the length after query is  3.162\n",
      "step 16 the length after inversion is  3.162\n",
      "step 17 the length after query is  3.162\n",
      "step 17 the length after inversion is  3.162\n",
      "step 18 the length after query is  3.162\n",
      "step 18 the length after inversion is  3.162\n",
      "step 19 the length after query is  3.162\n",
      "step 19 the length after inversion is  3.162\n"
     ]
    }
   ],
   "source": [
    "# define the list of size 10 on which each element has value of 1\n",
    "elements = []\n",
    "for i in range(10):\n",
    "    elements  = elements + [1]\n",
    "\n",
    "# index of the marked element\n",
    "marked_elements = [9]\n",
    "\n",
    "print(\"the initial length\",length_of_list(elements))\n",
    "\n",
    "for step in range(20):\n",
    "    # store the iteration\n",
    "    iterations.append(step+1)\n",
    "    \n",
    "    # flip the sign of the marked element\n",
    "    elements = query(elements,marked_elements)\n",
    "    print(\"step\",step,\"the length after query is \",length_of_list(elements))\n",
    "    elements = inversion(elements)\n",
    "    print(\"step\",step,\"the length after inversion is \",length_of_list(elements))"
   ]
  },
  {
   "cell_type": "markdown",
   "metadata": {},
   "source": [
    "<hr>"
   ]
  },
  {
   "cell_type": "markdown",
   "metadata": {},
   "source": [
    "<a id=\"task7\"></a>\n",
    "<h3> Task 7 </h3>\n",
    "\n",
    "What are the initial values for the modified game if $ N=8 $?"
   ]
  },
  {
   "cell_type": "markdown",
   "metadata": {},
   "source": [
    "<h3>Solution</h3>"
   ]
  },
  {
   "cell_type": "markdown",
   "metadata": {},
   "source": [
    "The list is $ [ a,a,a,a,a,a,a,a ] $ at the beginning.\n",
    "\n",
    "If it is a quantum state, then its length must be 1: $ 8a^2 = 1 $ and so $ a = \\frac{1}{2\\sqrt{2}} $.\n",
    "\n",
    "In general, any list with $ N $ elements is $ \\big[ \\frac{1}{\\sqrt{N}},\\ldots,\\frac{1}{\\sqrt{N}}, \\big]  $."
   ]
  },
  {
   "cell_type": "markdown",
   "metadata": {},
   "source": [
    "<hr>"
   ]
  },
  {
   "cell_type": "markdown",
   "metadata": {},
   "source": [
    "<a id=\"task8\"></a>\n",
    "<h3>Task 8</h3>\n",
    "\n",
    "Iterate the modified game for 20 steps where $ N = 8 $ and the second element is marked.\n",
    "\n",
    "Print the list of elements after each phase.\n",
    "\n",
    "Check whether the length of list is 1 after each iteration."
   ]
  },
  {
   "cell_type": "markdown",
   "metadata": {},
   "source": [
    "<h3>Solution</h3>"
   ]
  },
  {
   "cell_type": "code",
   "execution_count": 25,
   "metadata": {},
   "outputs": [],
   "source": [
    "def query(elements=[1],marked_elements=[0]):\n",
    "    for i in marked_elements:\n",
    "        elements[i] = -1 * elements[i]    \n",
    "    return elements\n",
    "\n",
    "def inversion (elements=[1]):\n",
    "    # summation of all values\n",
    "    summation = 0\n",
    "    for i in range(len(elements)):\n",
    "        summation += elements[i]\n",
    "\n",
    "    # mean of all values\n",
    "    mean = summation / len(elements)\n",
    "\n",
    "    # reflection over mean\n",
    "    for i in range(len(elements)):\n",
    "        value = elements[i]\n",
    "        new_value = mean - (value-mean)\n",
    "        elements[i] = new_value   \n",
    "    return elements\n",
    "\n",
    "def length_of_list (elements=[1]):\n",
    "    summation = 0\n",
    "    for el in elements:\n",
    "        summation = summation + el**2\n",
    "    return round(summation**0.5,3)\n",
    "\n",
    "# print the elements of a given list with a given precision\n",
    "def print_list(L,precision):\n",
    "    output = \"\"\n",
    "    for i in range(len(L)):\n",
    "        output = output + str(round(L[i],precision))+\"  \"\n",
    "    print(output)"
   ]
  },
  {
   "cell_type": "code",
   "execution_count": 26,
   "metadata": {},
   "outputs": [
    {
     "name": "stdout",
     "output_type": "stream",
     "text": [
      "step 0\n",
      "the list of elements is\n",
      "0.354  0.354  0.354  0.354  0.354  0.354  0.354  0.354  \n",
      "the initial length 1.0\n",
      "\n",
      "after step 1\n",
      "the list of elements is\n",
      "0.177  0.884  0.177  0.177  0.177  0.177  0.177  0.177  \n",
      "the length after iteration is  1.0\n",
      "\n",
      "after step 2\n",
      "the list of elements is\n",
      "-0.088  0.972  -0.088  -0.088  -0.088  -0.088  -0.088  -0.088  \n",
      "the length after iteration is  1.0\n",
      "\n",
      "after step 3\n",
      "the list of elements is\n",
      "-0.309  0.575  -0.309  -0.309  -0.309  -0.309  -0.309  -0.309  \n",
      "the length after iteration is  1.0\n",
      "\n",
      "after step 4\n",
      "the list of elements is\n",
      "-0.376  -0.11  -0.376  -0.376  -0.376  -0.376  -0.376  -0.376  \n",
      "the length after iteration is  1.0\n",
      "\n",
      "after step 5\n",
      "the list of elements is\n",
      "-0.254  -0.74  -0.254  -0.254  -0.254  -0.254  -0.254  -0.254  \n",
      "the length after iteration is  1.0\n",
      "\n",
      "after step 6\n",
      "the list of elements is\n",
      "-0.006  -1.0  -0.006  -0.006  -0.006  -0.006  -0.006  -0.006  \n",
      "the length after iteration is  1.0\n",
      "\n",
      "after step 7\n",
      "the list of elements is\n",
      "0.246  -0.76  0.246  0.246  0.246  0.246  0.246  0.246  \n",
      "the length after iteration is  1.0\n",
      "\n",
      "after step 8\n",
      "the list of elements is\n",
      "0.374  -0.139  0.374  0.374  0.374  0.374  0.374  0.374  \n",
      "the length after iteration is  1.0\n",
      "\n",
      "after step 9\n",
      "the list of elements is\n",
      "0.316  0.55  0.316  0.316  0.316  0.316  0.316  0.316  \n",
      "the length after iteration is  1.0\n",
      "\n",
      "after step 10\n",
      "the list of elements is\n",
      "0.099  0.965  0.099  0.099  0.099  0.099  0.099  0.099  \n",
      "the length after iteration is  1.0\n",
      "\n",
      "after step 11\n",
      "the list of elements is\n",
      "-0.167  0.897  -0.167  -0.167  -0.167  -0.167  -0.167  -0.167  \n",
      "the length after iteration is  1.0\n",
      "\n",
      "after step 12\n",
      "the list of elements is\n",
      "-0.349  0.381  -0.349  -0.349  -0.349  -0.349  -0.349  -0.349  \n",
      "the length after iteration is  1.0\n",
      "\n",
      "after step 13\n",
      "the list of elements is\n",
      "-0.357  -0.326  -0.357  -0.357  -0.357  -0.357  -0.357  -0.357  \n",
      "the length after iteration is  1.0\n",
      "\n",
      "after step 14\n",
      "the list of elements is\n",
      "-0.186  -0.87  -0.186  -0.186  -0.186  -0.186  -0.186  -0.186  \n",
      "the length after iteration is  1.0\n",
      "\n",
      "after step 15\n",
      "the list of elements is\n",
      "0.078  -0.979  0.078  0.078  0.078  0.078  0.078  0.078  \n",
      "the length after iteration is  1.0\n",
      "\n",
      "after step 16\n",
      "the list of elements is\n",
      "0.303  -0.598  0.303  0.303  0.303  0.303  0.303  0.303  \n",
      "the length after iteration is  1.0\n",
      "\n",
      "after step 17\n",
      "the list of elements is\n",
      "0.377  0.081  0.377  0.377  0.377  0.377  0.377  0.377  \n",
      "the length after iteration is  1.0\n",
      "\n",
      "after step 18\n",
      "the list of elements is\n",
      "0.262  0.72  0.262  0.262  0.262  0.262  0.262  0.262  \n",
      "the length after iteration is  1.0\n",
      "\n",
      "after step 19\n",
      "the list of elements is\n",
      "0.017  0.999  0.017  0.017  0.017  0.017  0.017  0.017  \n",
      "the length after iteration is  1.0\n",
      "\n",
      "after step 20\n",
      "the list of elements is\n",
      "-0.237  0.778  -0.237  -0.237  -0.237  -0.237  -0.237  -0.237  \n",
      "the length after iteration is  1.0\n"
     ]
    }
   ],
   "source": [
    "# define the list of size 8 on which each element has value of 1\n",
    "elements = []\n",
    "for i in range(8):\n",
    "    elements  = elements + [1/(8**0.5)]\n",
    "\n",
    "# index of the marked element\n",
    "marked_elements = [1]\n",
    "\n",
    "print(\"step 0\")\n",
    "print(\"the list of elements is\")\n",
    "print_list(elements,3)\n",
    "print(\"the initial length\",length_of_list(elements))\n",
    "\n",
    "for step in range(20):\n",
    "    # store the iteration\n",
    "    iterations.append(step+1)\n",
    "    \n",
    "    # flip the sign of the marked element\n",
    "    elements = query(elements,marked_elements)\n",
    "    elements = inversion(elements)\n",
    "    print()\n",
    "    print(\"after step\",step+1)\n",
    "    print(\"the list of elements is\")\n",
    "    print_list(elements,3)\n",
    "    print(\"the length after iteration is \",length_of_list(elements))"
   ]
  },
  {
   "cell_type": "markdown",
   "metadata": {},
   "source": [
    "<hr>"
   ]
  },
  {
   "cell_type": "markdown",
   "metadata": {},
   "source": [
    "<a id=\"task9\"></a>\n",
    "<h3>Task 9</h3>\n",
    "\n",
    "Repeat Task 8 for $ N = 16 $ where the first 12 elements are marked."
   ]
  },
  {
   "cell_type": "markdown",
   "metadata": {},
   "source": [
    "<h3>Solution</h3>"
   ]
  },
  {
   "cell_type": "code",
   "execution_count": 20,
   "metadata": {},
   "outputs": [],
   "source": [
    "def query(elements=[1],marked_elements=[0]):\n",
    "    for i in marked_elements:\n",
    "        elements[i] = -1 * elements[i]    \n",
    "    return elements\n",
    "\n",
    "def inversion (elements=[1]):\n",
    "    # summation of all values\n",
    "    summation = 0\n",
    "    for i in range(len(elements)):\n",
    "        summation += elements[i]\n",
    "\n",
    "    # mean of all values\n",
    "    mean = summation / len(elements)\n",
    "\n",
    "    # reflection over mean\n",
    "    for i in range(len(elements)):\n",
    "        value = elements[i]\n",
    "        new_value = mean - (value-mean)\n",
    "        elements[i] = new_value   \n",
    "    return elements\n",
    "\n",
    "def length_of_list (elements=[1]):\n",
    "    summation = 0\n",
    "    for el in elements:\n",
    "        summation = summation + el**2\n",
    "    return round(summation**0.5,3)\n",
    "\n",
    "# print the elements of a given list with a given precision\n",
    "def print_list(L,precision):\n",
    "    output = \"\"\n",
    "    for i in range(len(L)):\n",
    "        output = output + str(round(L[i],precision))+\"  \"\n",
    "    print(output)"
   ]
  },
  {
   "cell_type": "code",
   "execution_count": 21,
   "metadata": {},
   "outputs": [
    {
     "name": "stdout",
     "output_type": "stream",
     "text": [
      "step 0\n",
      "the list of elements is\n",
      "0.25  0.25  0.25  0.25  0.25  0.25  0.25  0.25  0.25  0.25  0.25  0.25  0.25  0.25  0.25  0.25  \n",
      "the initial length 1.0\n",
      "\n",
      "after step 1\n",
      "the list of elements is\n",
      "0.0  0.0  0.0  0.0  0.0  0.0  0.0  0.0  0.0  0.0  0.0  0.0  -0.5  -0.5  -0.5  -0.5  \n",
      "the length after iteration is  1.0\n",
      "\n",
      "after step 2\n",
      "the list of elements is\n",
      "-0.25  -0.25  -0.25  -0.25  -0.25  -0.25  -0.25  -0.25  -0.25  -0.25  -0.25  -0.25  0.25  0.25  0.25  0.25  \n",
      "the length after iteration is  1.0\n",
      "\n",
      "after step 3\n",
      "the list of elements is\n",
      "0.25  0.25  0.25  0.25  0.25  0.25  0.25  0.25  0.25  0.25  0.25  0.25  0.25  0.25  0.25  0.25  \n",
      "the length after iteration is  1.0\n",
      "\n",
      "after step 4\n",
      "the list of elements is\n",
      "0.0  0.0  0.0  0.0  0.0  0.0  0.0  0.0  0.0  0.0  0.0  0.0  -0.5  -0.5  -0.5  -0.5  \n",
      "the length after iteration is  1.0\n",
      "\n",
      "after step 5\n",
      "the list of elements is\n",
      "-0.25  -0.25  -0.25  -0.25  -0.25  -0.25  -0.25  -0.25  -0.25  -0.25  -0.25  -0.25  0.25  0.25  0.25  0.25  \n",
      "the length after iteration is  1.0\n",
      "\n",
      "after step 6\n",
      "the list of elements is\n",
      "0.25  0.25  0.25  0.25  0.25  0.25  0.25  0.25  0.25  0.25  0.25  0.25  0.25  0.25  0.25  0.25  \n",
      "the length after iteration is  1.0\n",
      "\n",
      "after step 7\n",
      "the list of elements is\n",
      "0.0  0.0  0.0  0.0  0.0  0.0  0.0  0.0  0.0  0.0  0.0  0.0  -0.5  -0.5  -0.5  -0.5  \n",
      "the length after iteration is  1.0\n",
      "\n",
      "after step 8\n",
      "the list of elements is\n",
      "-0.25  -0.25  -0.25  -0.25  -0.25  -0.25  -0.25  -0.25  -0.25  -0.25  -0.25  -0.25  0.25  0.25  0.25  0.25  \n",
      "the length after iteration is  1.0\n",
      "\n",
      "after step 9\n",
      "the list of elements is\n",
      "0.25  0.25  0.25  0.25  0.25  0.25  0.25  0.25  0.25  0.25  0.25  0.25  0.25  0.25  0.25  0.25  \n",
      "the length after iteration is  1.0\n",
      "\n",
      "after step 10\n",
      "the list of elements is\n",
      "0.0  0.0  0.0  0.0  0.0  0.0  0.0  0.0  0.0  0.0  0.0  0.0  -0.5  -0.5  -0.5  -0.5  \n",
      "the length after iteration is  1.0\n",
      "\n",
      "after step 11\n",
      "the list of elements is\n",
      "-0.25  -0.25  -0.25  -0.25  -0.25  -0.25  -0.25  -0.25  -0.25  -0.25  -0.25  -0.25  0.25  0.25  0.25  0.25  \n",
      "the length after iteration is  1.0\n",
      "\n",
      "after step 12\n",
      "the list of elements is\n",
      "0.25  0.25  0.25  0.25  0.25  0.25  0.25  0.25  0.25  0.25  0.25  0.25  0.25  0.25  0.25  0.25  \n",
      "the length after iteration is  1.0\n",
      "\n",
      "after step 13\n",
      "the list of elements is\n",
      "0.0  0.0  0.0  0.0  0.0  0.0  0.0  0.0  0.0  0.0  0.0  0.0  -0.5  -0.5  -0.5  -0.5  \n",
      "the length after iteration is  1.0\n",
      "\n",
      "after step 14\n",
      "the list of elements is\n",
      "-0.25  -0.25  -0.25  -0.25  -0.25  -0.25  -0.25  -0.25  -0.25  -0.25  -0.25  -0.25  0.25  0.25  0.25  0.25  \n",
      "the length after iteration is  1.0\n",
      "\n",
      "after step 15\n",
      "the list of elements is\n",
      "0.25  0.25  0.25  0.25  0.25  0.25  0.25  0.25  0.25  0.25  0.25  0.25  0.25  0.25  0.25  0.25  \n",
      "the length after iteration is  1.0\n",
      "\n",
      "after step 16\n",
      "the list of elements is\n",
      "0.0  0.0  0.0  0.0  0.0  0.0  0.0  0.0  0.0  0.0  0.0  0.0  -0.5  -0.5  -0.5  -0.5  \n",
      "the length after iteration is  1.0\n",
      "\n",
      "after step 17\n",
      "the list of elements is\n",
      "-0.25  -0.25  -0.25  -0.25  -0.25  -0.25  -0.25  -0.25  -0.25  -0.25  -0.25  -0.25  0.25  0.25  0.25  0.25  \n",
      "the length after iteration is  1.0\n",
      "\n",
      "after step 18\n",
      "the list of elements is\n",
      "0.25  0.25  0.25  0.25  0.25  0.25  0.25  0.25  0.25  0.25  0.25  0.25  0.25  0.25  0.25  0.25  \n",
      "the length after iteration is  1.0\n",
      "\n",
      "after step 19\n",
      "the list of elements is\n",
      "0.0  0.0  0.0  0.0  0.0  0.0  0.0  0.0  0.0  0.0  0.0  0.0  -0.5  -0.5  -0.5  -0.5  \n",
      "the length after iteration is  1.0\n",
      "\n",
      "after step 20\n",
      "the list of elements is\n",
      "-0.25  -0.25  -0.25  -0.25  -0.25  -0.25  -0.25  -0.25  -0.25  -0.25  -0.25  -0.25  0.25  0.25  0.25  0.25  \n",
      "the length after iteration is  1.0\n"
     ]
    }
   ],
   "source": [
    "# define the list of size 8 on which each element has value of 1\n",
    "elements = []\n",
    "for i in range(16):\n",
    "    elements  = elements + [1/(16**0.5)]\n",
    "\n",
    "# index of the marked element\n",
    "marked_elements = range(12)\n",
    "\n",
    "print(\"step 0\")\n",
    "print(\"the list of elements is\")\n",
    "print_list(elements,3)\n",
    "print(\"the initial length\",length_of_list(elements))\n",
    "\n",
    "for step in range(20):\n",
    "    # store the iteration\n",
    "    iterations.append(step+1)\n",
    "    \n",
    "    # flip the sign of the marked element\n",
    "    elements = query(elements,marked_elements)\n",
    "    elements = inversion(elements)\n",
    "    print()\n",
    "    print(\"after step\",step+1)\n",
    "    print(\"the list of elements is\")\n",
    "    print_list(elements,3)\n",
    "    print(\"the length after iteration is \",length_of_list(elements))"
   ]
  },
  {
   "cell_type": "code",
   "execution_count": null,
   "metadata": {},
   "outputs": [],
   "source": []
  },
  {
   "cell_type": "code",
   "execution_count": null,
   "metadata": {},
   "outputs": [],
   "source": []
  }
 ],
 "metadata": {
  "kernelspec": {
   "display_name": "Python 3 (ipykernel)",
   "language": "python",
   "name": "python3"
  },
  "language_info": {
   "codemirror_mode": {
    "name": "ipython",
    "version": 3
   },
   "file_extension": ".py",
   "mimetype": "text/x-python",
   "name": "python",
   "nbconvert_exporter": "python",
   "pygments_lexer": "ipython3",
   "version": "3.8.10"
  }
 },
 "nbformat": 4,
 "nbformat_minor": 2
}
