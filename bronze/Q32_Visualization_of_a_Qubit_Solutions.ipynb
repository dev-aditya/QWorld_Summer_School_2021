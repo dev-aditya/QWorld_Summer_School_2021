{
 "cells": [
  {
   "cell_type": "markdown",
   "metadata": {},
   "source": [
    "<a href=\"https://qworld.net\" target=\"_blank\" align=\"left\"><img src=\"../qworld/images/header.jpg\"  align=\"left\"></a>\n",
    "$ \\newcommand{\\bra}[1]{\\langle #1|} $\n",
    "$ \\newcommand{\\ket}[1]{|#1\\rangle} $\n",
    "$ \\newcommand{\\braket}[2]{\\langle #1|#2\\rangle} $\n",
    "$ \\newcommand{\\dot}[2]{ #1 \\cdot #2} $\n",
    "$ \\newcommand{\\biginner}[2]{\\left\\langle #1,#2\\right\\rangle} $\n",
    "$ \\newcommand{\\mymatrix}[2]{\\left( \\begin{array}{#1} #2\\end{array} \\right)} $\n",
    "$ \\newcommand{\\myvector}[1]{\\mymatrix{c}{#1}} $\n",
    "$ \\newcommand{\\myrvector}[1]{\\mymatrix{r}{#1}} $\n",
    "$ \\newcommand{\\mypar}[1]{\\left( #1 \\right)} $\n",
    "$ \\newcommand{\\mybigpar}[1]{ \\Big( #1 \\Big)} $\n",
    "$ \\newcommand{\\sqrttwo}{\\frac{1}{\\sqrt{2}}} $\n",
    "$ \\newcommand{\\dsqrttwo}{\\dfrac{1}{\\sqrt{2}}} $\n",
    "$ \\newcommand{\\onehalf}{\\frac{1}{2}} $\n",
    "$ \\newcommand{\\donehalf}{\\dfrac{1}{2}} $\n",
    "$ \\newcommand{\\hadamard}{ \\mymatrix{rr}{ \\sqrttwo & \\sqrttwo \\\\ \\sqrttwo & -\\sqrttwo }} $\n",
    "$ \\newcommand{\\vzero}{\\myvector{1\\\\0}} $\n",
    "$ \\newcommand{\\vone}{\\myvector{0\\\\1}} $\n",
    "$ \\newcommand{\\stateplus}{\\myvector{ \\sqrttwo \\\\  \\sqrttwo } } $\n",
    "$ \\newcommand{\\stateminus}{ \\myrvector{ \\sqrttwo \\\\ -\\sqrttwo } } $\n",
    "$ \\newcommand{\\myarray}[2]{ \\begin{array}{#1}#2\\end{array}} $\n",
    "$ \\newcommand{\\X}{ \\mymatrix{cc}{0 & 1 \\\\ 1 & 0}  } $\n",
    "$ \\newcommand{\\I}{ \\mymatrix{rr}{1 & 0 \\\\ 0 & 1}  } $\n",
    "$ \\newcommand{\\Z}{ \\mymatrix{rr}{1 & 0 \\\\ 0 & -1}  } $\n",
    "$ \\newcommand{\\Htwo}{ \\mymatrix{rrrr}{ \\frac{1}{2} & \\frac{1}{2} & \\frac{1}{2} & \\frac{1}{2} \\\\ \\frac{1}{2} & -\\frac{1}{2} & \\frac{1}{2} & -\\frac{1}{2} \\\\ \\frac{1}{2} & \\frac{1}{2} & -\\frac{1}{2} & -\\frac{1}{2} \\\\ \\frac{1}{2} & -\\frac{1}{2} & -\\frac{1}{2} & \\frac{1}{2} } } $\n",
    "$ \\newcommand{\\CNOT}{ \\mymatrix{cccc}{1 & 0 & 0 & 0 \\\\ 0 & 1 & 0 & 0 \\\\ 0 & 0 & 0 & 1 \\\\ 0 & 0 & 1 & 0} } $\n",
    "$ \\newcommand{\\norm}[1]{ \\left\\lVert #1 \\right\\rVert } $\n",
    "$ \\newcommand{\\pstate}[1]{ \\lceil \\mspace{-1mu} #1 \\mspace{-1.5mu} \\rfloor } $\n",
    "$ \\newcommand{\\greenbit}[1] {\\mathbf{{\\color{green}#1}}} $\n",
    "$ \\newcommand{\\bluebit}[1] {\\mathbf{{\\color{blue}#1}}} $\n",
    "$ \\newcommand{\\redbit}[1] {\\mathbf{{\\color{red}#1}}} $\n",
    "$ \\newcommand{\\brownbit}[1] {\\mathbf{{\\color{brown}#1}}} $\n",
    "$ \\newcommand{\\blackbit}[1] {\\mathbf{{\\color{black}#1}}} $"
   ]
  },
  {
   "cell_type": "markdown",
   "metadata": {},
   "source": [
    "<font style=\"font-size:28px;\" align=\"left\"><b> <font color=\"blue\"> Solutions for </font>Visualization of a (Real-Valued) Qubit </b></font>\n",
    "<br>\n",
    "_prepared by Abuzer Yakaryilmaz_\n",
    "<br><br>"
   ]
  },
  {
   "cell_type": "markdown",
   "metadata": {},
   "source": [
    "<a id=\"task1\"></a>\n",
    "<h3> Task 1 </h3>\n",
    "\n",
    "Write a function that returns a randomly created 2-dimensional (real-valued) quantum state.\n",
    "\n",
    "_You can use your code written for [a task given in notebook \"Quantum State](B28_Quantum_State.ipynb#task2)._\n",
    "\n",
    "Create 100 random quantum states by using your function and then draw all of them as points.\n",
    "\n",
    "Create 500 random quantum states by using your function and then draw all of them as points.\n",
    "\n",
    "The different colors can be used when drawing the points ([matplotlib.colors](https://matplotlib.org/2.0.2/api/colors_api.html))."
   ]
  },
  {
   "cell_type": "markdown",
   "metadata": {},
   "source": [
    "<h3>Solution</h3>"
   ]
  },
  {
   "cell_type": "markdown",
   "metadata": {},
   "source": [
    "A function for randomly creating a 2-dimensional quantum state:"
   ]
  },
  {
   "cell_type": "code",
   "execution_count": null,
   "metadata": {},
   "outputs": [],
   "source": [
    "# randomly creating a 2-dimensional quantum state\n",
    "from random import randrange\n",
    "def random_qstate_by_value():\n",
    "    first_entry = randrange(-100,101)\n",
    "    second_entry = randrange(-100,101)\n",
    "    length_square = first_entry**2+second_entry**2\n",
    "    while length_square == 0:\n",
    "        first_entry = randrange(-100,101)\n",
    "        second_entry = randrange(-100,101)\n",
    "        length_square = first_entry**2+second_entry**2\n",
    "    first_entry = first_entry / length_square**0.5\n",
    "    second_entry = second_entry / length_square**0.5\n",
    "    return [first_entry,second_entry]"
   ]
  },
  {
   "cell_type": "markdown",
   "metadata": {},
   "source": [
    "Drawing randomly created 500 quantum states as points with random colors:"
   ]
  },
  {
   "cell_type": "code",
   "execution_count": null,
   "metadata": {},
   "outputs": [],
   "source": [
    "# import the drawing methods\n",
    "from matplotlib.pyplot import plot, figure, show\n",
    "\n",
    "# draw a figure\n",
    "figure(figsize=(6,6), dpi=60) \n",
    "\n",
    "# draw the origin\n",
    "plot(0,0,'ro') \n",
    "\n",
    "from random import randrange\n",
    "colors = ['ro','bo','go','yo','co','mo','ko']\n",
    "\n",
    "for i in range(500):\n",
    "    # create a random quantum state\n",
    "    quantum_state = random_qstate_by_value(); \n",
    "    # draw a blue point for the random quantum state\n",
    "    x = quantum_state[0];\n",
    "    y = quantum_state[1];\n",
    "    plot(x,y,colors[randrange(len(colors))]) \n",
    "\n",
    "show()"
   ]
  },
  {
   "cell_type": "markdown",
   "metadata": {},
   "source": [
    "<a id=\"task2\"></a>\n",
    "<h3> Task 2 </h3>\n",
    "\n",
    "Repeat the previous task by drawing the quantum states as vectors (arrows) instead of points.\n",
    "\n",
    "The different colors can be used when drawing the points ([matplotlib.colors](https://matplotlib.org/2.0.2/api/colors_api.html)).\n",
    "\n",
    "_Please keep the codes below for drawing axes for getting a better visual focus._"
   ]
  },
  {
   "cell_type": "markdown",
   "metadata": {},
   "source": [
    "<h3>Solution</h3>"
   ]
  },
  {
   "cell_type": "markdown",
   "metadata": {},
   "source": [
    "A function for randomly creating a 2-dimensional quantum state:"
   ]
  },
  {
   "cell_type": "code",
   "execution_count": null,
   "metadata": {},
   "outputs": [],
   "source": [
    "# randomly creating a 2-dimensional quantum state\n",
    "from random import randrange\n",
    "def random_qstate_by_value():\n",
    "    first_entry = randrange(-100,101)\n",
    "    second_entry = randrange(-100,101)\n",
    "    length_square = first_entry**2+second_entry**2\n",
    "    while length_square == 0:\n",
    "        first_entry = randrange(-100,101)\n",
    "        second_entry = randrange(-100,101)\n",
    "        length_square = first_entry**2+second_entry**2\n",
    "    first_entry = first_entry / length_square**0.5\n",
    "    second_entry = second_entry / length_square**0.5\n",
    "    return [first_entry,second_entry]"
   ]
  },
  {
   "cell_type": "markdown",
   "metadata": {},
   "source": [
    "Drawing randomly created 500 quantum states as arrows with random colors:"
   ]
  },
  {
   "cell_type": "code",
   "execution_count": null,
   "metadata": {},
   "outputs": [],
   "source": [
    "# import the drawing methods\n",
    "from matplotlib.pyplot import plot, figure, arrow, show\n",
    "\n",
    "%run quantum.py\n",
    "\n",
    "# draw a figure\n",
    "figure(figsize=(6,6), dpi=60) \n",
    "\n",
    "draw_axes();\n",
    "\n",
    "# draw the origin\n",
    "plot(0,0,'ro') \n",
    "\n",
    "from random import randrange\n",
    "colors = ['r','b','g','y','b','c','m']\n",
    "\n",
    "for i in range(500):\n",
    "    # create a random quantum state\n",
    "    quantum_state = random_qstate_by_value(); \n",
    "    # draw a blue vector for the random quantum state\n",
    "    x = quantum_state[0];\n",
    "    y = quantum_state[1];\n",
    "    # shorten the line length to 0.92\n",
    "    #     line_length + head_length (0.08) should be 1\n",
    "    x = 0.92 * x\n",
    "    y = 0.92 * y\n",
    "    arrow(0,0,x,y,head_width=0.04,head_length=0.08,color=colors[randrange(len(colors))])\n",
    "\n",
    "show()"
   ]
  },
  {
   "cell_type": "markdown",
   "metadata": {},
   "source": [
    "<a id=\"task3\"></a>\n",
    "<h3> Task 3 </h3>\n",
    "\n",
    "Define a function randomly creating a quantum state based on the this idea.\n",
    "\n",
    "Randomly create a quantum state by using this function.\n",
    "\n",
    "Draw the quantum state on the unit circle.\n",
    "\n",
    "Repeat the task for a few times.\n",
    "\n",
    "Randomly create 100 quantum states and draw all of them."
   ]
  },
  {
   "cell_type": "markdown",
   "metadata": {},
   "source": [
    "<h3>Solution</h3>"
   ]
  },
  {
   "cell_type": "markdown",
   "metadata": {},
   "source": [
    "First, we define our function."
   ]
  },
  {
   "cell_type": "code",
   "execution_count": null,
   "metadata": {},
   "outputs": [],
   "source": [
    "# randomly create a 2-dimensional quantum state\n",
    "from math import cos, sin, pi\n",
    "from random import randrange\n",
    "def random_qstate_by_angle():\n",
    "    angle_degree = randrange(360)\n",
    "    angle_radian = 2*pi*angle_degree/360\n",
    "    return [cos(angle_radian),sin(angle_radian)]"
   ]
  },
  {
   "cell_type": "markdown",
   "metadata": {},
   "source": [
    "Second, we test our function with 6 quantum states."
   ]
  },
  {
   "cell_type": "code",
   "execution_count": null,
   "metadata": {},
   "outputs": [],
   "source": [
    "# include our predefined functions\n",
    "%run quantum.py\n",
    "\n",
    "# draw the axes\n",
    "draw_qubit()\n",
    "\n",
    "for i in range(6):\n",
    "    [x,y]=random_qstate_by_angle()\n",
    "    draw_quantum_state(x,y,\"|v\"+str(i)+\">\")"
   ]
  },
  {
   "cell_type": "markdown",
   "metadata": {},
   "source": [
    "Third, we test our function with 100 quantum states."
   ]
  },
  {
   "cell_type": "code",
   "execution_count": null,
   "metadata": {},
   "outputs": [],
   "source": [
    "# include our predefined functions\n",
    "%run quantum.py\n",
    "\n",
    "# draw the axes\n",
    "draw_qubit()\n",
    "\n",
    "for i in range(100):\n",
    "    [x,y]=random_qstate_by_angle()\n",
    "    draw_quantum_state(x,y,\"\")"
   ]
  }
 ],
 "metadata": {
  "kernelspec": {
   "display_name": "Python 3",
   "language": "python",
   "name": "python3"
  },
  "language_info": {
   "codemirror_mode": {
    "name": "ipython",
    "version": 3
   },
   "file_extension": ".py",
   "mimetype": "text/x-python",
   "name": "python",
   "nbconvert_exporter": "python",
   "pygments_lexer": "ipython3",
   "version": "3.7.1"
  }
 },
 "nbformat": 4,
 "nbformat_minor": 2
}
