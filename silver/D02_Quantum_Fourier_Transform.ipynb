{
 "cells": [
  {
   "cell_type": "markdown",
   "metadata": {},
   "source": [
    "<table  align=\"left\" width=\"100%\"> <tr>\n",
    "        <td  style=\"background-color:#ffffff;\"><a href=\"https://qsoftware.lu.lv/index.php/qworld/\" target=\"_blank\"><img src=\"..\\images\\qworld.jpg\" width=\"35%\" align=\"left\"></a></td>\n",
    "        <td  align=\"right\" style=\"background-color:#ffffff;vertical-align:bottom;horizontal-align:right\">\n",
    "            prepared by Özlem Salehi (<a href=\"http://qworld.lu.lv/index.php/qturkey/\" target=\"_blank\">QTurkey</a>)\n",
    "        </td>        \n",
    "</tr></table>"
   ]
  },
  {
   "cell_type": "markdown",
   "metadata": {},
   "source": [
    "<table width=\"100%\"><tr><td style=\"color:#bbbbbb;background-color:#ffffff;font-size:11px;font-style:italic;text-align:right;\">This cell contains some macros. If there is a problem with displaying mathematical formulas, please run this cell to load these macros. </td></tr></table>\n",
    "$ \\newcommand{\\bra}[1]{\\langle #1|} $\n",
    "$ \\newcommand{\\ket}[1]{|#1\\rangle} $\n",
    "$ \\newcommand{\\braket}[2]{\\langle #1|#2\\rangle} $\n",
    "$ \\newcommand{\\dot}[2]{ #1 \\cdot #2} $\n",
    "$ \\newcommand{\\biginner}[2]{\\left\\langle #1,#2\\right\\rangle} $\n",
    "$ \\newcommand{\\mymatrix}[2]{\\left( \\begin{array}{#1} #2\\end{array} \\right)} $\n",
    "$ \\newcommand{\\myvector}[1]{\\mymatrix{c}{#1}} $\n",
    "$ \\newcommand{\\myrvector}[1]{\\mymatrix{r}{#1}} $\n",
    "$ \\newcommand{\\mypar}[1]{\\left( #1 \\right)} $\n",
    "$ \\newcommand{\\mybigpar}[1]{ \\Big( #1 \\Big)} $\n",
    "$ \\newcommand{\\sqrttwo}{\\frac{1}{\\sqrt{2}}} $\n",
    "$ \\newcommand{\\dsqrttwo}{\\dfrac{1}{\\sqrt{2}}} $\n",
    "$ \\newcommand{\\onehalf}{\\frac{1}{2}} $\n",
    "$ \\newcommand{\\donehalf}{\\dfrac{1}{2}} $\n",
    "$ \\newcommand{\\hadamard}{ \\mymatrix{rr}{ \\sqrttwo & \\sqrttwo \\\\ \\sqrttwo & -\\sqrttwo }} $\n",
    "$ \\newcommand{\\vzero}{\\myvector{1\\\\0}} $\n",
    "$ \\newcommand{\\vone}{\\myvector{0\\\\1}} $\n",
    "$ \\newcommand{\\stateplus}{\\myvector{ \\sqrttwo \\\\  \\sqrttwo } } $\n",
    "$ \\newcommand{\\stateminus}{ \\myrvector{ \\sqrttwo \\\\ -\\sqrttwo } } $\n",
    "$ \\newcommand{\\myarray}[2]{ \\begin{array}{#1}#2\\end{array}} $\n",
    "$ \\newcommand{\\X}{ \\mymatrix{cc}{0 & 1 \\\\ 1 & 0}  } $\n",
    "$ \\newcommand{\\Z}{ \\mymatrix{rr}{1 & 0 \\\\ 0 & -1}  } $\n",
    "$ \\newcommand{\\Htwo}{ \\mymatrix{rrrr}{ \\frac{1}{2} & \\frac{1}{2} & \\frac{1}{2} & \\frac{1}{2} \\\\ \\frac{1}{2} & -\\frac{1}{2} & \\frac{1}{2} & -\\frac{1}{2} \\\\ \\frac{1}{2} & \\frac{1}{2} & -\\frac{1}{2} & -\\frac{1}{2} \\\\ \\frac{1}{2} & -\\frac{1}{2} & -\\frac{1}{2} & \\frac{1}{2} } } $\n",
    "$ \\newcommand{\\CNOT}{ \\mymatrix{cccc}{1 & 0 & 0 & 0 \\\\ 0 & 1 & 0 & 0 \\\\ 0 & 0 & 0 & 1 \\\\ 0 & 0 & 1 & 0} } $\n",
    "$ \\newcommand{\\norm}[1]{ \\left\\lVert #1 \\right\\rVert } $\n",
    "$ \\newcommand{\\pstate}[1]{ \\lceil \\mspace{-1mu} #1 \\mspace{-1.5mu} \\rfloor } $"
   ]
  },
  {
   "cell_type": "markdown",
   "metadata": {},
   "source": [
    "<h1> Quantum Fourier Transform </h1>"
   ]
  },
  {
   "cell_type": "markdown",
   "metadata": {},
   "source": [
    "What makes Fourier Transform special is that it can be computed faster on a quantum computer than on a classical computer. In this notebook, we will learn about the quantum analogue of Discrete Fourier Transform. "
   ]
  },
  {
   "cell_type": "markdown",
   "metadata": {},
   "source": [
    "Let's recall the definition for $DFT$. $DFT$ of the vector $x=\\myvector{x_0~x_1\\dots~x_{N-1}}^T$ is the complex vector $y=\\myvector{y_0~y_1\\dots y_{N-1}}^T$ where\n",
    "\n",
    "\n",
    "$$\n",
    "y_k=\\frac{1}{\\sqrt{N}} \\sum_{j=0}^{N-1}e^{\\frac{2\\pi i j k }{N}}x_j.\n",
    "$$"
   ]
  },
  {
   "cell_type": "markdown",
   "metadata": {},
   "source": [
    "Now suppose that we have an $N=2^n$-dimensional quantum state vector $x=\\myvector{x_0~x_1\\dots~x_{N-1}}^T$ representing the state\n",
    "$$\n",
    "\\ket{\\psi} = \\sum_{j=0}^{N-1} x_j \\ket{j}.\n",
    "$$"
   ]
  },
  {
   "cell_type": "markdown",
   "metadata": {},
   "source": [
    "Quantum Fourier Transform $QFT$ of state $\\ket{\\psi}$ is given by\n",
    "$$\n",
    "\\ket{\\phi}=\\sum_{k=0}^{N-1}y_k \\ket{k} = \\frac{1}{\\sqrt{N}} \\sum_{k=0}^{N-1} \\sum_{j=0}^{N-1}e^{\\frac{2\\pi i j k }{N}}x_j \\ket{k},\n",
    "$$\n",
    "where $y_k$ is defined as above for $k=0,\\dots,N-1$."
   ]
  },
  {
   "cell_type": "markdown",
   "metadata": {},
   "source": [
    "Hence for a basis state $\\ket{j}$ represented by the vector $\\myvector{x_0~x_1\\dots~x_{N-1}}^T$ where $x_j=1$ and the rest of the entries are 0, its $QFT$ is given by \n",
    "\n",
    "$$\n",
    " \\frac{1}{\\sqrt{N}} \\sum_{k=0}^{N-1}e^{\\frac{2\\pi i j k }{N}} \\ket{k}.\n",
    "$$"
   ]
  },
  {
   "cell_type": "markdown",
   "metadata": {},
   "source": [
    "$e^{\\frac{2\\pi i}{N}}$ is often denoted by $\\omega$. The above expression can be equivalently expressed as\n",
    "$$\n",
    " \\frac{1}{\\sqrt{N}} \\sum_{k=0}^{N-1}{\\omega^{ j k} } \\ket{k}.\n",
    "$$\n"
   ]
  },
  {
   "cell_type": "markdown",
   "metadata": {},
   "source": [
    "<h3>Task 1 (on paper)</h3>\n",
    "\n",
    "Apply $QFT$ to the basis state $\\ket{10}$ and find the new quantum state."
   ]
  },
  {
   "cell_type": "markdown",
   "metadata": {},
   "source": [
    "<a href=\"D02_Quantum_Fourier_Transform_Solutions.ipynb#task1\">click for our solution</a>"
   ]
  },
  {
   "cell_type": "markdown",
   "metadata": {},
   "source": [
    "<h3>Task 2 (on paper)</h3>\n",
    "\n",
    "Apply $QFT$ to the state $ \\ket \\psi=\\frac{1}{\\sqrt{2}} \\ket {01}+\\frac{1}{\\sqrt{2}} \\ket {10} $. "
   ]
  },
  {
   "cell_type": "markdown",
   "metadata": {},
   "source": [
    "<a href=\"D02_Quantum_Fourier_Transform_Solutions.ipynb#task2\">click for our solution</a>"
   ]
  },
  {
   "cell_type": "markdown",
   "metadata": {},
   "source": [
    "<h3>Task 3 (on paper)</h3>\n",
    "\n",
    "Apply $QFT$ to the quantum state $\\ket{\\psi}=\\alpha \\ket{0} + \\beta \\ket{1}$ and find the new quantum state. Conclude that applying 1 qubit $QFT$ is equivalent to applying Hadamard gate."
   ]
  },
  {
   "cell_type": "markdown",
   "metadata": {},
   "source": [
    "<a href=\"D02_Quantum_Fourier_Transform_Solutions.ipynb#task3\">click for our solution</a>"
   ]
  },
  {
   "cell_type": "markdown",
   "metadata": {},
   "source": [
    "<b>Remark:</b> Note that two vectors that differ by a relative phase can not be distinguished when measured. For instance the vectors $\\frac{1}{2} \\myvector{1 \\\\ -i \\\\ -1 \\\\ i}$ and $\\frac{1}{2} \\myvector{1 \\\\ -1 \\\\ 1 \\\\ -1}$ are not distinguishable. But when $QFT$ is applied, then we obtain the vectors $ \\myvector{0 \\\\ 0 \\\\ 0 \\\\ 1}$ and $ \\myvector{ 0\\\\ 0 \\\\ 1 \\\\ 0}$ respectively and now the two vectors are distinguishable. "
   ]
  },
  {
   "cell_type": "markdown",
   "metadata": {},
   "source": [
    "<hr>"
   ]
  },
  {
   "cell_type": "markdown",
   "metadata": {},
   "source": [
    "<h2>QFT Operator</h2>"
   ]
  },
  {
   "cell_type": "markdown",
   "metadata": {},
   "source": [
    "Let's try to find out the matrix corresponding to $QFT$. Given $x$, the entries of the vector $y$ corresponding to $QFT$ of the vector $x$ is given by\n",
    "\n",
    "$$\n",
    "y_k=\\frac{1}{\\sqrt{N}} \\sum_{j=0}^{N-1}e^{\\frac{2\\pi i j k }{N}}x_j = \\frac{1}{\\sqrt{N}} \\sum_{j=0}^{N-1}\\omega^{j k}x_j .\n",
    "$$"
   ]
  },
  {
   "cell_type": "markdown",
   "metadata": {},
   "source": [
    "Hence, we can equivalently write:\n",
    "\n",
    "\\begin{align*}\n",
    "y_0 &= \\frac{1}{\\sqrt{N}} \\left (x_0 + x_1 + x_2 + \\cdots + x_{N-1}  \\right ) \\\\\n",
    "y_1 &= \\frac{1}{\\sqrt{N}} \\left (x_0 + x_1\\omega  + x_2 \\omega^2+ \\cdots + x_{N-1} \\omega^{N-1}  \\right )\\\\\n",
    "y_2 &= \\frac{1}{\\sqrt{N}} \\left (x_0 + x_1\\omega^2  + x_2 \\omega^4+ \\cdots + x_{N-1} \\omega^{2N-2}  \\right )\\\\\n",
    "\\vdots \\\\\n",
    "y_{N-1} &= \\frac{1}{\\sqrt{N}} \\left (x_0 + x_1\\omega^{N-1}  + x_2 \\omega^{2N-2}+ \\cdots + x_{N-1} \\omega^{(N-1)(N-1)}  \\right ).\n",
    "\\end{align*}"
   ]
  },
  {
   "cell_type": "markdown",
   "metadata": {},
   "source": [
    "From above, the matrix representation can be given by the following matrix.\n",
    "\n",
    "$$ \\frac{1}{\\sqrt{N}} \\mymatrix{rrrrrr}{1 & 1 & 1 &1  & \\cdots & 1\\\\ \n",
    "                   1 & \\omega & \\omega^2 & \\omega^3 & \\cdots& \\omega^{N-1} \\\\ \n",
    "                   1 & \\omega^2 &\\omega^4 & \\omega^6  & \\cdots& \\omega^{2N-2} \\\\ \n",
    "                  1 & \\omega^3 & \\omega^6 & \\omega^9 & \\cdots& \\omega^{3N-3} \\\\\n",
    "                  \\vdots &  \\vdots &  \\vdots &  \\vdots &  \\vdots &  \\vdots \\\\\n",
    "                    1 & \\omega^{N-1} & \\omega^{2N-2} & \\omega^{3N-3} & \\cdots& \\omega^{(N-1)(N-1)} \\\\\n",
    "                    }  $$\n",
    " "
   ]
  },
  {
   "cell_type": "markdown",
   "metadata": {},
   "source": [
    "<h4> Observation</h4>"
   ]
  },
  {
   "cell_type": "markdown",
   "metadata": {},
   "source": [
    "Let $\\ket{j}$ be a basis state where $j=0,\\dots N-1$. Then after applying $QFT$, the vector that is obtained is exactly the $j+1$'st column of the $QFT$ opreator. "
   ]
  },
  {
   "cell_type": "markdown",
   "metadata": {},
   "source": [
    "<h3>Task 4 (on paper)</h3>\n",
    "\n",
    "Apply $QFT$ to the basis state $\\ket{10}$ using the matrix representation and find the new quantum state."
   ]
  },
  {
   "cell_type": "markdown",
   "metadata": {},
   "source": [
    "<a href=\"D02_Quantum_Fourier_Transform_Solutions.ipynb#task4\">click for our solution</a>"
   ]
  },
  {
   "cell_type": "markdown",
   "metadata": {},
   "source": [
    "<hr>"
   ]
  },
  {
   "cell_type": "markdown",
   "metadata": {},
   "source": [
    "<h2>Properties of QFT (Optional) </h2> \n",
    "\n",
    "<ul>\n",
    "<li> $QFT$ is unitary: You can check this from the matrix corresponding to $QFT$. </li>\n",
    "    <li> Linear shift: Linear shift of a state vector causes relative phase shift of its $QFT$. The converse is also true. </li>\n",
    " </ul> "
   ]
  },
  {
   "cell_type": "markdown",
   "metadata": {},
   "source": [
    "  If  $QFT$ $\\myvector{\\alpha_0 \\\\ \\alpha_1 \\\\ \\vdots \\\\ \\alpha_{N-1} } = \\myvector{\\beta_0 \\\\ \\beta_1 \\\\ \\vdots \\\\ \\beta_{N-1}}$, then $QFT$ $\\myvector{\\alpha_{N-1} \\\\ \\alpha_0 \\\\ \\vdots \\\\ \\alpha_{N-2} } = \\myvector{\\beta_0 \\\\ \\omega \\beta_1 \\\\ \\vdots \\\\ \\omega^{N-1}\\beta_{N-1}}$ and \n",
    "      $QFT$  $\\myvector{\\alpha_0 \\\\ \\omega  \\alpha_1 \\\\ \\vdots \\\\ \\omega^{N-1}\\alpha_{N-1} } = \\myvector{\\beta_1 \\\\ \\beta_2 \\\\ \\vdots \\\\ \\beta_{0}}$."
   ]
  },
  {
   "cell_type": "markdown",
   "metadata": {},
   "source": [
    "<h3>Task 5 (on paper)</h3>\n",
    "\n",
    "What is the quantum state obtained after applying $QFT$ to the state $\\ket{11}$? Find using Task 4 and the linear shift property. "
   ]
  },
  {
   "cell_type": "markdown",
   "metadata": {},
   "source": [
    "<a href=\"D02_Quantum_Fourier_Transform_Solutions.ipynb#task5\">click for our solution</a>"
   ]
  },
  {
   "cell_type": "markdown",
   "metadata": {},
   "source": [
    "<hr>"
   ]
  },
  {
   "cell_type": "markdown",
   "metadata": {},
   "source": [
    "<h2> Circuit implementation for $QFT$ </h2>"
   ]
  },
  {
   "cell_type": "markdown",
   "metadata": {},
   "source": [
    "Recall that after applying $QFT$ to the state $\\ket{\\psi}=\\alpha\\ket{0} + \\beta \\ket{1}$, we get  $\\frac{\\alpha+\\beta}{\\sqrt{2}} \\ket{0} + \\frac{\\alpha-\\beta}{\\sqrt{2}} \\ket{1}$, which is the state obtained after applying Hadamard to the state $\\ket{\\psi}$. Hence, the effect of applying $QFT$ to a single qubit is equivalent to applying Hadamard."
   ]
  },
  {
   "cell_type": "markdown",
   "metadata": {},
   "source": [
    "Now let us look at the effect of applying $QFT$ to a $n$-qubit system. Let $N=2^n$."
   ]
  },
  {
   "cell_type": "markdown",
   "metadata": {},
   "source": [
    "Let $\\ket{j}$ be a basis state where $j=0,\\dots,N-1$. We will use the binary representation for $j$, that is $j=j_1j_2\\cdots j_n$ for $j_i \\in \\{0,1\\}$. More formally \n",
    "\n",
    "\\begin{equation} \\label{eq: binary}\n",
    "j=j_12^{n-1} + j_2 2^{n-2} + \\cdots + j_n2^0 = 2^n \\sum_{l=1}^n 2^{-l} j_l~~~~~~~~(1)\n",
    "\\end{equation}\n",
    " "
   ]
  },
  {
   "cell_type": "markdown",
   "metadata": {},
   "source": [
    "\n",
    "We will stick to the expression above but equivalently you may encounter the following expression for $j$ in various places.\n",
    "\n",
    "\\begin{align*}\n",
    "j&=2^n(j_1 2^{-1} + j_2 2^{-2} + \\cdots j_n 2^{-n}) \\\\\n",
    "&= 2^n (0.j_1j_2\\cdots j_n)\n",
    "\\end{align*}"
   ]
  },
  {
   "cell_type": "markdown",
   "metadata": {},
   "source": [
    "\n",
    "Now let's use this representation to express the state obtained after applying $QFT$ to $\\ket{j}$.\n"
   ]
  },
  {
   "cell_type": "markdown",
   "metadata": {},
   "source": [
    "\\begin{align*}\n",
    "\\ket{j}=\\ket{j_1j_2\\cdots j_n} &\\rightarrow  \\frac{1}{\\sqrt{N}} \\sum_{k=0}^{N-1}e^{\\frac{2\\pi i j k }{N}} \\ket{k}\\\\\n",
    "&=  \\frac{1}{2^{n/2}} \\sum_{k_1=0}^{1} \\cdots \\sum_{k_n=0}^{1}e^{2\\pi i j (\\sum_{o=1}^n k_o2^{-o})} \\ket{k_1k_2\\cdots k_n} \\mbox{   by replacing $k$ using Equation (1)} \\\\\n",
    "&=\\frac{1}{2^{n / 2}} \\sum_{k_{1}=0}^{1}  \\sum_{k_2=0}^{1}\\cdots \\sum_{k_{n}=0}^{1} \\prod_{o=1}^{n} e^{2 \\pi i j k_o 2^{-o}}|k_{1} \\ldots k_{n}\\rangle\\\\\n",
    "&=  \\frac{1}{2^{n/2}}\\otimes_{o=1}^n  \\sum_{k_o=0}^{1} e^{2\\pi i jk_o 2^{-o} } \\ket{k_o} \\mbox{   by writing the quantum state as the tensor product of $n$ qubits} \\\\\n",
    "&=  \\frac{1}{2^{n/2}} \\otimes_{o=1}^n \\biggl (\\ket{0} + e^{2\\pi i j 2^{-o} } \\ket{1} \\biggr) \\\\\n",
    "&= \\frac{1}{2^{n/2}} \\biggl ( \\bigl(\\ket{0} + e^{2\\pi i j 2^{-1}} \\ket{1} \\bigr) \\otimes  \\bigl(\\ket{0} + e^{2\\pi i j 2^{-2}}\\ket{1} \\bigr) \\otimes \\cdots \\otimes  \\bigl(\\ket{0} + e^{2\\pi i j 2^{-n}}\\ket{1} \\bigr ) \\biggr )~~~~~~ (2)\n",
    "\\end{align*} "
   ]
  },
  {
   "cell_type": "markdown",
   "metadata": {},
   "source": [
    "\n",
    "Let's find the correct gates for applying $QFT$. We are going to use two gates: Hadamard and controlled rotation gate. Check the following unitary operator:"
   ]
  },
  {
   "cell_type": "markdown",
   "metadata": {},
   "source": [
    "$$ CR_k = \\mymatrix{cccc}{1 & 0 & 0 & 0 \\\\ 0 & 1 & 0 & 0 \\\\ 0 & 0 & 1 & 0 \\\\ 0 & 0 & 0 & e^{\\frac{2\\pi i}{2^{k}}} }  $$"
   ]
  },
  {
   "cell_type": "markdown",
   "metadata": {},
   "source": [
    "$CR_k$ operator puts a relative phase of $e^{\\frac{2\\pi i}{2^k}}$ in front of the quantum state if both the controlled and the target qubits are in state $\\ket{1}$. It corresponds to a rotation around $z$-axis."
   ]
  },
  {
   "cell_type": "markdown",
   "metadata": {},
   "source": [
    "\\begin{align*}\n",
    "CR_k \\ket{00} &\\rightarrow \\ket{00} \\\\\n",
    "CR_k \\ket{01} &\\rightarrow \\ket{01} \\\\\n",
    "CR_k \\ket{10} &\\rightarrow \\ket{10} \\\\\n",
    "CR_k \\ket{11} &\\rightarrow  e^{\\frac{2\\pi i}{{2^k}}}\\ket{11} \\\\\n",
    "\\end{align*}"
   ]
  },
  {
   "cell_type": "markdown",
   "metadata": {},
   "source": [
    "Let $\\ket{j_1j_2\\cdots j_n}$ be the input state. Applying Hadamard to the first qubit, we get\n",
    "\n",
    "$$\n",
    "\\frac{1}{2^{1/2}} \\bigl (\\ket{0} + e^{2\\pi i j_1 2^{-1}} \\ket{1} \\bigr ) \\ket{j_2\\cdots j_n} \n",
    "$$"
   ]
  },
  {
   "cell_type": "markdown",
   "metadata": {},
   "source": [
    "since $e^{\\pi i j_1}=1$ if $j_1=0$ and $e^{\\pi i j_1} = -1$ if $j_1=1$."
   ]
  },
  {
   "cell_type": "markdown",
   "metadata": {},
   "source": [
    "Now let's apply the opreator $CR_2$ where second qubit is the control and the first qubit is the target. The resulting state is\n",
    "\n",
    "$$\n",
    "\\frac{1}{2^{1/2}} \\bigl (\\ket{0} + e^{2\\pi i  (j_1 2^{-1}+{j_2}{2^{-2}}  )} \\ket{1} \\bigr ) \\ket{j_2\\cdots j_n} \n",
    "$$\n",
    "\n"
   ]
  },
  {
   "cell_type": "markdown",
   "metadata": {},
   "source": [
    "After applying $CR_i$ where qubit $i$ is the controller and the first qubit is the target consecutively for $i=3\\dots n$, we obtain the state"
   ]
  },
  {
   "cell_type": "markdown",
   "metadata": {},
   "source": [
    "$$\n",
    "\\frac{1}{2^{1/2}} \\bigl (\\ket{0} + e^{2\\pi i  (j_1 2^{-1}+{j_2}{2^{-2}} +{j_3}{2^{-3}} \\dots {j_n}{2^{-n}}   )} \\ket{1} \\bigr ) \\ket{j_2\\cdots j_n} \n",
    "$$\n"
   ]
  },
  {
   "cell_type": "markdown",
   "metadata": {},
   "source": [
    "Noting that $j=2^n(j_1 2^{-1} + j_2 2^{-2} + \\cdots j_n 2^{-n})$, we get\n",
    "\n",
    "$$\n",
    "\\frac{1}{2^{1/2}} \\bigl (\\ket{0} + e^{2\\pi i j 2^{-n}} \\ket{1} \\bigr ) \\ket{j_2\\cdots j_n} \n",
    "$$"
   ]
  },
  {
   "cell_type": "markdown",
   "metadata": {},
   "source": [
    "<h3>Task 6 (on paper)</h3>\n",
    "\n",
    "Continue with the same procedure this time using the second qubit as the target and obtain the following state:\n",
    "\n",
    "$$\n",
    "\\frac{1}{2^{1/{4}}} \\bigl (\\ket{0} + e^{2\\pi i j 2^{-n}} \\ket{1} \\bigr ) \\bigl (\\ket{0} + e^{2\\pi i j 2^{-n+1}  } \\ket{1} \\bigr ) \\ket{j_3\\cdots j_n} \n",
    "$$\n",
    "\n",
    "- First apply Hadamard to second qubit\n",
    "\n",
    "- Then apply $CR_i$ where qubit $i+1$ is the control and the second qubit is the target for $i= 2 \\dots n-1$."
   ]
  },
  {
   "cell_type": "markdown",
   "metadata": {},
   "source": [
    "<a href=\"D02_Quantum_Fourier_Transform_Solutions.ipynb#task6\">click for our solution</a>"
   ]
  },
  {
   "cell_type": "markdown",
   "metadata": {},
   "source": [
    "The above procedure is repeated for each qubit and finally we get the state \n",
    "\n",
    "$$\n",
    "\\frac{1}{2^{n/2}} \\bigl (\\ket{0} + e^{2\\pi i j 2^{-n}} \\ket{1} \\bigr ) \\otimes  (\\ket{0} + e^{2\\pi i j 2^{-n+1}} \\ket{1} \\bigr ) \\otimes  \\cdots \\otimes  (\\ket{0} + e^{2\\pi i j 2^{-1}} \\ket{1} \\bigr  )\n",
    "$$"
   ]
  },
  {
   "cell_type": "markdown",
   "metadata": {},
   "source": [
    "Note that this is exactly Equation (2) except that the qubits are in the reverse order. This also proves that $QFT$ is unitary, as the gates we used are unitary gates. Overall, the $QFT$ circuit is given below:"
   ]
  },
  {
   "cell_type": "markdown",
   "metadata": {},
   "source": [
    "<img src=\"../images/qft.png\" width=\"80%\" align=\"left\">"
   ]
  },
  {
   "cell_type": "markdown",
   "metadata": {},
   "source": [
    "<hr>"
   ]
  },
  {
   "cell_type": "markdown",
   "metadata": {},
   "source": [
    "Now we are ready to implement our circuit in Cirq. To implement $CR_k$, we will use the $CZPowGate$. Let's start by importing Cirq."
   ]
  },
  {
   "cell_type": "code",
   "execution_count": null,
   "metadata": {},
   "outputs": [],
   "source": [
    "import cirq"
   ]
  },
  {
   "cell_type": "markdown",
   "metadata": {},
   "source": [
    "<h3>CZPowGate</h3>\n",
    "\n",
    "In Cirq, $CZPowGate$ is given by the following unitary matrix:"
   ]
  },
  {
   "cell_type": "markdown",
   "metadata": {},
   "source": [
    "$$ CZPowGate(t) = \\mymatrix{cccc}{1 & 0 & 0 & 0 \\\\ 0 & 1 & 0 & 0 \\\\ 0 & 0 & 1 & 0 \\\\ 0 & 0 & 0 & e^{\\pi i t} } $$\n",
    "\n",
    "To use $CZPowGate$, you should use the following command to create a gate with parameter $t$:\n",
    "\n",
    "<pre>cirq.CZPowGate(exponent=t)"
   ]
  },
  {
   "cell_type": "markdown",
   "metadata": {},
   "source": [
    "In our case, by letting $t=2/2^k$ we can create the gate $CR_k$.\n",
    "\n",
    "<pre>CRk = cirq.CZPowGate(exponent=2/2^k)<pre>"
   ]
  },
  {
   "cell_type": "markdown",
   "metadata": {},
   "source": [
    "Then we can use $CR_k$ in our circuit by providing the control and target gates.\n",
    "\n",
    "<pre>circuit.append(CRk(q0,q1))<pre>"
   ]
  },
  {
   "cell_type": "markdown",
   "metadata": {},
   "source": [
    "<h3>Task 7</h3>\n",
    "\n",
    "Implement the circuit for applying $QFT$ to a 2 qubit system. Try it using $\\ket{01}$ as your input state. Simulate your circuit and compare it with the solution of Task 1."
   ]
  },
  {
   "cell_type": "code",
   "execution_count": null,
   "metadata": {},
   "outputs": [],
   "source": [
    "import cirq \n",
    "from cirq import CZPowGate, X, H, SWAP\n",
    "\n",
    "#Create two qubits\n",
    "q1, q2 = cirq.LineQubit.range(2)\n",
    "\n",
    "#Create and initialize circuit\n",
    "circuit = cirq.Circuit(X(q1))\n",
    "\n",
    "#Define CR_2 gate with t=2/2^2\n",
    "\n",
    "#Apply Hadamard to first qubit\n",
    "\n",
    "#Apply CR_2 where first qubit is target and second qubit is control\n",
    "\n",
    "#Apply Hadamard to second qubit\n",
    "\n",
    "#Swap the qubits\n",
    "\n",
    "#Simulate the circuit and print the results\n",
    "print('Simulate the circuit:')\n",
    "s=cirq.Simulator()\n",
    "results=s.simulate(circuit)\n",
    "print(results)"
   ]
  },
  {
   "cell_type": "markdown",
   "metadata": {},
   "source": [
    "<a href=\"D02_Quantum_Fourier_Transform_Solutions.ipynb#task7\">click for our solution</a>"
   ]
  },
  {
   "cell_type": "markdown",
   "metadata": {},
   "source": [
    "<i>In the following tasks, to impose the order of application of the gates you may need to use the parameter <pre>circuit.append(...,strategy=InsertStrategy.NEW)</pre>\n",
    " when appending gates to your circuit.</i>"
   ]
  },
  {
   "cell_type": "markdown",
   "metadata": {},
   "source": [
    "<h3>Task 8 </h3> \n",
    "\n",
    "Implement the circuit which applies $QFT$ to any $n$-qubit system. Define a function named <i>qft</i> which takes the number of qubits, the qubits and the circuit as its parameter. Simulate the circuit for $n=3$ on all possible input states."
   ]
  },
  {
   "cell_type": "code",
   "execution_count": null,
   "metadata": {},
   "outputs": [],
   "source": [
    "from cirq.circuits import InsertStrategy\n",
    "from cirq import H, SWAP\n",
    "import cirq\n",
    "\n",
    "def qft(n,qubits,circuit):\n",
    "    \n",
    "    #Your code here\n",
    "    \n",
    "    \n",
    "    "
   ]
  },
  {
   "cell_type": "code",
   "execution_count": null,
   "metadata": {},
   "outputs": [],
   "source": [
    "n=3 \n",
    "\n",
    "inputs = ['000','001','010','011','100','101','110','111']\n",
    "\n",
    "for input in inputs:\n",
    "\n",
    "    #Create n qubits\n",
    "    #\n",
    "\n",
    "    #Create circuit\n",
    "    #\n",
    "    \n",
    "    #initialization\n",
    "    #\n",
    "\n",
    "    #Call qft function\n",
    "    #\n",
    "\n",
    "    #Printing circuit\n",
    "    #\n",
    "\n",
    "    #Simulating circuit\n",
    "    #"
   ]
  },
  {
   "cell_type": "markdown",
   "metadata": {},
   "source": [
    "<a href=\"D02_Quantum_Fourier_Transform_Solutions.ipynb#task8\">click for our solution</a>"
   ]
  },
  {
   "cell_type": "markdown",
   "metadata": {},
   "source": [
    "<h2>Inverse Quantum Fourier Transform </h2>"
   ]
  },
  {
   "cell_type": "markdown",
   "metadata": {},
   "source": [
    "Inverse Quantum Fourier Transform ($QFT^{\\dagger}$) is the transformation which satisfies $QFT\\cdot QFT^{\\dagger}=I$. It is defined exactly the same with the exponents having negative sign."
   ]
  },
  {
   "cell_type": "markdown",
   "metadata": {},
   "source": [
    "$$\n",
    " QFT^{\\dagger} \\ket{k}=\\frac{1}{\\sqrt{N}} \\sum_{l=0}^{N-1}e^{-\\frac{2\\pi i j k }{N}}\\ket{l}.\n",
    "$$"
   ]
  },
  {
   "cell_type": "markdown",
   "metadata": {},
   "source": [
    "To implement $QFT^{\\dagger}$, one should apply all the operations in reverse order to undo the circuit."
   ]
  },
  {
   "cell_type": "markdown",
   "metadata": {},
   "source": [
    "\n",
    "<h3>Task 9</h3> \n",
    "\n",
    "Implement the circuit which applies $QFT^{\\dagger}$ to any $n$-qubit system. Define a function named <i>iqft</i> which takes the number of qubits, the qubits and the circuit as its parameter. Simulate the circuit for different $n$ values. Apply both $QFT$ and $QFT^{\\dagger}$ and check whether the corresponding unitary matrix is the identity matrix. Write your function to a file so that you can use it later."
   ]
  },
  {
   "cell_type": "code",
   "execution_count": 51,
   "metadata": {},
   "outputs": [],
   "source": [
    "#%%writefile iqft.py\n",
    "import cirq\n",
    "from cirq.circuits import InsertStrategy\n",
    "from cirq import H, SWAP, CZPowGate\n",
    "\n",
    "def iqft(n,qubits,circuit):\n",
    "    \n",
    "    #Your code here\n",
    "    \n",
    "    \n",
    "    "
   ]
  },
  {
   "cell_type": "code",
   "execution_count": null,
   "metadata": {},
   "outputs": [],
   "source": [
    "n=4 #change n\n",
    "\n",
    "#Create circuit\n",
    "circuit = cirq.Circuit()\n",
    "\n",
    "#Create n qubits\n",
    "#\n",
    "\n",
    "#Call qft function \n",
    "\n",
    "\n",
    "#Call iqft function\n",
    "#\n",
    "\n",
    "#Printing circuit\n",
    "#\n",
    "\n",
    "#Simulating circuit\n",
    "#\n",
    "\n",
    "#Unitary matrix representation\n",
    "print(cirq.unitary(circuit))"
   ]
  },
  {
   "cell_type": "markdown",
   "metadata": {},
   "source": [
    "<a href=\"D02_Quantum_Fourier_Transform_Solutions.ipynb#task9\">click for our solution</a>"
   ]
  },
  {
   "cell_type": "markdown",
   "metadata": {},
   "source": [
    "<hr>"
   ]
  },
  {
   "cell_type": "markdown",
   "metadata": {},
   "source": [
    "<h2> Discussion on the number of gates </h2>"
   ]
  },
  {
   "cell_type": "markdown",
   "metadata": {},
   "source": [
    "For the first qubit, we apply a single Hadamard gate followed by $n-1$ controlled rotation gates, which makes $n$ gates in total.\n",
    "\n",
    "For the second qubit we apply a single Hadamard gate followed by $n-2$ controlled rotation gates, which makes $n-1$ gates in total.\n",
    "\n",
    "Overall, $n + (n-1) + \\cdots + 1 = \\frac{(n)(n+1)}{2}$ gates are required.\n",
    "\n",
    "Furthermore, $\\frac{n}{2}$ $SWAP$ gates are required, each of which can be implemented using three $CNOT$ gates.\n",
    "\n",
    "To sum up, $\\theta(n^2)$ gates are required for applying $QFT$ to an $n$-qubit system represented by a vector of size $N=2^n$.\n",
    "\n",
    "The best known classical algorithm for computing the Discrete Fourier Transform of $2^n$ entries, such as Fast Fourier Transform (FFT) requires $\\Theta(n2^n)$, equivalently $\\Theta(N \\log N)$ gates, which means that the classical algorithm requires exponentially many more operations to compute $DFT$ (Note that the obvious algorithm for computing $DFT$ requires ${2}^{2n}$ gates). An improved algorithm presented [here](https://ieeexplore.ieee.org/document/892139) provides a circuit for computing $QFT$ with $O(n \\log n)$ gates.\n",
    "\n",
    "Nevertheless, this does not mean that we can use $QFT$ directly to accelerate the classical computation process. There are two reasons for this: The first reason is that the amplitudes can not be accessed directly after applying $QFT$. The second reason is that we may not know how to efficiently prepare the input state to $QFT$. \n",
    "\n",
    "Next, we will see some applications of $QFT$."
   ]
  }
 ],
 "metadata": {
  "kernelspec": {
   "display_name": "Python 3",
   "language": "python",
   "name": "python3"
  },
  "language_info": {
   "codemirror_mode": {
    "name": "ipython",
    "version": 3
   },
   "file_extension": ".py",
   "mimetype": "text/x-python",
   "name": "python",
   "nbconvert_exporter": "python",
   "pygments_lexer": "ipython3",
   "version": "3.7.3"
  }
 },
 "nbformat": 4,
 "nbformat_minor": 2
}
