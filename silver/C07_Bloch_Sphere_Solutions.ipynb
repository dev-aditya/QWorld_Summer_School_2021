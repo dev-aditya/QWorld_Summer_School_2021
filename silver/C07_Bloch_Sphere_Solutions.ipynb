{
 "cells": [
  {
   "cell_type": "markdown",
   "metadata": {},
   "source": [
    "<table align=\"left\"  width=\"100%\"> <tr>\n",
    "        <td  style=\"background-color:#ffffff;\">\n",
    "            <a href=\"http://qworld.lu.lv\" target=\"_blank\"><img src=\"../images/qworld.jpg\" width=\"35%\" align=\"left\"> </a></td>\n",
    "        <td style=\"background-color:#ffffff;vertical-align:bottom;text-align:right;\">\n",
    "            prepared by Maksim Dimitrijev (<a href=\"http://qworld.lu.lv/index.php/qlatvia/\" target=\"_blank\">QLatvia</a>)\n",
    "        </td>        \n",
    "</tr></table>"
   ]
  },
  {
   "cell_type": "markdown",
   "metadata": {},
   "source": [
    "<table width=\"100%\"><tr><td style=\"color:#bbbbbb;background-color:#ffffff;font-size:11px;font-style:italic;text-align:right;\">This cell contains some macros. If there is a problem with displaying mathematical formulas, please run this cell to load these macros. </td></tr></table>\n",
    "$ \\newcommand{\\bra}[1]{\\langle #1|} $\n",
    "$ \\newcommand{\\ket}[1]{|#1\\rangle} $\n",
    "$ \\newcommand{\\braket}[2]{\\langle #1|#2\\rangle} $\n",
    "$ \\newcommand{\\dot}[2]{ #1 \\cdot #2} $\n",
    "$ \\newcommand{\\biginner}[2]{\\left\\langle #1,#2\\right\\rangle} $\n",
    "$ \\newcommand{\\mymatrix}[2]{\\left( \\begin{array}{#1} #2\\end{array} \\right)} $\n",
    "$ \\newcommand{\\myvector}[1]{\\mymatrix{c}{#1}} $\n",
    "$ \\newcommand{\\myrvector}[1]{\\mymatrix{r}{#1}} $\n",
    "$ \\newcommand{\\mypar}[1]{\\left( #1 \\right)} $\n",
    "$ \\newcommand{\\mybigpar}[1]{ \\Big( #1 \\Big)} $\n",
    "$ \\newcommand{\\sqrttwo}{\\frac{1}{\\sqrt{2}}} $\n",
    "$ \\newcommand{\\dsqrttwo}{\\dfrac{1}{\\sqrt{2}}} $\n",
    "$ \\newcommand{\\onehalf}{\\frac{1}{2}} $\n",
    "$ \\newcommand{\\donehalf}{\\dfrac{1}{2}} $\n",
    "$ \\newcommand{\\hadamard}{ \\mymatrix{rr}{ \\sqrttwo & \\sqrttwo \\\\ \\sqrttwo & -\\sqrttwo }} $\n",
    "$ \\newcommand{\\vzero}{\\myvector{1\\\\0}} $\n",
    "$ \\newcommand{\\vone}{\\myvector{0\\\\1}} $\n",
    "$ \\newcommand{\\stateplus}{\\myvector{ \\sqrttwo \\\\  \\sqrttwo } } $\n",
    "$ \\newcommand{\\stateminus}{ \\myrvector{ \\sqrttwo \\\\ -\\sqrttwo } } $\n",
    "$ \\newcommand{\\myarray}[2]{ \\begin{array}{#1}#2\\end{array}} $\n",
    "$ \\newcommand{\\X}{ \\mymatrix{cc}{0 & 1 \\\\ 1 & 0}  } $\n",
    "$ \\newcommand{\\Z}{ \\mymatrix{rr}{1 & 0 \\\\ 0 & -1}  } $\n",
    "$ \\newcommand{\\Htwo}{ \\mymatrix{rrrr}{ \\frac{1}{2} & \\frac{1}{2} & \\frac{1}{2} & \\frac{1}{2} \\\\ \\frac{1}{2} & -\\frac{1}{2} & \\frac{1}{2} & -\\frac{1}{2} \\\\ \\frac{1}{2} & \\frac{1}{2} & -\\frac{1}{2} & -\\frac{1}{2} \\\\ \\frac{1}{2} & -\\frac{1}{2} & -\\frac{1}{2} & \\frac{1}{2} } } $\n",
    "$ \\newcommand{\\CNOT}{ \\mymatrix{cccc}{1 & 0 & 0 & 0 \\\\ 0 & 1 & 0 & 0 \\\\ 0 & 0 & 0 & 1 \\\\ 0 & 0 & 1 & 0} } $\n",
    "$ \\newcommand{\\norm}[1]{ \\left\\lVert #1 \\right\\rVert } $\n",
    "$ \\newcommand{\\pstate}[1]{ \\lceil \\mspace{-1mu} #1 \\mspace{-1.5mu} \\rfloor } $\n",
    "$ \\newcommand{\\Y}{ \\mymatrix{rr}{0 & -i \\\\ i & 0} } $ $ \\newcommand{\\S}{ \\mymatrix{rr}{1 & 0 \\\\ 0 & i} } $ \n",
    "$ \\newcommand{\\T}{ \\mymatrix{rr}{1 & 0 \\\\ 0 & e^{i \\frac{pi}{4}}} } $ \n",
    "$ \\newcommand{\\Sdg}{ \\mymatrix{rr}{1 & 0 \\\\ 0 & -i} } $ \n",
    "$ \\newcommand{\\Tdg}{ \\mymatrix{rr}{1 & 0 \\\\ 0 & e^{-i \\frac{pi}{4}}} } $"
   ]
  },
  {
   "cell_type": "markdown",
   "metadata": {},
   "source": [
    "<h1> <font color=\"blue\"> Solutions for </font> Bloch sphere </h1>"
   ]
  },
  {
   "cell_type": "markdown",
   "metadata": {},
   "source": [
    "<a id=\"task2\"></a>\n",
    "<h3> Task 2 </h3>\n",
    "\n",
    "Implement a function in Python that takes quantum state $\\cos{\\frac{\\theta}{2}} \\ket{0} + e^{i\\phi} \\sin{\\frac{\\theta}{2}} \\ket{1}$ as two numbers $\\frac{\\theta}{2}$ and $\\phi$ and draws this state on a Bloch sphere. You can use the code from the above example.\n",
    "\n",
    "Test it with the state $\\cos{\\frac{\\pi/2}{2}} \\ket{0} + e^{i\\frac{\\pi}{2}} \\sin{\\frac{\\pi/2}{2}} \\ket{1}$."
   ]
  },
  {
   "cell_type": "markdown",
   "metadata": {},
   "source": [
    "<h3> Solution </h3>"
   ]
  },
  {
   "cell_type": "code",
   "execution_count": null,
   "metadata": {},
   "outputs": [],
   "source": [
    "from qiskit.visualization import plot_bloch_vector, bloch\n",
    "from matplotlib.pyplot import text\n",
    "from math import pi, cos, sin\n",
    "from qutip import *\n",
    "\n",
    "def draw_angles_on_bloch(theta, phi):\n",
    "    x = sin(theta)*cos(phi)\n",
    "    y = sin(theta)*sin(phi)\n",
    "    z = cos(theta)\n",
    "    \n",
    "    # preparing the sphere\n",
    "    sphere = bloch\n",
    "    sphere.Bloch\n",
    "    b = Bloch()\n",
    "    # preparing the lables\n",
    "    b.ylpos = [1.1, -1.2]\n",
    "    b.xlabel = ['$\\\\left|0\\\\right>+\\\\left|1\\\\right>$', '$\\\\left|0\\\\right>-\\\\left|1\\\\right>$']\n",
    "    b.ylabel = ['$\\\\left|0\\\\right>+i\\\\left|1\\\\right>$', '$\\\\left|0\\\\right>-i\\\\left|1\\\\right>$']\n",
    "    # first 6 drawn vectors will be blue, the 7th - red\n",
    "    b.vector_color = ['b','b','b','b','b','b','r']\n",
    "    # drawing vectors of orthogonal states (most popular bases), note the coordinates of vectors,\n",
    "    # they correspond to the according states.\n",
    "    b.add_vectors([[0,0,1],[0,0,-1],[0,1,0],[0,-1,0],[1,0,0],[-1,0,0]])\n",
    "    # drawing our state (as 7th vector)\n",
    "    b.add_vectors([x,y,z])\n",
    "    # showing the Bloch sphere with all that we have prepared\n",
    "    b.show()"
   ]
  },
  {
   "cell_type": "code",
   "execution_count": null,
   "metadata": {},
   "outputs": [],
   "source": [
    "# Test\n",
    "draw_angles_on_bloch(pi/2, pi/2)"
   ]
  },
  {
   "cell_type": "markdown",
   "metadata": {},
   "source": [
    "<a id=\"task3\"></a>\n",
    "<h3> Task 3 (optional) </h3>\n",
    "\n",
    "Extend the function from the Task 2 by allowing it to accept more than one state. Try to use different colors for different states.\n",
    "\n",
    "Test it with the states $\\cos{\\frac{\\pi/2}{2}} \\ket{0} + e^{i\\frac{\\pi}{2}} \\sin{\\frac{\\pi/2}{2}} \\ket{1}$ and $\\cos{\\frac{\\pi/3}{2}} \\ket{0} + e^{i\\pi} \\sin{\\frac{\\pi/3}{2}} \\ket{1}$."
   ]
  },
  {
   "cell_type": "markdown",
   "metadata": {},
   "source": [
    "<h3> Solution </h3>"
   ]
  },
  {
   "cell_type": "code",
   "execution_count": null,
   "metadata": {},
   "outputs": [],
   "source": [
    "from qiskit.visualization import plot_bloch_vector, bloch\n",
    "from matplotlib.pyplot import text\n",
    "from math import pi, cos, sin\n",
    "from qutip import *\n",
    "\n",
    "def draw_multiple_angles_on_bloch(thetas, phis, colors):\n",
    "    # preparing the sphere\n",
    "    sphere = bloch\n",
    "    sphere.Bloch\n",
    "    b = Bloch()\n",
    "    # preparing the lables\n",
    "    b.ylpos = [1.1, -1.2]\n",
    "    b.xlabel = ['$\\\\left|0\\\\right>+\\\\left|1\\\\right>$', '$\\\\left|0\\\\right>-\\\\left|1\\\\right>$']\n",
    "    b.ylabel = ['$\\\\left|0\\\\right>+i\\\\left|1\\\\right>$', '$\\\\left|0\\\\right>-i\\\\left|1\\\\right>$']\n",
    "    # first 6 drawn vectors will be blue, remaining inherit provided colors\n",
    "    b.vector_color = ['b','b','b','b','b','b']\n",
    "    for i in range(len(colors)):\n",
    "        b.vector_color.append(colors[i])\n",
    "    # drawing vectors of orthogonal states (most popular bases), note the coordinates of vectors,\n",
    "    # they correspond to the according states.\n",
    "    b.add_vectors([[0,0,1],[0,0,-1],[0,1,0],[0,-1,0],[1,0,0],[-1,0,0]])\n",
    "    # drawing our states\n",
    "    for i in range(len(thetas)):\n",
    "        x = sin(thetas[i])*cos(phis[i])\n",
    "        y = sin(thetas[i])*sin(phis[i])\n",
    "        z = cos(thetas[i])\n",
    "        b.add_vectors([x,y,z])\n",
    "    # showing the Bloch sphere with all that we have prepared\n",
    "    b.show()"
   ]
  },
  {
   "cell_type": "code",
   "execution_count": null,
   "metadata": {},
   "outputs": [],
   "source": [
    "# Test\n",
    "draw_multiple_angles_on_bloch([pi/2,pi/3],[pi/2,pi],['#AABB00','#00BBCC'])"
   ]
  }
 ],
 "metadata": {
  "kernelspec": {
   "display_name": "Python 3",
   "language": "python",
   "name": "python3"
  },
  "language_info": {
   "codemirror_mode": {
    "name": "ipython",
    "version": 3
   },
   "file_extension": ".py",
   "mimetype": "text/x-python",
   "name": "python",
   "nbconvert_exporter": "python",
   "pygments_lexer": "ipython3",
   "version": "3.7.3"
  }
 },
 "nbformat": 4,
 "nbformat_minor": 2
}
