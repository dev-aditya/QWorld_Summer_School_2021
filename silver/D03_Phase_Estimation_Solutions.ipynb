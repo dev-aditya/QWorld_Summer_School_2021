{
 "cells": [
  {
   "cell_type": "markdown",
   "metadata": {},
   "source": [
    "<table  align=\"left\" width=\"100%\"> <tr>\n",
    "        <td  style=\"background-color:#ffffff;\"><a href=\"https://qsoftware.lu.lv/index.php/qworld/\" target=\"_blank\"><img src=\"..\\images\\qworld.jpg\" width=\"35%\" align=\"left\"></a></td>\n",
    "        <td  align=\"right\" style=\"background-color:#ffffff;vertical-align:bottom;horizontal-align:right\">\n",
    "            prepared by Özlem Salehi (<a href=\"http://qworld.lu.lv/index.php/qturkey/\" target=\"_blank\">QTurkey</a>)\n",
    "        </td>        \n",
    "</tr></table>"
   ]
  },
  {
   "cell_type": "markdown",
   "metadata": {},
   "source": [
    "<table width=\"100%\"><tr><td style=\"color:#bbbbbb;background-color:#ffffff;font-size:11px;font-style:italic;text-align:right;\">This cell contains some macros. If there is a problem with displaying mathematical formulas, please run this cell to load these macros. </td></tr></table>\n",
    "$ \\newcommand{\\bra}[1]{\\langle #1|} $\n",
    "$ \\newcommand{\\ket}[1]{|#1\\rangle} $\n",
    "$ \\newcommand{\\braket}[2]{\\langle #1|#2\\rangle} $\n",
    "$ \\newcommand{\\dot}[2]{ #1 \\cdot #2} $\n",
    "$ \\newcommand{\\biginner}[2]{\\left\\langle #1,#2\\right\\rangle} $\n",
    "$ \\newcommand{\\mymatrix}[2]{\\left( \\begin{array}{#1} #2\\end{array} \\right)} $\n",
    "$ \\newcommand{\\myvector}[1]{\\mymatrix{c}{#1}} $\n",
    "$ \\newcommand{\\myrvector}[1]{\\mymatrix{r}{#1}} $\n",
    "$ \\newcommand{\\mypar}[1]{\\left( #1 \\right)} $\n",
    "$ \\newcommand{\\mybigpar}[1]{ \\Big( #1 \\Big)} $\n",
    "$ \\newcommand{\\sqrttwo}{\\frac{1}{\\sqrt{2}}} $\n",
    "$ \\newcommand{\\dsqrttwo}{\\dfrac{1}{\\sqrt{2}}} $\n",
    "$ \\newcommand{\\onehalf}{\\frac{1}{2}} $\n",
    "$ \\newcommand{\\donehalf}{\\dfrac{1}{2}} $\n",
    "$ \\newcommand{\\hadamard}{ \\mymatrix{rr}{ \\sqrttwo & \\sqrttwo \\\\ \\sqrttwo & -\\sqrttwo }} $\n",
    "$ \\newcommand{\\vzero}{\\myvector{1\\\\0}} $\n",
    "$ \\newcommand{\\vone}{\\myvector{0\\\\1}} $\n",
    "$ \\newcommand{\\stateplus}{\\myvector{ \\sqrttwo \\\\  \\sqrttwo } } $\n",
    "$ \\newcommand{\\stateminus}{ \\myrvector{ \\sqrttwo \\\\ -\\sqrttwo } } $\n",
    "$ \\newcommand{\\myarray}[2]{ \\begin{array}{#1}#2\\end{array}} $\n",
    "$ \\newcommand{\\X}{ \\mymatrix{cc}{0 & 1 \\\\ 1 & 0}  } $\n",
    "$ \\newcommand{\\Z}{ \\mymatrix{rr}{1 & 0 \\\\ 0 & -1}  } $\n",
    "$ \\newcommand{\\Htwo}{ \\mymatrix{rrrr}{ \\frac{1}{2} & \\frac{1}{2} & \\frac{1}{2} & \\frac{1}{2} \\\\ \\frac{1}{2} & -\\frac{1}{2} & \\frac{1}{2} & -\\frac{1}{2} \\\\ \\frac{1}{2} & \\frac{1}{2} & -\\frac{1}{2} & -\\frac{1}{2} \\\\ \\frac{1}{2} & -\\frac{1}{2} & -\\frac{1}{2} & \\frac{1}{2} } } $\n",
    "$ \\newcommand{\\CNOT}{ \\mymatrix{cccc}{1 & 0 & 0 & 0 \\\\ 0 & 1 & 0 & 0 \\\\ 0 & 0 & 0 & 1 \\\\ 0 & 0 & 1 & 0} } $\n",
    "$ \\newcommand{\\norm}[1]{ \\left\\lVert #1 \\right\\rVert } $\n",
    "$ \\newcommand{\\pstate}[1]{ \\lceil \\mspace{-1mu} #1 \\mspace{-1.5mu} \\rfloor } $"
   ]
  },
  {
   "cell_type": "markdown",
   "metadata": {},
   "source": [
    "<h1> <font color=\"blue\"> Solutions for </font> Phase Estimation</h1>"
   ]
  },
  {
   "cell_type": "markdown",
   "metadata": {},
   "source": [
    "<h3>Task 1 (on paper)</h3>\n",
    "<a id=\"task1\"></a>\n",
    "\n",
    "Show that $\\ket{-}$ and $\\ket{+}$ are eigenvectors for the $X$ operator with eigenvalues -1 and 1 respectively."
   ]
  },
  {
   "cell_type": "markdown",
   "metadata": {},
   "source": [
    "<h3>Solution </h3>"
   ]
  },
  {
   "cell_type": "markdown",
   "metadata": {},
   "source": [
    "\n",
    "\n",
    "\\begin{align*}\n",
    "X \\ket{-} = X \\frac {\\ket{0} - \\ket{1}} {\\sqrt{2}}\n",
    "& =  \\frac {\\ket{1} - \\ket{0}} {\\sqrt{2}}\\\\\n",
    "& = -\\frac {\\ket{0} - \\ket{1}} {\\sqrt{2}}\\\\\n",
    "& = -\\ket{-}\n",
    "\\end{align*}\n",
    "\n",
    "\n",
    "\\begin{align*}\n",
    "X \\ket{+} = X \\frac {\\ket{0} + \\ket{1}} {\\sqrt{2}}\n",
    "& =  \\frac {\\ket{1} + \\ket{0}} {\\sqrt{2}}\\\\\n",
    "& = \\frac {\\ket{0} + \\ket{1}} {\\sqrt{2}}\\\\\n",
    "& = \\ket{+}\n",
    "\\end{align*}\n",
    "\n",
    "Hence $ \\ket{-}$ and $\\ket{+}$ are eigenvectors of $ X $ operator with the eigenvalues -1 and 1 respectively."
   ]
  },
  {
   "cell_type": "markdown",
   "metadata": {},
   "source": [
    "<h3>Task 2 (on paper)</h3>\n",
    "<a id=\"task2\"></a>\n",
    "\n",
    "Consider the following quantum state where $ x=0 $ or $ 1 $. How can you find out the value of $x$ by applying a single operator?\n",
    "\n",
    "$$ \n",
    "\\frac {\\ket{0} + (-1)^x \\ket{1}} {\\sqrt{2}}\n",
    "$$\n"
   ]
  },
  {
   "cell_type": "markdown",
   "metadata": {},
   "source": [
    "<h3>Solution </h3>"
   ]
  },
  {
   "cell_type": "markdown",
   "metadata": {},
   "source": [
    "If our aim is to find out $ x $, then applying a Hadamard gate we can determine whether $ x=0 $ or $ 1 $ depending on the outcome. If the outcome is $ \\ket{0} $, then $ x=0 $ and if the outcome is $ \\ket{1} $, then $ x=1 $."
   ]
  },
  {
   "cell_type": "markdown",
   "metadata": {},
   "source": [
    "<a id=\"task3\"></a>\n",
    "<h3>Task 3</h3>\n",
    "\n",
    "Consider the unitary operator $U$ with eigenvector $\\ket{1}$ and eigenvalue $e^{2\\pi i \\phi}$ where $\\phi = \\frac{5}{16}$. $CU$ operator can be realized as follows:"
   ]
  },
  {
   "cell_type": "code",
   "execution_count": 7,
   "metadata": {},
   "outputs": [],
   "source": [
    "from cirq import CZPowGate\n",
    "\n",
    "phase = 5/16\n",
    "CU = CZPowGate(exponent=phase*2)#We need a 2 since CZPowGate adds a phase of e^{\\pi i \\phi}."
   ]
  },
  {
   "cell_type": "markdown",
   "metadata": {},
   "source": [
    "Pick $t=4$ and implement the phase estimation circuit to estimate $\\phi$. Write a function named <i>qpe</i> which takes as parameters <i>t</i>, <i>control</i> qubits, <i>target</i> qubits, <i>circuit</i> and the operator <i>CU</i>.\n",
    "\n",
    "Note that you will get an exact result since $t=4$ is precise enough."
   ]
  },
  {
   "cell_type": "markdown",
   "metadata": {},
   "source": [
    "<i>Remarks:</i>\n",
    "\n",
    "- You can apply arithmetical operations to gates, such as taking powers or inverses.\n",
    "- To apply $QFT^{\\dagger}$, you can use the function you have written in the previous notebook.\n",
    "- Some code is already given to guide you.\n"
   ]
  },
  {
   "cell_type": "markdown",
   "metadata": {},
   "source": [
    "<h3>Solution </h3>"
   ]
  },
  {
   "cell_type": "code",
   "execution_count": 8,
   "metadata": {},
   "outputs": [],
   "source": [
    "# %load iqft.py\n",
    "import cirq\n",
    "from cirq.circuits import InsertStrategy\n",
    "from cirq import H, SWAP, CZPowGate\n",
    "\n",
    "def iqft(n,qubits,circuit):\n",
    "    \n",
    "    #Swap the qubits\n",
    "    for i in range(n//2):\n",
    "        circuit.append(SWAP(qubits[i],qubits[n-i-1]), strategy = InsertStrategy.NEW)\n",
    "     \n",
    "    #For each qubit\n",
    "    for i in range(n-1,-1,-1):\n",
    "        #Apply CR_k gates where j is the control and i is the target\n",
    "        k=n-i #We start with k=n-i\n",
    "        for j in range(n-1,i,-1):\n",
    "            #Define and apply CR_k gate\n",
    "            crk = CZPowGate(exponent = -2/2**(k))\n",
    "            circuit.append(crk(qubits[j],qubits[i]),strategy = InsertStrategy.NEW)\n",
    "            k=k-1 #Decrement at each step\n",
    "            \n",
    "        #Apply Hadamard to the qubit\n",
    "        circuit.append(H(qubits[i]),strategy = InsertStrategy.NEW)\n"
   ]
  },
  {
   "cell_type": "code",
   "execution_count": 5,
   "metadata": {},
   "outputs": [],
   "source": [
    "#%%writefile qpe.py\n",
    "import cirq\n",
    "def qpe(t,control, target, circuit, CU):\n",
    "    \n",
    "    #Apply Hadamard to control qubits\n",
    "    circuit.append(cirq.H.on_each(control))\n",
    "    \n",
    "    #Apply CU gates\n",
    "    for i in range(t):\n",
    "        #Obtain the power of CU gate \n",
    "        CUi = CU**(2**i)\n",
    "        #Apply CUi gate where t-i-1 is the control\n",
    "        circuit.append(CUi(control[t-i-1],*target))\n",
    "        \n",
    "    #Apply inverse QFT\n",
    "    iqft(t,control,circuit)"
   ]
  },
  {
   "cell_type": "code",
   "execution_count": 9,
   "metadata": {},
   "outputs": [
    {
     "name": "stdout",
     "output_type": "stream",
     "text": [
      "Sample the circuit:\n",
      "Counter({5: 1000})\n",
      "0: ───H───────────────────────────────@───×───────────────────────────────────────────────@──────────@─────────@────────H───M('result')───\n",
      "                                      │   │                                               │          │         │            │\n",
      "1: ───H───────────────────────@───────┼───┼───×────────────────────@─────────@────────H───┼──────────┼─────────@^-0.5───────M─────────────\n",
      "                              │       │   │   │                    │         │            │          │                      │\n",
      "2: ───H─────────────@─────────┼───────┼───┼───×───────@────────H───┼─────────@^-0.5───────┼──────────@^-0.25────────────────M─────────────\n",
      "                    │         │       │   │           │            │                      │                                 │\n",
      "3: ───H───@─────────┼─────────┼───────┼───×───────H───@^-0.5───────@^-0.25────────────────@^(-1/8)──────────────────────────M─────────────\n",
      "          │         │         │       │\n",
      "4: ───X───@^(5/8)───@^-0.75───@^0.5───@───────────────────────────────────────────────────────────────────────────────────────────────────\n"
     ]
    }
   ],
   "source": [
    "import cirq\n",
    "from cirq import X\n",
    "from cirq.contrib.svg import SVGCircuit\n",
    "\n",
    "#Create cirucit\n",
    "circuit = cirq.Circuit()\n",
    "\n",
    "t=4 #Number of qubits in the control register\n",
    "n=1 #Number of qubits in the register storing eigenvector\n",
    "\n",
    "#Create t control qubits\n",
    "control = [cirq.LineQubit(i) for i in range(t) ]\n",
    "\n",
    "#Create n target qubits\n",
    "target = [cirq.LineQubit(i) for i in range(t,t+n) ]\n",
    "\n",
    "#Set target qubit to state |1> \n",
    "circuit.append(X.on_each(target))\n",
    "\n",
    "#Apply QPE\n",
    "qpe(t,control, target, circuit, CU)\n",
    "\n",
    "circuit.append(cirq.measure(*control, key='result'))\n",
    "\n",
    "s=cirq.Simulator()\n",
    "print('Sample the circuit:')\n",
    "samples=s.run(circuit, repetitions=1000)\n",
    "# Print a histogram of results\n",
    "print(samples.histogram(key='result'))\n",
    "print(circuit)"
   ]
  },
  {
   "cell_type": "markdown",
   "metadata": {},
   "source": [
    "<a id=\"task4\"></a>\n",
    "<h3>Task 4</h3>\n",
    "\n",
    "Try Task 3 this time by setting $t=3$. What do you expect to see?"
   ]
  },
  {
   "cell_type": "markdown",
   "metadata": {},
   "source": [
    "<h3>Solution </h3>"
   ]
  },
  {
   "cell_type": "code",
   "execution_count": 82,
   "metadata": {
    "scrolled": true
   },
   "outputs": [
    {
     "name": "stdout",
     "output_type": "stream",
     "text": [
      "Sample the circuit:\n",
      "Counter({2: 400, 3: 394, 1: 64, 4: 60, 5: 24, 0: 21, 7: 19, 6: 18})\n",
      "0: ───H───────────────────────@───────×────────────────────@─────────@────────H───M('result')───\n",
      "                              │       │                    │         │            │\n",
      "1: ───H─────────────@─────────┼───────┼───────@────────H───┼─────────@^-0.5───────M─────────────\n",
      "                    │         │       │       │            │                      │\n",
      "2: ───H───@─────────┼─────────┼───────×───H───@^-0.5───────@^-0.25────────────────M─────────────\n",
      "          │         │         │\n",
      "3: ───X───@^(5/8)───@^-0.75───@^0.5─────────────────────────────────────────────────────────────\n"
     ]
    }
   ],
   "source": [
    "import cirq\n",
    "\n",
    "#Create cirucit\n",
    "circuit = cirq.Circuit()\n",
    "\n",
    "t=3 #Number of qubits in the control register\n",
    "n=1 #Number of qubits in the register storing eigenvector\n",
    "\n",
    "#Create t control qubits\n",
    "control = [cirq.LineQubit(i) for i in range(t) ]\n",
    "\n",
    "#Create n target qubits\n",
    "target = [cirq.LineQubit(i) for i in range(t,t+n) ]\n",
    "\n",
    "#Set target qubit to state |1> \n",
    "circuit.append(cirq.X.on_each(target))\n",
    "\n",
    "#Apply QPE\n",
    "qpe(t,control, target, circuit, CU)\n",
    "\n",
    "circuit.append(cirq.measure(*control, key='result'))\n",
    "\n",
    "s=cirq.Simulator()\n",
    "print('Sample the circuit:')\n",
    "samples=s.run(circuit, repetitions=1000)\n",
    "# Print a histogram of results\n",
    "print(samples.histogram(key='result'))\n",
    "print(circuit)\n"
   ]
  },
  {
   "cell_type": "markdown",
   "metadata": {},
   "source": [
    "<a id=\"task5\"></a>\n",
    "<h3>Task 5</h3>\n",
    "\n",
    "Try Task 3 this time by setting $\\phi=0.685$. Calculate and print the estimates for different $t$ values between 1 and 10. "
   ]
  },
  {
   "cell_type": "markdown",
   "metadata": {},
   "source": [
    "<h3>Solution </h3>"
   ]
  },
  {
   "cell_type": "code",
   "execution_count": 142,
   "metadata": {},
   "outputs": [],
   "source": [
    "import cirq \n",
    "\n",
    "phase = 0.685\n",
    "CU = cirq.CZPowGate(exponent=phase*2)#We need a 2 since CZPowGate adds a phase of e^{\\pi i \\phi}."
   ]
  },
  {
   "cell_type": "code",
   "execution_count": 143,
   "metadata": {
    "scrolled": true
   },
   "outputs": [
    {
     "name": "stdout",
     "output_type": "stream",
     "text": [
      "t: 1 estimation: 0.5\n",
      "t: 2 estimation: 0.75\n",
      "t: 3 estimation: 0.75\n",
      "t: 4 estimation: 0.6875\n",
      "t: 5 estimation: 0.6875\n",
      "t: 6 estimation: 0.6875\n",
      "t: 7 estimation: 0.6875\n",
      "t: 8 estimation: 0.68359375\n",
      "t: 9 estimation: 0.685546875\n"
     ]
    }
   ],
   "source": [
    "import cirq\n",
    "\n",
    "for t in range (1,10):\n",
    "\n",
    "    #Create cirucit\n",
    "    circuit = cirq.Circuit()\n",
    "\n",
    "    n=1 #Number of qubits in the register storing eigenvector\n",
    "\n",
    "    #Create t control qubits\n",
    "    control = [cirq.LineQubit(i) for i in range(t) ]\n",
    "\n",
    "    #Create n target qubits\n",
    "    target = [cirq.LineQubit(i) for i in range(t,t+n) ]\n",
    "\n",
    "    #Set target qubit to state |1> \n",
    "    circuit.append(cirq.X.on_each(target))\n",
    "\n",
    "    #Apply QPE\n",
    "    qpe(t,control, target, circuit, CU)\n",
    "\n",
    "    circuit.append(cirq.measure(*control, key='result'))\n",
    "\n",
    "    s=cirq.Simulator()\n",
    "    samples=s.run(circuit, repetitions=1000)\n",
    "  \n",
    "    #Most frequent observation\n",
    "    freq = list(samples.histogram(key='result').keys())[0]\n",
    "    print(\"t:\", t,\"estimation:\", freq/2**t)\n",
    "    "
   ]
  },
  {
   "cell_type": "markdown",
   "metadata": {},
   "source": [
    "<a id=\"task6\"></a>\n",
    "<h3>Task 6</h3>\n",
    "\n",
    "You are given an operator $U$ with eigenvector $\\ket{11}$ and eigenvalue $\\phi$, which is this time unknown to you. Use phase estimation to estimate $\\phi$ by trying different $t$ values. \n",
    "\n",
    "Run the following cell to load operator $CU$"
   ]
  },
  {
   "cell_type": "code",
   "execution_count": 137,
   "metadata": {},
   "outputs": [],
   "source": [
    "%run operator.py"
   ]
  },
  {
   "cell_type": "markdown",
   "metadata": {},
   "source": [
    "<h3>Solution </h3>"
   ]
  },
  {
   "cell_type": "code",
   "execution_count": 141,
   "metadata": {},
   "outputs": [
    {
     "name": "stdout",
     "output_type": "stream",
     "text": [
      "t: 1 estimation: 0.5\n",
      "t: 2 estimation: 0.25\n",
      "t: 3 estimation: 0.25\n",
      "t: 4 estimation: 0.3125\n",
      "t: 5 estimation: 0.3125\n",
      "t: 6 estimation: 0.328125\n",
      "t: 7 estimation: 0.328125\n",
      "t: 8 estimation: 0.328125\n",
      "t: 9 estimation: 0.333984375\n"
     ]
    }
   ],
   "source": [
    "import cirq\n",
    "\n",
    "for t in range (1,10):\n",
    "\n",
    "    #Create cirucit\n",
    "    circuit = cirq.Circuit()\n",
    "\n",
    "    n=2 #Number of qubits in the register storing eigenvector\n",
    "\n",
    "    #Create t control qubits\n",
    "    control = [cirq.LineQubit(i) for i in range(t) ]\n",
    "\n",
    "    #Create n target qubits\n",
    "    target = [cirq.LineQubit(i) for i in range(t,t+n) ]\n",
    "\n",
    "    #Set target qubit to state |11> \n",
    "    circuit.append(cirq.X.on_each(target))\n",
    "\n",
    "    #Apply QPE\n",
    "    qpe(t,control, target, circuit, CU)\n",
    "\n",
    "    circuit.append(cirq.measure(*control, key='result'))\n",
    "\n",
    "    s=cirq.Simulator()\n",
    "    samples=s.run(circuit, repetitions=1000)\n",
    "  \n",
    "    #Most frequent observation\n",
    "    freq = list(samples.histogram(key='result').keys())[0]\n",
    "    print(\"t:\", t,\"estimation:\", freq/2**t)\n",
    "    "
   ]
  }
 ],
 "metadata": {
  "kernelspec": {
   "display_name": "Python 3",
   "language": "python",
   "name": "python3"
  },
  "language_info": {
   "codemirror_mode": {
    "name": "ipython",
    "version": 3
   },
   "file_extension": ".py",
   "mimetype": "text/x-python",
   "name": "python",
   "nbconvert_exporter": "python",
   "pygments_lexer": "ipython3",
   "version": "3.7.3"
  }
 },
 "nbformat": 4,
 "nbformat_minor": 2
}
