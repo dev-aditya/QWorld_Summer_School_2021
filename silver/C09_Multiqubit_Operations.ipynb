{
 "cells": [
  {
   "cell_type": "markdown",
   "metadata": {},
   "source": [
    "<table align=\"left\"  width=\"100%\"> <tr>\n",
    "        <td  style=\"background-color:#ffffff;\">\n",
    "            <a href=\"http://qworld.lu.lv\" target=\"_blank\"><img src=\"..\\images\\qworld.jpg\" width=\"35%\" align=\"left\"> </a></td>\n",
    "        <td style=\"background-color:#ffffff;vertical-align:bottom;text-align:right;\">\n",
    "            prepared by Maksim Dimitrijev (<a href=\"http://qworld.lu.lv/index.php/qlatvia/\" target=\"_blank\">QLatvia</a>) and Aurél Gábris\n",
    "        </td>        \n",
    "</tr></table>"
   ]
  },
  {
   "cell_type": "markdown",
   "metadata": {},
   "source": [
    "<table width=\"100%\"><tr><td style=\"color:#bbbbbb;background-color:#ffffff;font-size:11px;font-style:italic;text-align:right;\">This cell contains some macros. If there is a problem with displaying mathematical formulas, please run this cell to load these macros. </td></tr></table>\n",
    "$ \\newcommand{\\bra}[1]{\\langle #1|} $\n",
    "$ \\newcommand{\\ket}[1]{|#1\\rangle} $\n",
    "$ \\newcommand{\\braket}[2]{\\langle #1|#2\\rangle} $\n",
    "$ \\newcommand{\\dot}[2]{ #1 \\cdot #2} $\n",
    "$ \\newcommand{\\biginner}[2]{\\left\\langle #1,#2\\right\\rangle} $\n",
    "$ \\newcommand{\\mymatrix}[2]{\\left( \\begin{array}{#1} #2\\end{array} \\right)} $\n",
    "$ \\newcommand{\\myvector}[1]{\\mymatrix{c}{#1}} $\n",
    "$ \\newcommand{\\myrvector}[1]{\\mymatrix{r}{#1}} $\n",
    "$ \\newcommand{\\mypar}[1]{\\left( #1 \\right)} $\n",
    "$ \\newcommand{\\mybigpar}[1]{ \\Big( #1 \\Big)} $\n",
    "$ \\newcommand{\\sqrttwo}{\\frac{1}{\\sqrt{2}}} $\n",
    "$ \\newcommand{\\dsqrttwo}{\\dfrac{1}{\\sqrt{2}}} $\n",
    "$ \\newcommand{\\onehalf}{\\frac{1}{2}} $\n",
    "$ \\newcommand{\\donehalf}{\\dfrac{1}{2}} $\n",
    "$ \\newcommand{\\hadamard}{ \\mymatrix{rr}{ \\sqrttwo & \\sqrttwo \\\\ \\sqrttwo & -\\sqrttwo }} $\n",
    "$ \\newcommand{\\vzero}{\\myvector{1\\\\0}} $\n",
    "$ \\newcommand{\\vone}{\\myvector{0\\\\1}} $\n",
    "$ \\newcommand{\\stateplus}{\\myvector{ \\sqrttwo \\\\  \\sqrttwo } } $\n",
    "$ \\newcommand{\\stateminus}{ \\myrvector{ \\sqrttwo \\\\ -\\sqrttwo } } $\n",
    "$ \\newcommand{\\myarray}[2]{ \\begin{array}{#1}#2\\end{array}} $\n",
    "$ \\newcommand{\\X}{ \\mymatrix{cc}{0 & 1 \\\\ 1 & 0}  } $\n",
    "$ \\newcommand{\\Z}{ \\mymatrix{rr}{1 & 0 \\\\ 0 & -1}  } $\n",
    "$ \\newcommand{\\Htwo}{ \\mymatrix{rrrr}{ \\frac{1}{2} & \\frac{1}{2} & \\frac{1}{2} & \\frac{1}{2} \\\\ \\frac{1}{2} & -\\frac{1}{2} & \\frac{1}{2} & -\\frac{1}{2} \\\\ \\frac{1}{2} & \\frac{1}{2} & -\\frac{1}{2} & -\\frac{1}{2} \\\\ \\frac{1}{2} & -\\frac{1}{2} & -\\frac{1}{2} & \\frac{1}{2} } } $\n",
    "$ \\newcommand{\\CNOT}{ \\mymatrix{cccc}{1 & 0 & 0 & 0 \\\\ 0 & 1 & 0 & 0 \\\\ 0 & 0 & 0 & 1 \\\\ 0 & 0 & 1 & 0} } $\n",
    "$ \\newcommand{\\norm}[1]{ \\left\\lVert #1 \\right\\rVert } $\n",
    "$ \\newcommand{\\pstate}[1]{ \\lceil \\mspace{-1mu} #1 \\mspace{-1.5mu} \\rfloor } $\n",
    "$ \\newcommand{\\qgate}[1]{ \\mathop{\\textit{#1} } }$"
   ]
  },
  {
   "cell_type": "markdown",
   "metadata": {},
   "source": [
    "<h1> Multiqubit operations </h1>"
   ]
  },
  {
   "cell_type": "markdown",
   "metadata": {},
   "source": [
    "In this notebook we will cover all two- and three-qubit operations of Qiskit.\n",
    "\n",
    "Remember that Qiskit combines qubits in descending order of indices, as $\\cdots$qreg[2]$\\otimes$qreg[1]$\\otimes$qreg[0]."
   ]
  },
  {
   "cell_type": "markdown",
   "metadata": {},
   "source": [
    "<h2>Two Qubit Gates</h2>\n",
    "\n",
    "The two qubit gates we will talk about are controlled operations except the $\\qgate{SWAP}$ gate. "
   ]
  },
  {
   "cell_type": "markdown",
   "metadata": {},
   "source": [
    "<h3>$\\qgate{SWAP}$ gate</h3>\n",
    "\n",
    "This is the only two-qubit gate, that does not represent controlled operation. $\\qgate{SWAP}$ simply exchanges the two qubits. Matrix form of the operation is the following:\n",
    "\n",
    "$$\n",
    "    \\qgate{SWAP} = \\mymatrix{cccc}{1 & 0 & 0 & 0 \\\\ 0 & 0 & 1 & 0 \\\\ 0 & 1 & 0 & 0 \\\\ 0 & 0 & 0 & 1} .\n",
    "$$\n",
    "\n",
    "Operation can be described in the following way:\n",
    "<ul>\n",
    "    <li>$ \\qgate{SWAP} \\ket{00} = \\ket{00} $, </li>\n",
    "    <li>$ \\qgate{SWAP} \\ket{01} = \\ket{10} $, </li>\n",
    "    <li>$ \\qgate{SWAP} \\ket{10} = \\ket{01}$, </li>\n",
    "    <li>$ \\qgate{SWAP} \\ket{11} = \\ket{11}$. </li>\n",
    "</ul>\n",
    "\n",
    "The syntax of $\\qgate{SWAP}$ gate is the following:\n",
    "\n",
    "$$\n",
    "qc.swap(first\\_qubit, second\\_qubit).\n",
    "$$"
   ]
  },
  {
   "cell_type": "code",
   "execution_count": null,
   "metadata": {},
   "outputs": [],
   "source": [
    "from qiskit import QuantumRegister, ClassicalRegister, QuantumCircuit, execute, Aer\n",
    "qreg =  QuantumRegister(2)\n",
    "creg = ClassicalRegister(2)\n",
    "mycircuit = QuantumCircuit(qreg,creg)\n",
    "\n",
    "mycircuit.h(qreg[1])\n",
    "mycircuit.swap(qreg[1],qreg[0])\n",
    "\n",
    "mycircuit.measure(qreg,creg)\n",
    "\n",
    "job = execute(mycircuit,Aer.get_backend('qasm_simulator'),shots=1000)\n",
    "counts = job.result().get_counts(mycircuit)\n",
    "print(counts)\n",
    "mycircuit.draw(output='mpl')"
   ]
  },
  {
   "cell_type": "markdown",
   "metadata": {},
   "source": [
    "<h3> Task 1 </h3>\n",
    "\n",
    "Suppose that our quantum computer has architecture like Melbourne device seen on picture. Connections between numbers of qubits show between which qubits controlled operations and $\\qgate{SWAP}$ are allowed.\n",
    "\n",
    "Perform Hadamard operation on qubit 0 and swap it sequentially to qubit 8, and perform a $\\qgate{CNOT}$ operation with qubit 7.\n",
    "\n",
    "<img src=\"../images/10_ibmq_systems.jpg\" width=\"75%\">"
   ]
  },
  {
   "cell_type": "code",
   "execution_count": null,
   "metadata": {},
   "outputs": [],
   "source": [
    "from qiskit import QuantumRegister, ClassicalRegister, QuantumCircuit, execute, Aer\n",
    "qreg =  QuantumRegister(14)\n",
    "creg = ClassicalRegister(14)\n",
    "mycircuit = QuantumCircuit(qreg,creg)\n",
    "\n",
    "#\n",
    "# your solution is here\n",
    "#\n"
   ]
  },
  {
   "cell_type": "markdown",
   "metadata": {},
   "source": [
    "<a href=\"C09_Multiqubit_Operations_Solutions.ipynb#task1\">click for our solution</a>"
   ]
  },
  {
   "cell_type": "markdown",
   "metadata": {},
   "source": [
    "Now we move on to the controlled operations. In case of the controlled operations, one qubit acts as the control, and if it is in state $\\ket{1}$, then the operation is performed on the target qubit.\n",
    "\n",
    "<h3>Controlled Pauli Gates</h3>\n",
    "\n",
    "For each of Pauli operations ($\\qgate{X}$, $\\qgate{Y}$, $\\qgate{Z}$) we have controlled version of the operation."
   ]
  },
  {
   "cell_type": "markdown",
   "metadata": {},
   "source": [
    "<h3>Controlled-$\\qgate{X}$ (${\\qgate{CNOT}}$)</h3>\n",
    "\n",
    "If control qubit is in state $\\ket{1}$, then $\\qgate{X}$ is applied to the target qubit. Matrix form of the operation is the following:\n",
    "\n",
    "$$\n",
    "   {\\qgate{CNOT}} = \\mymatrix{cccc}{1 & 0 & 0 & 0 \\\\ 0 & 1 & 0 & 0 \\\\ 0 & 0 & 0 & 1 \\\\ 0 & 0 & 1 & 0} .\n",
    "$$\n",
    "\n",
    "Operation can be described in the following way:\n",
    "<ul>\n",
    "    <li>$ \\qgate{CNOT} \\ket{00} = \\ket{00} $, </li>\n",
    "    <li>$ \\qgate{CNOT} \\ket{01} = \\ket{01} $, </li>\n",
    "    <li>$ \\qgate{CNOT} \\ket{10} = \\ket{11} $, </li>\n",
    "    <li>$ \\qgate{CNOT} \\ket{11} = \\ket{10} $. </li>\n",
    "</ul>\n",
    "\n",
    "The syntax of gate $\\qgate{CNOT}$ is the following:\n",
    "\n",
    "$$\n",
    "qc.cx(control\\_qubit, target\\_qubit).\n",
    "$$"
   ]
  },
  {
   "cell_type": "code",
   "execution_count": null,
   "metadata": {},
   "outputs": [],
   "source": [
    "from qiskit import QuantumRegister, ClassicalRegister, QuantumCircuit, execute, Aer\n",
    "qreg =  QuantumRegister(2)\n",
    "creg = ClassicalRegister(2)\n",
    "mycircuit = QuantumCircuit(qreg,creg)\n",
    "\n",
    "mycircuit.x(qreg[1])\n",
    "mycircuit.cx(qreg[1],qreg[0])\n",
    "\n",
    "mycircuit.measure(qreg,creg)\n",
    "\n",
    "job = execute(mycircuit,Aer.get_backend('qasm_simulator'),shots=1000)\n",
    "counts = job.result().get_counts(mycircuit)\n",
    "print(counts)\n",
    "mycircuit.draw(output='mpl')"
   ]
  },
  {
   "cell_type": "markdown",
   "metadata": {},
   "source": [
    "<h3>Controlled-$\\qgate{Y}$</h3>\n",
    "\n",
    "If control qubit is in state $\\ket{1}$, then $Y$ is applied to the target qubit. Matrix form of the operation is the following:\n",
    "\n",
    "$$\n",
    "    \\qgate{CY} = \\mymatrix{cccc}{1 & 0 & 0 & 0 \\\\ 0 & 1 & 0 & 0 \\\\ 0 & 0 & 0 & -i \\\\ 0 & 0 & i & 0} .\n",
    "$$\n",
    "\n",
    "Operation can be described in the following way:\n",
    "<ul>\n",
    "    <li>$ \\qgate{CY} \\ket{00} = \\ket{00} $, </li>\n",
    "    <li>$ \\qgate{CY} \\ket{01} = \\ket{01} $, </li>\n",
    "    <li>$ \\qgate{CY} \\ket{10} = i\\ket{11} $, </li>\n",
    "    <li>$ \\qgate{CY} \\ket{11} = -i\\ket{10} $. </li>\n",
    "</ul>\n",
    "\n",
    "The syntax of gate $\\qgate{CY}$ is the following:\n",
    "\n",
    "$$\n",
    "qc.cy(control\\_qubit, target\\_qubit).\n",
    "$$"
   ]
  },
  {
   "cell_type": "code",
   "execution_count": null,
   "metadata": {},
   "outputs": [],
   "source": [
    "from qiskit import QuantumRegister, ClassicalRegister, QuantumCircuit, execute, Aer\n",
    "qreg =  QuantumRegister(2)\n",
    "creg = ClassicalRegister(2)\n",
    "mycircuit = QuantumCircuit(qreg,creg)\n",
    "\n",
    "mycircuit.x(qreg[1])\n",
    "mycircuit.cy(qreg[1],qreg[0])\n",
    "\n",
    "job = execute(mycircuit,Aer.get_backend('statevector_simulator'),optimization_level=0)\n",
    "current_quantum_state=job.result().get_statevector(mycircuit)\n",
    "print(current_quantum_state)\n",
    "mycircuit.draw(output='mpl')"
   ]
  },
  {
   "cell_type": "markdown",
   "metadata": {},
   "source": [
    "<h3>Controlled-$\\qgate{Z}$</h3>\n",
    "\n",
    "If control qubit is in state $\\ket{1}$, then $\\qgate{Z}$ is applied to the target qubit. Matrix form of the operation is the following:\n",
    "\n",
    "$$\n",
    "    \\qgate{CZ} = \\mymatrix{cccc}{1 & 0 & 0 & 0 \\\\ 0 & 1 & 0 & 0 \\\\ 0 & 0 & 1 & 0 \\\\ 0 & 0 & 0 & -1} .\n",
    "$$\n",
    "\n",
    "Operation can be described in the following way:\n",
    "<ul>\n",
    "    <li>$ \\qgate{CZ} \\ket{00} = \\ket{00} $, </li>\n",
    "    <li>$ \\qgate{CZ} \\ket{01} = \\ket{01} $, </li>\n",
    "    <li>$ \\qgate{CZ} \\ket{10} = \\ket{10} $, </li>\n",
    "    <li>$ \\qgate{CZ} \\ket{11} = -\\ket{11} $. </li>\n",
    "</ul>\n",
    "\n",
    "The syntax of gate $\\qgate{CZ}$ is the following:\n",
    "\n",
    "$$\n",
    "qc.cz(control\\_qubit, target\\_qubit).\n",
    "$$"
   ]
  },
  {
   "cell_type": "code",
   "execution_count": null,
   "metadata": {},
   "outputs": [],
   "source": [
    "from qiskit import QuantumRegister, ClassicalRegister, QuantumCircuit, execute, Aer\n",
    "qreg =  QuantumRegister(2)\n",
    "creg = ClassicalRegister(2)\n",
    "mycircuit = QuantumCircuit(qreg,creg)\n",
    "\n",
    "mycircuit.x(qreg[1])\n",
    "mycircuit.x(qreg[0])\n",
    "mycircuit.cz(qreg[1],qreg[0])\n",
    "\n",
    "job = execute(mycircuit,Aer.get_backend('statevector_simulator'),optimization_level=0)\n",
    "current_quantum_state=job.result().get_statevector(mycircuit)\n",
    "print(current_quantum_state)\n",
    "mycircuit.draw(output='mpl')"
   ]
  },
  {
   "cell_type": "markdown",
   "metadata": {},
   "source": [
    "<h3>Controlled Hadamard</h3>\n",
    "\n",
    "If control qubit is in state $\\ket{1}$, then $\\qgate{H}$ is applied to the target qubit. Matrix form of the operation is the following:\n",
    "\n",
    "$$\n",
    "    \\qgate{CH} = \\mymatrix{cccc}{1 & 0 & 0 & 0 \\\\ 0 & 1 & 0 & 0 \\\\ 0 & 0 & \\frac{1}{\\sqrt{2}} & \\frac{1}{\\sqrt{2}} \\\\ 0 & 0 & \\frac{1}{\\sqrt{2}} & -\\frac{1}{\\sqrt{2}}} .\n",
    "$$\n",
    "\n",
    "Operation can be described in the following way:\n",
    "<ul>\n",
    "    <li>$ \\qgate{CH} \\ket{00} = \\ket{00} $, </li>\n",
    "    <li>$ \\qgate{CH} \\ket{01} = \\ket{01} $, </li>\n",
    "    <li>$ \\qgate{CH} \\ket{10} = \\frac{1}{\\sqrt{2}} \\ket{10} + \\frac{1}{\\sqrt{2}} \\ket{11}$, </li>\n",
    "    <li>$ \\qgate{CH} \\ket{11} = \\frac{1}{\\sqrt{2}} \\ket{10} - \\frac{1}{\\sqrt{2}} \\ket{11}$. </li>\n",
    "</ul>\n",
    "\n",
    "The syntax of gate $\\qgate{CH}$ is the following:\n",
    "\n",
    "$$\n",
    "qc.ch(control\\_qubit, target\\_qubit).\n",
    "$$"
   ]
  },
  {
   "cell_type": "code",
   "execution_count": null,
   "metadata": {},
   "outputs": [],
   "source": [
    "from qiskit import QuantumRegister, ClassicalRegister, QuantumCircuit, execute, Aer\n",
    "qreg =  QuantumRegister(2)\n",
    "creg = ClassicalRegister(2)\n",
    "mycircuit = QuantumCircuit(qreg,creg)\n",
    "\n",
    "mycircuit.x(qreg[1])\n",
    "mycircuit.ch(qreg[1],qreg[0])\n",
    "\n",
    "mycircuit.measure(qreg,creg)\n",
    "\n",
    "job = execute(mycircuit,Aer.get_backend('qasm_simulator'),shots=1000)\n",
    "counts = job.result().get_counts(mycircuit)\n",
    "print(counts)\n",
    "mycircuit.draw(output='mpl')"
   ]
  },
  {
   "cell_type": "markdown",
   "metadata": {},
   "source": [
    "<h3>Controlled rotation around $z$-axis</h3>\n",
    "\n",
    "If control qubit is in state $\\ket{1}$, then rotation around $z$-axis is applied to the target qubit. Matrix form of the operation is the following:\n",
    "\n",
    "$$\n",
    "    \\qgate{CRZ}(\\lambda) = \\mymatrix{cccc}{1 & 0 & 0 & 0 \\\\ 0 & 1 & 0 & 0 \\\\ 0 & 0 & e^{-i\\lambda/2} & 0 \\\\ 0 & 0 & 0 & e^{i\\lambda/2}} .\n",
    "$$\n",
    "\n",
    "Operation can be described in the following way:\n",
    "<ul>\n",
    "    <li>$ \\qgate{CRZ}(\\lambda) \\ket{00} = \\ket{00} $, </li>\n",
    "    <li>$ \\qgate{CRZ}(\\lambda) \\ket{01} = \\ket{01} $, </li>\n",
    "    <li>$ \\qgate{CRZ}(\\lambda) \\ket{10} = e^{-i\\lambda/2} \\ket{10}$, </li>\n",
    "    <li>$ \\qgate{CRZ}(\\lambda) \\ket{11} = e^{i\\lambda/2} \\ket{11}$. </li>\n",
    "</ul>\n",
    "\n",
    "The syntax of gate $\\qgate{CRZ}(\\lambda)$ is the following (angle $\\lambda$ in radians):\n",
    "\n",
    "$$\n",
    "qc.crz(\\lambda, control\\_qubit, target\\_qubit).\n",
    "$$"
   ]
  },
  {
   "cell_type": "code",
   "execution_count": null,
   "metadata": {},
   "outputs": [],
   "source": [
    "from qiskit import QuantumRegister, ClassicalRegister, QuantumCircuit, execute, Aer\n",
    "from math import pi\n",
    "qreg =  QuantumRegister(2)\n",
    "creg = ClassicalRegister(2)\n",
    "mycircuit = QuantumCircuit(qreg,creg)\n",
    "\n",
    "mycircuit.x(qreg[1])\n",
    "mycircuit.crz(pi/2,qreg[1],qreg[0])\n",
    "\n",
    "job = execute(mycircuit,Aer.get_backend('statevector_simulator'),optimization_level=0)\n",
    "current_quantum_state=job.result().get_statevector(mycircuit)\n",
    "print(current_quantum_state)\n",
    "mycircuit.draw(output='mpl')"
   ]
  },
  {
   "cell_type": "markdown",
   "metadata": {},
   "source": [
    "<h3>Controlled phase rotation</h3>\n",
    "\n",
    "If both qubits are in state $\\ket{11}$, then phase rotation is performed. Matrix form of the operation is the following:\n",
    "\n",
    "$$\n",
    "    \\qgate{CP}(\\lambda) = \\mymatrix{cccc}{1 & 0 & 0 & 0 \\\\ 0 & 1 & 0 & 0 \\\\ 0 & 0 & 1 & 0 \\\\ 0 & 0 & 0 & e^{i\\lambda}} .\n",
    "$$\n",
    "\n",
    "Operation can be described in the following way:\n",
    "<ul>\n",
    "    <li>$ \\qgate{CP}(\\lambda) \\ket{00} = \\ket{00} $, </li>\n",
    "    <li>$ \\qgate{CP}(\\lambda) \\ket{01} = \\ket{01} $, </li>\n",
    "    <li>$ \\qgate{CP}(\\lambda) \\ket{10} = \\ket{10}$, </li>\n",
    "    <li>$ \\qgate{CP}(\\lambda) \\ket{11} = e^{i\\lambda} \\ket{11}$. </li>\n",
    "</ul>\n",
    "\n",
    "The syntax of gate $\\qgate{CP}(\\lambda)$ is the following (angle $\\lambda$ in radians):\n",
    "\n",
    "$$\n",
    "qc.cp(\\lambda, control\\_qubit, target\\_qubit).\n",
    "$$"
   ]
  },
  {
   "cell_type": "code",
   "execution_count": null,
   "metadata": {},
   "outputs": [],
   "source": [
    "from qiskit import QuantumRegister, ClassicalRegister, QuantumCircuit, execute, Aer\n",
    "from math import pi\n",
    "qreg =  QuantumRegister(2)\n",
    "creg = ClassicalRegister(2)\n",
    "mycircuit = QuantumCircuit(qreg,creg)\n",
    "\n",
    "mycircuit.x(qreg[1])\n",
    "mycircuit.x(qreg[0])\n",
    "mycircuit.cp(pi/2,qreg[1],qreg[0])\n",
    "\n",
    "job = execute(mycircuit,Aer.get_backend('statevector_simulator'),optimization_level=0)\n",
    "current_quantum_state=job.result().get_statevector(mycircuit)\n",
    "print(current_quantum_state)\n",
    "mycircuit.draw(output='mpl')"
   ]
  },
  {
   "cell_type": "markdown",
   "metadata": {},
   "source": [
    "<h3>Controlled $\\qgate{U}$ rotation</h3>\n",
    "\n",
    "If control qubit is in state $\\ket{1}$, then rotation $\\qgate{U}$ is applied to the target qubit. Matrix form of the operation is the following:\n",
    "\n",
    "$$\n",
    "    \\qgate{CU}(\\theta, \\phi, \\lambda, \\gamma) = \n",
    "    \\mymatrix{cccc}{1 & 0 & 0 & 0 \\\\ \n",
    "                    0 & 1 & 0 & 0 \\\\\n",
    "                    0 & 0 & e^{i \\gamma}\\cos{\\frac{\\theta}{2}} & -e^{i(\\gamma + \\lambda)}\\sin{\\frac{\\theta}{2}} \\\\ \n",
    "    0 & 0 & e^{i(\\gamma + \\phi)}\\sin{\\frac{\\theta}{2}} & e^{i(\\gamma + \\phi + \\lambda )}\\cos{\\frac{\\theta}{2}}} .\n",
    "$$\n",
    "\n",
    "Operation can be described in the following way:\n",
    "<ul>\n",
    "    <li>$ \\qgate{CU}(\\theta, \\phi, \\lambda, \\gamma) \\ket{00} = \\ket{00} $, </li>\n",
    "    <li>$ \\qgate{CU}(\\theta, \\phi, \\lambda, \\gamma) \\ket{01} = \\ket{01} $, </li>\n",
    "    <li>$ \\qgate{CU}(\\theta, \\phi, \\lambda, \\gamma) \\ket{10} = e^{i \\gamma }\\cos{\\frac{\\theta}{2}} \\ket{10} + e^{i(\\gamma + \\phi)}\\sin{\\frac{\\theta}{2}} \\ket{11}$, </li>\n",
    "    <li>$ \\qgate{CU}(\\theta, \\phi, \\lambda, \\gamma) \\ket{11} = -e^{i(\\gamma + \\lambda)}\\sin{\\frac{\\theta}{2}} \\ket{10} + e^{i(\\gamma + \\phi + \\lambda)}\\cos{\\frac{\\theta}{2}} \\ket{11}$. </li>\n",
    "</ul>\n",
    "\n",
    "The syntax of gate $\\qgate{CU}(\\theta, \\phi, \\lambda, \\gamma)$ is the following (angles $\\theta, \\phi,\n",
    "\\lambda, \\gamma$ are in radians):\n",
    "\n",
    "$$\n",
    "qc.cu(\\theta, \\phi, \\lambda, \\gamma, control\\_qubit, target\\_qubit).\n",
    "$$"
   ]
  },
  {
   "cell_type": "code",
   "execution_count": 2,
   "metadata": {},
   "outputs": [
    {
     "name": "stdout",
     "output_type": "stream",
     "text": [
      "[0.00000000e+00+0.j         0.00000000e+00+0.j\n",
      " 7.07106781e-01+0.j         4.32978028e-17+0.70710678j]\n"
     ]
    },
    {
     "data": {
      "image/png": "[encoded data removed]",
      "text/plain": [
       "<Figure size 280.323x204.68 with 1 Axes>"
      ]
     },
     "execution_count": 2,
     "metadata": {},
     "output_type": "execute_result"
    }
   ],
   "source": [
    "from qiskit import QuantumRegister, ClassicalRegister, QuantumCircuit, execute, Aer\n",
    "from math import pi\n",
    "qreg =  QuantumRegister(2)\n",
    "creg = ClassicalRegister(2)\n",
    "mycircuit = QuantumCircuit(qreg,creg)\n",
    "\n",
    "mycircuit.x(qreg[1])\n",
    "mycircuit.cu(pi/2,pi/2,pi/2,0,qreg[1],qreg[0])\n",
    "\n",
    "job = execute(mycircuit,Aer.get_backend('statevector_simulator'),optimization_level=0)\n",
    "current_quantum_state=job.result().get_statevector(mycircuit)\n",
    "print(current_quantum_state)\n",
    "mycircuit.draw(output='mpl')"
   ]
  },
  {
   "cell_type": "markdown",
   "metadata": {},
   "source": [
    "<h3> Global phase and controlled operations </h3>\n"
   ]
  },
  {
   "cell_type": "markdown",
   "metadata": {},
   "source": [
    "We have seen that an overall complex phase factor $e^{i\\delta}$, called *global phase*, can be dropped or inserted into the mathematical expressions for quantum states $\\ket{\\psi}$. In the previous sections we have also observed that an overall multiplication of single qubit rotations are also irrelevant. For example, the phase gate,\n",
    "\n",
    "$$\n",
    "\\qgate{P}(\\lambda) = \\mymatrix{rr}{1 & 0 \\\\ 0& e^{i\\lambda} }\n",
    "$$\n",
    "and the $z$-rotation gate\n",
    "$$\n",
    "\\qgate{RZ}(\\lambda) = \\mymatrix{rr}{ e^{-i\\lambda/2} & 0 \\\\ 0& e^{i\\lambda/2} }\n",
    "$$\n",
    "are related to each other as\n",
    "$$\n",
    "    \\qgate{P}(\\lambda) = e^{i\\lambda/2} \\qgate{RZ}(\\lambda),\n",
    "$$\n",
    "and lead to the same rotation on the Bloch sphere.\n",
    " \n",
    "We might think that their controlled versions, $\\qgate{CRZ}$ and $\\qgate{CP}$ will also lead to the same operations:"
   ]
  },
  {
   "cell_type": "code",
   "execution_count": 2,
   "metadata": {},
   "outputs": [],
   "source": [
    "from qiskit import QuantumRegister, ClassicalRegister, QuantumCircuit, execute, Aer\n",
    "from math import pi\n",
    "lambda_angle = pi/4"
   ]
  },
  {
   "cell_type": "code",
   "execution_count": 4,
   "metadata": {},
   "outputs": [
    {
     "data": {
      "image/png": "[encoded data removed]",
      "text/plain": [
       "<Figure size 146.652x204.68 with 1 Axes>"
      ]
     },
     "execution_count": 4,
     "metadata": {},
     "output_type": "execute_result"
    }
   ],
   "source": [
    "circuit1 = QuantumCircuit(2,2)\n",
    "circuit1.crz(lambda_angle,1,0)\n",
    "circuit1.draw(output='mpl')"
   ]
  },
  {
   "cell_type": "code",
   "execution_count": 5,
   "metadata": {},
   "outputs": [
    {
     "data": {
      "image/png": "[encoded data removed]",
      "text/plain": [
       "<Figure size 206.852x204.68 with 1 Axes>"
      ]
     },
     "execution_count": 5,
     "metadata": {},
     "output_type": "execute_result"
    }
   ],
   "source": [
    "circuit2 = QuantumCircuit(2,2)\n",
    "circuit2.cp(lambda_angle, 1,0)\n",
    "circuit2.draw(output='mpl')"
   ]
  },
  {
   "cell_type": "markdown",
   "metadata": {},
   "source": [
    "These two controlled gates are, however, not equivalent. We can tell this immediately, by considering the effect of swapping the two qubits.\n",
    "\n",
    "Let $\\qgate{CRZ}'(\\lambda) := \\qgate{SWAP} \\qgate{CRZ}(\\lambda) \\qgate{SWAP}$ and $\\qgate{CP}'(\\lambda) := \\qgate{SWAP} \\qgate{CP}(\\lambda) \\qgate{SWAP}$. Then the basis states will be mapped as\n",
    "<ul>\n",
    "    <li>$ \\qgate{CRZ}'(\\lambda) \\ket{00} = \\ket{00} $, </li>\n",
    "    <li>$ \\qgate{CRZ}'(\\lambda) \\ket{01} = e^{-i\\lambda/2} \\ket{01} $, </li>\n",
    "    <li>$ \\qgate{CRZ}'(\\lambda) \\ket{10} = \\ket{10}$, </li>\n",
    "    <li>$ \\qgate{CRZ}'(\\lambda) \\ket{11} = e^{i\\lambda/2} \\ket{11}$,</li>\n",
    "</ul>\n",
    "and\n",
    "<ul>\n",
    "    <li>$ \\qgate{CP}'(\\lambda) \\ket{00} = \\ket{00} $, </li>\n",
    "    <li>$ \\qgate{CP}'(\\lambda) \\ket{01} = \\ket{01} $, </li>\n",
    "    <li>$ \\qgate{CP}'(\\lambda) \\ket{10} = \\ket{10}$, </li>\n",
    "    <li>$ \\qgate{CP}'(\\lambda) \\ket{11} = e^{i\\lambda} \\ket{11}$. </li>\n",
    "</ul>\n",
    "We see that while the effect of $RZ$ changes, the effect of $\\qgate{CP}$ stays the same if we swap the two qubits. This latter property is reflected also in the quantum circuit notation: it is denoted by symmetric symbol. "
   ]
  },
  {
   "cell_type": "markdown",
   "metadata": {},
   "source": [
    "How the two gates $\\qgate{CRZ}$ and $\\qgate{CP}$ are related to each other? It turns out that this is very simple: the difference is just a single $\\qgate{P}(\\lambda/2)$ on the *control* qubit. Let us consider the quantum circuit depicted below."
   ]
  },
  {
   "cell_type": "code",
   "execution_count": 51,
   "metadata": {},
   "outputs": [
    {
     "data": {
      "image/png": "[encoded data removed]",
      "text/plain": [
       "<Figure size 206.852x204.68 with 1 Axes>"
      ]
     },
     "execution_count": 51,
     "metadata": {},
     "output_type": "execute_result"
    }
   ],
   "source": [
    "circuit3 = QuantumCircuit(2,2)\n",
    "circuit3.p(lambda_angle/2,1)\n",
    "circuit3.crz(lambda_angle,1,0)\n",
    "circuit3.draw(output='mpl')"
   ]
  },
  {
   "cell_type": "markdown",
   "metadata": {},
   "source": [
    "The effect of this circuit on the basis states can be computed:\n",
    "<ul>\n",
    "    <li>$ \\qgate{CRZ}(\\lambda) (\\qgate{P}(\\lambda) \\otimes I) \\ket{00} = \\qgate{CRZ}(\\lambda) \\ket{00} = \\ket{00} $, </li>\n",
    "    <li>$ \\qgate{CRZ}(\\lambda) (\\qgate{P}(\\lambda) \\otimes I) \\ket{01} = \\qgate{CRZ}(\\lambda) \\ket{01} = \\ket{01} $, </li>\n",
    "    <li>$ \\qgate{CRZ}(\\lambda) (\\qgate{P}(\\lambda) \\otimes I) \\ket{10} = \\qgate{CRZ}(\\lambda) e^{i\\lambda/2} \\ket{10} =  e^{i\\lambda/2}  \\qgate{CRZ}(\\lambda)\\ket{10} =\\ket{10}$, </li>\n",
    "    <li>$ \\qgate{CRZ}(\\lambda) (\\qgate{P}(\\lambda) \\otimes I) \\ket{11} = \\qgate{CRZ}(\\lambda) e^{i\\lambda/2} \\ket{11} = e^{i\\lambda/2} \\qgate{CRZ}(\\lambda) \\ket{11} =e^{i\\lambda} \\ket{11}$, </li>\n",
    "</ul>\n",
    "and is the same as the effect of the $\\qgate{CP}(\\lambda)$ gate. We can also convince ourselves that the order of $\\qgate{CRZ}$ and $\\qgate{P}$ does not make any difference, i.e. we can shift the $\\qgate{P}$ gate left-right along the quantum wire."
   ]
  },
  {
   "cell_type": "markdown",
   "metadata": {},
   "source": [
    "Will this phase ever make a difference in the measurement statistics? The code below shows an example where it indeed does! The above relation to the single qubit phase $\\qgate{P}$ can help us to understanding why."
   ]
  },
  {
   "cell_type": "code",
   "execution_count": 95,
   "metadata": {},
   "outputs": [
    {
     "name": "stdout",
     "output_type": "stream",
     "text": [
      "Checking CRZ gate\n"
     ]
    },
    {
     "data": {
      "image/png": "[encoded data removed]",
      "text/plain": [
       "<Figure size 267.052x204.68 with 1 Axes>"
      ]
     },
     "metadata": {},
     "output_type": "display_data"
    },
    {
     "name": "stdout",
     "output_type": "stream",
     "text": [
      "00 🠖 {'10': 1024}\n",
      "01 🠖 {'11': 1024}\n",
      "10 🠖 {'00': 1024}\n",
      "11 🠖 {'01': 1024}\n",
      "\n",
      "\n",
      "---------------------------------\n",
      "Checking CP gate\n"
     ]
    },
    {
     "data": {
      "image/png": "[encoded data removed]",
      "text/plain": [
       "<Figure size 267.052x204.68 with 1 Axes>"
      ]
     },
     "metadata": {},
     "output_type": "display_data"
    },
    {
     "name": "stdout",
     "output_type": "stream",
     "text": [
      "00 🠖 {'00': 1024}\n",
      "01 🠖 {'01': 1024}\n",
      "10 🠖 {'10': 1024}\n",
      "11 🠖 {'11': 1024}\n"
     ]
    }
   ],
   "source": [
    "from qiskit import QuantumRegister, ClassicalRegister, QuantumCircuit, execute, Aer\n",
    "\n",
    "def check_controlled_gate_phase(cgate):\n",
    "    for i in range(4):\n",
    "        circuit4 = QuantumCircuit(2,2)\n",
    "        if (i&1)==1: circuit4.x(0)\n",
    "        if ((i>>1)&1)==1: circuit4.x(1)\n",
    "        \n",
    "        lambda_angle=2*pi\n",
    "\n",
    "        circuit4.h(1)\n",
    "        if (cgate=='crz'):\n",
    "            circuit4.crz(lambda_angle, 1,0)\n",
    "        if (cgate=='cp'):\n",
    "            circuit4.cp(lambda_angle, 1,0)\n",
    "        circuit4.h(1)\n",
    "      \n",
    "        if i==0:\n",
    "            display(circuit4.draw(output='mpl'))\n",
    "    \n",
    "        circuit4.measure([0,1], [0,1])\n",
    "    \n",
    "        job = execute(circuit4, Aer.get_backend('qasm_simulator'),shots=1024)\n",
    "        print(format(i,\"02b\"),\"🠖\", job.result().get_counts(circuit4))\n",
    "\n",
    "\n",
    "print(\"Checking CRZ gate\")\n",
    "check_controlled_gate_phase('crz')\n",
    "\n",
    "print(\"\\n\\n---------------------------------\")\n",
    "print(\"Checking CP gate\")\n",
    "check_controlled_gate_phase('cp')"
   ]
  },
  {
   "cell_type": "markdown",
   "metadata": {},
   "source": [
    "<h3> Task 2 </h3>\n",
    "\n",
    "Construct the $\\qgate{CP}$ gate in a circuit using the $\\qgate{RZ}$ gate and the $\\qgate{P}$ gate."
   ]
  },
  {
   "cell_type": "code",
   "execution_count": null,
   "metadata": {},
   "outputs": [],
   "source": [
    "\n",
    "# Your solution here\n"
   ]
  },
  {
   "cell_type": "markdown",
   "metadata": {},
   "source": [
    "<a href=\"C09_Multiqubit_Operations_Solutions.ipynb#task2\">click for our solution</a>"
   ]
  },
  {
   "cell_type": "markdown",
   "metadata": {},
   "source": [
    "<h2>Three Qubit Gates</h2>\n",
    "\n"
   ]
  },
  {
   "cell_type": "markdown",
   "metadata": {},
   "source": [
    "<h3>Toffoli gate ($\\qgate{CCX}$ gate)</h3>\n",
    "\n",
    "This gate has two control qubits, and if both are in state $\\ket{1}$, then $X$ is applied to the target qubit. Matrix form of the operation is the following:\n",
    "\n",
    "$$\n",
    "    \\qgate{CCX} = \\mymatrix{cccccccc}{1 & 0 & 0 & 0 & 0 & 0 & 0 & 0 \\\\ 0 & 1 & 0 & 0 & 0 & 0 & 0 & 0 \\\\ 0 & 0 & 1 & 0 & 0 & 0 & 0 & 0 \\\\ 0 & 0 & 0 & 1 & 0 & 0 & 0 & 0 \\\\ 0 & 0 & 0 & 0 & 1 & 0 & 0 & 0 \\\\ 0 & 0 & 0 & 0 & 0 & 1 & 0 & 0 \\\\ 0 & 0 & 0 & 0 & 0 & 0 & 0 & 1 \\\\ 0 & 0 & 0 & 0 & 0 & 0 & 1 & 0} .\n",
    "$$\n",
    "\n",
    "Operation can be described in the following way:\n",
    "<ul>\n",
    "    <li>$ \\qgate{CCX} \\ket{000} = \\ket{000}$, </li>\n",
    "    <li>$ \\qgate{CCX} \\ket{001} = \\ket{001}$, </li>\n",
    "    <li>$ \\qgate{CCX} \\ket{010} = \\ket{010}$, </li>\n",
    "    <li>$ \\qgate{CCX} \\ket{011} = \\ket{011}$, </li>\n",
    "    <li>$ \\qgate{CCX} \\ket{100} = \\ket{100}$, </li>\n",
    "    <li>$ \\qgate{CCX} \\ket{101} = \\ket{101}$, </li>\n",
    "    <li>$ \\qgate{CCX} \\ket{110} = \\ket{111}$, </li>\n",
    "    <li>$ \\qgate{CCX} \\ket{111} = \\ket{110}$. </li>\n",
    "</ul>\n",
    "\n",
    "The syntax of $\\qgate{CCX}$ gate is the following:\n",
    "\n",
    "$$\n",
    "qc.ccx(control\\_qubit1, control\\_qubit2, target\\_qubit).\n",
    "$$"
   ]
  },
  {
   "cell_type": "code",
   "execution_count": null,
   "metadata": {},
   "outputs": [],
   "source": [
    "from qiskit import QuantumRegister, ClassicalRegister, QuantumCircuit, execute, Aer\n",
    "qreg =  QuantumRegister(3)\n",
    "creg = ClassicalRegister(3)\n",
    "mycircuit = QuantumCircuit(qreg,creg)\n",
    "\n",
    "mycircuit.x(qreg[2])\n",
    "mycircuit.x(qreg[1])\n",
    "mycircuit.ccx(qreg[2],qreg[1],qreg[0])\n",
    "\n",
    "mycircuit.measure(qreg,creg)\n",
    "\n",
    "job = execute(mycircuit,Aer.get_backend('qasm_simulator'),shots=1000)\n",
    "counts = job.result().get_counts(mycircuit)\n",
    "print(counts)\n",
    "mycircuit.draw(output='mpl')"
   ]
  },
  {
   "cell_type": "markdown",
   "metadata": {},
   "source": [
    "<h3>Fredkin gate (controlled $\\qgate{SWAP}$ gate)</h3>\n",
    "\n",
    "This gate has one control qubit, and if it is in state $\\ket{1}$, then SWAP operation is applied to both target qubits. Matrix form of the operation is the following:\n",
    "\n",
    "$$\n",
    "    \\qgate{CSWAP} = \\mymatrix{cccccccc}{1 & 0 & 0 & 0 & 0 & 0 & 0 & 0 \\\\ 0 & 1 & 0 & 0 & 0 & 0 & 0 & 0 \\\\ 0 & 0 & 1 & 0 & 0 & 0 & 0 & 0 \\\\ 0 & 0 & 0 & 1 & 0 & 0 & 0 & 0 \\\\ 0 & 0 & 0 & 0 & 1 & 0 & 0 & 0 \\\\ 0 & 0 & 0 & 0 & 0 & 0 & 1 & 0 \\\\ 0 & 0 & 0 & 0 & 0 & 1 & 0 & 0 \\\\ 0 & 0 & 0 & 0 & 0 & 0 & 0 & 1} .\n",
    "$$\n",
    "\n",
    "Operation can be described in the following way:\n",
    "<ul>\n",
    "    <li>$ \\qgate{CSWAP} \\ket{000} = \\ket{000}$, </li>\n",
    "    <li>$ \\qgate{CSWAP} \\ket{001} = \\ket{001}$, </li>\n",
    "    <li>$ \\qgate{CSWAP} \\ket{010} = \\ket{010}$, </li>\n",
    "    <li>$ \\qgate{CSWAP} \\ket{011} = \\ket{011}$, </li>\n",
    "    <li>$ \\qgate{CSWAP} \\ket{100} = \\ket{100}$, </li>\n",
    "    <li>$ \\qgate{CSWAP} \\ket{101} = \\ket{110}$, </li>\n",
    "    <li>$ \\qgate{CSWAP} \\ket{110} = \\ket{101}$, </li>\n",
    "    <li>$ \\qgate{CSWAP} \\ket{111} = \\ket{111}$. </li>\n",
    "</ul>\n",
    "\n",
    "The syntax of $\\qgate{CSWAP}$ gate is the following:\n",
    "\n",
    "$$\n",
    "qc.cswap(control\\_qubit, target\\_qubit1, target\\_qubit2).\n",
    "$$"
   ]
  },
  {
   "cell_type": "code",
   "execution_count": null,
   "metadata": {},
   "outputs": [],
   "source": [
    "from qiskit import QuantumRegister, ClassicalRegister, QuantumCircuit, execute, Aer\n",
    "qreg =  QuantumRegister(3)\n",
    "creg = ClassicalRegister(3)\n",
    "mycircuit = QuantumCircuit(qreg,creg)\n",
    "\n",
    "mycircuit.x(qreg[2])\n",
    "mycircuit.h(qreg[1])\n",
    "mycircuit.cswap(qreg[1],qreg[2],qreg[0])\n",
    "\n",
    "mycircuit.measure(qreg,creg)\n",
    "\n",
    "job = execute(mycircuit,Aer.get_backend('qasm_simulator'),shots=1000)\n",
    "counts = job.result().get_counts(mycircuit)\n",
    "print(counts)\n",
    "mycircuit.draw(output='mpl')"
   ]
  },
  {
   "cell_type": "markdown",
   "metadata": {},
   "source": [
    "<h3> Task 3 </h3>\n",
    "\n",
    "Create a method named `fredkin` and implement Fredkin gate using $\\qgate{CNOT}$ and $\\qgate{CCNOT}$ operators. Use unitary simulator to check the unitary matrix corresponding to your circuit. (Follow the Qiskit order.)"
   ]
  },
  {
   "cell_type": "code",
   "execution_count": null,
   "metadata": {},
   "outputs": [],
   "source": [
    "from qiskit import QuantumRegister, ClassicalRegister, QuantumCircuit, execute, Aer\n",
    "\n",
    "def fredkin():\n",
    "    circuit = QuantumCircuit(3)\n",
    "    \n",
    "    #\n",
    "    # Your code here\n",
    "    #\n",
    "    \n",
    "    return circuit"
   ]
  },
  {
   "cell_type": "code",
   "execution_count": null,
   "metadata": {},
   "outputs": [],
   "source": [
    "circuit = fredkin()\n",
    "\n",
    "job = execute(circuit,Aer.get_backend('unitary_simulator'),shots=1)\n",
    "u=job.result().get_unitary(circuit,decimals=3)\n",
    "for i in range(len(u)):\n",
    "    s=\"\"\n",
    "    for j in range(len(u)):\n",
    "        val = str(u[i][j].real)\n",
    "        while(len(val)<5): val  = \" \"+val\n",
    "        s = s + val\n",
    "    print(s)\n",
    "\n",
    "circuit.draw(output=\"mpl\")"
   ]
  },
  {
   "cell_type": "markdown",
   "metadata": {},
   "source": [
    "<a href=\"C09_Multiqubit_Operations_Solutions.ipynb#task3\">click for our solution</a>"
   ]
  }
 ],
 "metadata": {
  "kernelspec": {
   "display_name": "Python 3",
   "language": "python",
   "name": "python3"
  },
  "language_info": {
   "codemirror_mode": {
    "name": "ipython",
    "version": 3
   },
   "file_extension": ".py",
   "mimetype": "text/x-python",
   "name": "python",
   "nbconvert_exporter": "python",
   "pygments_lexer": "ipython3",
   "version": "3.7.3"
  }
 },
 "nbformat": 4,
 "nbformat_minor": 2
}
