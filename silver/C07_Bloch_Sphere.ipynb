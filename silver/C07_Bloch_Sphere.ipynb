{
 "cells": [
  {
   "cell_type": "markdown",
   "metadata": {},
   "source": [
    "<table align=\"left\"  width=\"100%\"> <tr>\n",
    "        <td  style=\"background-color:#ffffff;\">\n",
    "            <a href=\"http://qworld.lu.lv\" target=\"_blank\"><img src=\"../images/qworld.jpg\" width=\"35%\" align=\"left\"> </a></td>\n",
    "        <td style=\"background-color:#ffffff;vertical-align:bottom;text-align:right;\">\n",
    "            prepared by Maksim Dimitrijev (<a href=\"http://qworld.lu.lv/index.php/qlatvia/\" target=\"_blank\">QLatvia</a>)\n",
    "        </td>        \n",
    "</tr></table>"
   ]
  },
  {
   "cell_type": "markdown",
   "metadata": {},
   "source": [
    "<table width=\"100%\"><tr><td style=\"color:#bbbbbb;background-color:#ffffff;font-size:11px;font-style:italic;text-align:right;\">This cell contains some macros. If there is a problem with displaying mathematical formulas, please run this cell to load these macros. </td></tr></table>\n",
    "$ \\newcommand{\\bra}[1]{\\langle #1|} $\n",
    "$ \\newcommand{\\ket}[1]{|#1\\rangle} $\n",
    "$ \\newcommand{\\braket}[2]{\\langle #1|#2\\rangle} $\n",
    "$ \\newcommand{\\dot}[2]{ #1 \\cdot #2} $\n",
    "$ \\newcommand{\\biginner}[2]{\\left\\langle #1,#2\\right\\rangle} $\n",
    "$ \\newcommand{\\mymatrix}[2]{\\left( \\begin{array}{#1} #2\\end{array} \\right)} $\n",
    "$ \\newcommand{\\myvector}[1]{\\mymatrix{c}{#1}} $\n",
    "$ \\newcommand{\\myrvector}[1]{\\mymatrix{r}{#1}} $\n",
    "$ \\newcommand{\\mypar}[1]{\\left( #1 \\right)} $\n",
    "$ \\newcommand{\\mybigpar}[1]{ \\Big( #1 \\Big)} $\n",
    "$ \\newcommand{\\sqrttwo}{\\frac{1}{\\sqrt{2}}} $\n",
    "$ \\newcommand{\\dsqrttwo}{\\dfrac{1}{\\sqrt{2}}} $\n",
    "$ \\newcommand{\\onehalf}{\\frac{1}{2}} $\n",
    "$ \\newcommand{\\donehalf}{\\dfrac{1}{2}} $\n",
    "$ \\newcommand{\\hadamard}{ \\mymatrix{rr}{ \\sqrttwo & \\sqrttwo \\\\ \\sqrttwo & -\\sqrttwo }} $\n",
    "$ \\newcommand{\\vzero}{\\myvector{1\\\\0}} $\n",
    "$ \\newcommand{\\vone}{\\myvector{0\\\\1}} $\n",
    "$ \\newcommand{\\stateplus}{\\myvector{ \\sqrttwo \\\\  \\sqrttwo } } $\n",
    "$ \\newcommand{\\stateminus}{ \\myrvector{ \\sqrttwo \\\\ -\\sqrttwo } } $\n",
    "$ \\newcommand{\\myarray}[2]{ \\begin{array}{#1}#2\\end{array}} $\n",
    "$ \\newcommand{\\X}{ \\mymatrix{cc}{0 & 1 \\\\ 1 & 0}  } $\n",
    "$ \\newcommand{\\Z}{ \\mymatrix{rr}{1 & 0 \\\\ 0 & -1}  } $\n",
    "$ \\newcommand{\\Htwo}{ \\mymatrix{rrrr}{ \\frac{1}{2} & \\frac{1}{2} & \\frac{1}{2} & \\frac{1}{2} \\\\ \\frac{1}{2} & -\\frac{1}{2} & \\frac{1}{2} & -\\frac{1}{2} \\\\ \\frac{1}{2} & \\frac{1}{2} & -\\frac{1}{2} & -\\frac{1}{2} \\\\ \\frac{1}{2} & -\\frac{1}{2} & -\\frac{1}{2} & \\frac{1}{2} } } $\n",
    "$ \\newcommand{\\CNOT}{ \\mymatrix{cccc}{1 & 0 & 0 & 0 \\\\ 0 & 1 & 0 & 0 \\\\ 0 & 0 & 0 & 1 \\\\ 0 & 0 & 1 & 0} } $\n",
    "$ \\newcommand{\\norm}[1]{ \\left\\lVert #1 \\right\\rVert } $\n",
    "$ \\newcommand{\\pstate}[1]{ \\lceil \\mspace{-1mu} #1 \\mspace{-1.5mu} \\rfloor } $\n",
    "$ \\newcommand{\\Y}{ \\mymatrix{rr}{0 & -i \\\\ i & 0} } $ $ \\newcommand{\\S}{ \\mymatrix{rr}{1 & 0 \\\\ 0 & i} } $ \n",
    "$ \\newcommand{\\T}{ \\mymatrix{rr}{1 & 0 \\\\ 0 & e^{i \\frac{pi}{4}}} } $ \n",
    "$ \\newcommand{\\Sdg}{ \\mymatrix{rr}{1 & 0 \\\\ 0 & -i} } $ \n",
    "$ \\newcommand{\\Tdg}{ \\mymatrix{rr}{1 & 0 \\\\ 0 & e^{-i \\frac{pi}{4}}} } $"
   ]
  },
  {
   "cell_type": "markdown",
   "metadata": {},
   "source": [
    "<h1> Bloch sphere </h1>"
   ]
  },
  {
   "cell_type": "markdown",
   "metadata": {},
   "source": [
    "In the previous notebook, we visualized the state of a qubit $\\ket{\\psi} = \\cos{\\frac{\\theta}{2}} \\ket{0} + e^{i\\phi} \\sin{\\frac{\\theta}{2}} \\ket{1}$ by separatly drawing angles $\\frac{\\theta}{2}$ and $\\phi$. Bloch sphere geometrically represents the state of a qubit with both angles giving a vector from the center of a unit sphere (sphere with radius equal to one unit) to the surface of the sphere. Two angles precisely determine the point, at which the vector is pointing. The only exception is when $\\ket{\\psi} = \\ket{0}$ or $\\ket{\\psi} = \\ket{1}$ - in that case for any angle $\\phi$ it will be the same point on the surface. Note that we don't take into account the global phase. To summarize:\n",
    "<ul>\n",
    "    <li>Bloch sphere as a geometrical object covers all possible states of a single qubit (upto global phase);</li>\n",
    "    <li>Each point on the surface of the Bloch sphere represents state of a qubit.</li>\n",
    "</ul>"
   ]
  },
  {
   "cell_type": "markdown",
   "metadata": {},
   "source": [
    "Here we can see how the Bloch sphere looks like:\n",
    "\n",
    "<img src=\"../images/bloch_sphere.png\" width=\"40%\">"
   ]
  },
  {
   "cell_type": "markdown",
   "metadata": {},
   "source": [
    "The Bloch sphere as 3D object has three axes. States on the opposite ends of each axis are orthogonal (in fact, any two states on the opposite sides of a Bloch sphere are orthogonal.)."
   ]
  },
  {
   "cell_type": "markdown",
   "metadata": {},
   "source": [
    "- On the poles of the z-axis there are states $\\ket{0}$ and $\\ket{1}$. \n",
    "\n",
    "- The angle $\\theta$ shows how far the state is from state $\\ket{0}$. \n",
    "\n",
    "- The angle $\\phi$ shows the local phase, that is how much the state is \"rotated\" around z-axis. \n",
    "\n",
    "- Poles of the x-axis represent the states $\\frac{1}{\\sqrt{2}} (\\ket{0} + \\ket{1})$ and $\\frac{1}{\\sqrt{2}} (\\ket{0} - \\ket{1})$ and they differ by a local phase of $\\phi = \\pi$.\n",
    "\n",
    "- Poles of the y-axis represent the states $\\frac{1}{\\sqrt{2}} (\\ket{0} + i\\ket{1})$ and $\\frac{1}{\\sqrt{2}} (\\ket{0} - i\\ket{1})$ and they differ by a local phase of $\\phi = \\pi$.. "
   ]
  },
  {
   "cell_type": "markdown",
   "metadata": {},
   "source": [
    "Starting from $\\frac{1}{\\sqrt{2}} (\\ket{0} + \\ket{1})$ and changing the phase in each step by $\\frac{\\pi}{2}$ we reach the states  $\\frac{1}{\\sqrt{2}} (\\ket{0} + i \\ket{1})$, $\\frac{1}{\\sqrt{2}} (\\ket{0} - \\ket{1})$, $\\frac{1}{\\sqrt{2}} (\\ket{0} - i \\ket{1})$, or, if we show the local phase in Euler form, then we have $\\frac{1}{\\sqrt{2}} (\\ket{0} + e^{i \\cdot 0} \\ket{1})$, $\\frac{1}{\\sqrt{2}} (\\ket{0} + e^{i \\cdot \\frac{\\pi}{2}} \\ket{1})$, $\\frac{1}{\\sqrt{2}} (\\ket{0} + e^{i \\cdot \\pi} \\ket{1})$, $\\frac{1}{\\sqrt{2}} (\\ket{0} + e^{i \\cdot \\frac{3 \\pi}{2}} \\ket{1})$."
   ]
  },
  {
   "cell_type": "markdown",
   "metadata": {},
   "source": [
    "# <h2> Understanding the angles </h2>\n",
    "\n",
    "Geometrically we are used to perceive two orthogonal states as the ones that have angle of 90 degrees ($\\frac{\\pi}{2}$) between them. This worked quite well when we represented quantum state with real-valued amplitudes in the 2D-plane. As now you know, angle $\\theta$ is responsible for the real part of the amplitudes, and shows how \"far\" the state is from the state $\\ket{0}$. Let's take a look at general quantum state\n",
    "\n",
    "$$\n",
    "\\ket{\\psi} = \\cos{\\frac{\\theta}{2}} \\ket{0} + e^{i\\phi} \\sin{\\frac{\\theta}{2}} \\ket{1},\n",
    "$$\n",
    "\n",
    "where $0 \\leq \\theta \\leq \\pi$ and $0 \\leq \\phi < 2\\pi$, and focus only on the case with real-valued amplitudes. In that case we have $\\phi = 0$:\n",
    "\n",
    "$$\n",
    "\\ket{\\psi} = \\cos{\\frac{\\theta}{2}} \\ket{0} + \\sin{\\frac{\\theta}{2}} \\ket{1}.\n",
    "$$"
   ]
  },
  {
   "cell_type": "markdown",
   "metadata": {},
   "source": [
    "Note that the angle provided to $\\cos$ and $\\sin$ functions lie in interval $[0, \\frac{\\pi}{2}]$, which gives us the first quadrant of a unit circle on the 2D plane. For example, when we have $\\theta = \\frac{\\pi}{2}$, we have angle of 45 degrees, and so our state looks in the following way:\n",
    "\n",
    "<img src=\"../images/real_45_degree_state.png\" width=\"20%\">"
   ]
  },
  {
   "cell_type": "markdown",
   "metadata": {},
   "source": [
    "While visually we have angle $\\frac{\\theta}{2}$ from the state $\\ket{0}$ on a 2D-plane, on a Bloch sphere we have angle $\\theta$ from the state $\\ket{0}$, and so orthogonal state $\\ket{1}$ is located 180 degrees ($\\pi$ radians) away from the state $\\ket{0}$."
   ]
  },
  {
   "cell_type": "markdown",
   "metadata": {},
   "source": [
    "On a Bloch sphere it is easier to first find the geometrical position of the state on an equator (as if $\\theta = \\frac{\\pi}{2}$). The angle $\\phi$ begins the rotation from the state $\\frac{1}{\\sqrt{2}} (\\ket{0} + \\ket{1})$. When you find the position of the state on an equator, then you can easily find the right position that takes into account also the angle $\\theta$."
   ]
  },
  {
   "cell_type": "markdown",
   "metadata": {},
   "source": [
    "<h2> Visualization of the state </h2>\n",
    "\n",
    "To visualize the state $\\ket{\\psi} = \\cos{\\frac{\\theta}{2}} \\ket{0} + e^{i\\phi} \\sin{\\frac{\\theta}{2}} \\ket{1}$  on a Bloch sphere, we need to take the following coordinates:\n",
    "<ul>\n",
    "    <li>$x = \\sin \\theta \\cos \\phi$</li>\n",
    "    <li>$y = \\sin \\theta \\sin \\phi$</li>\n",
    "    <li>$z = \\cos \\theta$.</li>\n",
    "</ul>\n",
    "\n",
    "Let's visualize the state $\\ket{\\psi} = \\cos{\\frac{\\pi}{4}} \\ket{0} + e^{i \\frac{4\\pi}{3}} \\sin{\\frac{\\pi}{4}} \\ket{1}$, where we have $\\theta = \\frac{\\pi}{2}$ and $\\phi = \\frac{4\\pi}{3}$. In this case our coordinates will be:\n",
    "<ul>\n",
    "    <li>$x = -\\frac{1}{2}$</li>\n",
    "    <li>$y = -\\frac{\\sqrt{3}}{2}$</li>\n",
    "    <li>$z = 0$.</li>\n",
    "</ul>"
   ]
  },
  {
   "cell_type": "code",
   "execution_count": null,
   "metadata": {
    "scrolled": true
   },
   "outputs": [],
   "source": [
    "from qiskit.visualization import plot_bloch_vector, bloch\n",
    "from matplotlib.pyplot import text\n",
    "from math import pi, cos, sin\n",
    "from qutip import *\n",
    "\n",
    "# angles that represent our state\n",
    "theta = pi/2\n",
    "phi = 4*pi/3\n",
    "\n",
    "# calculating the coordinates\n",
    "x = sin(theta)*cos(phi)\n",
    "y = sin(theta)*sin(phi)\n",
    "z = cos(theta)\n",
    "\n",
    "# preparing the sphere\n",
    "sphere = bloch\n",
    "sphere.Bloch\n",
    "b = Bloch()\n",
    "# preparing the lables\n",
    "b.ylpos = [1.1, -1.2]\n",
    "b.xlabel = ['$\\\\left|0\\\\right>+\\\\left|1\\\\right>$', '$\\\\left|0\\\\right>-\\\\left|1\\\\right>$']\n",
    "b.ylabel = ['$\\\\left|0\\\\right>+i\\\\left|1\\\\right>$', '$\\\\left|0\\\\right>-i\\\\left|1\\\\right>$']\n",
    "# first 6 drawn vectors will be blue, the 7th - red\n",
    "b.vector_color = ['b','b','b','b','b','b','r']\n",
    "# drawing vectors of orthogonal states (most popular bases), note the coordinates of vectors,\n",
    "# they correspond to the according states.\n",
    "b.add_vectors([[0,0,1],[0,0,-1],[0,1,0],[0,-1,0],[1,0,0],[-1,0,0]])\n",
    "# drawing our state (as 7th vector)\n",
    "b.add_vectors([x,y,z])\n",
    "# showing the Bloch sphere with all that we have prepared\n",
    "b.show()"
   ]
  },
  {
   "cell_type": "markdown",
   "metadata": {},
   "source": [
    "<h3> Task 1 </h3>\n",
    "\n",
    "Play around with the code above to draw different states by changing $\\theta$ and $\\phi$. Can you manage to draw two different states on the same Bloch sphere?"
   ]
  },
  {
   "cell_type": "markdown",
   "metadata": {},
   "source": [
    "<h3> Task 2 </h3>\n",
    "\n",
    "Implement a function in Python that takes quantum state $\\cos{\\frac{\\theta}{2}} \\ket{0} + e^{i\\phi} \\sin{\\frac{\\theta}{2}} \\ket{1}$ as two numbers $\\frac{\\theta}{2}$ and $\\phi$ and draws this state on a Bloch sphere. You can use the code from the above example."
   ]
  },
  {
   "cell_type": "code",
   "execution_count": null,
   "metadata": {},
   "outputs": [],
   "source": [
    "#\n",
    "# your solution is here\n",
    "#\n"
   ]
  },
  {
   "cell_type": "markdown",
   "metadata": {},
   "source": [
    "<a href=\"C07_Bloch_Sphere_Solutions.ipynb#task2\">click for our solution</a>"
   ]
  },
  {
   "cell_type": "markdown",
   "metadata": {},
   "source": [
    "<h3> Task 3 (optional) </h3>\n",
    "\n",
    "Extend the function from Task 2 by allowing it to accept more than one state. Try to use different colors for different states.\n",
    "\n",
    "Test it with the states $\\cos{\\frac{\\pi/2}{2}} \\ket{0} + e^{i\\frac{\\pi}{2}} \\sin{\\frac{\\pi/2}{2}} \\ket{1}$ and $\\cos{\\frac{\\pi/3}{2}} \\ket{0} + e^{i\\pi} \\sin{\\frac{\\pi/3}{2}} \\ket{1}$."
   ]
  },
  {
   "cell_type": "code",
   "execution_count": null,
   "metadata": {},
   "outputs": [],
   "source": [
    "#\n",
    "# your solution is here\n",
    "#\n"
   ]
  },
  {
   "cell_type": "markdown",
   "metadata": {},
   "source": [
    "<a href=\"C07_Bloch_Sphere_Solutions.ipynb#task3\">click for our solution</a>"
   ]
  }
 ],
 "metadata": {
  "kernelspec": {
   "display_name": "Python 3",
   "language": "python",
   "name": "python3"
  },
  "language_info": {
   "codemirror_mode": {
    "name": "ipython",
    "version": 3
   },
   "file_extension": ".py",
   "mimetype": "text/x-python",
   "name": "python",
   "nbconvert_exporter": "python",
   "pygments_lexer": "ipython3",
   "version": "3.7.3"
  }
 },
 "nbformat": 4,
 "nbformat_minor": 2
}
