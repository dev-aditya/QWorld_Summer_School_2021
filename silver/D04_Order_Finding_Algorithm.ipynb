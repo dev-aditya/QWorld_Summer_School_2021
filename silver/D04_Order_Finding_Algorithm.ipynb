{
 "cells": [
  {
   "cell_type": "markdown",
   "metadata": {},
   "source": [
    "<table  align=\"left\" width=\"100%\"> <tr>\n",
    "        <td  style=\"background-color:#ffffff;\"><a href=\"https://qsoftware.lu.lv/index.php/qworld/\" target=\"_blank\"><img src=\"..\\images\\qworld.jpg\" width=\"35%\" align=\"left\"></a></td>\n",
    "        <td  align=\"right\" style=\"background-color:#ffffff;vertical-align:bottom;horizontal-align:right\">\n",
    "            prepared by Özlem Salehi (<a href=\"http://qworld.lu.lv/index.php/qturkey/\" target=\"_blank\">QTurkey</a>)\n",
    "        </td>        \n",
    "</tr></table>"
   ]
  },
  {
   "cell_type": "markdown",
   "metadata": {},
   "source": [
    "<table width=\"100%\"><tr><td style=\"color:#bbbbbb;background-color:#ffffff;font-size:11px;font-style:italic;text-align:right;\">This cell contains some macros. If there is a problem with displaying mathematical formulas, please run this cell to load these macros. </td></tr></table>\n",
    "$\\newcommand{\\Mod}[1]{\\ (\\mathrm{mod}\\ #1)}$\n",
    "$ \\newcommand{\\bra}[1]{\\langle #1|} $\n",
    "$ \\newcommand{\\ket}[1]{|#1\\rangle} $\n",
    "$ \\newcommand{\\braket}[2]{\\langle #1|#2\\rangle} $\n",
    "$ \\newcommand{\\dot}[2]{ #1 \\cdot #2} $\n",
    "$ \\newcommand{\\biginner}[2]{\\left\\langle #1,#2\\right\\rangle} $\n",
    "$ \\newcommand{\\mymatrix}[2]{\\left( \\begin{array}{#1} #2\\end{array} \\right)} $\n",
    "$ \\newcommand{\\myvector}[1]{\\mymatrix{c}{#1}} $\n",
    "$ \\newcommand{\\myrvector}[1]{\\mymatrix{r}{#1}} $\n",
    "$ \\newcommand{\\mypar}[1]{\\left( #1 \\right)} $\n",
    "$ \\newcommand{\\mybigpar}[1]{ \\Big( #1 \\Big)} $\n",
    "$ \\newcommand{\\sqrttwo}{\\frac{1}{\\sqrt{2}}} $\n",
    "$ \\newcommand{\\dsqrttwo}{\\dfrac{1}{\\sqrt{2}}} $\n",
    "$ \\newcommand{\\onehalf}{\\frac{1}{2}} $\n",
    "$ \\newcommand{\\donehalf}{\\dfrac{1}{2}} $\n",
    "$ \\newcommand{\\hadamard}{ \\mymatrix{rr}{ \\sqrttwo & \\sqrttwo \\\\ \\sqrttwo & -\\sqrttwo }} $\n",
    "$ \\newcommand{\\vzero}{\\myvector{1\\\\0}} $\n",
    "$ \\newcommand{\\vone}{\\myvector{0\\\\1}} $\n",
    "$ \\newcommand{\\stateplus}{\\myvector{ \\sqrttwo \\\\  \\sqrttwo } } $\n",
    "$ \\newcommand{\\stateminus}{ \\myrvector{ \\sqrttwo \\\\ -\\sqrttwo } } $\n",
    "$ \\newcommand{\\myarray}[2]{ \\begin{array}{#1}#2\\end{array}} $\n",
    "$ \\newcommand{\\X}{ \\mymatrix{cc}{0 & 1 \\\\ 1 & 0}  } $\n",
    "$ \\newcommand{\\Z}{ \\mymatrix{rr}{1 & 0 \\\\ 0 & -1}  } $\n",
    "$ \\newcommand{\\Htwo}{ \\mymatrix{rrrr}{ \\frac{1}{2} & \\frac{1}{2} & \\frac{1}{2} & \\frac{1}{2} \\\\ \\frac{1}{2} & -\\frac{1}{2} & \\frac{1}{2} & -\\frac{1}{2} \\\\ \\frac{1}{2} & \\frac{1}{2} & -\\frac{1}{2} & -\\frac{1}{2} \\\\ \\frac{1}{2} & -\\frac{1}{2} & -\\frac{1}{2} & \\frac{1}{2} } } $\n",
    "$ \\newcommand{\\CNOT}{ \\mymatrix{cccc}{1 & 0 & 0 & 0 \\\\ 0 & 1 & 0 & 0 \\\\ 0 & 0 & 0 & 1 \\\\ 0 & 0 & 1 & 0} } $\n",
    "$ \\newcommand{\\norm}[1]{ \\left\\lVert #1 \\right\\rVert } $\n",
    "$ \\newcommand{\\pstate}[1]{ \\lceil \\mspace{-1mu} #1 \\mspace{-1.5mu} \\rfloor } $"
   ]
  },
  {
   "cell_type": "markdown",
   "metadata": {},
   "source": [
    "<h1> Order Finding Algorithm</h1>"
   ]
  },
  {
   "cell_type": "markdown",
   "metadata": {},
   "source": [
    "For positive integers $ x $ and $ N $ where $x<N$ with no common factors, order of $x$ is the least positive integer $ r $ such that $x^r = 1\\Mod{N}$. In order finding algorithm, given $ x $ and $ N $, our goal is to find $ r $."
   ]
  },
  {
   "cell_type": "markdown",
   "metadata": {},
   "source": [
    "<h3>Task 1</h3>\n",
    "\n",
    "Let $x=5$ and $N=21$. Plot $x^ i \\Mod{N}$ for $i$ values between $1$ and $50$ and find the order of $x$."
   ]
  },
  {
   "cell_type": "code",
   "execution_count": null,
   "metadata": {},
   "outputs": [],
   "source": [
    "\n",
    "\n",
    "\n"
   ]
  },
  {
   "cell_type": "markdown",
   "metadata": {},
   "source": [
    "<a href=\"D04_Order_Finding_Algorithm_Solutions.ipynb#task1\">click for our solution</a>"
   ]
  },
  {
   "cell_type": "markdown",
   "metadata": {},
   "source": [
    "No classical algorithm is known which solves the problem using resources polynomial in $O(L)$ where \n",
    "$ L= \\big \\lceil  \\log N \\big \\rceil $, number of bits needed to specify $ N $. We will solve this problem efficiently using phase estimation algorithm."
   ]
  },
  {
   "cell_type": "markdown",
   "metadata": {},
   "source": [
    "<h2>Idea</h2>\n",
    "\n",
    "Let $ x<N $ be given. The idea is to apply phase estimation to the operator $U_x$ which maps $ U_x \\ket{y} \\rightarrow \\ket{xy {\\Mod{N}}}$ where $y \\in \\{ 0, 1\\}^L$ and $ 0 \\leq  y\\leq N-1 $. We assume that $U \\ket{y} = \\ket{y}$ if $N \\leq y \\leq {2^L} - 1$."
   ]
  },
  {
   "cell_type": "markdown",
   "metadata": {},
   "source": [
    "<h3>Task 2 (on paper)</h3>\n",
    "\n",
    "Let $\\ket{\\psi_0}=\\ket{1 \\Mod{N}}+\\ket{x\\Mod{N}}+\\ket{x^2\\Mod{N}}+ \\cdots + \\ket{x^{r-1}\\Mod{N}}$. \n",
    "\n",
    "What is $U_x \\ket{\\psi_0}$? What can you conclude about $\\ket{\\psi_0}$?\n",
    "\n",
    "Repeat the same task for $\\ket{\\psi_1}=\\ket{1}+ \\omega^{-1}\\ket{x\\Mod{N}}+\\omega^{-2}\\ket{x^2\\Mod{N}}+ \\cdots + \\omega^{-(r-1)}  \\ket{x^{r-1}\\Mod{N}}$ where $\\omega=e^{-\\frac{2{\\pi}i}{r}}$."
   ]
  },
  {
   "cell_type": "markdown",
   "metadata": {},
   "source": [
    "<a href=\"D04_Order_Finding_Algorithm_Solutions.ipynb#task2\">click for our solution</a>"
   ]
  },
  {
   "cell_type": "markdown",
   "metadata": {},
   "source": [
    "Now let's prove that $ \\ket{u_s}= \\displaystyle \\frac{1}{\\sqrt{r}}\\sum_{k=0}^{r-1}e^{-\\frac{2{\\pi}i s k}{r}} \\ket{x^k \\Mod{N}} $ for $ 0 \\leq s \\leq r-1 $ are eigenvectors for $ U_x $ with the corresponding eigenvalues $  e^{\\frac{2{\\pi}i s}{r}}$. \n",
    "\n",
    "$$\n",
    "    \\begin{align*}\n",
    "\tU_x\\ket{u_s} &=  \\frac{1}{\\sqrt{r}}\\sum_{k=0}^{r-1}e^{\\frac{-2{\\pi}i s k}{r} }\\ket{x^{k+1} \\Mod{N}}\\\\\n",
    "\t&= \\frac{1}{\\sqrt{r}}\\sum_{k=0}^{r-1}e^{\\frac{-2{\\pi}i s (k+1)}{r}}e^{\\frac{2{\\pi}i s}{r}}\\ket{x^{k+1} \\Mod{N}}~~~\\mbox{ since $ x^r=1 \\Mod{N}$} \\\\\n",
    "\t&=e^{\\frac{2{\\pi}i s}{r} }\\ket{u_s}\n",
    "\t\\end{align*}\n",
    "$$\n",
    "\t"
   ]
  },
  {
   "cell_type": "markdown",
   "metadata": {},
   "source": [
    "Information about $ r $ is encoded inside the eigenvalues of the operator $ U_x $ and we will use phase estimation algorithm to estimate $ \\frac{s}{r} $. In order to apply phase estimation algorithm, we need to prepare the second register to hold state $ \\ket{u_s} $,  but there is a problem. The eigenvector has the variable $ r $ while our aim is to find $ r $. How will we prepare the eigenvector? "
   ]
  },
  {
   "cell_type": "markdown",
   "metadata": {},
   "source": [
    "Instead, we will prepare a superposition of the eigenvectors $\\displaystyle \\frac{1}{\\sqrt{r}}\\sum_{s=0}^{r-1}\\ket{u_s}$."
   ]
  },
  {
   "cell_type": "markdown",
   "metadata": {},
   "source": [
    "<h3>Task 3 (on paper)</h3>\n",
    "\n",
    "Show that $\\frac{1}{\\sqrt{r}}\\sum_{s=0}^{r-1}\\ket{u_s}= \\ket{1}$."
   ]
  },
  {
   "cell_type": "markdown",
   "metadata": {},
   "source": [
    "<a href=\"D04_Order_Finding_Algorithm_Solutions.ipynb#task3\">click for our solution</a>"
   ]
  },
  {
   "cell_type": "markdown",
   "metadata": {},
   "source": [
    "Suppose that phase estimation algorithm takes state $\\ket{0}\\ket{u}$ to state $\\ket{\\tilde{\\phi_u}}\\ket{u}$. In this case given input $\\ket{0} \\sum_{u} c_u \\ket{u}$, algorithm outputs $\\sum_{u} c_u\\ket{\\tilde{\\phi_u}}\\ket{u}$. \n",
    "\n",
    "If $ t $ is chosen as previously, then it can be proven that the probability of measuring $\\phi_u$ accurate to $ n $ bits is at least $|c_u|^2(1- \\epsilon)$.\n",
    "\n",
    "Hence by combining this with Task 2, we can prepare the second register to hold state $\\ket{1}$ at the beginning of the algorithm."
   ]
  },
  {
   "cell_type": "markdown",
   "metadata": {},
   "source": [
    "<h2>Procedure </h2>\n",
    "\n",
    "We use two registers: First register has $ t $ qubits, second register has $ L $ qubits. Let $ \tt = 2L + 1 + \\big \\lceil \\log \\big(2 + \\frac{1}{2\\epsilon}\\big) \\big \\rceil  $. Choice of $ t $ will become clear later on."
   ]
  },
  {
   "cell_type": "markdown",
   "metadata": {},
   "source": [
    "- Initialize the registers as \n",
    "\n",
    "$\\displaystyle \\ket{\\psi_0} = \\frac{1}{\\sqrt{r}}\\sum_{s=0}^{r-1}\\ket{0}\\ket{u_s} =\\ket{0}\\ket{1} .$\n",
    "\t\t"
   ]
  },
  {
   "cell_type": "markdown",
   "metadata": {},
   "source": [
    "Note that here by $ \\ket{0} $, we denote $ \\ket{0}^{\\otimes t} $ and by $ \\ket{1} $ we denote $ \\ket{0}^{L-1}\\ket{1} $.\n",
    "\t\t"
   ]
  },
  {
   "cell_type": "markdown",
   "metadata": {},
   "source": [
    "- Apply $ H $ and $ CU^{2^j} $ gates in the phase estimation algorithm.\n",
    "\n",
    "$ \\displaystyle\n",
    "\t\t\\ket{\\psi_1}=\\frac{1}{\\sqrt{r}}\\sum_{s=0}^{r-1}\\frac{1}{{2^{t/2}}}\\sum_{k=0}^{{2^t}-1}e^{\\frac{2{\\pi}i s k}{r}}\\ket{k}\\ket{u_s}\n",
    "$\n",
    "\t"
   ]
  },
  {
   "cell_type": "markdown",
   "metadata": {},
   "source": [
    "- Apply Inverse QFT to the first register.\n",
    "\n",
    "$\\displaystyle \n",
    "\t\t\\frac{1}{\\sqrt{r}}\\sum_{s=0}^{r-1}\\ket{\\tilde{\\phi}}\\ket{u_s}\n",
    "$"
   ]
  },
  {
   "cell_type": "markdown",
   "metadata": {},
   "source": [
    "At the end of this procedure, for each $ s $ in the range $ 0, ..., r-1 $, we obtain an estimate of the phase $\\tilde{\\phi} = \\frac{s}{r}$ accurate to $ 2L+1 $ bits with probability at least $ \\frac{1-\\epsilon}{r} $."
   ]
  },
  {
   "cell_type": "markdown",
   "metadata": {},
   "source": [
    "Note that if $r$ is not a power of 2, then it can not be expressed in the form $\\frac{x}{N}$ for some $ x $ and $ N=2^t $. \n"
   ]
  },
  {
   "cell_type": "markdown",
   "metadata": {},
   "source": [
    "Now the question is how to find $ r $ from the estimate of $ s/r $? The answer is using continued fractions."
   ]
  },
  {
   "cell_type": "markdown",
   "metadata": {},
   "source": [
    "<h2>Continued Fractions</h2>\n",
    "\n",
    "Continued fractions is a representation of a real number by a sequence of (possibly infinite) integers by using expressions of the form:\n",
    "\n",
    "$\n",
    "\t[a_0,...a_n] = a_0 + \\frac{1}{a_1 + \\frac{1}{a_2 + \\frac{1}{...}}}.\n",
    "$\n",
    "\t"
   ]
  },
  {
   "cell_type": "markdown",
   "metadata": {},
   "source": [
    "The rationals $a_0,a_0+\\frac{1}{a_1},a_0+\\frac{1}{a_1+\\frac{1}{a_2}},...$ are called the convergents. All convergents  can be found using $O(L^3)$ operations where $ L $ is the number of bits needed to express $ m $ and $ n $ in $ \\frac{m}{n} $.\n",
    "\t"
   ]
  },
  {
   "cell_type": "markdown",
   "metadata": {},
   "source": [
    "### Example"
   ]
  },
  {
   "cell_type": "markdown",
   "metadata": {},
   "source": [
    "$\\frac{25}{11}$  can be expressed as $\\frac{25}{11}=2+\\frac{3}{11}$. Continuing like this,\n",
    "\n",
    "\\begin{align*}\n",
    "\t\t=2+\\frac{1}{3+\\frac{2}{3}} = 2+\\frac{1}{3+\\frac{1}{\\frac{3}{2}}}\n",
    "\t\t\\end{align*}\n",
    "        \n",
    "        \n",
    "\n",
    "The resulting expression will be \n",
    "\n",
    "\\begin{align*}\n",
    "2+\\frac{1}{3+\\frac{1}{1 + \\frac{1}{2}}}\n",
    "\\end{align*}\n",
    "\n",
    "with the continued fraction expression $[2,3,1,2]$. \n",
    "\n",
    "\n",
    "The convergents are $c_1=2$, $c_2=2 + \\frac{1}{3} = \\frac{7}{3} $, $c_3 = 2 + \\frac{1}{3 + \\frac{1}{1}} = \\frac{9}{4}$, $c_4 = 2+ \\frac{ 1}{3 + \\frac{1}{1 + \\frac{1}{2}}} = \\frac{25}{11}$"
   ]
  },
  {
   "cell_type": "markdown",
   "metadata": {},
   "source": [
    "We defined two functions to calculate continued fractions expression and the convergents, which will be useful in the following tasks. \n",
    "\n",
    "- <i>contFrac</i> takes a parameter $N$ and returns the continued fractions expressions of $N$ as a list\n",
    "- <i>convergents</i> takes as paremeter the continued fractions expression and returns the list of convergents"
   ]
  },
  {
   "cell_type": "markdown",
   "metadata": {},
   "source": [
    "Run the following cell to load the functions."
   ]
  },
  {
   "cell_type": "code",
   "execution_count": 2,
   "metadata": {},
   "outputs": [],
   "source": [
    "%run ../include/helpers.py"
   ]
  },
  {
   "cell_type": "markdown",
   "metadata": {},
   "source": [
    "Below you see example usage of <i>contFrac</i> and <i>convergents</i> methods."
   ]
  },
  {
   "cell_type": "code",
   "execution_count": 4,
   "metadata": {},
   "outputs": [
    {
     "name": "stdout",
     "output_type": "stream",
     "text": [
      "[2, 3, 1, 2]\n"
     ]
    }
   ],
   "source": [
    "cf = contFrac(25/11)\n",
    "print(cf)"
   ]
  },
  {
   "cell_type": "code",
   "execution_count": 5,
   "metadata": {},
   "outputs": [
    {
     "name": "stdout",
     "output_type": "stream",
     "text": [
      "[Fraction(2, 1), Fraction(7, 3), Fraction(9, 4), Fraction(25, 11)]\n"
     ]
    }
   ],
   "source": [
    "cv = convergents(cf)\n",
    "print(cv)"
   ]
  },
  {
   "cell_type": "code",
   "execution_count": 3,
   "metadata": {},
   "outputs": [
    {
     "name": "stdout",
     "output_type": "stream",
     "text": [
      "[Fraction(1, 1), Fraction(5, 4), Fraction(11, 9), Fraction(16, 13)]\n"
     ]
    }
   ],
   "source": [
    "cv = convergents([1,4,2,1])\n",
    "print(cv)"
   ]
  },
  {
   "cell_type": "markdown",
   "metadata": {},
   "source": [
    "<h3>Task 4</h3>\n",
    "\n",
    "Find the continued fractions expression for $\\frac{31}{13}$ and the convergents first using pen and paper and then using the functions defined above."
   ]
  },
  {
   "cell_type": "code",
   "execution_count": 1,
   "metadata": {},
   "outputs": [],
   "source": [
    "#Your code here\n",
    "\n"
   ]
  },
  {
   "cell_type": "markdown",
   "metadata": {},
   "source": [
    "<a href=\"D04_Order_Finding_Algorithm_Solutions.ipynb#task4\">click for our solution</a>"
   ]
  },
  {
   "cell_type": "markdown",
   "metadata": {},
   "source": [
    "### Choice of t (optional)\n",
    "\n",
    "Following theorem guarantees that the continued fractions algorithm yields a good estimate for $\\phi$.\n",
    "\n",
    "<b>Theorem:</b> \tSuppose $\\frac{s}{r}$ is a rational number so that  $\\displaystyle\\left |\\frac{s}{r}-\\phi \\right | \\leq \\frac{1}{2r^2}$. Then $\\displaystyle \\frac{s}{r}$ is a convergent of the continued fraction for $\\phi$, and thus can be computed in $O(L^3)$ operations, using continued fraction algorithm."
   ]
  },
  {
   "cell_type": "markdown",
   "metadata": {},
   "source": [
    "Remember that $\\phi$ is an approximation to $\\frac{s}{r}$ accurate to $2L+1$ bits due to our choice of $t$. Since $r\\leq N \\leq 2^L$, we get $\n",
    "\\left |\\frac{s}{r}-\\phi \\right | \\leq \\frac{1}{2^{2L+1}} \\leq \\frac{1}{2r^2}. $"
   ]
  },
  {
   "cell_type": "markdown",
   "metadata": {},
   "source": [
    "\t\n",
    "Now according to the theorem, $\\frac{s}{r}$ is a convergent of the continued fraction for $\\phi$.\n",
    "\t\n",
    "    "
   ]
  },
  {
   "cell_type": "markdown",
   "metadata": {},
   "source": [
    "Computing the convergents we have candidate values for $s$ and $r$ and then we can test if $x^r=1 \\Mod{N}$. (Remember that we have more than one convergent and we compute each one of them but not all of them will give us the correct $r$ value. So it might be the case that we fail in some cases)"
   ]
  },
  {
   "cell_type": "markdown",
   "metadata": {},
   "source": [
    "<hr>"
   ]
  },
  {
   "cell_type": "markdown",
   "metadata": {},
   "source": [
    "<h2> Modular Exponentiation</h2>\n",
    "\n",
    "In the phase estimation procedure, we have assumed that we were given operators $U$, $CU$ and their powers as blackbox functions. In reality, $ CU^{2^j} $ operators should be implemented efficiently to have a speedup against the classical algorithm. \n",
    "\n",
    "Note that to compute $x^{2^j}$, you don't need to perform $2^j$ multiplications. Once you obtain $x^2$, you can obtain $x^4$, $x^8$ so that you need only log$j$ multiplications. Nevertheless, multiplication involves implementation of addition and carries. \n",
    "\n",
    "The important thing is that it can be performed using $ O(L^3) $ gates by using a procedure known as modular exponentiation. This is a technical procedure and instead we will continue implementing $ CU^{2^j} $ operators with the built-in function of $Cirq$. More details about modular exponentiation can be found in https://arxiv.org/pdf/1207.0511.pdf. \n"
   ]
  },
  {
   "cell_type": "markdown",
   "metadata": {},
   "source": [
    "<hr>"
   ]
  },
  {
   "cell_type": "markdown",
   "metadata": {},
   "source": [
    "<h3>Task 5</h3>\n",
    "\n",
    "You are given a function named $U_x$ which implements $ U_x \\ket{y} \\rightarrow \\ket{xy {\\Mod{N}}}$ and returns its controlled version. Run the following cell to load the function."
   ]
  },
  {
   "cell_type": "code",
   "execution_count": null,
   "metadata": {},
   "outputs": [],
   "source": [
    "%run operator.py"
   ]
  },
  {
   "cell_type": "markdown",
   "metadata": {},
   "source": [
    "In order to use the function you should pass $x$ and $N$ as parameter.\n",
    "\n",
    "<pre>CU=Ux(x,N)</pre>"
   ]
  },
  {
   "cell_type": "markdown",
   "metadata": {},
   "source": [
    "Let $x=3$ and $N=20$. Use phase estimation procedure to find the estimates for $\\frac{s}{r}$. Pick the correct values for $t$ and $L$. You can use the <i>qpe</i> function you have already implemented. Plot your results using a histogram. Where do the peaks occur?"
   ]
  },
  {
   "cell_type": "code",
   "execution_count": null,
   "metadata": {},
   "outputs": [],
   "source": [
    "%load qpe.py"
   ]
  },
  {
   "cell_type": "code",
   "execution_count": null,
   "metadata": {},
   "outputs": [],
   "source": [
    "%load iqft.py"
   ]
  },
  {
   "cell_type": "code",
   "execution_count": null,
   "metadata": {},
   "outputs": [],
   "source": [
    "import matplotlib\n",
    "import cirq\n",
    "\n",
    "\n",
    "\n",
    "#Your code here\n",
    "\n",
    "\n",
    "\n",
    "# Print a histogram of results\n",
    "\n",
    "results= samples.histogram(key='result')\n",
    "print(results)\n",
    "\n",
    "import matplotlib.pyplot as plt\n",
    "\n",
    "plt.bar(results.keys(), results.values())\n"
   ]
  },
  {
   "cell_type": "markdown",
   "metadata": {},
   "source": [
    "<a href=\"D04_Order_Finding_Algorithm_Solutions.ipynb#task5\">click for our solution</a>"
   ]
  },
  {
   "cell_type": "markdown",
   "metadata": {},
   "source": [
    "<h3>Task 6</h3>\n",
    "\n",
    "For each one of the possible outcomes in Task 5, try to find out the value of $r$ using continued fractions algorithm. You can use the functions defined above."
   ]
  },
  {
   "cell_type": "code",
   "execution_count": null,
   "metadata": {},
   "outputs": [],
   "source": [
    "#Your code here\n",
    "\n",
    "\n"
   ]
  },
  {
   "cell_type": "markdown",
   "metadata": {},
   "source": [
    "<a href=\"D04_Order_Finding_Algorithm_Solutions.ipynb#task6\">click for our solution</a>"
   ]
  },
  {
   "cell_type": "markdown",
   "metadata": {},
   "source": [
    "<h3>Task 7</h3>\n",
    "\n",
    "Repeat Task 5 and Task 6 with $x=5$ and $N=42$."
   ]
  },
  {
   "cell_type": "code",
   "execution_count": null,
   "metadata": {},
   "outputs": [],
   "source": [
    "%run operator.py"
   ]
  },
  {
   "cell_type": "code",
   "execution_count": null,
   "metadata": {},
   "outputs": [],
   "source": [
    "%load qpe.py"
   ]
  },
  {
   "cell_type": "code",
   "execution_count": null,
   "metadata": {},
   "outputs": [],
   "source": [
    "%load iqft.py"
   ]
  },
  {
   "cell_type": "code",
   "execution_count": null,
   "metadata": {},
   "outputs": [],
   "source": [
    "import matplotlib\n",
    "import cirq\n",
    "\n",
    "\n",
    "\n",
    "#Your code here\n",
    "\n",
    "\n",
    "\n",
    "# Print a histogram of results\n",
    "\n",
    "results= samples.histogram(key='result')\n",
    "print(results)\n",
    "\n",
    "for key in results:\n",
    "    results[key]=results[key]/1000\n",
    "\n",
    "import matplotlib.pyplot as plt\n",
    "\n",
    "plt.bar(results.keys(), results.values())\n"
   ]
  },
  {
   "cell_type": "markdown",
   "metadata": {},
   "source": [
    "<a href=\"D04_Order_Finding_Algorithm_Solutions.ipynb#task7\">click for our solution</a>"
   ]
  },
  {
   "cell_type": "markdown",
   "metadata": {},
   "source": [
    "<h2>Remarks about the algorithm</h2>\n",
    "\t\n",
    "- Algorithm might produce a bad estimate to $\\frac{s}{r}$ which occurs with probability at most $ \\epsilon $. This problem can be improved, but in the cost of increasing the size of the circuit.\n",
    "\n",
    "- As we have seen in Task 6 and Task 7, $s$ and $r$ may have a common factor, and we may get $r'$ (which is a factor of $r$) instead of $r$. Nevertheless, the number of primes which are less than $r$ is at least $\\frac{r}{2}\\log r$. With a constant number of repetitions of the algorithm, one can obtain $s$ and $r$ which are relatively prime with high probability.\n",
    "\n",
    "- Overall, we have an algorithm which uses $O(L^3)$ gates, $ O(L) $ qubits and constant repetitions. \n",
    "\n",
    "    - Hadamard operation at the beginning requires $ O(L) $ gates\n",
    "    - $ O(L^2) $ gates are required by $QFT^\\dagger $\n",
    "    - $ O(L^3) $ gates are needed for modular exponentiation\n",
    "    - Continued fraction algorithm requires $ O(L^3) $ classical processing \n",
    "\n",
    "The best classical algorithm for order finding is of exponential time while we have a polynomial size quantum circuit for order finding. "
   ]
  }
 ],
 "metadata": {
  "kernelspec": {
   "display_name": "Python 3",
   "language": "python",
   "name": "python3"
  },
  "language_info": {
   "codemirror_mode": {
    "name": "ipython",
    "version": 3
   },
   "file_extension": ".py",
   "mimetype": "text/x-python",
   "name": "python",
   "nbconvert_exporter": "python",
   "pygments_lexer": "ipython3",
   "version": "3.7.3"
  }
 },
 "nbformat": 4,
 "nbformat_minor": 2
}
