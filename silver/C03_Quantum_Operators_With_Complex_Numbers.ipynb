{
 "cells": [
  {
   "cell_type": "markdown",
   "metadata": {},
   "source": [
    "<table align=\"left\"  width=\"100%\"> <tr>\n",
    "        <td  style=\"background-color:#ffffff;\">\n",
    "            <a href=\"http://qworld.lu.lv\" target=\"_blank\"><img src=\"../images/qworld.jpg\" width=\"35%\" align=\"left\"> </a></td>\n",
    "        <td style=\"background-color:#ffffff;vertical-align:bottom;text-align:right;\">\n",
    "            prepared by Maksim Dimitrijev (<a href=\"http://qworld.lu.lv/index.php/qlatvia/\" target=\"_blank\">QLatvia</a>)\n",
    "        </td>        \n",
    "</tr></table>"
   ]
  },
  {
   "cell_type": "markdown",
   "metadata": {},
   "source": [
    "<table width=\"100%\"><tr><td style=\"color:#bbbbbb;background-color:#ffffff;font-size:11px;font-style:italic;text-align:right;\">This cell contains some macros. If there is a problem with displaying mathematical formulas, please run this cell to load these macros. </td></tr></table>\n",
    "$ \\newcommand{\\bra}[1]{\\langle #1|} $\n",
    "$ \\newcommand{\\ket}[1]{|#1\\rangle} $\n",
    "$ \\newcommand{\\braket}[2]{\\langle #1|#2\\rangle} $\n",
    "$ \\newcommand{\\dot}[2]{ #1 \\cdot #2} $\n",
    "$ \\newcommand{\\biginner}[2]{\\left\\langle #1,#2\\right\\rangle} $\n",
    "$ \\newcommand{\\mymatrix}[2]{\\left( \\begin{array}{#1} #2\\end{array} \\right)} $\n",
    "$ \\newcommand{\\myvector}[1]{\\mymatrix{c}{#1}} $\n",
    "$ \\newcommand{\\myrvector}[1]{\\mymatrix{r}{#1}} $\n",
    "$ \\newcommand{\\mypar}[1]{\\left( #1 \\right)} $\n",
    "$ \\newcommand{\\mybigpar}[1]{ \\Big( #1 \\Big)} $\n",
    "$ \\newcommand{\\sqrttwo}{\\frac{1}{\\sqrt{2}}} $\n",
    "$ \\newcommand{\\dsqrttwo}{\\dfrac{1}{\\sqrt{2}}} $\n",
    "$ \\newcommand{\\onehalf}{\\frac{1}{2}} $\n",
    "$ \\newcommand{\\donehalf}{\\dfrac{1}{2}} $\n",
    "$ \\newcommand{\\hadamard}{ \\mymatrix{rr}{ \\sqrttwo & \\sqrttwo \\\\ \\sqrttwo & -\\sqrttwo }} $\n",
    "$ \\newcommand{\\vzero}{\\myvector{1\\\\0}} $\n",
    "$ \\newcommand{\\vone}{\\myvector{0\\\\1}} $\n",
    "$ \\newcommand{\\stateplus}{\\myvector{ \\sqrttwo \\\\  \\sqrttwo } } $\n",
    "$ \\newcommand{\\stateminus}{ \\myrvector{ \\sqrttwo \\\\ -\\sqrttwo } } $\n",
    "$ \\newcommand{\\myarray}[2]{ \\begin{array}{#1}#2\\end{array}} $\n",
    "$ \\newcommand{\\X}{ \\mymatrix{cc}{0 & 1 \\\\ 1 & 0}  } $\n",
    "$ \\newcommand{\\Z}{ \\mymatrix{rr}{1 & 0 \\\\ 0 & -1}  } $\n",
    "$ \\newcommand{\\Htwo}{ \\mymatrix{rrrr}{ \\frac{1}{2} & \\frac{1}{2} & \\frac{1}{2} & \\frac{1}{2} \\\\ \\frac{1}{2} & -\\frac{1}{2} & \\frac{1}{2} & -\\frac{1}{2} \\\\ \\frac{1}{2} & \\frac{1}{2} & -\\frac{1}{2} & -\\frac{1}{2} \\\\ \\frac{1}{2} & -\\frac{1}{2} & -\\frac{1}{2} & \\frac{1}{2} } } $\n",
    "$ \\newcommand{\\CNOT}{ \\mymatrix{cccc}{1 & 0 & 0 & 0 \\\\ 0 & 1 & 0 & 0 \\\\ 0 & 0 & 0 & 1 \\\\ 0 & 0 & 1 & 0} } $\n",
    "$ \\newcommand{\\norm}[1]{ \\left\\lVert #1 \\right\\rVert } $\n",
    "$ \\newcommand{\\pstate}[1]{ \\lceil \\mspace{-1mu} #1 \\mspace{-1.5mu} \\rfloor } $\n",
    "$ \\newcommand{\\Y}{ \\mymatrix{rr}{0 & -i \\\\ i & 0} } $ $ \\newcommand{\\S}{ \\mymatrix{rr}{1 & 0 \\\\ 0 & i} } $ \n",
    "$ \\newcommand{\\T}{ \\mymatrix{rr}{1 & 0 \\\\ 0 & e^{i \\frac{pi}{4}}} } $ \n",
    "$ \\newcommand{\\Sdg}{ \\mymatrix{rr}{1 & 0 \\\\ 0 & -i} } $ \n",
    "$ \\newcommand{\\Tdg}{ \\mymatrix{rr}{1 & 0 \\\\ 0 & e^{-i \\frac{pi}{4}}} } $\n"
   ]
  },
  {
   "cell_type": "markdown",
   "metadata": {},
   "source": [
    "<h1> Quantum operators with complex numbers </h1>\n",
    "\n",
    "We remind you the main property of a quantum operator.\n",
    "\n",
    "<font color=\"blue\"><b>Quantum operator should be a length preserving square matrix.</b></font>\n",
    "\n",
    "If the matrix $U$ is length preserving (also called unitary), the following equality should hold:\n",
    "\n",
    "$U^{\\dagger}U=I$, where:\n",
    "\n",
    "<ul>\n",
    "    <li>$I$ is identity matrix;</li>\n",
    "    <li>$U^{\\dagger}$ is conjugate transpose of the matrix $U$.</li>\n",
    "</ul>"
   ]
  },
  {
   "cell_type": "markdown",
   "metadata": {},
   "source": [
    "<h2> Conjugate transpose of the matrix </h2"
   ]
  },
  {
   "cell_type": "markdown",
   "metadata": {},
   "source": [
    "To obtain $U^{\\dagger}$ from $U$, you need to take $U$ and do the following:\n",
    "<ul>\n",
    "    <li>Exchange the rows and columns, such that for each $i$ and $j$ the entry of $i$th row and $j$th column will appear in $i$th column and $j$th row;</li>\n",
    "    <li>Replace each obtained entry with its conjugate value.</li>\n",
    "</ul>\n",
    "\n",
    "If you are given matrix $U = \\mymatrix{cc}{ a_{11} & a_{12} \\\\ a_{21} & a_{22} }$, then $U^{\\dagger} = \\mymatrix{cc}{ \\overline{a_{11}} & \\overline{a_{21}} \\\\ \\overline{a_{12}} & \\overline{a_{22}} }$, where $\\overline{a+bi} = a-bi$."
   ]
  },
  {
   "cell_type": "markdown",
   "metadata": {},
   "source": [
    "<h3>Example</h3>\n",
    "\n",
    "Let's check Hadamard operator:\n",
    "\n",
    "$$\n",
    "    H = \\hadamard.\n",
    "$$\n",
    "\n",
    "It is easy to see that $H^{\\dagger} = H$. Also you may remember that $HH = I$, which means that the property of length preserving operator is fulfilled for Hadamard operator.\n",
    "\n",
    "Suppose that we have the following quantum state: $\\myvector{ \\frac{1+i}{\\sqrt{3}} \\\\ -\\frac{1}{\\sqrt{3}} }$. The square of the length of this vector is equal to $\\mathopen|\\frac{1+i}{\\sqrt{3}}\\mathclose|^2 + (-\\frac{1}{\\sqrt{3}})^2 = (\\sqrt{\\frac{1}{3} + \\frac{1}{3}})^2 + \\frac{1}{3} = \\frac{2}{3} + \\frac{1}{3} = 1$, so this is a valid quantum state. Let's apply Hadamard to this state and check whether the length is still equal to 1.\n",
    "\n",
    "$$\n",
    "H \\myvector{ \\frac{1+i}{\\sqrt{3}} \\\\ -\\frac{1}{\\sqrt{3}} } =  \\hadamard \\myvector{ \\frac{1+i}{\\sqrt{3}} \\\\ -\\frac{1}{\\sqrt{3}} } = \\myvector{ \\left (\\frac{1+i}{\\sqrt{3}} \\cdot \\frac{1}{\\sqrt{2}} \\right ) + \n",
    "\\left(-\\frac{1}{\\sqrt{3}} \\cdot \\frac{1}{\\sqrt{2}} \\right ) \\\\ \\left ( \\frac{1+i}{\\sqrt{3}} \\cdot \\frac{1}{\\sqrt{2}} \\right ) +\n",
    "\\left ( -\\frac{1}{\\sqrt{3}} \\cdot -\\frac{1}{\\sqrt{2}} \\right ) } = \\myvector{ \\frac{1+i-1}{\\sqrt{6}} \\\\ \\frac{1+i+1}{\\sqrt{6}} } = \\myvector{ \\frac{i}{\\sqrt{6}} \\\\ \\frac{2+i}{\\sqrt{6}} }.\n",
    "$$\n",
    "\n",
    "The length of the vector is $\\mathopen|\\frac{i}{\\sqrt{6}}\\mathclose|^2 + \\mathopen|\\frac{2+i}{\\sqrt{6}}\\mathclose|^2 = (\\sqrt{\\frac{1}{6}})^2 + (\\sqrt{\\frac{4}{6} + \\frac{1}{6}})^2 = \\frac{1}{6} + \\frac{5}{6} = 1$."
   ]
  },
  {
   "cell_type": "markdown",
   "metadata": {},
   "source": [
    "Now we will check the most basic quantum operator with complex values. We know the X and Z operators, and curious people might ask, where is the remaining coordinate - $Y$ operator. Now we are ready to check the $Y$ operator:\n",
    "\n",
    "$$\n",
    "    Y = \\Y.\n",
    "$$"
   ]
  },
  {
   "cell_type": "markdown",
   "metadata": {},
   "source": [
    "<h3> Task 1 </h3>\n",
    "\n",
    "Verify that $Y^{\\dagger} = Y$ and that $YY = I$.\n",
    "\n"
   ]
  },
  {
   "cell_type": "markdown",
   "metadata": {},
   "source": [
    "<a href=\"C03_Quantum_Operators_With_Complex_Numbers_Solutions.ipynb#task1\">click for our solution</a>"
   ]
  },
  {
   "cell_type": "markdown",
   "metadata": {},
   "source": [
    "$Y$ operator is similar to $X$ operator, but now we do not only exchange the values of the two basis states, but also multiply them by some imaginary number. Let's check this operator on the previously checked quantum state: $\\myvector{ \\frac{1+i}{\\sqrt{3}} \\\\ -\\frac{1}{\\sqrt{3}} }$.\n",
    "\n",
    "$$\n",
    "Y \\myvector{ \\frac{1+i}{\\sqrt{3}} \\\\ -\\frac{1}{\\sqrt{3}} } = \\Y \\myvector{ \\frac{1+i}{\\sqrt{3}} \\\\ -\\frac{1}{\\sqrt{3}} } = \\myvector{ -\\frac{-i}{\\sqrt{3}} \\\\ \\frac{i+i^2}{\\sqrt{3}} } = \\myvector{ \\frac{i}{\\sqrt{3}} \\\\ \\frac{-1+i}{\\sqrt{3}} }.\n",
    "$$"
   ]
  },
  {
   "cell_type": "markdown",
   "metadata": {},
   "source": [
    "Now we will check one more quantum operator with complex numbers, which is not one of the of basic gates provided in Qiskit:\n",
    "\n",
    "$$\n",
    "\\mymatrix{cc}{ \\frac{1+i}{2} & \\frac{1-i}{2} \\\\ \\frac{1-i}{2} & \\frac{1+i}{2} }.\n",
    "$$"
   ]
  },
  {
   "cell_type": "markdown",
   "metadata": {},
   "source": [
    "<h3> Task 2</h3>\n",
    "\n",
    "Randomly create a 2-dimensional quantum state, where both amplitudes are complex numbers (you can use your solution from previous notebook, Task 3). After that apply the mentioned operator to the generated state and verify that the resulting state is a valid quantum state.\n",
    "\n",
    "<b>Repeat several times:</b>\n",
    "<ul>\n",
    "    <li> Randomly pick a quantum state. </li>\n",
    "    <li> Apply the mentioned operator to the state. </li>\n",
    "    <li> Check whether the resulting quantum state is valid. </li>"
   ]
  },
  {
   "cell_type": "code",
   "execution_count": null,
   "metadata": {},
   "outputs": [],
   "source": [
    "%load random_complex_quantum_state.py\n",
    "#Run this cell to load the function you have written"
   ]
  },
  {
   "cell_type": "code",
   "execution_count": null,
   "metadata": {},
   "outputs": [],
   "source": [
    "%load is_quantum_state.py\n",
    "#Run this cell to load the function you have written"
   ]
  },
  {
   "cell_type": "code",
   "execution_count": null,
   "metadata": {},
   "outputs": [],
   "source": [
    "#\n",
    "# your code is here\n",
    "#\n"
   ]
  },
  {
   "cell_type": "markdown",
   "metadata": {},
   "source": [
    "<a href=\"C03_Quantum_Operators_With_Complex_Numbers_Solutions.ipynb#task2\">click for our solution</a>"
   ]
  },
  {
   "cell_type": "markdown",
   "metadata": {},
   "source": [
    "<h3> Task 3</h3>\n",
    "\n",
    "Repeat Task 2, but with Hadamard operator. Note that you should load the necessary functions if you did not complete Task 2."
   ]
  },
  {
   "cell_type": "code",
   "execution_count": null,
   "metadata": {},
   "outputs": [],
   "source": [
    "#\n",
    "# your code is here\n",
    "#\n"
   ]
  },
  {
   "cell_type": "markdown",
   "metadata": {},
   "source": [
    "<a href=\"C03_Quantum_Operators_With_Complex_Numbers_Solutions.ipynb#task3\">click for our solution</a>"
   ]
  },
  {
   "cell_type": "markdown",
   "metadata": {},
   "source": [
    "<h3> Task 4</h3>\n",
    "\n",
    "Repeat Task 2 with the following quantum operators. Note that you should load the necessary functions if you did not complete Task 2.\n",
    "\n",
    "$$\n",
    "\\S \\mbox{ and } \\T.\n",
    "$$"
   ]
  },
  {
   "cell_type": "code",
   "execution_count": null,
   "metadata": {},
   "outputs": [],
   "source": [
    "#\n",
    "# your code is here\n",
    "#\n"
   ]
  },
  {
   "cell_type": "markdown",
   "metadata": {},
   "source": [
    "<a href=\"C03_Quantum_Operators_With_Complex_Numbers_Solutions.ipynb#task4\">click for our solution</a>"
   ]
  }
 ],
 "metadata": {
  "kernelspec": {
   "display_name": "Python 3",
   "language": "python",
   "name": "python3"
  },
  "language_info": {
   "codemirror_mode": {
    "name": "ipython",
    "version": 3
   },
   "file_extension": ".py",
   "mimetype": "text/x-python",
   "name": "python",
   "nbconvert_exporter": "python",
   "pygments_lexer": "ipython3",
   "version": "3.7.3"
  }
 },
 "nbformat": 4,
 "nbformat_minor": 2
}
