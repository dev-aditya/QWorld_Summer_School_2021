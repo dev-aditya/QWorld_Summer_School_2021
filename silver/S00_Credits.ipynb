{
 "cells": [
  {
   "cell_type": "markdown",
   "metadata": {},
   "source": [
    "<table width=\"100%\"><tr style=\"background-color:white;\">\n",
    "    <td style=\"text-align:left;padding:0px;width:142px'\">\n",
    "        <a href=\"https://qworld.net\" target=\"_blank\">\n",
    "            <img src=\"../qworld/images/QWorld.png\"></a></td>\n",
    "    <td width=\"*\">&nbsp;&nbsp;&nbsp;&nbsp;&nbsp;&nbsp;</td>\n",
    "    <!-- ############################################# -->\n",
    "    <td style=\"padding:0px;width:90px;\">\n",
    "        <img align=\"right\" src=\"../qworld/images/follow_us.png\" height=\"40px\"></td>\n",
    "    <td style=\"padding:0px;width:40px;\">\n",
    "        <a href=\"https://twitter.com/QWorld19\" target=\"_blank\">\n",
    "        <img align=\"right\" src=\"../qworld/images/Twitter.png\" width=\"40px\"></a> </td>\n",
    "    <td style=\"padding:0px;width:5px;\"></td>\n",
    "    <td style=\"padding:0px;width:40px;\">\n",
    "        <a href=\"https://www.facebook.com/qworld19/\" target=\"_blank\">\n",
    "        <img align=\"right\" src=\"../qworld/images/Fb.png\"></a></td>\n",
    "    <td style=\"padding:0px;width:5px;\"></td>\n",
    "    <td style=\"padding:0px;width:40px;\">\n",
    "        <a href=\"https://www.linkedin.com/company/qworld19\" target=\"_blank\">\n",
    "        <img align=\"right\" src=\"../qworld/images/LinkedIn.png\"></a></td>\n",
    "    <td style=\"padding:0px;width:5px;\"></td>\n",
    "    <td style=\"padding:0px;width:40px;\">\n",
    "        <a href=\"https://youtube.com/QWorld19?sub_confirmation=1\" target=\"_blank\">\n",
    "        <img align=\"right\" src=\"../qworld/images/YT.png\"></a></td>\n",
    "    <!-- ############################################# -->\n",
    "    <td style=\"padding:0px;width:60px;\">\n",
    "        <img align=\"right\" src=\"../qworld/images/join.png\" height=\"40px\"></td>\n",
    "    <td style=\"padding:0px;width:40px;\">\n",
    "        <a href=\"https://discord.com/invite/akCvr7U87g\"\n",
    "           target=\"_blank\">\n",
    "        <img align=\"right\" src=\"../qworld/images/Discord.png\"></a></td>\n",
    "    <!-- ############################################# -->\n",
    "    <td style=\"padding:0px;width:72px;\">\n",
    "        <img align=\"right\" src=\"../qworld/images/w3.png\" height=\"40px\"></td>\n",
    "    <td style=\"padding:0px;width:40px;\">\n",
    "        <a href=\"https://qworld.net\" target=\"_blank\">\n",
    "        <img align=\"right\" src=\"../qworld/images/www.png\"></a></td>\n",
    "</tr></table>"
   ]
  },
  {
   "cell_type": "markdown",
   "metadata": {},
   "source": [
    "<h1> Credits </h1>"
   ]
  },
  {
   "cell_type": "markdown",
   "metadata": {},
   "source": [
    "### Bronze\n",
    "\n",
    "Bronze was created by Dr.[Abuzer Yakaryilmaz](http://abu.lu.lv) (QWorld & <a href=\"https://qworld.net/qlatvia/\" target=\"_blank\">QLatvia</a>) in October 2018, and it has been developed and maintained by him. \n",
    "\n",
    "<a href=\"https://www.cmpe.boun.edu.tr/~ozlem.salehi/\" target=\"_blank\">Dr. Özlem Salehi</a> (QWorld & <a href=\"https://qworld.net/qturkey/\" target=\"_blank\">QTurkey</a>). and Dr. Maksims Dimitrijevs (QWorld & <a href=\"https://qworld.net/qlatvia/\" target=\"_blank\">QLatvia</a>) are the other contributors by preparing new notebooks and revising the existing notebooks.\n",
    "\n",
    "Bronze was publicly available on July 7, 2019.\n",
    "\n",
    "Bronze-Qiskit was released by Abuzer Yakaryilmaz in February 2021.\n",
    "\n",
    "#### Video lectures\n",
    "\n",
    "The recording lectures were prepared by Abuzer Yakaryilmaz, Özlem Salehi Köken, and Anastasija Trizna (QLatvia) in August 2020. New recordings will be uploaded in Spring 2021.\n",
    "\n",
    "#### Bronze-Qiskit 2021\n",
    "\n",
    "Agnieszka Wolska prepared the new graphics and logos.\n",
    "\n",
    "#### Bronze 2020 & 2021\n",
    "\n",
    "We thank to the participants of QBronze workshops and [QTraining for Bronze program](https://qworld.net/qtraining-for-bronze-2020/) for their corrections and suggestions.\n",
    "\n",
    "#### Bronze 2019\n",
    "\n",
    "We thank to the mentors and participants of [QDrive](https://qworld.net/qdrive/) for their very helpful corrections and suggestions.\n",
    "\n",
    "We thank Adam Glos (QWorld & QPoland) for his comments on Bronze 2018.\n",
    "\n",
    "#### Bronze 2018\n",
    "\n",
    "We thank to Katrina Kizenbaha from Riga TechGirls for her revisions on our notebooks on python.\n",
    "\n",
    "We thank to Martins Kalis (QLatvia) for his technical comments on python, qiskit, and our notebooks.\n",
    "\n",
    "We thank to Maksims Dimitrijevs (QLatvia) for his careful reading and corrections on our notebooks.\n",
    "\n",
    "We thank to QLatvia's first members Martins Kalis, Maksims Dimitrijevs, Aleksejs Naumovs, Andis Draguns, and Matiss Apinis for their help and support.\n",
    "\n",
    "We thank to the students of [Faculty of Computing](https://www.df.lu.lv) (University of Latvia) attending quantum programming's meetings on each Friday (Fall 2018) for their comments while working with our notebooks."
   ]
  },
  {
   "cell_type": "markdown",
   "metadata": {},
   "source": [
    "### Silver\n",
    "\n",
    "Most of the Silver is prepared under the project QPool2019 [GitLab repository](https://gitlab.com/qkitchen/qpool2019) in 2019-2020 and it is expected to have contributions from public as well. \n",
    "\n",
    "We would like to thank participants of the QSilver Revision Week organized in January 2021 and the participants of the QSilver Pilot Workshop organized in April 2021 for revising the material.\n",
    "\n",
    "\n",
    "#### Introduction to Complex Numbers, Bloch Sphere, Operations with Complex Numbers\n",
    "\n",
    "This part is developed by Dr. Maksim Dimitrijev (<a href=\"https://qworld.net/qlatvia/\" target=\"_blank\">QLatvia</a>). <a href=\"https://people.fjfi.cvut.cz/gabriaur/ \" target=\"_blank\">Dr. Aurél Gábris</a> (<a href=\"https://qworld.net/qczech/\" target=\"_blank\">QCzech</a>) contributed by providing additional content.     \n",
    "\n",
    "#### Quantum Fourier Transform and Shor's Algorithm\n",
    "\n",
    "This section is developed by <a href=\"https://www.cmpe.boun.edu.tr/~ozlem.salehi/\" target=\"_blank\">Dr. Özlem Salehi</a> (<a href=\"https://qworld.net/qturkey/\" target=\"_blank\">QTurkey</a>)."
   ]
  },
  {
   "cell_type": "markdown",
   "metadata": {},
   "source": [
    "## License\n",
    "\n",
    "The code of this project is licensed under the Apache License, Version 2.0\n",
    "(the \"License\"); you may not use this file except in compliance with the License.\n",
    "You may obtain a copy of the License at\n",
    "\n",
    "   [http://www.apache.org/licenses/LICENSE-2.0](http://www.apache.org/licenses/LICENSE-2.0)\n",
    "\n",
    "Unless required by applicable law or agreed to in writing, software\n",
    "distributed under the License is distributed on an \"AS IS\" BASIS,\n",
    "WITHOUT WARRANTIES OR CONDITIONS OF ANY KIND, either express or implied.\n",
    "See the License for the specific language governing permissions and\n",
    "limitations under the License.\n",
    "\n",
    "The text and figures of this work is licensed under a Creative Commons Attribution 4.0 International License, available at [https://creativecommons.org/licenses/by/4.0/legalcode](https://creativecommons.org/licenses/by/4.0/legalcode).\n"
   ]
  }
 ],
 "metadata": {
  "kernelspec": {
   "display_name": "Python 3",
   "language": "python",
   "name": "python3"
  },
  "language_info": {
   "codemirror_mode": {
    "name": "ipython",
    "version": 3
   },
   "file_extension": ".py",
   "mimetype": "text/x-python",
   "name": "python",
   "nbconvert_exporter": "python",
   "pygments_lexer": "ipython3",
   "version": "3.7.3"
  }
 },
 "nbformat": 4,
 "nbformat_minor": 2
}
