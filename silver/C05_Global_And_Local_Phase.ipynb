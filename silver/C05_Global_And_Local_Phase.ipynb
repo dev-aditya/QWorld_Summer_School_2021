{
 "cells": [
  {
   "cell_type": "markdown",
   "metadata": {},
   "source": [
    "<table align=\"left\"  width=\"100%\"> <tr>\n",
    "        <td  style=\"background-color:#ffffff;\">\n",
    "            <a href=\"http://qworld.lu.lv\" target=\"_blank\"><img src=\"../images/qworld.jpg\" width=\"35%\" align=\"left\"> </a></td>\n",
    "        <td style=\"background-color:#ffffff;vertical-align:bottom;text-align:right;\">\n",
    "            prepared by Maksim Dimitrijev (<a href=\"http://qworld.lu.lv/index.php/qlatvia/\" target=\"_blank\">QLatvia</a>) \n",
    "        </td>        \n",
    "</tr></table>"
   ]
  },
  {
   "cell_type": "markdown",
   "metadata": {},
   "source": [
    "<table width=\"100%\"><tr><td style=\"color:#bbbbbb;background-color:#ffffff;font-size:11px;font-style:italic;text-align:right;\">This cell contains some macros. If there is a problem with displaying mathematical formulas, please run this cell to load these macros. </td></tr></table>\n",
    "$ \\newcommand{\\bra}[1]{\\langle #1|} $\n",
    "$ \\newcommand{\\ket}[1]{|#1\\rangle} $\n",
    "$ \\newcommand{\\braket}[2]{\\langle #1|#2\\rangle} $\n",
    "$ \\newcommand{\\dot}[2]{ #1 \\cdot #2} $\n",
    "$ \\newcommand{\\biginner}[2]{\\left\\langle #1,#2\\right\\rangle} $\n",
    "$ \\newcommand{\\mymatrix}[2]{\\left( \\begin{array}{#1} #2\\end{array} \\right)} $\n",
    "$ \\newcommand{\\myvector}[1]{\\mymatrix{c}{#1}} $\n",
    "$ \\newcommand{\\myrvector}[1]{\\mymatrix{r}{#1}} $\n",
    "$ \\newcommand{\\mypar}[1]{\\left( #1 \\right)} $\n",
    "$ \\newcommand{\\mybigpar}[1]{ \\Big( #1 \\Big)} $\n",
    "$ \\newcommand{\\sqrttwo}{\\frac{1}{\\sqrt{2}}} $\n",
    "$ \\newcommand{\\dsqrttwo}{\\dfrac{1}{\\sqrt{2}}} $\n",
    "$ \\newcommand{\\onehalf}{\\frac{1}{2}} $\n",
    "$ \\newcommand{\\donehalf}{\\dfrac{1}{2}} $\n",
    "$ \\newcommand{\\hadamard}{ \\mymatrix{rr}{ \\sqrttwo & \\sqrttwo \\\\ \\sqrttwo & -\\sqrttwo }} $\n",
    "$ \\newcommand{\\vzero}{\\myvector{1\\\\0}} $\n",
    "$ \\newcommand{\\vone}{\\myvector{0\\\\1}} $\n",
    "$ \\newcommand{\\stateplus}{\\myvector{ \\sqrttwo \\\\  \\sqrttwo } } $\n",
    "$ \\newcommand{\\stateminus}{ \\myrvector{ \\sqrttwo \\\\ -\\sqrttwo } } $\n",
    "$ \\newcommand{\\myarray}[2]{ \\begin{array}{#1}#2\\end{array}} $\n",
    "$ \\newcommand{\\X}{ \\mymatrix{cc}{0 & 1 \\\\ 1 & 0}  } $\n",
    "$ \\newcommand{\\Z}{ \\mymatrix{rr}{1 & 0 \\\\ 0 & -1}  } $\n",
    "$ \\newcommand{\\Htwo}{ \\mymatrix{rrrr}{ \\frac{1}{2} & \\frac{1}{2} & \\frac{1}{2} & \\frac{1}{2} \\\\ \\frac{1}{2} & -\\frac{1}{2} & \\frac{1}{2} & -\\frac{1}{2} \\\\ \\frac{1}{2} & \\frac{1}{2} & -\\frac{1}{2} & -\\frac{1}{2} \\\\ \\frac{1}{2} & -\\frac{1}{2} & -\\frac{1}{2} & \\frac{1}{2} } } $\n",
    "$ \\newcommand{\\CNOT}{ \\mymatrix{cccc}{1 & 0 & 0 & 0 \\\\ 0 & 1 & 0 & 0 \\\\ 0 & 0 & 0 & 1 \\\\ 0 & 0 & 1 & 0} } $\n",
    "$ \\newcommand{\\norm}[1]{ \\left\\lVert #1 \\right\\rVert } $\n",
    "$ \\newcommand{\\pstate}[1]{ \\lceil \\mspace{-1mu} #1 \\mspace{-1.5mu} \\rfloor } $\n",
    "$ \\newcommand{\\Y}{ \\mymatrix{rr}{0 & -i \\\\ i & 0} } $ $ \\newcommand{\\S}{ \\mymatrix{rr}{1 & 0 \\\\ 0 & i} } $ \n",
    "$ \\newcommand{\\T}{ \\mymatrix{rr}{1 & 0 \\\\ 0 & e^{i \\frac{pi}{4}}} } $ \n",
    "$ \\newcommand{\\Sdg}{ \\mymatrix{rr}{1 & 0 \\\\ 0 & -i} } $ \n",
    "$ \\newcommand{\\Tdg}{ \\mymatrix{rr}{1 & 0 \\\\ 0 & e^{-i \\frac{pi}{4}}} } $\n",
    "$ \\newcommand{\\qgate}[1]{ \\mathop{\\textit{#1} } }$"
   ]
  },
  {
   "cell_type": "markdown",
   "metadata": {},
   "source": [
    "<h1> Global and local phase </h1>"
   ]
  },
  {
   "cell_type": "markdown",
   "metadata": {},
   "source": [
    "A generic qubit can be in state $\\ket{\\psi} = \\alpha \\ket{0} + \\beta \\ket{1}$, where $\\alpha, \\beta \\in \\mathbb{C}$ and $\\mathopen|\\alpha\\mathclose|^2 + \\mathopen|\\beta\\mathclose|^2 = 1$. Both amplitudes can be complex values, and each complex number has a real and an imaginary part. Therefore, we have 4 different numbers that describe the state of a qubit. \n",
    "\n",
    "Can we have more concise way to represent the state of a qubit? Understanding of complex numbers and global and local phase can help us to improve the situation."
   ]
  },
  {
   "cell_type": "markdown",
   "metadata": {},
   "source": [
    "<h2> Another representation of a state </h2>\n",
    "\n",
    "At the given moment we have 4 numbers to represent the state of a qubit. We can reduce this to three numbers, since $\\mathopen|\\alpha\\mathclose|^2 + \\mathopen|\\beta\\mathclose|^2 = 1$. How the result will look like? Since there is a correspondence between two amplitudes and complex numbers can be represented in polar form, the community has found the following representation of the state of a qubit with three angles:\n",
    "\n",
    "$$\n",
    "\\ket{\\psi} = e^{i\\delta} ( \\cos{\\frac{\\theta}{2}} \\ket{0} + e^{i\\phi} \\sin{\\frac{\\theta}{2}} \\ket{1} ),\n",
    "$$\n",
    "\n",
    "where $0 \\leq \\theta \\leq \\pi$ and $0 \\leq \\phi, \\delta < 2\\pi$."
   ]
  },
  {
   "cell_type": "markdown",
   "metadata": {},
   "source": [
    "<h2> Global phase </h2>\n",
    "\n",
    "Suppose that we have a qubit and its state is either $ \\ket{\\psi} $ or $ e^{i\\delta} \\ket{\\psi} $, where $0 \\leq \\delta < 2\\pi$.\n",
    "\n",
    "Is there any sequence of one-qubit gates such that we can measure different results after applying them?"
   ]
  },
  {
   "cell_type": "markdown",
   "metadata": {},
   "source": [
    "All one-qubit gates are $ 2 \\times 2 $ matrices, and their application is represented by a single matrix: $ A_n \\cdot \\cdots \\cdot A_2 \\cdot A_1 = A $.\n",
    "\n",
    "By linearity, if $ A \\ket{\\psi} = \\ket{u} $, then $ A e^{i\\delta} \\ket{\\psi} = e^{i\\delta} \\ket{u} $. Thus, after measurement, the probabilities of observing state $ \\ket{0} $ and state $ \\ket{1} $ are the same in both cases. Therefore, we cannot distinguish them.\n",
    "\n",
    "Even though the states $ \\ket{0} $ and $ e^{i\\delta} \\ket{0} $ are different mathematically, they are assumed the same from the physical point of view. "
   ]
  },
  {
   "cell_type": "markdown",
   "metadata": {},
   "source": [
    "The complex number $ e^{i\\delta} $ in front of $ e^{i\\delta} \\ket{\\psi} $ is called as _global phase_.\n",
    "\n",
    "Therefore, two vectors that differ by a global phase factor, in quantum mechanics are considered equivalent, and so we have $ \\ket{\\psi} \\equiv e^{i\\delta} \\ket{\\psi} $ for any quantum state $\\ket{\\psi}$ and any $0 \\leq \\delta < 2\\pi$.\n",
    "\n",
    "Now we can describe the state of a qubit with two numbers - angles $\\theta$ and $\\phi$:\n",
    "\n",
    "$$\n",
    "\\ket{\\psi} = \\cos{\\frac{\\theta}{2}} \\ket{0} + e^{i\\phi} \\sin{\\frac{\\theta}{2}} \\ket{1},\n",
    "$$\n",
    "\n",
    "where $0 \\leq \\theta \\leq \\pi$ and $0 \\leq \\phi < 2\\pi$."
   ]
  },
  {
   "cell_type": "markdown",
   "metadata": {},
   "source": [
    "<h2> Local phase </h2>\n",
    "\n",
    "In our last form of the state representation we have an amplitude multiplier $e^{i\\phi}$. What if we have a similar multiplier also for the amplitude of state $\\ket{0}$? \n",
    "\n",
    "Then we would have the following state: \n",
    "\n",
    "$$e^{i\\gamma} \\cos{\\frac{\\theta}{2}} \\ket{0} + e^{i\\phi} \\sin{\\frac{\\theta}{2}} \\ket{1} = e^{i\\gamma}(\\cos{\\frac{\\theta}{2}} \\ket{0} + e^{i(\\phi-\\gamma)} \\sin{\\frac{\\theta}{2}} \\ket{1}) = \\cos{\\frac{\\theta}{2}} \\ket{0} + e^{i(\\phi-\\gamma)} \\sin{\\frac{\\theta}{2}} \\ket{1}.$$ \n",
    "\n",
    "Therefore, there is no need for second such multiplier, and having one related to the state $\\ket{1}$ is a convention.\n",
    "\n",
    "One more useful fact is that $\\mathopen|e^{i\\phi}\\mathclose| = 1$ for any $\\phi$. This means that this multiplier does not affect the probabilities to observe state $\\ket{0}$ or $\\ket{1}$ after the measurement. This means that only parameter $\\theta$ influences the probability to observe state $\\ket{0}$ or $\\ket{1}$ after the measurement.\n",
    "\n",
    "Although $e^{i\\phi}$ does not influence the measurement outcome, it influences the overall computation, as you could notice in previous notebook, where we affected the phase for the state $\\ket{1}$. The number $e^{i\\phi}$ shows additional relation between states $\\ket{0}$ and $\\ket{1}$, like one more dimension added to the computation, and is called local phase. As you have noticed, local phase indeed is important for the computation."
   ]
  },
  {
   "cell_type": "markdown",
   "metadata": {},
   "source": [
    "<h3> Task 1 </h3>\n",
    "\n",
    "Find the probabilities of observing states $\\ket{0}$ and $\\ket{1}$ for the qubits in the following states:\n",
    "\n",
    "<ul>\n",
    "    <li>$\\cos{\\frac{\\pi}{3}} \\ket{0} + e^{i\\pi} \\sin{\\frac{\\pi}{3}} \\ket{1}$</li>\n",
    "    <li>$\\cos{\\frac{\\pi}{4}} \\ket{0} + e^{i\\frac{\\pi}{4}} \\sin{\\frac{\\pi}{4}} \\ket{1}$</li>\n",
    "    <li>$\\cos{\\frac{\\pi}{6}} \\ket{0} + i \\sin{\\frac{\\pi}{6}} \\ket{1}$</li>\n",
    "</ul>"
   ]
  },
  {
   "cell_type": "markdown",
   "metadata": {},
   "source": [
    "<a href=\"C05_Global_And_Local_Phase_Solutions.ipynb#task1\">click for our solution</a>"
   ]
  },
  {
   "cell_type": "markdown",
   "metadata": {},
   "source": [
    "<h3> Task 2 </h3>\n",
    "\n",
    "Implement a function that calculates the probabilities of observing states $\\ket{0}$ and $\\ket{1}$ given the angle of a quantum state. Assuming that the quantum state is of the form $\\cos{\\frac{\\theta}{2}} \\ket{0} + e^{i\\phi} \\sin{\\frac{\\theta}{2}} \\ket{1}$, $\\theta$ and $\\phi$ should be provided to the function as parameters. Check the quantum states given in Task 1 and compare the results."
   ]
  },
  {
   "cell_type": "code",
   "execution_count": null,
   "metadata": {},
   "outputs": [],
   "source": [
    "#\n",
    "# your solution is here\n",
    "#\n"
   ]
  },
  {
   "cell_type": "markdown",
   "metadata": {},
   "source": [
    "<a href=\"C05_Global_And_Local_Phase_Solutions.ipynb#task2\">click for our solution</a>"
   ]
  }
 ],
 "metadata": {
  "kernelspec": {
   "display_name": "Python 3",
   "language": "python",
   "name": "python3"
  },
  "language_info": {
   "codemirror_mode": {
    "name": "ipython",
    "version": 3
   },
   "file_extension": ".py",
   "mimetype": "text/x-python",
   "name": "python",
   "nbconvert_exporter": "python",
   "pygments_lexer": "ipython3",
   "version": "3.7.3"
  }
 },
 "nbformat": 4,
 "nbformat_minor": 2
}
