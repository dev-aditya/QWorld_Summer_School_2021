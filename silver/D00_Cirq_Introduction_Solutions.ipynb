{
 "cells": [
  {
   "cell_type": "markdown",
   "id": "respiratory-female",
   "metadata": {},
   "source": [
    "<table  align=\"left\" width=\"100%\"> <tr>\n",
    "        <td  style=\"background-color:#ffffff;\"><a href=\"https://qsoftware.lu.lv/index.php/qworld/\" target=\"_blank\"><img src=\"..\\images\\qworld.jpg\" width=\"35%\" align=\"left\"></a></td>\n",
    "        <td  align=\"right\" style=\"background-color:#ffffff;vertical-align:bottom;horizontal-align:right\">\n",
    "            prepared by Özlem Salehi\n",
    "        </td>        \n",
    "</tr></table>"
   ]
  },
  {
   "cell_type": "markdown",
   "id": "prerequisite-canadian",
   "metadata": {},
   "source": [
    "<table width=\"100%\"><tr><td style=\"color:#bbbbbb;background-color:#ffffff;font-size:11px;font-style:italic;text-align:right;\">This cell contains some macros. If there is a problem with displaying mathematical formulas, please run this cell to load these macros. </td></tr></table>\n",
    "$ \\newcommand{\\bra}[1]{\\langle #1|} $\n",
    "$ \\newcommand{\\ket}[1]{|#1\\rangle} $\n",
    "$ \\newcommand{\\braket}[2]{\\langle #1|#2\\rangle} $\n",
    "$ \\newcommand{\\dot}[2]{ #1 \\cdot #2} $\n",
    "$ \\newcommand{\\biginner}[2]{\\left\\langle #1,#2\\right\\rangle} $\n",
    "$ \\newcommand{\\mymatrix}[2]{\\left( \\begin{array}{#1} #2\\end{array} \\right)} $\n",
    "$ \\newcommand{\\myvector}[1]{\\mymatrix{c}{#1}} $\n",
    "$ \\newcommand{\\myrvector}[1]{\\mymatrix{r}{#1}} $\n",
    "$ \\newcommand{\\mypar}[1]{\\left( #1 \\right)} $\n",
    "$ \\newcommand{\\mybigpar}[1]{ \\Big( #1 \\Big)} $\n",
    "$ \\newcommand{\\sqrttwo}{\\frac{1}{\\sqrt{2}}} $\n",
    "$ \\newcommand{\\dsqrttwo}{\\dfrac{1}{\\sqrt{2}}} $\n",
    "$ \\newcommand{\\onehalf}{\\frac{1}{2}} $\n",
    "$ \\newcommand{\\donehalf}{\\dfrac{1}{2}} $\n",
    "$ \\newcommand{\\hadamard}{ \\mymatrix{rr}{ \\sqrttwo & \\sqrttwo \\\\ \\sqrttwo & -\\sqrttwo }} $\n",
    "$ \\newcommand{\\vzero}{\\myvector{1\\\\0}} $\n",
    "$ \\newcommand{\\vone}{\\myvector{0\\\\1}} $\n",
    "$ \\newcommand{\\vhadamardzero}{\\myvector{ \\sqrttwo \\\\  \\sqrttwo } } $\n",
    "$ \\newcommand{\\vhadamardone}{ \\myrvector{ \\sqrttwo \\\\ -\\sqrttwo } } $\n",
    "$ \\newcommand{\\myarray}[2]{ \\begin{array}{#1}#2\\end{array}} $\n",
    "$ \\newcommand{\\X}{ \\mymatrix{cc}{0 & 1 \\\\ 1 & 0}  } $\n",
    "$ \\newcommand{\\Z}{ \\mymatrix{rr}{1 & 0 \\\\ 0 & -1}  } $\n",
    "$ \\newcommand{\\Htwo}{ \\mymatrix{rrrr}{ \\frac{1}{2} & \\frac{1}{2} & \\frac{1}{2} & \\frac{1}{2} \\\\ \\frac{1}{2} & -\\frac{1}{2} & \\frac{1}{2} & -\\frac{1}{2} \\\\ \\frac{1}{2} & \\frac{1}{2} & -\\frac{1}{2} & -\\frac{1}{2} \\\\ \\frac{1}{2} & -\\frac{1}{2} & -\\frac{1}{2} & \\frac{1}{2} } } $\n",
    "$ \\newcommand{\\CNOT}{ \\mymatrix{cccc}{1 & 0 & 0 & 0 \\\\ 0 & 1 & 0 & 0 \\\\ 0 & 0 & 0 & 1 \\\\ 0 & 0 & 1 & 0} } $\n",
    "$ \\newcommand{\\norm}[1]{ \\left\\lVert #1 \\right\\rVert } $\n",
    "$ \\newcommand{\\pstate}[1]{ \\lceil \\mspace{-1mu} #1 \\mspace{-1.5mu} \\rfloor } $"
   ]
  },
  {
   "cell_type": "markdown",
   "id": "blind-watts",
   "metadata": {},
   "source": [
    "# <font color=\"blue\"> Solutions for </font> Cirq Introduction"
   ]
  },
  {
   "cell_type": "markdown",
   "id": "selective-aaron",
   "metadata": {},
   "source": [
    "<a id=\"task1\"></a>\n",
    "### Task 1\n",
    "    \n",
    "Create a quantum circuit with 10 qubits. \n",
    "\n",
    "1. Apply $H$ gate to qubit 0. \n",
    "2. Apply nine $CNOT$ gates where qubit $0$ is the control and qubit $i$ is the target for $i=1\\cdots9$.\n",
    "\n",
    "Draw your circuit."
   ]
  },
  {
   "cell_type": "markdown",
   "id": "informative-people",
   "metadata": {},
   "source": [
    "<h3> Solution </h3>"
   ]
  },
  {
   "cell_type": "code",
   "execution_count": null,
   "id": "found-sweden",
   "metadata": {},
   "outputs": [],
   "source": [
    "import cirq\n",
    "from cirq import H, CX\n",
    "\n",
    "# Create quantum and classical registers with 10 qubits\n",
    "qlist = cirq.LineQubit.range(10)\n",
    "\n",
    "# Create a new circuit\n",
    "circuit = cirq.Circuit()\n",
    "\n",
    "# Apply H gate\n",
    "circuit.append(H(qlist[0]))\n",
    "\n",
    "for i in range(1,10):\n",
    "    circuit.append(CX(qlist[0],qlist[i]))\n",
    "\n",
    "# Single line solution\n",
    "# circuit.append(CX(qlist[0],qlist[i]) for i in range(1,10))\n",
    "    \n",
    "print(circuit)"
   ]
  },
  {
   "cell_type": "markdown",
   "id": "motivated-fetish",
   "metadata": {},
   "source": [
    "<a id=\"task2\"></a>\n",
    "### Task 2\n",
    "    \n",
    "Create a quantum circuit with 10 qubits. \n",
    "\n",
    "1. Apply $H$ gates to all qubits.\n",
    "2. Apply $X$ gate to qubit 0 controlled by qubits 1-9\n",
    "2. Apply $H$ gates to all qubits.\n",
    "\n",
    "Draw your circuit."
   ]
  },
  {
   "cell_type": "markdown",
   "id": "widespread-semiconductor",
   "metadata": {},
   "source": [
    "<h3> Solution </h3>"
   ]
  },
  {
   "cell_type": "code",
   "execution_count": null,
   "id": "african-example",
   "metadata": {},
   "outputs": [],
   "source": [
    "import cirq\n",
    "from cirq import H, X\n",
    "\n",
    "# Create quantum and classical registers with 10 qubits\n",
    "qlist = cirq.LineQubit.range(10)\n",
    "\n",
    "# Create a new circuit\n",
    "circuit = cirq.Circuit()\n",
    "\n",
    "# Apply H to all qubits\n",
    "circuit.append(H.on_each(*qlist))\n",
    "\n",
    "# Qubits 1-9 are the control and qubit 0 is the target\n",
    "# Using controlled by is more convenient in this case\n",
    "circuit.append(X(qlist[0]).controlled_by(*qlist[1:10]))\n",
    "\n",
    "# Apply H to all qubits\n",
    "circuit.append(H.on_each(*qlist))\n",
    "\n",
    "# Draw circuit\n",
    "print(circuit)"
   ]
  },
  {
   "cell_type": "markdown",
   "id": "pleased-appreciation",
   "metadata": {},
   "source": [
    "<a id=\"task3\"></a>\n",
    "### Task 3\n",
    "    \n",
    "Implement the circuit in Task 1. Measure all the qubits and simulate your circuit for 1000 times."
   ]
  },
  {
   "cell_type": "markdown",
   "id": "complex-clothing",
   "metadata": {},
   "source": [
    "<h3> Solution </h3>"
   ]
  },
  {
   "cell_type": "code",
   "execution_count": null,
   "id": "stainless-think",
   "metadata": {},
   "outputs": [],
   "source": [
    "import cirq\n",
    "from cirq import H, CX, measure\n",
    "\n",
    "# Create quantum and classical registers with 10 qubits\n",
    "qlist = cirq.LineQubit.range(10)\n",
    "\n",
    "# Create a new circuit\n",
    "circuit = cirq.Circuit()\n",
    "\n",
    "# Apply H gate\n",
    "circuit.append(H(qlist[0]))\n",
    "\n",
    "# Apply CNOT\n",
    "circuit.append(CX(qlist[0],qlist[i]) for i in range(1,10))\n",
    "\n",
    "# Measure both qubits, result is the label\n",
    "circuit.append(measure(*qlist, key='result'))\n",
    "\n",
    "# This is the local simulator \n",
    "s = cirq.Simulator()\n",
    "\n",
    "# circuit is the circuit to be simulated\n",
    "# repetition is the how many times we want to run the circuit\n",
    "samples=s.run(circuit, repetitions=1000)\n",
    "\n",
    "def bitstring(bits):\n",
    "    return \"\".join(str(int(b)) for b in bits)\n",
    "\n",
    "counts = samples.histogram(key=\"result\",fold_func=bitstring)\n",
    "print(counts)"
   ]
  },
  {
   "cell_type": "markdown",
   "id": "danish-senior",
   "metadata": {},
   "source": [
    "<a id=\"task4\"></a>\n",
    "### Task 4\n",
    "    \n",
    "Create a quantum circuit with 4 qubits. Apply Hadamard gate to each qubit and $CZ$ gate to qubits 0 and 1. Use the simulator without measuring the circuit. Check the entries with negative sign."
   ]
  },
  {
   "cell_type": "markdown",
   "id": "guided-baghdad",
   "metadata": {},
   "source": [
    "<h3> Solution </h3>"
   ]
  },
  {
   "cell_type": "code",
   "execution_count": null,
   "id": "international-pleasure",
   "metadata": {},
   "outputs": [],
   "source": [
    "import cirq\n",
    "from cirq import H, CZ\n",
    "\n",
    "# Create 4 quantum bits\n",
    "qlist = cirq.LineQubit.range(4)\n",
    "\n",
    "# Create a new circuit\n",
    "circuit = cirq.Circuit()\n",
    "\n",
    "# Apply H gate\n",
    "circuit.append(H.on_each(*qlist))\n",
    "\n",
    "# Apply CZ\n",
    "circuit.append(CZ(qlist[0],qlist[1]))\n",
    "\n",
    "s = cirq.Simulator()\n",
    "results=s.simulate(circuit)\n",
    "print(results)"
   ]
  },
  {
   "cell_type": "markdown",
   "id": "respective-clarity",
   "metadata": {},
   "source": [
    "The states $\\ket{1100}$, $\\ket{1101}$, $\\ket{1110}$, $\\ket{1111}$ have the negative sign."
   ]
  }
 ],
 "metadata": {
  "kernelspec": {
   "display_name": "Python 3",
   "language": "python",
   "name": "python3"
  },
  "language_info": {
   "codemirror_mode": {
    "name": "ipython",
    "version": 3
   },
   "file_extension": ".py",
   "mimetype": "text/x-python",
   "name": "python",
   "nbconvert_exporter": "python",
   "pygments_lexer": "ipython3",
   "version": "3.7.3"
  }
 },
 "nbformat": 4,
 "nbformat_minor": 5
}
