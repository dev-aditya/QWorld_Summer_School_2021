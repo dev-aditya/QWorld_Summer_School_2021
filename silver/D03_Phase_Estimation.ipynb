{
 "cells": [
  {
   "cell_type": "markdown",
   "metadata": {},
   "source": [
    "<table  align=\"left\" width=\"100%\"> <tr>\n",
    "        <td  style=\"background-color:#ffffff;\"><a href=\"https://qsoftware.lu.lv/index.php/qworld/\" target=\"_blank\"><img src=\"..\\images\\qworld.jpg\" width=\"35%\" align=\"left\"></a></td>\n",
    "        <td  align=\"right\" style=\"background-color:#ffffff;vertical-align:bottom;horizontal-align:right\">\n",
    "            prepared by Özlem Salehi (<a href=\"http://qworld.lu.lv/index.php/qturkey/\" target=\"_blank\">QTurkey</a>)\n",
    "        </td>        \n",
    "</tr></table>"
   ]
  },
  {
   "cell_type": "markdown",
   "metadata": {},
   "source": [
    "<table width=\"100%\"><tr><td style=\"color:#bbbbbb;background-color:#ffffff;font-size:11px;font-style:italic;text-align:right;\">This cell contains some macros. If there is a problem with displaying mathematical formulas, please run this cell to load these macros. </td></tr></table>\n",
    "$ \\newcommand{\\bra}[1]{\\langle #1|} $\n",
    "$ \\newcommand{\\ket}[1]{|#1\\rangle} $\n",
    "$ \\newcommand{\\braket}[2]{\\langle #1|#2\\rangle} $\n",
    "$ \\newcommand{\\dot}[2]{ #1 \\cdot #2} $\n",
    "$ \\newcommand{\\biginner}[2]{\\left\\langle #1,#2\\right\\rangle} $\n",
    "$ \\newcommand{\\mymatrix}[2]{\\left( \\begin{array}{#1} #2\\end{array} \\right)} $\n",
    "$ \\newcommand{\\myvector}[1]{\\mymatrix{c}{#1}} $\n",
    "$ \\newcommand{\\myrvector}[1]{\\mymatrix{r}{#1}} $\n",
    "$ \\newcommand{\\mypar}[1]{\\left( #1 \\right)} $\n",
    "$ \\newcommand{\\mybigpar}[1]{ \\Big( #1 \\Big)} $\n",
    "$ \\newcommand{\\sqrttwo}{\\frac{1}{\\sqrt{2}}} $\n",
    "$ \\newcommand{\\dsqrttwo}{\\dfrac{1}{\\sqrt{2}}} $\n",
    "$ \\newcommand{\\onehalf}{\\frac{1}{2}} $\n",
    "$ \\newcommand{\\donehalf}{\\dfrac{1}{2}} $\n",
    "$ \\newcommand{\\hadamard}{ \\mymatrix{rr}{ \\sqrttwo & \\sqrttwo \\\\ \\sqrttwo & -\\sqrttwo }} $\n",
    "$ \\newcommand{\\vzero}{\\myvector{1\\\\0}} $\n",
    "$ \\newcommand{\\vone}{\\myvector{0\\\\1}} $\n",
    "$ \\newcommand{\\stateplus}{\\myvector{ \\sqrttwo \\\\  \\sqrttwo } } $\n",
    "$ \\newcommand{\\stateminus}{ \\myrvector{ \\sqrttwo \\\\ -\\sqrttwo } } $\n",
    "$ \\newcommand{\\myarray}[2]{ \\begin{array}{#1}#2\\end{array}} $\n",
    "$ \\newcommand{\\X}{ \\mymatrix{cc}{0 & 1 \\\\ 1 & 0}  } $\n",
    "$ \\newcommand{\\Z}{ \\mymatrix{rr}{1 & 0 \\\\ 0 & -1}  } $\n",
    "$ \\newcommand{\\Htwo}{ \\mymatrix{rrrr}{ \\frac{1}{2} & \\frac{1}{2} & \\frac{1}{2} & \\frac{1}{2} \\\\ \\frac{1}{2} & -\\frac{1}{2} & \\frac{1}{2} & -\\frac{1}{2} \\\\ \\frac{1}{2} & \\frac{1}{2} & -\\frac{1}{2} & -\\frac{1}{2} \\\\ \\frac{1}{2} & -\\frac{1}{2} & -\\frac{1}{2} & \\frac{1}{2} } } $\n",
    "$ \\newcommand{\\CNOT}{ \\mymatrix{cccc}{1 & 0 & 0 & 0 \\\\ 0 & 1 & 0 & 0 \\\\ 0 & 0 & 0 & 1 \\\\ 0 & 0 & 1 & 0} } $\n",
    "$ \\newcommand{\\norm}[1]{ \\left\\lVert #1 \\right\\rVert } $\n",
    "$ \\newcommand{\\pstate}[1]{ \\lceil \\mspace{-1mu} #1 \\mspace{-1.5mu} \\rfloor } $"
   ]
  },
  {
   "cell_type": "markdown",
   "metadata": {},
   "source": [
    "<h1> Phase Estimation </h1>"
   ]
  },
  {
   "cell_type": "markdown",
   "metadata": {},
   "source": [
    "In this section we will talk about an application of Quantum Fourier Transform, which will lead us in the way to Shor's Algorithm."
   ]
  },
  {
   "cell_type": "markdown",
   "metadata": {},
   "source": [
    "Suppose that unitary operator $ U $ has an eigenvector (eigenstate) $\\ket{\\psi}$ with eigenvalue $ e^{2{\\pi}i{\\phi}} $\n",
    "where ${\\phi}$ is unknown, that is, $U\\ket{\\psi}$ = $ e^{2{\\pi}i{\\phi}}$ $\\ket{\\psi} $. Our goal is to estimate ${\\phi}$."
   ]
  },
  {
   "cell_type": "markdown",
   "metadata": {},
   "source": [
    "Remarks:\n",
    "    \n",
    "- $ v $ is an eigenvector for matrix $ A  $ with eigenvalue $ \\lambda $ if $Av = {\\lambda}v$. \n",
    "\n",
    "- When $ U $ is a unitary operator, then all of its eigenvalues have length 1 and can be expressed in the form $ e^{2{\\pi}i{\\phi}}$ where $\\phi$ is between 0 and 1. \n",
    "\n",
    "- One can define power of the operator $ U $, $ U^k $ for some $ k $. In that case, check that  $U^k \\ket{\\psi} = e^{2\\pi i \\phi k}\\ket{\\psi}$"
   ]
  },
  {
   "cell_type": "markdown",
   "metadata": {},
   "source": [
    "<h3>Task 1 (on paper)</h3>\n",
    "\n",
    "Show that $\\ket{-}$ and $\\ket{+}$ are eigenvectors for the $X$ operator with eigenvalues -1 and 1 respectively."
   ]
  },
  {
   "cell_type": "markdown",
   "metadata": {},
   "source": [
    "<a href=\"D03_Phase_Estimation_Solutions.ipynb#task1\">click for our solution</a>"
   ]
  },
  {
   "cell_type": "markdown",
   "metadata": {},
   "source": [
    "<h2> Some observations </h3>"
   ]
  },
  {
   "cell_type": "markdown",
   "metadata": {},
   "source": [
    "Let $ U $ be a unitary operator with eigenstate $ \\ket{\\psi} $ and eigenvalue $ e^{2\\pi i \\phi} $ such that $ U\\ket{\\psi} =  e^{2{\\pi}i{\\phi}} \\ket{\\psi}$. Let's check the effect of controlled-$ U $ ($CU$) operator on a two qubit system where second qubit is set to $ \\ket{\\psi} $."
   ]
  },
  {
   "cell_type": "markdown",
   "metadata": {},
   "source": [
    "In general, for any unitary operator $U$ with $U \\ket{\\psi} = e^{2\\pi i \\phi}\\ket{\\psi}$, and its controlled version $CU$ the following is true."
   ]
  },
  {
   "cell_type": "markdown",
   "metadata": {},
   "source": [
    "$$ CU(\\ket{0}\\ket{\\psi}) \\rightarrow \\ket{0}\\ket{\\psi} ~~\\mbox{   and   }~~ CU(\\ket{1}\\ket{\\psi}) \\rightarrow  e^{2{\\pi}i{\\phi}}\\ket{1}\\ket{\\psi} $$"
   ]
  },
  {
   "cell_type": "markdown",
   "metadata": {},
   "source": [
    "<img src=\"../images/cu.png\" width=\"40%\" align=\"center\">"
   ]
  },
  {
   "cell_type": "markdown",
   "metadata": {},
   "source": [
    "$ CU $ operator puts a phase of $ e^{2\\pi i \\phi} $ in front of state $ \\ket{1} $ when the first qubit is in superposition of the states $ \\ket{0} $ and $ \\ket{1} $."
   ]
  },
  {
   "cell_type": "markdown",
   "metadata": {},
   "source": [
    "$$ CU~\\left (\\frac {\\ket{0} + \\ket{1}} {\\sqrt{2}}\\ket{\\psi} \\right ) \\rightarrow\n",
    "\\frac {\\ket{0} + e^{2{\\pi}i{\\phi}} \\ket{1}} {\\sqrt{2}}\\ket{\\psi}\n",
    " $$"
   ]
  },
  {
   "cell_type": "markdown",
   "metadata": {},
   "source": [
    "Hence, for an arbitrary state, $\\alpha \\ket{0}\\ket{\\psi} + \\beta \\ket{1}\\ket{\\psi} \\xrightarrow{CU} \\alpha \\ket{0}\\ket{\\psi} ~+~ e^{2{\\pi}i{\\phi}}  \\beta \\ket{1}\\ket{\\psi} = (\\alpha \\ket{0} ~+~ e^{2{\\pi}i{\\phi}} \\beta \\ket{1})\\ket{\\psi}$."
   ]
  },
  {
   "cell_type": "markdown",
   "metadata": {},
   "source": [
    "<img src=\"../images/phase_kickback_cu.png\" width=\"35%\" align=\"center\">"
   ]
  },
  {
   "cell_type": "markdown",
   "metadata": {},
   "source": [
    "<h3>Task 2</h3>\n",
    "\n",
    "Consider the following quantum state where $ x=0 $ or $ 1 $. How can you find out the value of $x$ by applying a single operator?\n",
    "\n",
    "$$ \n",
    "\\frac {\\ket{0} + (-1)^x \\ket{1}} {\\sqrt{2}}\n",
    "$$\n"
   ]
  },
  {
   "cell_type": "markdown",
   "metadata": {},
   "source": [
    "<a href=\"D03_Phase_Estimation_Solutions.ipynb#task2\">click for our solution</a>"
   ]
  },
  {
   "cell_type": "markdown",
   "metadata": {},
   "source": [
    "<h2> Estimating eigenvalues of the $X$ operator </h2>"
   ]
  },
  {
   "cell_type": "markdown",
   "metadata": {},
   "source": [
    "Recall that $ \\ket{+} $ and $ \\ket{-} $ are the eigenstates of the operator $X$. If we apply $ CX $ operator to the following quantum state where $ \\ket{\\psi} $ is either $ \\ket{+} $ or $ \\ket{-} $, then by Task 2 we know how to find out the value of $x$.\n",
    "\n",
    "\\begin{align*}\n",
    "CX \\left(\\frac {\\ket{0} + \\ket{1}} {\\sqrt{2}} \\ket{\\psi} \\right) \\rightarrow \\frac {\\ket{0} + (-1)^x \\ket{1}} {\\sqrt{2}}\\ket{\\psi}\n",
    "\\end{align*}\n",
    "\n"
   ]
  },
  {
   "cell_type": "markdown",
   "metadata": {},
   "source": [
    "Note that this is a special case of the phase estimation problem where we are trying to estimate eigenvalues of the operator $ X $. In this case, $ \\phi $ is either $ 0 $ or $ \\frac{1}{2} $ which can be determined by an Hadamard operator. Next we will see how to accomplish this in general."
   ]
  },
  {
   "cell_type": "markdown",
   "metadata": {},
   "source": [
    "<h2>Algorithm</h2>\n",
    "\n",
    "We need two registers where first register contains $ t $ qubits which are in state $ \\ket{0} $. $ t $ depends on the number of digits of accuracy and the probability of success while estimating $ \\phi $. We will come to details of $ t $ later on. Suppose that the qubits in the first register are numbered from 1 to $ t $. Second register stores $ \\ket{\\psi} $. Suppose that we are given controlled $ U^{2^j} $ operators as black-box functions. "
   ]
  },
  {
   "cell_type": "markdown",
   "metadata": {},
   "source": [
    "- Apply Hadamard to first register. The new quantum state is \n",
    "\n",
    "    $\\frac {1}{2^{t/2}} \\bigl (\\ket{0}+\\ket{1}\\bigr ) \\otimes \\cdots \\otimes  \\bigl (\\ket{0}+\\ket{1}\\bigr)\\ket{\\psi}.$"
   ]
  },
  {
   "cell_type": "markdown",
   "metadata": {},
   "source": [
    "    \n",
    " - Apply $CU^{2^j}$ gate where qubit $t-j$ is the control for $j = 0, \\dots ,t-1$.\n",
    "<br>\n",
    "\n",
    "    - $j=0$   , Apply $CU^{2^0}$ where qubit $t$ is the control qubit.\n",
    "\t\n",
    "    $\n",
    "\t\\frac {1}{2^{t/2}}\\bigl (\\ket{0}+\\ket{1}\\bigr ) \\otimes  \\cdots \\otimes \\bigl (\\ket{0}+\\ket{1}\\bigr ) \\otimes \\bigl(\\ket{0}+ {} e^{2{\\pi}i\\phi 2^0}\\ket{1}\\bigr )\\ket{\\psi}\n",
    "\t$\n",
    "    <br>\n",
    "    \n",
    "    - $j=1$   , Apply $CU^{2^1}$ where qubit $t-1$ is the control qubit.\n",
    "\t\n",
    "    $\n",
    "\t\\frac {1}{2^{t/2}}\\bigl (\\ket{0}+\\ket{1} \\bigr )\\otimes \\cdots \\otimes \\bigl(\\ket{0}+ e^{2\\pi i \\phi 2^1}\\ket{1}\\bigr )\\bigl (\\ket{0}+ e^{2\\pi i\\phi 2^0}\\ket{1} \\bigr )\\ket{\\psi}$\n",
    "\t\n",
    "    .\n",
    "    \n",
    "    .\n",
    "    - $j=t - 1$   ,  Apply $CU^{2^{t-1}}$ where qubit $1$ is the control qubit\n",
    "    \n",
    "        $\\frac {1}{2^{t/2}}\\bigl (\\ket{0}+e^{2\\pi i \\phi 2^{t-1}}\\ket{1}\\bigr ) \\otimes\\cdots \\otimes \\bigl(\\ket{0}+ {} e^{2{\\pi}i\\phi 2^1}\\ket{1} \\bigr) \\otimes \\bigl(\\ket{0}+ e^{2\\pi i \\phi 2^0}\\ket{1}\\bigr)\\ket{\\psi}$ \n",
    "    "
   ]
  },
  {
   "cell_type": "markdown",
   "metadata": {},
   "source": [
    "We have succussfully encoded $\\phi$ into the phase of state $\\ket{1}$ for each one of the $t$ qubits in the first register. Now let's express the above state in a different formulation."
   ]
  },
  {
   "cell_type": "markdown",
   "metadata": {},
   "source": [
    "\\begin{align*}\n",
    "&\\frac {1}{2^{t/2}}\\bigotimes_{l=1}^{t}\\bigl(\\ket{0}+e^{2{\\pi}i{\\phi}2^{t-l}}\\ket{1} \\bigr)\\ket{\\psi}\\\\\n",
    "=&\\frac {1}{2^{t/2}}\\bigotimes_{l=1}^{t}\\sum_{k_l=0}^{1}e^{2{\\pi}i k_l {\\phi}2^{t-1}}\\ket{k_l}\\ket{\\psi} \\\\\n",
    "&=\\frac {1}{2^{t/2}}\\sum_{k_1=0}^{1}\\cdots\\sum_{k_t=0}^{1}e^{2{\\pi}i\\sum_{1=1}^{t}k_l2^{t-l}\n",
    "\t\\phi} \\ket{k_1 \\dots k_t} \\ket{\\psi} \\\\   \n",
    "&=\\frac {1}{2^{t/2}}\\sum_{k=0}^{2^{t}-1}e^{2{\\pi}i k{\\phi}}\\ket{k}\\ket{\\psi}\n",
    "\\end{align*}"
   ]
  },
  {
   "cell_type": "markdown",
   "metadata": {},
   "source": [
    "- If $\\phi$ is of the form $\\frac{x}{N}$ for some $ x $ and $ N=2^t $ or equivalently if $ \\phi $ can be expressed using exactly $ t $ bits as \n",
    "\n",
    "$$ \\phi= 0.\\phi_1 \\dots \\phi_t = \\frac{\\phi_1 \\dots \\phi_t}{N}, $$ \n",
    "\n",
    "then we can reexpress the state of first register as \n",
    "\n",
    "$$\n",
    "\\frac {1}{2^{t/2}}\\sum_{k=0}^{2^{t}-1}e^{\\frac{2{\\pi}i k{x}}{N}}\\ket{k}.\n",
    "$$"
   ]
  },
  {
   "cell_type": "markdown",
   "metadata": {},
   "source": [
    "Recall the $QFT$ of a basis state $\\ket{j}$:\n",
    "      \n",
    "$$\n",
    " \\frac{1}{\\sqrt{N}} \\sum_{k=0}^{N-1}e^{\\frac{2\\pi i j k }{N}} \\ket{k}.\n",
    "$$"
   ]
  },
  {
   "cell_type": "markdown",
   "metadata": {},
   "source": [
    "Hence after applying $QFT^{\\dagger}$ to the first register, we exactly measure $\\ket{x}\\ket{\\psi}=\\ket{\\phi_1 \\dots \\phi_t}{\\ket{\\psi}}$. This can be easily seen as the expression we have obtained is the state obtained after applying $QFT$ to the state $ \\ket{x} $. \n",
    "\n",
    "<br>\n",
    "\n",
    "- If not, then choosing $ t = n + \\left \\lceil \\log \\left (2 + \\frac{1}{2\\varepsilon} \\right) \\right \\rceil $, we can still approximate $\\phi$ accurate to $ n $ bits with probability of success at least $1 - \\epsilon$.\n",
    "\t"
   ]
  },
  {
   "cell_type": "markdown",
   "metadata": {},
   "source": [
    "As we know how to implement $QFT^{\\dagger}$ efficiently, we have obtained an efficient algorithm for phase estimation as well. Many interesting problems reduce to phase estimation problem. \n"
   ]
  },
  {
   "cell_type": "markdown",
   "metadata": {},
   "source": [
    "Here is the circuit for overall representation for phase estimation algorithm.\n",
    "\n",
    "<img src=\"../images/phase.png\" width=\"60%\" align=\"center\">"
   ]
  },
  {
   "cell_type": "markdown",
   "metadata": {},
   "source": [
    "<h3>Remarks</h3>\n",
    "\n",
    "- Need $O(t^2)$ operations and $t$ calls to $CU^{2^j}$ blackbox.\n",
    "\n",
    "- If you take any arbitrary state instead of $\\ket{\\psi}$, then you obtain an approximation to one of the eigenvalues with some probability. The reason behind is that you can express any quantum state as the linear combination of the eigenvectors.\n",
    "\n"
   ]
  },
  {
   "cell_type": "markdown",
   "metadata": {},
   "source": [
    "<h3>Task 3</h3>\n",
    "\n",
    "Consider the unitary operator $U$ with eigenvector $\\ket{1}$ and eigenvalue $e^{2\\pi i \\phi}$ where $\\phi = \\frac{5}{16}$. $CU$ operator can be realized as follows:"
   ]
  },
  {
   "cell_type": "code",
   "execution_count": 2,
   "metadata": {},
   "outputs": [],
   "source": [
    "from cirq import CZPowGate\n",
    "\n",
    "phase = 5/16\n",
    "CU = CZPowGate(exponent=phase*2)#We need a 2 since CZPowGate adds a phase of e^{\\pi i \\phi}."
   ]
  },
  {
   "cell_type": "markdown",
   "metadata": {},
   "source": [
    "Pick $t=4$ and implement the phase estimation circuit to estimate $\\phi$. Write a function named <i>qpe</i> which takes as parameters <i>t</i>, <i>control</i> qubits, <i>target</i> qubits, <i>circuit</i> and the operator <i>CU</i>.\n",
    "\n",
    "Note that you will get an exact result since $t=4$ is precise enough."
   ]
  },
  {
   "cell_type": "markdown",
   "metadata": {},
   "source": [
    "<i>Remarks:</i>\n",
    "\n",
    "- You can apply arithmetical operations to gates, such as taking powers or inverses. \n",
    "- To apply $QFT^{\\dagger}$, you can use the function you have written in the previous notebook.\n"
   ]
  },
  {
   "cell_type": "code",
   "execution_count": null,
   "metadata": {},
   "outputs": [],
   "source": [
    "%load iqft.py"
   ]
  },
  {
   "cell_type": "code",
   "execution_count": null,
   "metadata": {},
   "outputs": [],
   "source": [
    "#%%writefile qpe.py\n",
    "import cirq\n",
    "def qpe(t,control, target, circuit, CU):\n",
    "    \n",
    "    #Apply Hadamard to control qubits\n",
    " \n",
    "    #Apply CU gates\n",
    "        \n",
    "    #Apply inverse QFT\n",
    "   "
   ]
  },
  {
   "cell_type": "code",
   "execution_count": null,
   "metadata": {
    "scrolled": true
   },
   "outputs": [],
   "source": [
    "import cirq\n",
    "\n",
    "#Create cirucit\n",
    "circuit = cirq.Circuit()\n",
    "\n",
    "#Set n and t\n",
    "\n",
    "#Create control and target qubits\n",
    "\n",
    "#Set target qubit to store eigenvector\n",
    "\n",
    "#Apply QPE\n",
    "\n",
    "#Mesaure and print the results\n",
    "\n",
    "circuit.append(cirq.measure(*control, key='result'))\n",
    "\n",
    "s=cirq.Simulator()\n",
    "print('Sample the circuit:')\n",
    "samples=s.run(circuit, repetitions=1000)\n",
    "# Print a histogram of results\n",
    "print(samples.histogram(key='result'))\n",
    "print(circuit)"
   ]
  },
  {
   "cell_type": "markdown",
   "metadata": {},
   "source": [
    "<a href=\"D03_Phase_Estimation_Solutions.ipynb#task3\">click for our solution</a>"
   ]
  },
  {
   "cell_type": "markdown",
   "metadata": {},
   "source": [
    "<h3>Task 4</h3>\n",
    "\n",
    "Try Task 3 this time by setting $t=3$. What do you expect to see?"
   ]
  },
  {
   "cell_type": "code",
   "execution_count": null,
   "metadata": {
    "scrolled": true
   },
   "outputs": [],
   "source": [
    "import cirq\n",
    "\n",
    "#Create cirucit\n",
    "\n",
    "#Set n and t\n",
    "\n",
    "#Create control and target qubits\n",
    "\n",
    "#Set target qubit to store eigenvector\n",
    "\n",
    "#Apply QPE\n",
    "\n",
    "#Mesaure and print the results"
   ]
  },
  {
   "cell_type": "markdown",
   "metadata": {},
   "source": [
    "<a href=\"D03_Phase_Estimation_Solutions.ipynb#task4\">click for our solution</a>"
   ]
  },
  {
   "cell_type": "markdown",
   "metadata": {},
   "source": [
    "<h3>Task 5</h3>\n",
    "\n",
    "Try Task 3 this time by setting $\\phi=0.685$. Calculate and print the estimates for different $t$ values between 1 and 10. "
   ]
  },
  {
   "cell_type": "code",
   "execution_count": null,
   "metadata": {},
   "outputs": [],
   "source": [
    "#Create CU operator with phase 0.685\n",
    "\n",
    "\n"
   ]
  },
  {
   "cell_type": "code",
   "execution_count": null,
   "metadata": {
    "scrolled": true
   },
   "outputs": [],
   "source": [
    "import cirq\n",
    "\n",
    "for t in range (1,10):\n",
    "    \n",
    "    #Your code here"
   ]
  },
  {
   "cell_type": "markdown",
   "metadata": {},
   "source": [
    "<a href=\"D03_Phase_Estimation_Solutions.ipynb#task5\">click for our solution</a>"
   ]
  },
  {
   "cell_type": "markdown",
   "metadata": {},
   "source": [
    "<h3>Task 6</h3>\n",
    "\n",
    "You are given an operator $U$ with eigenvector $\\ket{11}$ and eigenvalue $\\phi$, which is this time unknown to you. Use phase estimation to estimate $\\phi$ by trying different $t$ values. \n",
    "\n",
    "Run the following cell to load operator $CU$"
   ]
  },
  {
   "cell_type": "code",
   "execution_count": null,
   "metadata": {},
   "outputs": [],
   "source": [
    "%run operator.py"
   ]
  },
  {
   "cell_type": "code",
   "execution_count": null,
   "metadata": {
    "scrolled": true
   },
   "outputs": [],
   "source": [
    "import cirq\n",
    "\n",
    "for t in range (1,10):\n",
    "    \n",
    "    #Your code here"
   ]
  },
  {
   "cell_type": "markdown",
   "metadata": {},
   "source": [
    "<a href=\"D03_Phase_Estimation_Solutions.ipynb#task6\">click for our solution</a>"
   ]
  }
 ],
 "metadata": {
  "kernelspec": {
   "display_name": "Python 3",
   "language": "python",
   "name": "python3"
  },
  "language_info": {
   "codemirror_mode": {
    "name": "ipython",
    "version": 3
   },
   "file_extension": ".py",
   "mimetype": "text/x-python",
   "name": "python",
   "nbconvert_exporter": "python",
   "pygments_lexer": "ipython3",
   "version": "3.7.3"
  }
 },
 "nbformat": 4,
 "nbformat_minor": 2
}
