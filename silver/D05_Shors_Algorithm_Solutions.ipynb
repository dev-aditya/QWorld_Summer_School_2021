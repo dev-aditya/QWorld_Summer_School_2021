{
 "cells": [
  {
   "cell_type": "markdown",
   "metadata": {},
   "source": [
    "<table  align=\"left\" width=\"100%\"> <tr>\n",
    "        <td  style=\"background-color:#ffffff;\"><a href=\"https://qsoftware.lu.lv/index.php/qworld/\" target=\"_blank\"><img src=\"..\\images\\qworld.jpg\" width=\"35%\" align=\"left\"></a></td>\n",
    "        <td  align=\"right\" style=\"background-color:#ffffff;vertical-align:bottom;horizontal-align:right\">\n",
    "            prepared by Özlem Salehi (<a href=\"http://qworld.lu.lv/index.php/qturkey/\" target=\"_blank\">QTurkey</a>)\n",
    "        </td>        \n",
    "</tr></table>"
   ]
  },
  {
   "cell_type": "markdown",
   "metadata": {},
   "source": [
    "<table width=\"100%\"><tr><td style=\"color:#bbbbbb;background-color:#ffffff;font-size:11px;font-style:italic;text-align:right;\">This cell contains some macros. If there is a problem with displaying mathematical formulas, please run this cell to load these macros. </td></tr></table>\n",
    "$\\newcommand{\\Mod}[1]{\\ (\\mathrm{mod}\\ #1)}$\n",
    "$ \\newcommand{\\bra}[1]{\\langle #1|} $\n",
    "$ \\newcommand{\\ket}[1]{|#1\\rangle} $\n",
    "$ \\newcommand{\\braket}[2]{\\langle #1|#2\\rangle} $\n",
    "$ \\newcommand{\\dot}[2]{ #1 \\cdot #2} $\n",
    "$ \\newcommand{\\biginner}[2]{\\left\\langle #1,#2\\right\\rangle} $\n",
    "$ \\newcommand{\\mymatrix}[2]{\\left( \\begin{array}{#1} #2\\end{array} \\right)} $\n",
    "$ \\newcommand{\\myvector}[1]{\\mymatrix{c}{#1}} $\n",
    "$ \\newcommand{\\myrvector}[1]{\\mymatrix{r}{#1}} $\n",
    "$ \\newcommand{\\mypar}[1]{\\left( #1 \\right)} $\n",
    "$ \\newcommand{\\mybigpar}[1]{ \\Big( #1 \\Big)} $\n",
    "$ \\newcommand{\\sqrttwo}{\\frac{1}{\\sqrt{2}}} $\n",
    "$ \\newcommand{\\dsqrttwo}{\\dfrac{1}{\\sqrt{2}}} $\n",
    "$ \\newcommand{\\onehalf}{\\frac{1}{2}} $\n",
    "$ \\newcommand{\\donehalf}{\\dfrac{1}{2}} $\n",
    "$ \\newcommand{\\hadamard}{ \\mymatrix{rr}{ \\sqrttwo & \\sqrttwo \\\\ \\sqrttwo & -\\sqrttwo }} $\n",
    "$ \\newcommand{\\vzero}{\\myvector{1\\\\0}} $\n",
    "$ \\newcommand{\\vone}{\\myvector{0\\\\1}} $\n",
    "$ \\newcommand{\\stateplus}{\\myvector{ \\sqrttwo \\\\  \\sqrttwo } } $\n",
    "$ \\newcommand{\\stateminus}{ \\myrvector{ \\sqrttwo \\\\ -\\sqrttwo } } $\n",
    "$ \\newcommand{\\myarray}[2]{ \\begin{array}{#1}#2\\end{array}} $\n",
    "$ \\newcommand{\\X}{ \\mymatrix{cc}{0 & 1 \\\\ 1 & 0}  } $\n",
    "$ \\newcommand{\\Z}{ \\mymatrix{rr}{1 & 0 \\\\ 0 & -1}  } $\n",
    "$ \\newcommand{\\Htwo}{ \\mymatrix{rrrr}{ \\frac{1}{2} & \\frac{1}{2} & \\frac{1}{2} & \\frac{1}{2} \\\\ \\frac{1}{2} & -\\frac{1}{2} & \\frac{1}{2} & -\\frac{1}{2} \\\\ \\frac{1}{2} & \\frac{1}{2} & -\\frac{1}{2} & -\\frac{1}{2} \\\\ \\frac{1}{2} & -\\frac{1}{2} & -\\frac{1}{2} & \\frac{1}{2} } } $\n",
    "$ \\newcommand{\\CNOT}{ \\mymatrix{cccc}{1 & 0 & 0 & 0 \\\\ 0 & 1 & 0 & 0 \\\\ 0 & 0 & 0 & 1 \\\\ 0 & 0 & 1 & 0} } $\n",
    "$ \\newcommand{\\norm}[1]{ \\left\\lVert #1 \\right\\rVert } $\n",
    "$ \\newcommand{\\pstate}[1]{ \\lceil \\mspace{-1mu} #1 \\mspace{-1.5mu} \\rfloor } $"
   ]
  },
  {
   "cell_type": "markdown",
   "metadata": {},
   "source": [
    "<h1> <font color=\"blue\"> Solutions for </font> Shor's Algorithm</h1>"
   ]
  },
  {
   "cell_type": "markdown",
   "metadata": {},
   "source": [
    "<a id=\"task1\"></a>\n",
    "<h3>Task 1</h3>\n",
    "\n",
    "Let $N=111$. What percentage of the elements that are less than $N$ are relatively prime with $N$? Write a Python code to find out. (You can use gcd function of numpy.)"
   ]
  },
  {
   "cell_type": "markdown",
   "metadata": {},
   "source": [
    "<h3>Solution</h3>"
   ]
  },
  {
   "cell_type": "code",
   "execution_count": 28,
   "metadata": {},
   "outputs": [
    {
     "name": "stdout",
     "output_type": "stream",
     "text": [
      "[1, 2, 4, 5, 7, 8, 10, 11, 13, 14, 16, 17, 19, 20, 22, 23, 25, 26, 28, 29, 31, 32, 34, 35, 38, 40, 41, 43, 44, 46, 47, 49, 50, 52, 53, 55, 56, 58, 59, 61, 62, 64, 65, 67, 68, 70, 71, 73, 76, 77, 79, 80, 82, 83, 85, 86, 88, 89, 91, 92, 94, 95, 97, 98, 100, 101, 103, 104, 106, 107, 109, 110]\n",
      "64.86486486486487 percentage of the integers are relatively prime with 111\n"
     ]
    }
   ],
   "source": [
    "import numpy as np  \n",
    "\n",
    "#Create an empty list\n",
    "rlist=[]\n",
    "N=111\n",
    "\n",
    "#If relatively prime with N, append to the list\n",
    "for i in range(1,N):\n",
    "    if np.gcd(N,i)==1:\n",
    "        rlist.append(i)\n",
    "        \n",
    "print(rlist)\n",
    "        \n",
    "print(len(rlist)*100/N, \"percentage of the integers are relatively prime with\", N)"
   ]
  },
  {
   "cell_type": "markdown",
   "metadata": {},
   "source": [
    "<a id=\"task2\"></a>\n",
    "<h3>Task 2</h3>\n",
    "\n",
    "Calculate the order of each element $ x $ that is relatively prime with $N $. What percentage of the $ x $’s have even order and satisfy $x^{r/2} \\neq -1 \\Mod{N}$?\n",
    "\n",
    "Put the elements that satisfy the conditions in a dictionary together with their order.\n",
    "\n"
   ]
  },
  {
   "cell_type": "markdown",
   "metadata": {},
   "source": [
    "<h3>Solution</h3>"
   ]
  },
  {
   "cell_type": "code",
   "execution_count": 30,
   "metadata": {
    "scrolled": true
   },
   "outputs": [
    {
     "name": "stdout",
     "output_type": "stream",
     "text": [
      "Order of 2 : 36\n",
      "Order of 4 : 18\n",
      "Order of 5 : 36\n",
      "Order of 8 : 12\n",
      "Order of 13 : 36\n",
      "Order of 14 : 12\n",
      "Order of 17 : 36\n",
      "Order of 19 : 36\n",
      "Order of 20 : 36\n",
      "Order of 22 : 36\n",
      "Order of 23 : 12\n",
      "Order of 25 : 18\n",
      "Order of 26 : 6\n",
      "Order of 28 : 18\n",
      "Order of 29 : 12\n",
      "Order of 31 : 4\n",
      "Order of 32 : 36\n",
      "Order of 35 : 36\n",
      "Order of 38 : 2\n",
      "Order of 40 : 18\n",
      "Order of 43 : 4\n",
      "Order of 44 : 18\n",
      "Order of 47 : 6\n",
      "Order of 50 : 36\n",
      "Order of 52 : 36\n",
      "Order of 53 : 18\n",
      "Order of 55 : 36\n",
      "Order of 56 : 36\n",
      "Order of 58 : 18\n",
      "Order of 59 : 36\n",
      "Order of 61 : 36\n",
      "Order of 64 : 6\n",
      "Order of 67 : 18\n",
      "Order of 68 : 4\n",
      "Order of 71 : 18\n",
      "Order of 73 : 2\n",
      "Order of 76 : 36\n",
      "Order of 79 : 36\n",
      "Order of 80 : 4\n",
      "Order of 82 : 12\n",
      "Order of 83 : 18\n",
      "Order of 85 : 6\n",
      "Order of 86 : 18\n",
      "Order of 88 : 12\n",
      "Order of 89 : 36\n",
      "Order of 91 : 36\n",
      "Order of 92 : 36\n",
      "Order of 94 : 36\n",
      "Order of 97 : 12\n",
      "Order of 98 : 36\n",
      "Order of 103 : 12\n",
      "Order of 106 : 36\n",
      "Order of 107 : 18\n",
      "Order of 109 : 36\n",
      "48.648648648648646 percentage of the integers satisfy the conditions\n"
     ]
    }
   ],
   "source": [
    "import numpy as np\n",
    "counter=0\n",
    "#This will hold the list of integers that satisfy the conditions together with the order\n",
    "satisfy={}\n",
    "\n",
    "#rlist contains the relatively prime numbers with N        \n",
    "for i in range(len(rlist)):\n",
    "    r=1;\n",
    "    while(1):\n",
    "        if (rlist[i]**r)%N==1:\n",
    "            if(r%2==0 and ((rlist[i]**int(r/2))%N != N-1)):\n",
    "                counter=counter+1\n",
    "                print(\"Order of\",rlist[i],\":\",r)\n",
    "                satisfy[rlist[i]]=r\n",
    "            break\n",
    "        r=r+1\n",
    "    \n",
    "print(counter*100/N, \"percentage of the integers satisfy the conditions\")        \n",
    "        "
   ]
  },
  {
   "cell_type": "markdown",
   "metadata": {},
   "source": [
    "<a id=\"task3\"></a>\n",
    "<h3>Task 3</h3>\n",
    "\n",
    "Pick randomly one of the $x$ you found in Task 2 and calculate gcd$(x^{r/2}-1,N)$ and gcd$(x^{r/2}+1,N)$."
   ]
  },
  {
   "cell_type": "markdown",
   "metadata": {},
   "source": [
    "<h3>Solution</h3>"
   ]
  },
  {
   "cell_type": "code",
   "execution_count": 31,
   "metadata": {},
   "outputs": [
    {
     "name": "stdout",
     "output_type": "stream",
     "text": [
      "67 is picked with order 18\n",
      "Factors of 111 : 3 and 37\n"
     ]
    }
   ],
   "source": [
    "import random\n",
    "\n",
    "#Pick a random integer\n",
    "rand_index=random.randint(0,len(satisfy))\n",
    "\n",
    "#Pick a random x and its order from the dictionary we have created above\n",
    "x,r=random.choice(list(satisfy.items()))\n",
    "print(x, \"is picked with order\", r)\n",
    "\n",
    "#Calculate gcd\n",
    "print(\"Factors of\",N,\":\",np.gcd((x**int(r/2)-1),N), \"and\",np.gcd((x**int(r/2)+1),N))"
   ]
  },
  {
   "cell_type": "markdown",
   "metadata": {},
   "source": [
    "<a id=\"task4\"></a>\n",
    "<h3>Task 4</h3>\n",
    "\n",
    "Factor 21 using Shor's Algorithm.\n",
    "\n",
    "- Pick a random $x$ which is relatively prime with 21.\n",
    "- Apply phase estimation circuit to the operator $U_x$.\n",
    "- Use continued fractions algorithm to find out $r$.\n",
    "- Compute $gcd(x^{r/2} -1, N)$ and $gcd(x^{r/2}+1, N)$"
   ]
  },
  {
   "cell_type": "markdown",
   "metadata": {},
   "source": [
    "<h3>Solution</h3>"
   ]
  },
  {
   "cell_type": "code",
   "execution_count": 1,
   "metadata": {},
   "outputs": [],
   "source": [
    "N=21"
   ]
  },
  {
   "cell_type": "code",
   "execution_count": 2,
   "metadata": {},
   "outputs": [
    {
     "name": "stdout",
     "output_type": "stream",
     "text": [
      "10  is picked after  2  trials\n"
     ]
    }
   ],
   "source": [
    "#Pick a random x relatively prime with N\n",
    "\n",
    "import random as rand\n",
    "import numpy as np\n",
    "\n",
    "counter = 0\n",
    "\n",
    "while(True):\n",
    "    x = rand.randrange(1,N)\n",
    "    counter = counter + 1\n",
    "    if np.gcd(x,N)==1:\n",
    "        break\n",
    "        \n",
    "print(x, \" is picked after \", counter, \" trials\")    "
   ]
  },
  {
   "cell_type": "code",
   "execution_count": 3,
   "metadata": {},
   "outputs": [],
   "source": [
    "#Run this cell to load the function Ux\n",
    "%run operator.py"
   ]
  },
  {
   "cell_type": "code",
   "execution_count": 4,
   "metadata": {},
   "outputs": [],
   "source": [
    "#Create CU operator by calling function Ux(x,N)\n",
    "CU=Ux(x,N)"
   ]
  },
  {
   "cell_type": "code",
   "execution_count": 5,
   "metadata": {},
   "outputs": [],
   "source": [
    "# %load qpe.py\n",
    "import cirq\n",
    "def qpe(t,control, target, circuit, CU):\n",
    "    \n",
    "    #Apply Hadamard to control qubits\n",
    "    circuit.append(cirq.H.on_each(control))\n",
    "    \n",
    "    #Apply CU gates\n",
    "    for i in range(t):\n",
    "        #Obtain the power of CU gate \n",
    "        CUi = CU**(2**i)\n",
    "        #Apply CUi gate where t-i-1 is the control\n",
    "        circuit.append(CUi(control[t-i-1],*target))\n",
    "        \n",
    "    #Apply inverse QFT\n",
    "    iqft(t,control,circuit)\n"
   ]
  },
  {
   "cell_type": "code",
   "execution_count": 6,
   "metadata": {},
   "outputs": [],
   "source": [
    "# %load iqft.py\n",
    "import cirq\n",
    "from cirq.circuits import InsertStrategy\n",
    "from cirq import H, SWAP, CZPowGate\n",
    "\n",
    "def iqft(n,qubits,circuit):\n",
    "    \n",
    "    #Swap the qubits\n",
    "    for i in range(n//2):\n",
    "        circuit.append(SWAP(qubits[i],qubits[n-i-1]), strategy = InsertStrategy.NEW)\n",
    "     \n",
    "    #For each qubit\n",
    "    for i in range(n-1,-1,-1):\n",
    "        #Apply CR_k gates where j is the control and i is the target\n",
    "        k=n-i #We start with k=n-i\n",
    "        for j in range(n-1,i,-1):\n",
    "            #Define and apply CR_k gate\n",
    "            crk = CZPowGate(exponent = -2/2**(k))\n",
    "            circuit.append(crk(qubits[j],qubits[i]),strategy = InsertStrategy.NEW)\n",
    "            k=k-1 #Decrement at each step\n",
    "            \n",
    "        #Apply Hadamard to the qubit\n",
    "        circuit.append(H(qubits[i]),strategy = InsertStrategy.NEW)\n"
   ]
  },
  {
   "cell_type": "code",
   "execution_count": 7,
   "metadata": {},
   "outputs": [],
   "source": [
    "#Determine t and n, size of the control and target registers\n",
    "import math\n",
    "n=math.ceil(math.log2(21))\n",
    "t = 2*n+1+math.ceil(math.log2(2+1/(2*0.1)))"
   ]
  },
  {
   "cell_type": "code",
   "execution_count": 8,
   "metadata": {},
   "outputs": [],
   "source": [
    "import cirq\n",
    "import matplotlib\n",
    "from cirq import X\n",
    "\n",
    "#Create control and target qubits and the circuit\n",
    "\n",
    "circuit = cirq.Circuit()\n",
    "\n",
    "control = [cirq.LineQubit(i) for i in range(1,t+1) ]\n",
    "target = [cirq.LineQubit(i) for i in range(t+1,t+1+n) ]\n",
    "circuit.append(X(target[n-1]))\n",
    "\n",
    "#Call phase estimation circuit with paremeter CU\n",
    "qpe(t,control,target,circuit,CU)\n",
    "\n",
    "#Measure the control register\n",
    "circuit.append(cirq.measure(*control, key='result'))"
   ]
  },
  {
   "cell_type": "code",
   "execution_count": 18,
   "metadata": {
    "scrolled": false
   },
   "outputs": [
    {
     "name": "stdout",
     "output_type": "stream",
     "text": [
      "measurements: result=00101010101010\n",
      "output vector: (-0.204+0.354j)|0010101010101000001⟩ + (-0.204-0.354j)|0010101010101000100⟩ + (0.204+0.353j)|0010101010101001010⟩ + (0.204-0.353j)|0010101010101001101⟩ + 0.408|0010101010101010000⟩ - 0.408|0010101010101010011⟩\n"
     ]
    }
   ],
   "source": [
    "#Call the simulator and print the result\n",
    "s = cirq.Simulator()\n",
    "results=s.simulate(circuit)\n",
    "print(results)"
   ]
  },
  {
   "cell_type": "code",
   "execution_count": 19,
   "metadata": {},
   "outputs": [
    {
     "name": "stdout",
     "output_type": "stream",
     "text": [
      "2730\n"
     ]
    }
   ],
   "source": [
    "b_arr= results.measurements['result']\n",
    "b=int(\"\".join(str(i) for i in b_arr), 2)\n",
    "print(b)"
   ]
  },
  {
   "cell_type": "code",
   "execution_count": 20,
   "metadata": {},
   "outputs": [
    {
     "name": "stdout",
     "output_type": "stream",
     "text": [
      "[0, 6, 682, 2]\n",
      "[Fraction(0, 1), Fraction(1, 6), Fraction(682, 4093), Fraction(1365, 8192)]\n"
     ]
    }
   ],
   "source": [
    "#Load the contFrac and convergents functions\n",
    "%run ../include/helpers.py\n",
    "\n",
    "#Run continued fractions algorithm to find out r\n",
    "cf=contFrac(b/(2**t))\n",
    "print(cf)\n",
    "cv=convergents(cf)\n",
    "print(cv)"
   ]
  },
  {
   "cell_type": "markdown",
   "metadata": {},
   "source": [
    "The candidate is $s'=1$ and $r'=6$."
   ]
  },
  {
   "cell_type": "code",
   "execution_count": 21,
   "metadata": {},
   "outputs": [
    {
     "name": "stdout",
     "output_type": "stream",
     "text": [
      "Proceed\n"
     ]
    }
   ],
   "source": [
    "#Check if r is even, and x^{r/2} is not equal to -1 Mod N\n",
    "r=6\n",
    "if (r%2==0 and (x**(r/2))%N != -1) :\n",
    "    print(\"Proceed\")\n",
    "else:\n",
    "    print(\"Repeat the algorithm\")"
   ]
  },
  {
   "cell_type": "markdown",
   "metadata": {},
   "source": [
    "Note that you may not be able to get the $r$ value in your first trial. In such a case, you need to repeat the algorithm. "
   ]
  },
  {
   "cell_type": "markdown",
   "metadata": {},
   "source": [
    " Now let's check $gcd(x^{r/2} -1, N)$ and $gcd(x^{r/2}+1, N)$."
   ]
  },
  {
   "cell_type": "code",
   "execution_count": 22,
   "metadata": {},
   "outputs": [
    {
     "name": "stdout",
     "output_type": "stream",
     "text": [
      "Factors of 21 : 3 and 7\n"
     ]
    }
   ],
   "source": [
    "#Compute gcd to find out the factors of N\n",
    "\n",
    "print(\"Factors of\",N,\":\",np.gcd((x**int(r/2)-1),N), \"and\",np.gcd((x**int(r/2)+1),N))"
   ]
  },
  {
   "cell_type": "markdown",
   "metadata": {},
   "source": [
    "We are able to identify both of the factors of 21 which are 3 and 7. "
   ]
  }
 ],
 "metadata": {
  "kernelspec": {
   "display_name": "Python 3",
   "language": "python",
   "name": "python3"
  },
  "language_info": {
   "codemirror_mode": {
    "name": "ipython",
    "version": 3
   },
   "file_extension": ".py",
   "mimetype": "text/x-python",
   "name": "python",
   "nbconvert_exporter": "python",
   "pygments_lexer": "ipython3",
   "version": "3.7.3"
  }
 },
 "nbformat": 4,
 "nbformat_minor": 2
}
