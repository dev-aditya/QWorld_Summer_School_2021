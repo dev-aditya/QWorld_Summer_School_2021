{
 "cells": [
  {
   "cell_type": "markdown",
   "metadata": {},
   "source": [
    "<table align=\"left\"  width=\"100%\"> <tr>\n",
    "        <td  style=\"background-color:#ffffff;\">\n",
    "            <a href=\"http://qworld.lu.lv\" target=\"_blank\"><img src=\"../images/qworld.jpg\" width=\"35%\" align=\"left\"> </a></td>\n",
    "        <td style=\"background-color:#ffffff;vertical-align:bottom;text-align:right;\">\n",
    "            prepared by Maksim Dimitrijev (<a href=\"http://qworld.lu.lv/index.php/qlatvia/\" target=\"_blank\">QLatvia</a>)\n",
    "        </td>        \n",
    "</tr></table>"
   ]
  },
  {
   "cell_type": "markdown",
   "metadata": {},
   "source": [
    "<table width=\"100%\"><tr><td style=\"color:#bbbbbb;background-color:#ffffff;font-size:11px;font-style:italic;text-align:right;\">This cell contains some macros. If there is a problem with displaying mathematical formulas, please run this cell to load these macros. </td></tr></table>\n",
    "$ \\newcommand{\\bra}[1]{\\langle #1|} $\n",
    "$ \\newcommand{\\ket}[1]{|#1\\rangle} $\n",
    "$ \\newcommand{\\braket}[2]{\\langle #1|#2\\rangle} $\n",
    "$ \\newcommand{\\dot}[2]{ #1 \\cdot #2} $\n",
    "$ \\newcommand{\\biginner}[2]{\\left\\langle #1,#2\\right\\rangle} $\n",
    "$ \\newcommand{\\mymatrix}[2]{\\left( \\begin{array}{#1} #2\\end{array} \\right)} $\n",
    "$ \\newcommand{\\myvector}[1]{\\mymatrix{c}{#1}} $\n",
    "$ \\newcommand{\\myrvector}[1]{\\mymatrix{r}{#1}} $\n",
    "$ \\newcommand{\\mypar}[1]{\\left( #1 \\right)} $\n",
    "$ \\newcommand{\\mybigpar}[1]{ \\Big( #1 \\Big)} $\n",
    "$ \\newcommand{\\sqrttwo}{\\frac{1}{\\sqrt{2}}} $\n",
    "$ \\newcommand{\\dsqrttwo}{\\dfrac{1}{\\sqrt{2}}} $\n",
    "$ \\newcommand{\\onehalf}{\\frac{1}{2}} $\n",
    "$ \\newcommand{\\donehalf}{\\dfrac{1}{2}} $\n",
    "$ \\newcommand{\\hadamard}{ \\mymatrix{rr}{ \\sqrttwo & \\sqrttwo \\\\ \\sqrttwo & -\\sqrttwo }} $\n",
    "$ \\newcommand{\\vzero}{\\myvector{1\\\\0}} $\n",
    "$ \\newcommand{\\vone}{\\myvector{0\\\\1}} $\n",
    "$ \\newcommand{\\stateplus}{\\myvector{ \\sqrttwo \\\\  \\sqrttwo } } $\n",
    "$ \\newcommand{\\stateminus}{ \\myrvector{ \\sqrttwo \\\\ -\\sqrttwo } } $\n",
    "$ \\newcommand{\\myarray}[2]{ \\begin{array}{#1}#2\\end{array}} $\n",
    "$ \\newcommand{\\X}{ \\mymatrix{cc}{0 & 1 \\\\ 1 & 0}  } $\n",
    "$ \\newcommand{\\Z}{ \\mymatrix{rr}{1 & 0 \\\\ 0 & -1}  } $\n",
    "$ \\newcommand{\\Htwo}{ \\mymatrix{rrrr}{ \\frac{1}{2} & \\frac{1}{2} & \\frac{1}{2} & \\frac{1}{2} \\\\ \\frac{1}{2} & -\\frac{1}{2} & \\frac{1}{2} & -\\frac{1}{2} \\\\ \\frac{1}{2} & \\frac{1}{2} & -\\frac{1}{2} & -\\frac{1}{2} \\\\ \\frac{1}{2} & -\\frac{1}{2} & -\\frac{1}{2} & \\frac{1}{2} } } $\n",
    "$ \\newcommand{\\CNOT}{ \\mymatrix{cccc}{1 & 0 & 0 & 0 \\\\ 0 & 1 & 0 & 0 \\\\ 0 & 0 & 0 & 1 \\\\ 0 & 0 & 1 & 0} } $\n",
    "$ \\newcommand{\\norm}[1]{ \\left\\lVert #1 \\right\\rVert } $\n",
    "$ \\newcommand{\\pstate}[1]{ \\lceil \\mspace{-1mu} #1 \\mspace{-1.5mu} \\rfloor } $"
   ]
  },
  {
   "cell_type": "markdown",
   "metadata": {},
   "source": [
    "<h1> Quantum states with complex numbers </h1>"
   ]
  },
  {
   "cell_type": "markdown",
   "metadata": {},
   "source": [
    "The main properties of quantum states do not change whether we are using complex numbers or not. Let's recall the definition we had in Bronze:\n",
    "\n",
    "**Recall: Quantum states with real numbers**\n",
    "\n",
    "When a quantum system is measured, the probability of observing one state is the square of its value.\n",
    "\n",
    "The summation of amplitude squares must be 1 for a valid quantum state.\n",
    "\n",
    "The second property also means that the overall probability must be 1 when we observe a quantum system. If we consider a quantum system as a vector, then the length of such vector should be 1."
   ]
  },
  {
   "cell_type": "markdown",
   "metadata": {},
   "source": [
    "<h2>How complex numbers affect probabilities</h2>\n",
    "\n",
    "Suppose that we have a quantum state with the amplitude $a+bi$. What is the probability to observe such state when the quantum system is measured? We need a small update to our statement about <b>the probability of the measurement</b> - it is equal to <b>the square of the absolute value of the amplitude</b>. If amplitudes are restricted to real numbers, then this update makes no difference. With complex numbers we obtain the following:\n",
    "\n",
    "$\\mathopen|a+bi\\mathclose| = \\sqrt{a^2+b^2} \\implies \\mathopen|a+bi\\mathclose|^2 = a^2+b^2$.\n",
    "\n",
    "It is easy to see that this calculation works fine if we do not have imaginary part - we just obtain the real part $a^2$. Notice that for the probability $a^2 + b^2$ both real and imaginary part contribute in a similar way - with the square of its value.\n",
    "\n",
    "<!--Let's check the square of the complex number:\n",
    "\n",
    "$(a+bi)^2 = (a+bi)(a+bi) = a^2 + 2abi + b^2i^2 = (a^2-b^2) + 2abi$.\n",
    "\n",
    "In such case we still obtain a complex number, but for a probability we need a real number. -->\n",
    "\n",
    "Suppose that we have the following vector, representing a quantum system:\n",
    "$$\n",
    "    \\myvector{ \\frac{1+i}{\\sqrt{3}} \\\\ -\\frac{1}{\\sqrt{3}} }.\n",
    "$$\n",
    "\n",
    "This vector represents the state $\\frac{1+i}{\\sqrt{3}}\\ket{0} - \\frac{1}{\\sqrt{3}}\\ket{1}$. After doing measurement, we observe state $\\ket{1}$ with probability $\\mypar{-\\frac{1}{\\sqrt{3}}}^2 = \\frac{1}{3}$. Let's decompose the amplitude of state $\\ket{0}$ into form $a+bi$. Then we obtain $\\frac{1}{\\sqrt{3}} + \\frac{1}{\\sqrt{3}}i$, and so our probability is $\\mypar{\\frac{1}{\\sqrt{3}}}^2 + \\mypar{\\frac{1}{\\sqrt{3}}}^2 = \\frac{2}{3}$."
   ]
  },
  {
   "cell_type": "markdown",
   "metadata": {},
   "source": [
    "<h3> Task 1 </h3>\n",
    "\n",
    "Calculate on the paper the probabilities to observe state $\\ket{0}$ and $\\ket{1}$ for each quantum system:\n",
    "\n",
    "$$\n",
    "    \\myvector{ \\frac{1-i\\sqrt{2}}{2} \\\\ \\frac{i}{2} } \n",
    "    \\mbox{ , }\n",
    "    \\myvector{ \\frac{2i}{\\sqrt{6}} \\\\ \\frac{1-i}{\\sqrt{6}} } \n",
    "    \\mbox{ and }\n",
    "    \\myvector{ \\frac{1+i\\sqrt{3}}{\\sqrt{5}} \\\\ \\frac{-i}{\\sqrt{5}} }.\n",
    "$$."
   ]
  },
  {
   "cell_type": "markdown",
   "metadata": {},
   "source": [
    "<a href=\"C02_Quantum_States_With_Complex_Numbers_Solutions.ipynb#task1\">click for our solution</a>"
   ]
  },
  {
   "cell_type": "markdown",
   "metadata": {},
   "source": [
    "<h3> Task 2 </h3>\n",
    "\n",
    "If the following vectors are valid quantum states, then what can be the values of $a$ and $b$?\n",
    "\n",
    "$$\n",
    "    \\ket{v} = \\myrvector{0.1 - ai \\\\ -0.7 \\\\ 0.4 + 0.3i }\n",
    "    ~~~~~ \\mbox{and} ~~~~~\n",
    "   \\ket{u} = \\myrvector{ \\frac{1-i}{\\sqrt{6}} \\\\ \\frac{1+2i}{\\sqrt{b}} \\\\ -\\frac{1}{\\sqrt{4}} }.\n",
    "$$"
   ]
  },
  {
   "cell_type": "code",
   "execution_count": null,
   "metadata": {},
   "outputs": [],
   "source": [
    "#\n",
    "# your code is here \n",
    "#    (you may find the values by hand (in mind) as well)\n",
    "#\n"
   ]
  },
  {
   "cell_type": "markdown",
   "metadata": {},
   "source": [
    "<a href=\"C02_Quantum_States_With_Complex_Numbers_Solutions.ipynb#task2\">click for our solution</a>"
   ]
  },
  {
   "cell_type": "markdown",
   "metadata": {},
   "source": [
    "<h3> Task 3</h3>\n",
    "\n",
    "Randomly create a 2-dimensional quantum state, where both amplitudes are complex numbers.\n",
    "\n",
    "<b>Write a function</b> that returns a randomly created 2-dimensional quantum state.\n",
    "\n",
    "<i>Hint:\n",
    "<ul>\n",
    "    <li> Pick four random values between -100 and 100 for the real and imaginary parts of the amplitudes of state 0 and state 1 </li>\n",
    "    <li> Find an appropriate normalization factor to divide each amplitude such that the length of quantum state should be 1 </li>\n",
    "</ul>\n",
    "</i>\n",
    "\n",
    "<b>Repeat several times:</b>\n",
    "<ul>\n",
    "    <li> Randomly pick a quantum state </li>\n",
    "    <li> Check whether the picked quantum state is valid </li>\n",
    "    \n",
    "_Note:_ Comment out the first line after writing your code to store the function you have written for later use."
   ]
  },
  {
   "cell_type": "code",
   "execution_count": null,
   "metadata": {},
   "outputs": [],
   "source": [
    "#%%writefile random_complex_quantum_state.py\n",
    "from random import randrange\n",
    "def random_complex_quantum_state():\n",
    "    # quantum state \n",
    "    quantum_state=[0,0]\n",
    "    #\n",
    "    #\n",
    "    #\n",
    "    return quantum_state"
   ]
  },
  {
   "cell_type": "code",
   "execution_count": null,
   "metadata": {},
   "outputs": [],
   "source": [
    "#%%writefile is_quantum_state.py\n",
    "# testing whether a given quantum state is valid\n",
    "def is_quantum_state(quantum_state):\n",
    "#\n",
    "# your code is here\n",
    "#\n"
   ]
  },
  {
   "cell_type": "code",
   "execution_count": null,
   "metadata": {},
   "outputs": [],
   "source": [
    "#Use the functions you have written to randomly generate and check quantum states\n",
    "#\n",
    "# your code is here\n",
    "#"
   ]
  },
  {
   "cell_type": "markdown",
   "metadata": {},
   "source": [
    "<a href=\"C02_Quantum_States_With_Complex_Numbers_Solutions.ipynb#task3\">click for our solution</a>"
   ]
  }
 ],
 "metadata": {
  "kernelspec": {
   "display_name": "Python 3",
   "language": "python",
   "name": "python3"
  },
  "language_info": {
   "codemirror_mode": {
    "name": "ipython",
    "version": 3
   },
   "file_extension": ".py",
   "mimetype": "text/x-python",
   "name": "python",
   "nbconvert_exporter": "python",
   "pygments_lexer": "ipython3",
   "version": "3.7.3"
  }
 },
 "nbformat": 4,
 "nbformat_minor": 2
}
