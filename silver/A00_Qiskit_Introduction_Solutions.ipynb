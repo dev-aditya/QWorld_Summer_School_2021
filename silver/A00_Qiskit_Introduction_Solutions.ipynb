{
 "cells": [
  {
   "cell_type": "markdown",
   "id": "moral-batman",
   "metadata": {},
   "source": [
    "<table  align=\"left\" width=\"100%\"> <tr>\n",
    "        <td  style=\"background-color:#ffffff;\"><a href=\"https://qsoftware.lu.lv/index.php/qworld/\" target=\"_blank\"><img src=\"../images/qworld.jpg\" width=\"35%\" align=\"left\"></a></td>\n",
    "        <td  align=\"right\" style=\"background-color:#ffffff;vertical-align:bottom;horizontal-align:right\">\n",
    "            prepared by Özlem Salehi\n",
    "        </td>        \n",
    "</tr></table>"
   ]
  },
  {
   "cell_type": "markdown",
   "id": "looking-medicine",
   "metadata": {},
   "source": [
    "<table width=\"100%\"><tr><td style=\"color:#bbbbbb;background-color:#ffffff;font-size:11px;font-style:italic;text-align:right;\">This cell contains some macros. If there is a problem with displaying mathematical formulas, please run this cell to load these macros. </td></tr></table>\n",
    "$ \\newcommand{\\bra}[1]{\\langle #1|} $\n",
    "$ \\newcommand{\\ket}[1]{|#1\\rangle} $\n",
    "$ \\newcommand{\\braket}[2]{\\langle #1|#2\\rangle} $\n",
    "$ \\newcommand{\\dot}[2]{ #1 \\cdot #2} $\n",
    "$ \\newcommand{\\biginner}[2]{\\left\\langle #1,#2\\right\\rangle} $\n",
    "$ \\newcommand{\\mymatrix}[2]{\\left( \\begin{array}{#1} #2\\end{array} \\right)} $\n",
    "$ \\newcommand{\\myvector}[1]{\\mymatrix{c}{#1}} $\n",
    "$ \\newcommand{\\myrvector}[1]{\\mymatrix{r}{#1}} $\n",
    "$ \\newcommand{\\mypar}[1]{\\left( #1 \\right)} $\n",
    "$ \\newcommand{\\mybigpar}[1]{ \\Big( #1 \\Big)} $\n",
    "$ \\newcommand{\\sqrttwo}{\\frac{1}{\\sqrt{2}}} $\n",
    "$ \\newcommand{\\dsqrttwo}{\\dfrac{1}{\\sqrt{2}}} $\n",
    "$ \\newcommand{\\onehalf}{\\frac{1}{2}} $\n",
    "$ \\newcommand{\\donehalf}{\\dfrac{1}{2}} $\n",
    "$ \\newcommand{\\hadamard}{ \\mymatrix{rr}{ \\sqrttwo & \\sqrttwo \\\\ \\sqrttwo & -\\sqrttwo }} $\n",
    "$ \\newcommand{\\vzero}{\\myvector{1\\\\0}} $\n",
    "$ \\newcommand{\\vone}{\\myvector{0\\\\1}} $\n",
    "$ \\newcommand{\\stateplus}{\\myvector{ \\sqrttwo \\\\  \\sqrttwo } } $\n",
    "$ \\newcommand{\\stateminus}{ \\myrvector{ \\sqrttwo \\\\ -\\sqrttwo } } $\n",
    "$ \\newcommand{\\myarray}[2]{ \\begin{array}{#1}#2\\end{array}} $\n",
    "$ \\newcommand{\\X}{ \\mymatrix{cc}{0 & 1 \\\\ 1 & 0}  } $\n",
    "$ \\newcommand{\\Z}{ \\mymatrix{rr}{1 & 0 \\\\ 0 & -1}  } $\n",
    "$ \\newcommand{\\Htwo}{ \\mymatrix{rrrr}{ \\frac{1}{2} & \\frac{1}{2} & \\frac{1}{2} & \\frac{1}{2} \\\\ \\frac{1}{2} & -\\frac{1}{2} & \\frac{1}{2} & -\\frac{1}{2} \\\\ \\frac{1}{2} & \\frac{1}{2} & -\\frac{1}{2} & -\\frac{1}{2} \\\\ \\frac{1}{2} & -\\frac{1}{2} & -\\frac{1}{2} & \\frac{1}{2} } } $\n",
    "$ \\newcommand{\\CNOT}{ \\mymatrix{cccc}{1 & 0 & 0 & 0 \\\\ 0 & 1 & 0 & 0 \\\\ 0 & 0 & 0 & 1 \\\\ 0 & 0 & 1 & 0} } $\n",
    "$ \\newcommand{\\norm}[1]{ \\left\\lVert #1 \\right\\rVert } $\n",
    "$ \\newcommand{\\pstate}[1]{ \\lceil \\mspace{-1mu} #1 \\mspace{-1.5mu} \\rfloor } $\n",
    "$ \\newcommand{\\qgate}[1]{ \\mathop{\\textit{#1} } }$"
   ]
  },
  {
   "cell_type": "markdown",
   "id": "functioning-hughes",
   "metadata": {},
   "source": [
    "# <font color=\"blue\"> Solutions for </font> Qiskit Introduction"
   ]
  },
  {
   "cell_type": "markdown",
   "id": "neutral-process",
   "metadata": {},
   "source": [
    "<a id=\"task1\"></a>\n",
    "### Task 1\n",
    "    \n",
    "Create a quantum circuit with 10 qubits. \n",
    "\n",
    "1. Apply $\\qgate{H}$ gate to qubit 0\n",
    "2. Apply nine $\\qgate{CNOT}$ gates where qubit $0$ is the control and qubit $i$ is the target for $i=1\\cdots9$.\n",
    "\n",
    "Draw your circuit."
   ]
  },
  {
   "cell_type": "markdown",
   "id": "floppy-competition",
   "metadata": {},
   "source": [
    "<h3> Solution </h3>"
   ]
  },
  {
   "cell_type": "code",
   "execution_count": null,
   "id": "owned-stock",
   "metadata": {},
   "outputs": [],
   "source": [
    "from qiskit import QuantumRegister, ClassicalRegister, QuantumCircuit\n",
    "\n",
    "# Create quantum and classical registers with 10 qubits\n",
    "qreg = QuantumRegister(10)\n",
    "creg = ClassicalRegister(10) #For this question we don't need to create this\n",
    "\n",
    "# Create a new circuit\n",
    "circuit = QuantumCircuit(qreg,creg)\n",
    "\n",
    "# Apply H to qubit 0\n",
    "circuit.h(qreg[0])\n",
    "\n",
    "# Apply CX gates\n",
    "for i in range(1,10):\n",
    "    circuit.cx(qreg[0],qreg[i])\n",
    "    \n",
    "circuit.draw()"
   ]
  },
  {
   "cell_type": "markdown",
   "id": "divine-russell",
   "metadata": {},
   "source": [
    "<a id=\"task2\"></a>\n",
    "### Task 2\n",
    "    \n",
    "Create a quantum circuit with 10 qubits. \n",
    "\n",
    "1. Apply $\\qgate{H}$ gates to all qubits.\n",
    "2. Apply $\\qgate{X}$ gate to qubit 0 controlled by qubits 1-9\n",
    "2. Apply $\\qgate{H}$ gates to all qubits.\n",
    "\n",
    "Draw your circuit."
   ]
  },
  {
   "cell_type": "markdown",
   "id": "declared-cookbook",
   "metadata": {},
   "source": [
    "<h3> Solution </h3>"
   ]
  },
  {
   "cell_type": "code",
   "execution_count": null,
   "id": "stable-parish",
   "metadata": {},
   "outputs": [],
   "source": [
    "from qiskit import QuantumRegister, ClassicalRegister, QuantumCircuit\n",
    "from qiskit.circuit.library.standard_gates import XGate\n",
    "\n",
    "# Create quantum and classical registers with 10 qubits\n",
    "qreg = QuantumRegister(10)\n",
    "creg = ClassicalRegister(10) #For this question we don't need to create classical register\n",
    "\n",
    "# Create a new circuit\n",
    "circuit = QuantumCircuit(qreg,creg)\n",
    "\n",
    "# Apply H to all qubits\n",
    "circuit.h(qreg)\n",
    "\n",
    "# Create a controlled version of the NOT gate\n",
    "C9X = XGate().control(9)\n",
    "\n",
    "# Qubits 1-9 are the control and qubit 0 is the target\n",
    "# In python, you can use + to concatanate to lists\n",
    "circuit.append(C9X,list(range(1,10)) + [0])\n",
    "\n",
    "# Apply H to all qubits\n",
    "circuit.h(qreg)\n",
    "\n",
    "circuit.draw()"
   ]
  },
  {
   "cell_type": "markdown",
   "id": "peaceful-boring",
   "metadata": {},
   "source": [
    "<a id=\"task3\"></a>\n",
    "### Task 3\n",
    "    \n",
    "Implement the circuit in Task 1. Measure all the qubits and simulate your circuit for 1000 times."
   ]
  },
  {
   "cell_type": "markdown",
   "id": "composite-auckland",
   "metadata": {},
   "source": [
    "<h3> Solution </h3>"
   ]
  },
  {
   "cell_type": "code",
   "execution_count": null,
   "id": "affecting-mapping",
   "metadata": {},
   "outputs": [],
   "source": [
    "from qiskit import QuantumRegister, ClassicalRegister, QuantumCircuit\n",
    "from qiskit import execute, Aer\n",
    "\n",
    "# Create quantum and classical registers with 10 qubits\n",
    "qreg = QuantumRegister(10)\n",
    "creg = ClassicalRegister(10)\n",
    "\n",
    "# Create a new circuit\n",
    "circuit = QuantumCircuit(qreg,creg)\n",
    "\n",
    "# Apply H to qubit 0\n",
    "circuit.h(qreg[0])\n",
    "\n",
    "# Apply CX gates\n",
    "for i in range(1,10):\n",
    "    circuit.cx(qreg[0],qreg[i])\n",
    "    \n",
    "circuit.measure(qreg,creg)\n",
    "\n",
    "# This is the local simulator \n",
    "simulator = Aer.get_backend('qasm_simulator')\n",
    "\n",
    "# circuit is the name of the circuit to be run\n",
    "# simulator is the backend on which the simulation will be done\n",
    "# Shots is the how many times we want to run the circuit\n",
    "job = execute(circuit,simulator,shots=1000)\n",
    "\n",
    "# Get the results as a dictionary\n",
    "counts = job.result().get_counts(circuit)\n",
    "print(counts) \n",
    "    "
   ]
  },
  {
   "cell_type": "markdown",
   "id": "accepting-solid",
   "metadata": {},
   "source": [
    "<a id=\"task4\"></a>\n",
    "### Task 4\n",
    "    \n",
    "Create a quantum circuit with 4 qubits. Apply Hadamard gate to each qubit and $\\qgate{CZ}$ gate to qreg[3] and qreg[2]. Use the simulator without measuring the circuit. Check the entries with negative sign."
   ]
  },
  {
   "cell_type": "markdown",
   "id": "touched-outline",
   "metadata": {},
   "source": [
    "<h3> Solution </h3>"
   ]
  },
  {
   "cell_type": "code",
   "execution_count": null,
   "id": "average-western",
   "metadata": {},
   "outputs": [],
   "source": [
    "from qiskit import QuantumRegister, ClassicalRegister, QuantumCircuit\n",
    "from qiskit import execute, Aer\n",
    "\n",
    "# Create quantum and classical registers with 4 qubits\n",
    "qreg = QuantumRegister(4)\n",
    "creg = ClassicalRegister(4)\n",
    "\n",
    "# Create a new circuit\n",
    "circuit = QuantumCircuit(qreg,creg)\n",
    "\n",
    "# Apply H gate to all qubits\n",
    "circuit.h(qreg)\n",
    "\n",
    "# Apply Z gate to qreg[0]\n",
    "circuit.cz(qreg[3],qreg[2])\n",
    "\n",
    "vsimulator = Aer.get_backend('statevector_simulator')\n",
    "job = execute(circuit,vsimulator,shots=1)\n",
    "\n",
    "state = job.result().get_statevector()\n",
    "print(state) "
   ]
  },
  {
   "cell_type": "markdown",
   "id": "overhead-three",
   "metadata": {},
   "source": [
    "The states $\\ket{1100}$, $\\ket{1101}$, $\\ket{1110}$, $\\ket{1111}$ have the negative sign."
   ]
  }
 ],
 "metadata": {
  "kernelspec": {
   "display_name": "Python 3",
   "language": "python",
   "name": "python3"
  },
  "language_info": {
   "codemirror_mode": {
    "name": "ipython",
    "version": 3
   },
   "file_extension": ".py",
   "mimetype": "text/x-python",
   "name": "python",
   "nbconvert_exporter": "python",
   "pygments_lexer": "ipython3",
   "version": "3.7.3"
  }
 },
 "nbformat": 4,
 "nbformat_minor": 5
}
