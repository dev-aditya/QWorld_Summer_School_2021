{
 "cells": [
  {
   "cell_type": "markdown",
   "metadata": {},
   "source": [
    "<table align=\"left\"  width=\"100%\"> <tr>\n",
    "        <td  style=\"background-color:#ffffff;\">\n",
    "            <a href=\"http://qworld.lu.lv\" target=\"_blank\"><img src=\"../images/qworld.jpg\" width=\"35%\" align=\"left\"> </a></td>\n",
    "        <td style=\"background-color:#ffffff;vertical-align:bottom;text-align:right;\">\n",
    "            prepared by Maksim Dimitrijev (<a href=\"http://qworld.lu.lv/index.php/qlatvia/\" target=\"_blank\">QLatvia</a>)\n",
    "        </td>        \n",
    "</tr></table>"
   ]
  },
  {
   "cell_type": "markdown",
   "metadata": {},
   "source": [
    "<table width=\"100%\"><tr><td style=\"color:#bbbbbb;background-color:#ffffff;font-size:11px;font-style:italic;text-align:right;\">This cell contains some macros. If there is a problem with displaying mathematical formulas, please run this cell to load these macros. </td></tr></table>\n",
    "$ \\newcommand{\\bra}[1]{\\langle #1|} $\n",
    "$ \\newcommand{\\ket}[1]{|#1\\rangle} $\n",
    "$ \\newcommand{\\braket}[2]{\\langle #1|#2\\rangle} $\n",
    "$ \\newcommand{\\dot}[2]{ #1 \\cdot #2} $\n",
    "$ \\newcommand{\\biginner}[2]{\\left\\langle #1,#2\\right\\rangle} $\n",
    "$ \\newcommand{\\mymatrix}[2]{\\left( \\begin{array}{#1} #2\\end{array} \\right)} $\n",
    "$ \\newcommand{\\myvector}[1]{\\mymatrix{c}{#1}} $\n",
    "$ \\newcommand{\\myrvector}[1]{\\mymatrix{r}{#1}} $\n",
    "$ \\newcommand{\\mypar}[1]{\\left( #1 \\right)} $\n",
    "$ \\newcommand{\\mybigpar}[1]{ \\Big( #1 \\Big)} $\n",
    "$ \\newcommand{\\sqrttwo}{\\frac{1}{\\sqrt{2}}} $\n",
    "$ \\newcommand{\\dsqrttwo}{\\dfrac{1}{\\sqrt{2}}} $\n",
    "$ \\newcommand{\\onehalf}{\\frac{1}{2}} $\n",
    "$ \\newcommand{\\donehalf}{\\dfrac{1}{2}} $\n",
    "$ \\newcommand{\\hadamard}{ \\mymatrix{rr}{ \\sqrttwo & \\sqrttwo \\\\ \\sqrttwo & -\\sqrttwo }} $\n",
    "$ \\newcommand{\\vzero}{\\myvector{1\\\\0}} $\n",
    "$ \\newcommand{\\vone}{\\myvector{0\\\\1}} $\n",
    "$ \\newcommand{\\stateplus}{\\myvector{ \\sqrttwo \\\\  \\sqrttwo } } $\n",
    "$ \\newcommand{\\stateminus}{ \\myrvector{ \\sqrttwo \\\\ -\\sqrttwo } } $\n",
    "$ \\newcommand{\\myarray}[2]{ \\begin{array}{#1}#2\\end{array}} $\n",
    "$ \\newcommand{\\X}{ \\mymatrix{cc}{0 & 1 \\\\ 1 & 0}  } $\n",
    "$ \\newcommand{\\Z}{ \\mymatrix{rr}{1 & 0 \\\\ 0 & -1}  } $\n",
    "$ \\newcommand{\\Htwo}{ \\mymatrix{rrrr}{ \\frac{1}{2} & \\frac{1}{2} & \\frac{1}{2} & \\frac{1}{2} \\\\ \\frac{1}{2} & -\\frac{1}{2} & \\frac{1}{2} & -\\frac{1}{2} \\\\ \\frac{1}{2} & \\frac{1}{2} & -\\frac{1}{2} & -\\frac{1}{2} \\\\ \\frac{1}{2} & -\\frac{1}{2} & -\\frac{1}{2} & \\frac{1}{2} } } $\n",
    "$ \\newcommand{\\CNOT}{ \\mymatrix{cccc}{1 & 0 & 0 & 0 \\\\ 0 & 1 & 0 & 0 \\\\ 0 & 0 & 0 & 1 \\\\ 0 & 0 & 1 & 0} } $\n",
    "$ \\newcommand{\\norm}[1]{ \\left\\lVert #1 \\right\\rVert } $\n",
    "$ \\newcommand{\\pstate}[1]{ \\lceil \\mspace{-1mu} #1 \\mspace{-1.5mu} \\rfloor } $\n",
    "$ \\newcommand{\\Y}{ \\mymatrix{rr}{0 & -i \\\\ i & 0} } $ $ \\newcommand{\\S}{ \\mymatrix{rr}{1 & 0 \\\\ 0 & i} } $ \n",
    "$ \\newcommand{\\T}{ \\mymatrix{rr}{1 & 0 \\\\ 0 & e^{i \\frac{pi}{4}}} } $ \n",
    "$ \\newcommand{\\Sdg}{ \\mymatrix{rr}{1 & 0 \\\\ 0 & -i} } $ \n",
    "$ \\newcommand{\\Tdg}{ \\mymatrix{rr}{1 & 0 \\\\ 0 & e^{-i \\frac{pi}{4}}} } $"
   ]
  },
  {
   "cell_type": "markdown",
   "metadata": {},
   "source": [
    "<h1> <font color=\"blue\"> Solutions for </font> Global and local phase </h1>"
   ]
  },
  {
   "cell_type": "markdown",
   "metadata": {},
   "source": [
    "<a id=\"task1\"></a>\n",
    "<h3> Task 1 </h3>\n",
    "\n",
    "Find the probabilities of observing states $\\ket{0}$ and $\\ket{1}$ for the qubits in the following states:\n",
    "\n",
    "<ul>\n",
    "    <li>$\\cos{\\frac{\\pi}{3}} \\ket{0} + e^{i\\pi} \\sin{\\frac{\\pi}{3}} \\ket{1}$</li>\n",
    "    <li>$\\cos{\\frac{\\pi}{4}} \\ket{0} + e^{i\\frac{\\pi}{4}} \\sin{\\frac{\\pi}{4}} \\ket{1}$</li>\n",
    "    <li>$\\cos{\\frac{\\pi}{6}} \\ket{0} + i \\sin{\\frac{\\pi}{6}} \\ket{1}$</li>\n",
    "</ul>"
   ]
  },
  {
   "cell_type": "markdown",
   "metadata": {},
   "source": [
    "<h3> Solution </h3>"
   ]
  },
  {
   "cell_type": "markdown",
   "metadata": {},
   "source": [
    "<ul>\n",
    "    <li>$\\cos{\\frac{\\pi}{3}} \\ket{0} + e^{i\\pi} \\sin{\\frac{\\pi}{3}} \\ket{1}$ => probability to observe state $\\ket{0}$: $\\cos{\\frac{\\pi}{3}} = \\frac{1}{2}$, $\\mypar{\\frac{1}{2}}^2 = \\frac{1}{4}$; probability to observe state $\\ket{1}$: $\\sin{\\frac{\\pi}{3}} = \\frac{\\sqrt{3}}{2}$, $\\mypar{\\frac{\\sqrt{3}}{2}}^2 = \\frac{3}{4}$.</li>\n",
    "    <li>$\\cos{\\frac{\\pi}{4}} \\ket{0} + e^{i\\frac{\\pi}{4}} \\sin{\\frac{\\pi}{4}} \\ket{1}$ => probability to observe state $\\ket{0}$: $\\cos{\\frac{\\pi}{4}} = \\frac{\\sqrt{2}}{2}$, $\\mypar{\\frac{\\sqrt{2}}{2}}^2 = \\frac{1}{2}$; probability to observe state $\\ket{1}$: $\\sin{\\frac{\\pi}{4}} = \\frac{\\sqrt{2}}{2}$, $\\mypar{\\frac{\\sqrt{2}}{2}}^2 = \\frac{1}{2}$.</li>\n",
    "    <li>$\\cos{\\frac{\\pi}{6}} \\ket{0} + i \\sin{\\frac{\\pi}{6}} \\ket{1}$ => probability to observe state $\\ket{0}$: $\\cos{\\frac{\\pi}{6}} = \\frac{\\sqrt{3}}{2}$, $\\mypar{\\frac{\\sqrt{3}}{2}}^2 = \\frac{3}{4}$; probability to observe state $\\ket{1}$: $\\sin{\\frac{\\pi}{6}} = \\frac{1}{2}$, $\\mypar{\\frac{1}{2}}^2 = \\frac{1}{4}$.</li>\n",
    "</ul>"
   ]
  },
  {
   "cell_type": "markdown",
   "metadata": {},
   "source": [
    "<a id=\"task2\"></a>\n",
    "<h3> Task 2 </h3>\n",
    "\n",
    "Implement a function that calculates the probabilities of observing states $\\ket{0}$ and $\\ket{1}$ given the angle of a quantum state. Assuming that the quantum state is of the form $\\cos{\\frac{\\theta}{2}} \\ket{0} + e^{i\\phi} \\sin{\\frac{\\theta}{2}} \\ket{1}$, $\\theta$ and $\\phi$ should be provided to the function as parameters. Check the quantum states given in Task 1 and compare the results."
   ]
  },
  {
   "cell_type": "markdown",
   "metadata": {},
   "source": [
    "<h3> Solution </h3>"
   ]
  },
  {
   "cell_type": "code",
   "execution_count": null,
   "metadata": {},
   "outputs": [],
   "source": [
    "from math import sin, cos\n",
    "# Angle phi does not affect probabilities.\n",
    "def calculate_probabilities(theta, phi):\n",
    "    amplitude0 = cos(theta/2)\n",
    "    amplitude1 = sin(theta/2)\n",
    "    probabilities = [amplitude0**2, amplitude1**2]\n",
    "    return probabilities"
   ]
  },
  {
   "cell_type": "code",
   "execution_count": null,
   "metadata": {},
   "outputs": [],
   "source": [
    "from math import pi\n",
    "print(calculate_probabilities(2*pi/3,pi))\n",
    "print(calculate_probabilities(2*pi/4,pi/4))\n",
    "print(calculate_probabilities(2*pi/6,pi/2))"
   ]
  }
 ],
 "metadata": {
  "kernelspec": {
   "display_name": "Python 3",
   "language": "python",
   "name": "python3"
  },
  "language_info": {
   "codemirror_mode": {
    "name": "ipython",
    "version": 3
   },
   "file_extension": ".py",
   "mimetype": "text/x-python",
   "name": "python",
   "nbconvert_exporter": "python",
   "pygments_lexer": "ipython3",
   "version": "3.7.3"
  }
 },
 "nbformat": 4,
 "nbformat_minor": 2
}
