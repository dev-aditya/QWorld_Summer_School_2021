{
 "cells": [
  {
   "cell_type": "markdown",
   "metadata": {},
   "source": [
    "<table  align=\"left\" width=\"100%\"> <tr>\n",
    "        <td  style=\"background-color:#ffffff;\"><a href=\"https://qsoftware.lu.lv/index.php/qworld/\" target=\"_blank\"><img src=\"..\\images\\qworld.jpg\" width=\"35%\" align=\"left\"></a></td>\n",
    "        <td  align=\"right\" style=\"background-color:#ffffff;vertical-align:bottom;horizontal-align:right\">\n",
    "            prepared by Özlem Salehi (<a href=\"http://qworld.lu.lv/index.php/qturkey/\" target=\"_blank\">QTurkey</a>)\n",
    "        </td>        \n",
    "</tr></table>"
   ]
  },
  {
   "cell_type": "markdown",
   "metadata": {},
   "source": [
    "<table width=\"100%\"><tr><td style=\"color:#bbbbbb;background-color:#ffffff;font-size:11px;font-style:italic;text-align:right;\">This cell contains some macros. If there is a problem with displaying mathematical formulas, please run this cell to load these macros. </td></tr></table>\n",
    "$ \\newcommand{\\bra}[1]{\\langle #1|} $\n",
    "$ \\newcommand{\\ket}[1]{|#1\\rangle} $\n",
    "$ \\newcommand{\\braket}[2]{\\langle #1|#2\\rangle} $\n",
    "$ \\newcommand{\\dot}[2]{ #1 \\cdot #2} $\n",
    "$ \\newcommand{\\biginner}[2]{\\left\\langle #1,#2\\right\\rangle} $\n",
    "$ \\newcommand{\\mymatrix}[2]{\\left( \\begin{array}{#1} #2\\end{array} \\right)} $\n",
    "$ \\newcommand{\\myvector}[1]{\\mymatrix{c}{#1}} $\n",
    "$ \\newcommand{\\myrvector}[1]{\\mymatrix{r}{#1}} $\n",
    "$ \\newcommand{\\mypar}[1]{\\left( #1 \\right)} $\n",
    "$ \\newcommand{\\mybigpar}[1]{ \\Big( #1 \\Big)} $\n",
    "$ \\newcommand{\\sqrttwo}{\\frac{1}{\\sqrt{2}}} $\n",
    "$ \\newcommand{\\dsqrttwo}{\\dfrac{1}{\\sqrt{2}}} $\n",
    "$ \\newcommand{\\onehalf}{\\frac{1}{2}} $\n",
    "$ \\newcommand{\\donehalf}{\\dfrac{1}{2}} $\n",
    "$ \\newcommand{\\hadamard}{ \\mymatrix{rr}{ \\sqrttwo & \\sqrttwo \\\\ \\sqrttwo & -\\sqrttwo }} $\n",
    "$ \\newcommand{\\vzero}{\\myvector{1\\\\0}} $\n",
    "$ \\newcommand{\\vone}{\\myvector{0\\\\1}} $\n",
    "$ \\newcommand{\\stateplus}{\\myvector{ \\sqrttwo \\\\  \\sqrttwo } } $\n",
    "$ \\newcommand{\\stateminus}{ \\myrvector{ \\sqrttwo \\\\ -\\sqrttwo } } $\n",
    "$ \\newcommand{\\myarray}[2]{ \\begin{array}{#1}#2\\end{array}} $\n",
    "$ \\newcommand{\\X}{ \\mymatrix{cc}{0 & 1 \\\\ 1 & 0}  } $\n",
    "$ \\newcommand{\\Z}{ \\mymatrix{rr}{1 & 0 \\\\ 0 & -1}  } $\n",
    "$ \\newcommand{\\Htwo}{ \\mymatrix{rrrr}{ \\frac{1}{2} & \\frac{1}{2} & \\frac{1}{2} & \\frac{1}{2} \\\\ \\frac{1}{2} & -\\frac{1}{2} & \\frac{1}{2} & -\\frac{1}{2} \\\\ \\frac{1}{2} & \\frac{1}{2} & -\\frac{1}{2} & -\\frac{1}{2} \\\\ \\frac{1}{2} & -\\frac{1}{2} & -\\frac{1}{2} & \\frac{1}{2} } } $\n",
    "$ \\newcommand{\\CNOT}{ \\mymatrix{cccc}{1 & 0 & 0 & 0 \\\\ 0 & 1 & 0 & 0 \\\\ 0 & 0 & 0 & 1 \\\\ 0 & 0 & 1 & 0} } $\n",
    "$ \\newcommand{\\norm}[1]{ \\left\\lVert #1 \\right\\rVert } $\n",
    "$ \\newcommand{\\pstate}[1]{ \\lceil \\mspace{-1mu} #1 \\mspace{-1.5mu} \\rfloor } $"
   ]
  },
  {
   "cell_type": "markdown",
   "metadata": {},
   "source": [
    "<h1> <font color=\"blue\"> Solutions for </font> Discrete Fourier Transform</h1>"
   ]
  },
  {
   "cell_type": "markdown",
   "metadata": {},
   "source": [
    "<h3>Task 1 (on paper)</h3>\n",
    "<a id=\"task1\"></a>\n",
    "\n",
    "Given $x=\\myvector{1 \\\\ 2}$, apply $DFT$ to obtain $y$."
   ]
  },
  {
   "cell_type": "markdown",
   "metadata": {},
   "source": [
    "<h3>Solution </h3>"
   ]
  },
  {
   "cell_type": "markdown",
   "metadata": {},
   "source": [
    "In this example $N=2$, $x_0=1$ and $x_1=2$. Hence, we have\n",
    "\n",
    "$$y_k=\\frac{1}{\\sqrt{2}} \\sum_{j=0}^{1}e^{\\frac{2\\pi i j k}{2}}x_j.$$"
   ]
  },
  {
   "cell_type": "markdown",
   "metadata": {},
   "source": [
    "Replacing $k=0$,\n",
    "\n",
    "$$\n",
    "y_0=\\frac{1}{\\sqrt{2}} \\sum_{j=0}^{1}e^{\\frac{2\\pi ij\\cdot 0}{2} }x_j= \\frac{1}{\\sqrt{2}}  (x_0+x_1) = \\frac{3}{\\sqrt{2}}\n",
    "$$"
   ]
  },
  {
   "cell_type": "markdown",
   "metadata": {},
   "source": [
    "and $k=1$,\n",
    "\n",
    "$$\n",
    "y_1=\\frac{1}{\\sqrt{2}} \\sum_{j=0}^{1}e^{\\frac{2\\pi ij\\cdot 1}{2}}x_j= \\frac{1}{\\sqrt{2}} \\biggl( e^{\\frac{2\\pi i \\cdot0 \\cdot1}{2}} x_0 +  e^{\\frac{2\\pi i \\cdot 1 \\cdot 1}{2}} x_1 \\biggr)  = \\frac{1+  2e^{\\pi i}}{\\sqrt{2}}=\\frac{-1}{\\sqrt{2}}.\n",
    "$$\n",
    "\n"
   ]
  },
  {
   "cell_type": "markdown",
   "metadata": {},
   "source": [
    "We can conclude that $y=\\myvector{\\frac{3}{\\sqrt{2}} \\\\ \\frac{-1}{\\sqrt{2}} }  $."
   ]
  },
  {
   "cell_type": "markdown",
   "metadata": {},
   "source": [
    "<a id=\"task2\"></a>\n",
    "<h3>Task 2</h3>\n",
    "\n",
    "Create the following list in Python (1 0 0 0 0 1 0 0 0 0 1 0 0 0 0) where every 5'th value is a 1. Then compute its $DFT$ using python and visualize."
   ]
  },
  {
   "cell_type": "markdown",
   "metadata": {},
   "source": [
    "<h3>Solution </h3>"
   ]
  },
  {
   "cell_type": "code",
   "execution_count": 1,
   "metadata": {},
   "outputs": [],
   "source": [
    "#Create an empty list\n",
    "x=[]\n",
    "#Number of elements in the list\n",
    "N=100\n",
    "#We set every fifth number as a 1\n",
    "for i in range(N):\n",
    "    if i%5==0:\n",
    "        x.append(1)\n",
    "    else:\n",
    "        x.append(0)"
   ]
  },
  {
   "cell_type": "code",
   "execution_count": 2,
   "metadata": {},
   "outputs": [],
   "source": [
    "from cmath import exp\n",
    "from math import pi\n",
    "from math import sqrt\n",
    "\n",
    "#We calculate Fourier Transform of the list \n",
    "y=[]\n",
    "for k in range(N):\n",
    "    s=0\n",
    "    for j in range(N):\n",
    "        s+= exp(2*pi*1j*j*k/N)*x[j]\n",
    "    s*=1/sqrt(N)    \n",
    "    y.append(s)"
   ]
  },
  {
   "cell_type": "code",
   "execution_count": 5,
   "metadata": {},
   "outputs": [
    {
     "data": {
      "text/plain": [
       "[(2+0j),\n",
       " (-6.66133814775094e-17+5.551115123125783e-17j),\n",
       " (1.1102230246251566e-17+0j),\n",
       " (2.886579864025407e-16-6.66133814775094e-17j),\n",
       " (9.992007221626409e-17+1.9984014443252818e-16j),\n",
       " (2.1672546146854842e-16+2.664535259100376e-16j),\n",
       " (-8.271161533457416e-16+3.3306690738754696e-16j),\n",
       " (2.220446049250313e-16+4.218847493575595e-16j),\n",
       " (-1.4432899320127036e-16+9.992007221626409e-17j),\n",
       " (1.232347557333924e-15+2.0539125955565397e-16j),\n",
       " 3.0010036385476035e-16j,\n",
       " (-9.992007221626409e-17+6.494804694057166e-16j),\n",
       " (-9.2148511043888e-16-1.7763568394002506e-16j),\n",
       " (5.88418203051333e-16-3.4416913763379854e-16j),\n",
       " (2.3259172365897033e-15-3.9968028886505636e-16j),\n",
       " (8.819313895770708e-16-8.881784197001252e-16j),\n",
       " (-3.608224830031759e-16+7.660538869913581e-16j),\n",
       " (-1.4765966227514583e-15-1.0436096431476472e-15j),\n",
       " (-6.772360450213455e-16+1.2101430968414207e-15j),\n",
       " (2.231548279496565e-15+3.3306690738754696e-16j),\n",
       " (2-6.430014676160192e-15j),\n",
       " (5.88418203051333e-16+3.0531133177191805e-15j),\n",
       " (2.742250870824137e-15+3.530509218307998e-15j),\n",
       " (-2.353672812205332e-15-9.2148511043888e-16j),\n",
       " (8.382183835919933e-16+1.3988810110276974e-15j),\n",
       " (3.064711901051325e-16-2.686739719592879e-15j),\n",
       " (-1.6986412276764896e-15-1.3766765505351941e-15j),\n",
       " (3.042011087472929e-15-2.1094237467877976e-16j),\n",
       " (2.3980817331903383e-15+1.965094753586527e-15j),\n",
       " (3.608224830031759e-15+6.661338147750939e-16j),\n",
       " 6.762278661585109e-15j,\n",
       " (-2.40918396343659e-15+2.3592239273284576e-15j),\n",
       " (7.105427357601002e-16+4.218847493575595e-16j),\n",
       " (1.865174681370263e-15+4.440892098500626e-15j),\n",
       " (-6.550315845288424e-16-1.5210055437364646e-15j),\n",
       " (5.055442075501088e-15-4.884981308350689e-15j),\n",
       " (-1.3100631690576848e-15+1.4988010832439613e-15j),\n",
       " (2.2426505097428165e-15-7.549516567451065e-16j),\n",
       " (-1.0547118733938987e-15+4.152234112098085e-15j),\n",
       " (1.5432100042289676e-15-1.1657341758564144e-16j),\n",
       " (2-1.2860029352320383e-14j),\n",
       " (-5.917488721252085e-15-3.9968028886505636e-16j),\n",
       " (7.22755189030977e-15+4.3742787170231174e-15j),\n",
       " (-6.661338147750939e-16-3.2751579226442118e-15j),\n",
       " (7.882583474838612e-16+1.4765966227514583e-15j),\n",
       " (3.5270458481846582e-15-3.0087043967341744e-15j),\n",
       " (-8.826273045769995e-16+6.772360450213455e-15j),\n",
       " (-1.909583602355269e-15-3.1863400806741996e-15j),\n",
       " (3.674838211509268e-15-5.995204332975846e-16j),\n",
       " (2.020605904817785e-15-2.192690473634684e-15j),\n",
       " -7.0260110098474e-15j,\n",
       " (5.218048215738236e-16+1.7541523789077474e-15j),\n",
       " (3.9968028886505635e-15+2.231548279496565e-15j),\n",
       " (-4.773959005888173e-15-3.83026943495679e-15j),\n",
       " (2.686739719592879e-15+6.583622536027179e-15j),\n",
       " (-1.4513927354689009e-15+3.164135620181696e-15j),\n",
       " (3.3861802251067277e-16+7.838174553853606e-15j),\n",
       " (6.7390537594747005e-15-5.639932965095796e-15j),\n",
       " (-2.098321516541546e-15+7.01660951563099e-15j),\n",
       " (5.906386491005833e-15+4.846123502488809e-15j),\n",
       " (2-1.822422992484043e-14j),\n",
       " (-4.2299497238218466e-15+1.6653345369377348e-16j),\n",
       " (-5.451195050909519e-15+1.1046719095020308e-14j),\n",
       " (-6.750155989720952e-15-3.2307490016592057e-15j),\n",
       " (1.5210055437364646e-15+3.2418512319054574e-15j),\n",
       " (4.194107549626324e-15-7.382983113757291e-15j),\n",
       " (-5.42343947529389e-15-3.2085445411667026e-15j),\n",
       " (1.006972283335017e-14-5.540012892879532e-15j),\n",
       " (2.153832667772804e-15-5.384581669432009e-15j),\n",
       " (-7.771561172376096e-16+3.6914915568786455e-15j),\n",
       " -6.958717333957957e-15j,\n",
       " (2.2204460492503132e-17+6.6058269965196814e-15j),\n",
       " (3.5194069880617465e-15+3.0087043967341744e-15j),\n",
       " (-1.9961809982760316e-14-3.3639757646142244e-15j),\n",
       " (6.256106743762757e-15+5.473399511402022e-15j),\n",
       " (-2.2960901208505914e-15-1.332267629550188e-16j),\n",
       " (-8.443246102274315e-15+4.340972026284362e-15j),\n",
       " (5.306866057708249e-15-1.3489209749195652e-14j),\n",
       " (-3.963496197911809e-15+5.5955240441107896e-15j),\n",
       " (1.1457501614131616e-14+2.4202861936828413e-15j),\n",
       " (2-2.5720058704640766e-14j),\n",
       " (-8.426592756904939e-15+3.83026943495679e-15j),\n",
       " (1.5210055437364646e-15+4.407585407761872e-15j),\n",
       " (5.151434834260727e-15-1.0502709812953982e-14j),\n",
       " (1.1540768340978503e-14+1.0880185641326535e-15j),\n",
       " (3.758682315823567e-16+1.3766765505351941e-15j),\n",
       " (-3.2807090377673377e-15-2.7200464103316335e-15j),\n",
       " (1.3211653993039363e-15-4.007905118896815e-15j),\n",
       " (-2.231548279496565e-15+1.3433698597964396e-15j),\n",
       " (5.2735593669694936e-15-4.063416270128073e-15j),\n",
       " 1.1405051787754072e-14j,\n",
       " (-5.373479439185758e-15-1.2212453270876722e-14j),\n",
       " (6.528111384795921e-15+7.549516567451065e-16j),\n",
       " (2.2204460492503132e-17+6.1728400169158705e-15j),\n",
       " (1.5709655798445965e-15-4.407585407761872e-15j),\n",
       " (-1.0890144218115874e-14+3.641531520770514e-15j),\n",
       " (-3.3861802251067274e-15+5.540012892879532e-15j),\n",
       " (3.0309088572266774e-15+3.885780586188048e-16j),\n",
       " (-1.2345680033831741e-14+7.22755189030977e-15j),\n",
       " (1.2456702336294257e-14+1.2845280394913061e-14j)]"
      ]
     },
     "execution_count": 5,
     "metadata": {},
     "output_type": "execute_result"
    }
   ],
   "source": [
    "y"
   ]
  },
  {
   "cell_type": "code",
   "execution_count": 35,
   "metadata": {},
   "outputs": [
    {
     "data": {
      "image/png": "[encoded data removed]",
      "text/plain": [
       "<Figure size 432x288 with 1 Axes>"
      ]
     },
     "metadata": {
      "needs_background": "light"
     },
     "output_type": "display_data"
    }
   ],
   "source": [
    "import matplotlib.pyplot as plt\n",
    "#Visualizing the trasformed list\n",
    "plt.plot(y)\n",
    "plt.show()"
   ]
  },
  {
   "cell_type": "markdown",
   "metadata": {},
   "source": [
    "<a id=\"task3\"></a>\n",
    "<h3>Task 3</h3>\n",
    "\n",
    "Repeat Task 2 where this time every 6'th value is a 1 and the rest is 0."
   ]
  },
  {
   "cell_type": "markdown",
   "metadata": {},
   "source": [
    "<h3>Solution </h3>"
   ]
  },
  {
   "cell_type": "code",
   "execution_count": 5,
   "metadata": {},
   "outputs": [],
   "source": [
    "#Create an empty list\n",
    "x=[]\n",
    "#Number of elements in the list\n",
    "N=100\n",
    "#We set every sixth number as a 1\n",
    "for i in range(N):\n",
    "    if i%6==0:\n",
    "        x.append(1)\n",
    "    else:\n",
    "        x.append(0)"
   ]
  },
  {
   "cell_type": "code",
   "execution_count": 6,
   "metadata": {},
   "outputs": [],
   "source": [
    "from cmath import exp\n",
    "from math import pi\n",
    "from math import sqrt\n",
    "\n",
    "#We calculate Fourier Transform of the list \n",
    "y=[]\n",
    "for k in range(N):\n",
    "    s=0\n",
    "    for j in range(N):\n",
    "        s+= exp(2*pi*1j*j*k/N)*x[j]\n",
    "    s*=1/sqrt(N)    \n",
    "    y.append(s)"
   ]
  },
  {
   "cell_type": "code",
   "execution_count": 7,
   "metadata": {},
   "outputs": [
    {
     "data": {
      "image/png": "[encoded data removed]",
      "text/plain": [
       "<Figure size 432x288 with 1 Axes>"
      ]
     },
     "metadata": {
      "needs_background": "light"
     },
     "output_type": "display_data"
    }
   ],
   "source": [
    "import matplotlib.pyplot as plt\n",
    "#Visualizing the trasformed list\n",
    "plt.plot(y)\n",
    "plt.show()"
   ]
  }
 ],
 "metadata": {
  "kernelspec": {
   "display_name": "Python 3",
   "language": "python",
   "name": "python3"
  },
  "language_info": {
   "codemirror_mode": {
    "name": "ipython",
    "version": 3
   },
   "file_extension": ".py",
   "mimetype": "text/x-python",
   "name": "python",
   "nbconvert_exporter": "python",
   "pygments_lexer": "ipython3",
   "version": "3.7.3"
  }
 },
 "nbformat": 4,
 "nbformat_minor": 2
}
