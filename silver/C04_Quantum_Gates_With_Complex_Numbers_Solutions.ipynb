{
 "cells": [
  {
   "cell_type": "markdown",
   "metadata": {},
   "source": [
    "<table align=\"left\"  width=\"100%\"> <tr>\n",
    "        <td  style=\"background-color:#ffffff;\">\n",
    "            <a href=\"http://qworld.lu.lv\" target=\"_blank\"><img src=\"../images/qworld.jpg\" width=\"35%\" align=\"left\"> </a></td>\n",
    "        <td style=\"background-color:#ffffff;vertical-align:bottom;text-align:right;\">\n",
    "            prepared by Maksim Dimitrijev (<a href=\"http://qworld.lu.lv/index.php/qlatvia/\" target=\"_blank\">QLatvia</a>)\n",
    "        </td>        \n",
    "</tr></table>"
   ]
  },
  {
   "cell_type": "markdown",
   "metadata": {},
   "source": [
    "<table width=\"100%\"><tr><td style=\"color:#bbbbbb;background-color:#ffffff;font-size:11px;font-style:italic;text-align:right;\">This cell contains some macros. If there is a problem with displaying mathematical formulas, please run this cell to load these macros. </td></tr></table>\n",
    "$ \\newcommand{\\bra}[1]{\\langle #1|} $\n",
    "$ \\newcommand{\\ket}[1]{|#1\\rangle} $\n",
    "$ \\newcommand{\\braket}[2]{\\langle #1|#2\\rangle} $\n",
    "$ \\newcommand{\\dot}[2]{ #1 \\cdot #2} $\n",
    "$ \\newcommand{\\biginner}[2]{\\left\\langle #1,#2\\right\\rangle} $\n",
    "$ \\newcommand{\\mymatrix}[2]{\\left( \\begin{array}{#1} #2\\end{array} \\right)} $\n",
    "$ \\newcommand{\\myvector}[1]{\\mymatrix{c}{#1}} $\n",
    "$ \\newcommand{\\myrvector}[1]{\\mymatrix{r}{#1}} $\n",
    "$ \\newcommand{\\mypar}[1]{\\left( #1 \\right)} $\n",
    "$ \\newcommand{\\mybigpar}[1]{ \\Big( #1 \\Big)} $\n",
    "$ \\newcommand{\\sqrttwo}{\\frac{1}{\\sqrt{2}}} $\n",
    "$ \\newcommand{\\dsqrttwo}{\\dfrac{1}{\\sqrt{2}}} $\n",
    "$ \\newcommand{\\onehalf}{\\frac{1}{2}} $\n",
    "$ \\newcommand{\\donehalf}{\\dfrac{1}{2}} $\n",
    "$ \\newcommand{\\hadamard}{ \\mymatrix{rr}{ \\sqrttwo & \\sqrttwo \\\\ \\sqrttwo & -\\sqrttwo }} $\n",
    "$ \\newcommand{\\vzero}{\\myvector{1\\\\0}} $\n",
    "$ \\newcommand{\\vone}{\\myvector{0\\\\1}} $\n",
    "$ \\newcommand{\\stateplus}{\\myvector{ \\sqrttwo \\\\  \\sqrttwo } } $\n",
    "$ \\newcommand{\\stateminus}{ \\myrvector{ \\sqrttwo \\\\ -\\sqrttwo } } $\n",
    "$ \\newcommand{\\myarray}[2]{ \\begin{array}{#1}#2\\end{array}} $\n",
    "$ \\newcommand{\\X}{ \\mymatrix{cc}{0 & 1 \\\\ 1 & 0}  } $\n",
    "$ \\newcommand{\\Z}{ \\mymatrix{rr}{1 & 0 \\\\ 0 & -1}  } $\n",
    "$ \\newcommand{\\Htwo}{ \\mymatrix{rrrr}{ \\frac{1}{2} & \\frac{1}{2} & \\frac{1}{2} & \\frac{1}{2} \\\\ \\frac{1}{2} & -\\frac{1}{2} & \\frac{1}{2} & -\\frac{1}{2} \\\\ \\frac{1}{2} & \\frac{1}{2} & -\\frac{1}{2} & -\\frac{1}{2} \\\\ \\frac{1}{2} & -\\frac{1}{2} & -\\frac{1}{2} & \\frac{1}{2} } } $\n",
    "$ \\newcommand{\\CNOT}{ \\mymatrix{cccc}{1 & 0 & 0 & 0 \\\\ 0 & 1 & 0 & 0 \\\\ 0 & 0 & 0 & 1 \\\\ 0 & 0 & 1 & 0} } $\n",
    "$ \\newcommand{\\norm}[1]{ \\left\\lVert #1 \\right\\rVert } $\n",
    "$ \\newcommand{\\pstate}[1]{ \\lceil \\mspace{-1mu} #1 \\mspace{-1.5mu} \\rfloor } $\n",
    "$ \\newcommand{\\Y}{ \\mymatrix{rr}{0 & -i \\\\ i & 0} } $ $ \\newcommand{\\S}{ \\mymatrix{rr}{1 & 0 \\\\ 0 & i} } $ \n",
    "$ \\newcommand{\\T}{ \\mymatrix{rr}{1 & 0 \\\\ 0 & e^{i \\frac{pi}{4}}} } $ \n",
    "$ \\newcommand{\\Sdg}{ \\mymatrix{rr}{1 & 0 \\\\ 0 & -i} } $ \n",
    "$ \\newcommand{\\Tdg}{ \\mymatrix{rr}{1 & 0 \\\\ 0 & e^{-i \\frac{pi}{4}}} } $\n",
    "$ \\newcommand{\\qgate}[1]{ \\mathop{\\textit{#1} } }$"
   ]
  },
  {
   "cell_type": "markdown",
   "metadata": {},
   "source": [
    "<h1> <font color=\"blue\"> Solutions for </font> Quantum gates with complex numbers </h1>"
   ]
  },
  {
   "cell_type": "markdown",
   "metadata": {},
   "source": [
    "<a id=\"task1\"></a>\n",
    "<h3> Task 1 </h3>\n",
    "\n",
    "Remember that $\\qgate{X}$-gate flips the value of a qubit.\n",
    "\n",
    "Design a quantum circuit with a single qubit. Set the value of qubit to $ \\ket{1} $ by using x-gate. After that apply $\\qgate{Y}$-gate and check the outcome on a statevector_simulator."
   ]
  },
  {
   "cell_type": "markdown",
   "metadata": {},
   "source": [
    "<h3> Solution </h3>"
   ]
  },
  {
   "cell_type": "code",
   "execution_count": null,
   "metadata": {},
   "outputs": [],
   "source": [
    "from qiskit import QuantumRegister, ClassicalRegister, QuantumCircuit, execute, Aer\n",
    "\n",
    "qreg =  QuantumRegister(1)\n",
    "creg = ClassicalRegister(1)\n",
    "mycircuit = QuantumCircuit(qreg,creg)\n",
    "\n",
    "# apply x-gate\n",
    "mycircuit.x(qreg[0])\n",
    "\n",
    "# apply y-gate\n",
    "mycircuit.y(qreg[0])\n",
    "\n",
    "job = execute(mycircuit,Aer.get_backend('statevector_simulator'))\n",
    "current_quantum_state=job.result().get_statevector(mycircuit)\n",
    "print(current_quantum_state)"
   ]
  },
  {
   "cell_type": "markdown",
   "metadata": {},
   "source": [
    "<a id=\"task2\"></a>\n",
    "<h3> Task 2 </h3>\n",
    "\n",
    "Find the relationship between the following operators:\n",
    "<ul>\n",
    "    <li>$\\qgate{S}$ and $\\qgate{T}$;</li>\n",
    "    <li>$\\qgate{Z}$ and $\\qgate{T}$.</li>\n",
    "</ul>"
   ]
  },
  {
   "cell_type": "markdown",
   "metadata": {},
   "source": [
    "<h3> Solution </h3>"
   ]
  },
  {
   "cell_type": "markdown",
   "metadata": {},
   "source": [
    "$\\qgate{S} = \\S = \\mymatrix{cc}{1 & 0 \\\\ 0 & e^{i \\frac{pi}{4}} \\cdot e^{i \\frac{pi}{4}}} = \\T \\T$ => $\\qgate{S} = T^2$.\n",
    "\n",
    "$\\qgate{Z} = \\Z = \\mymatrix{cc}{1 & 0 \\\\ 0 & i \\cdot i} = \\S \\S$ => $\\qgate{Z} = S^2$ => $\\qgate{Z} = T^4$."
   ]
  },
  {
   "cell_type": "markdown",
   "metadata": {},
   "source": [
    "<a id=\"task3\"></a>\n",
    "<h3> Task 3 </h3>\n",
    "\n",
    "For each one of the discussed 4 phase gates construct the following circuit:\n",
    "\n",
    "<ul>\n",
    "    <li>Create a circuit with one qubit,</li>\n",
    "    <li>apply Hadamard operator,</li>\n",
    "    <li>apply the corresponding phase operator,</li>\n",
    "    <li>make a measurement.</li>\n",
    "</ul>\n",
    "\n",
    "What is the measurement outcome in each case?"
   ]
  },
  {
   "cell_type": "markdown",
   "metadata": {},
   "source": [
    "<h3> Solution </h3>"
   ]
  },
  {
   "cell_type": "code",
   "execution_count": 1,
   "metadata": {},
   "outputs": [
    {
     "name": "stdout",
     "output_type": "stream",
     "text": [
      "{'0': 5014, '1': 4986}\n"
     ]
    },
    {
     "data": {
      "image/png": "[encoded data removed]",
      "text/plain": [
       "<Figure size 266.907x144.48 with 1 Axes>"
      ]
     },
     "execution_count": 1,
     "metadata": {},
     "output_type": "execute_result"
    },
    {
     "data": {
      "image/png": "[encoded data removed]",
      "text/plain": [
       "<Figure size 266.907x144.48 with 1 Axes>"
      ]
     },
     "metadata": {},
     "output_type": "display_data"
    }
   ],
   "source": [
    "from qiskit import QuantumRegister, ClassicalRegister, QuantumCircuit, execute, Aer\n",
    "\n",
    "qreg =  QuantumRegister(1)\n",
    "creg = ClassicalRegister(1)\n",
    "mycircuit = QuantumCircuit(qreg,creg)\n",
    "\n",
    "mycircuit.h(qreg[0])\n",
    "# s-gate\n",
    "mycircuit.s(qreg[0])\n",
    "\n",
    "mycircuit.measure(qreg,creg)\n",
    "\n",
    "job = execute(mycircuit,Aer.get_backend('qasm_simulator'),shots=10000)\n",
    "counts = job.result().get_counts(mycircuit)\n",
    "print(counts) # print the outcomes\n",
    "\n",
    "mycircuit.draw(output='mpl')"
   ]
  },
  {
   "cell_type": "code",
   "execution_count": 2,
   "metadata": {},
   "outputs": [
    {
     "name": "stdout",
     "output_type": "stream",
     "text": [
      "{'1': 5073, '0': 4927}\n"
     ]
    },
    {
     "data": {
      "image/png": "[encoded data removed]",
      "text/plain": [
       "<Figure size 280.323x144.48 with 1 Axes>"
      ]
     },
     "execution_count": 2,
     "metadata": {},
     "output_type": "execute_result"
    },
    {
     "data": {
      "image/png": "[encoded data removed]",
      "text/plain": [
       "<Figure size 280.323x144.48 with 1 Axes>"
      ]
     },
     "metadata": {},
     "output_type": "display_data"
    }
   ],
   "source": [
    "from qiskit import QuantumRegister, ClassicalRegister, QuantumCircuit, execute, Aer\n",
    "\n",
    "qreg =  QuantumRegister(1)\n",
    "creg = ClassicalRegister(1)\n",
    "mycircuit = QuantumCircuit(qreg,creg)\n",
    "\n",
    "mycircuit.h(qreg[0])\n",
    "# t-gate\n",
    "mycircuit.t(qreg[0])\n",
    "\n",
    "mycircuit.measure(qreg,creg)\n",
    "\n",
    "job = execute(mycircuit,Aer.get_backend('qasm_simulator'),shots=10000)\n",
    "counts = job.result().get_counts(mycircuit)\n",
    "print(counts) # print the outcomes\n",
    "\n",
    "mycircuit.draw(output='mpl')"
   ]
  },
  {
   "cell_type": "code",
   "execution_count": 3,
   "metadata": {},
   "outputs": [
    {
     "name": "stdout",
     "output_type": "stream",
     "text": [
      "{'0': 4997, '1': 5003}\n"
     ]
    },
    {
     "data": {
      "image/png": "[encoded data removed]",
      "text/plain": [
       "<Figure size 280.469x144.48 with 1 Axes>"
      ]
     },
     "execution_count": 3,
     "metadata": {},
     "output_type": "execute_result"
    },
    {
     "data": {
      "image/png": "[encoded data removed]",
      "text/plain": [
       "<Figure size 280.469x144.48 with 1 Axes>"
      ]
     },
     "metadata": {},
     "output_type": "display_data"
    }
   ],
   "source": [
    "from qiskit import QuantumRegister, ClassicalRegister, QuantumCircuit, execute, Aer\n",
    "\n",
    "qreg =  QuantumRegister(1)\n",
    "creg = ClassicalRegister(1)\n",
    "mycircuit = QuantumCircuit(qreg,creg)\n",
    "\n",
    "mycircuit.h(qreg[0])\n",
    "# sdg-gate\n",
    "mycircuit.sdg(qreg[0])\n",
    "\n",
    "mycircuit.measure(qreg,creg)\n",
    "\n",
    "job = execute(mycircuit,Aer.get_backend('qasm_simulator'),shots=10000)\n",
    "counts = job.result().get_counts(mycircuit)\n",
    "print(counts) # print the outcomes\n",
    "\n",
    "mycircuit.draw(output='mpl')"
   ]
  },
  {
   "cell_type": "code",
   "execution_count": 4,
   "metadata": {},
   "outputs": [
    {
     "name": "stdout",
     "output_type": "stream",
     "text": [
      "{'0': 4879, '1': 5121}\n"
     ]
    },
    {
     "data": {
      "image/png": "[encoded data removed]",
      "text/plain": [
       "<Figure size 280.323x144.48 with 1 Axes>"
      ]
     },
     "execution_count": 4,
     "metadata": {},
     "output_type": "execute_result"
    },
    {
     "data": {
      "image/png": "[encoded data removed]",
      "text/plain": [
       "<Figure size 280.323x144.48 with 1 Axes>"
      ]
     },
     "metadata": {},
     "output_type": "display_data"
    }
   ],
   "source": [
    "from qiskit import QuantumRegister, ClassicalRegister, QuantumCircuit, execute, Aer\n",
    "\n",
    "qreg =  QuantumRegister(1)\n",
    "creg = ClassicalRegister(1)\n",
    "mycircuit = QuantumCircuit(qreg,creg)\n",
    "\n",
    "mycircuit.h(qreg[0])\n",
    "# tdg-gate\n",
    "mycircuit.tdg(qreg[0])\n",
    "\n",
    "mycircuit.measure(qreg,creg)\n",
    "\n",
    "job = execute(mycircuit,Aer.get_backend('qasm_simulator'),shots=10000)\n",
    "counts = job.result().get_counts(mycircuit)\n",
    "print(counts) # print the outcomes\n",
    "\n",
    "mycircuit.draw(output='mpl')"
   ]
  },
  {
   "cell_type": "markdown",
   "metadata": {},
   "source": [
    "<a id=\"task4\"></a>\n",
    "<h3> Task 4 </h3>\n",
    "\n",
    "For each one of the discussed 4 phase gates construct the following circuit:\n",
    "\n",
    "<ul>\n",
    "    <li>Create a circuit with one qubit,</li>\n",
    "    <li>apply Hadamard operator,</li>\n",
    "    <li>apply the corresponding phase operator,</li>\n",
    "    <li>apply Hadamard operator,</li>\n",
    "    <li>make a measurement.</li>\n",
    "</ul>\n",
    "\n",
    "Guess the measurement outcome in each case before executing the code."
   ]
  },
  {
   "cell_type": "markdown",
   "metadata": {},
   "source": [
    "<h3> Solution </h3>"
   ]
  },
  {
   "cell_type": "code",
   "execution_count": 5,
   "metadata": {},
   "outputs": [
    {
     "name": "stdout",
     "output_type": "stream",
     "text": [
      "{'1': 4961, '0': 5039}\n"
     ]
    },
    {
     "data": {
      "image/png": "[encoded data removed]",
      "text/plain": [
       "<Figure size 340.523x144.48 with 1 Axes>"
      ]
     },
     "execution_count": 5,
     "metadata": {},
     "output_type": "execute_result"
    },
    {
     "data": {
      "image/png": "[encoded data removed]",
      "text/plain": [
       "<Figure size 340.523x144.48 with 1 Axes>"
      ]
     },
     "metadata": {},
     "output_type": "display_data"
    }
   ],
   "source": [
    "from qiskit import QuantumRegister, ClassicalRegister, QuantumCircuit, execute, Aer\n",
    "\n",
    "qreg =  QuantumRegister(1)\n",
    "creg = ClassicalRegister(1)\n",
    "mycircuit = QuantumCircuit(qreg,creg)\n",
    "\n",
    "mycircuit.h(qreg[0])\n",
    "# s-gate\n",
    "mycircuit.s(qreg[0])\n",
    "mycircuit.h(qreg[0])\n",
    "\n",
    "mycircuit.measure(qreg,creg)\n",
    "\n",
    "job = execute(mycircuit,Aer.get_backend('qasm_simulator'),shots=10000)\n",
    "counts = job.result().get_counts(mycircuit)\n",
    "print(counts) # print the outcomes\n",
    "\n",
    "mycircuit.draw(output='mpl')"
   ]
  },
  {
   "cell_type": "code",
   "execution_count": 6,
   "metadata": {},
   "outputs": [
    {
     "name": "stdout",
     "output_type": "stream",
     "text": [
      "{'1': 1512, '0': 8488}\n"
     ]
    },
    {
     "data": {
      "image/png": "[encoded data removed]",
      "text/plain": [
       "<Figure size 340.233x144.48 with 1 Axes>"
      ]
     },
     "execution_count": 6,
     "metadata": {},
     "output_type": "execute_result"
    },
    {
     "data": {
      "image/png": "[encoded data removed]",
      "text/plain": [
       "<Figure size 340.233x144.48 with 1 Axes>"
      ]
     },
     "metadata": {},
     "output_type": "display_data"
    }
   ],
   "source": [
    "from qiskit import QuantumRegister, ClassicalRegister, QuantumCircuit, execute, Aer\n",
    "\n",
    "qreg =  QuantumRegister(1)\n",
    "creg = ClassicalRegister(1)\n",
    "mycircuit = QuantumCircuit(qreg,creg)\n",
    "\n",
    "mycircuit.h(qreg[0])\n",
    "# t-gate\n",
    "mycircuit.t(qreg[0])\n",
    "mycircuit.h(qreg[0])\n",
    "\n",
    "mycircuit.measure(qreg,creg)\n",
    "\n",
    "job = execute(mycircuit,Aer.get_backend('qasm_simulator'),shots=10000)\n",
    "counts = job.result().get_counts(mycircuit)\n",
    "print(counts) # print the outcomes\n",
    "\n",
    "mycircuit.draw(output='mpl')"
   ]
  },
  {
   "cell_type": "code",
   "execution_count": 7,
   "metadata": {},
   "outputs": [
    {
     "name": "stdout",
     "output_type": "stream",
     "text": [
      "{'0': 5062, '1': 4938}\n"
     ]
    },
    {
     "data": {
      "image/png": "[encoded data removed]",
      "text/plain": [
       "<Figure size 340.669x144.48 with 1 Axes>"
      ]
     },
     "execution_count": 7,
     "metadata": {},
     "output_type": "execute_result"
    },
    {
     "data": {
      "image/png": "[encoded data removed]",
      "text/plain": [
       "<Figure size 340.669x144.48 with 1 Axes>"
      ]
     },
     "metadata": {},
     "output_type": "display_data"
    }
   ],
   "source": [
    "from qiskit import QuantumRegister, ClassicalRegister, QuantumCircuit, execute, Aer\n",
    "\n",
    "qreg =  QuantumRegister(1)\n",
    "creg = ClassicalRegister(1)\n",
    "mycircuit = QuantumCircuit(qreg,creg)\n",
    "\n",
    "mycircuit.h(qreg[0])\n",
    "# sdg-gate\n",
    "mycircuit.sdg(qreg[0])\n",
    "mycircuit.h(qreg[0])\n",
    "\n",
    "mycircuit.measure(qreg,creg)\n",
    "\n",
    "job = execute(mycircuit,Aer.get_backend('qasm_simulator'),shots=10000)\n",
    "counts = job.result().get_counts(mycircuit)\n",
    "print(counts) # print the outcomes\n",
    "\n",
    "mycircuit.draw(output='mpl')"
   ]
  },
  {
   "cell_type": "code",
   "execution_count": 8,
   "metadata": {},
   "outputs": [
    {
     "name": "stdout",
     "output_type": "stream",
     "text": [
      "{'1': 1394, '0': 8606}\n"
     ]
    },
    {
     "data": {
      "image/png": "[encoded data removed]",
      "text/plain": [
       "<Figure size 340.523x144.48 with 1 Axes>"
      ]
     },
     "execution_count": 8,
     "metadata": {},
     "output_type": "execute_result"
    },
    {
     "data": {
      "image/png": "[encoded data removed]",
      "text/plain": [
       "<Figure size 340.523x144.48 with 1 Axes>"
      ]
     },
     "metadata": {},
     "output_type": "display_data"
    }
   ],
   "source": [
    "from qiskit import QuantumRegister, ClassicalRegister, QuantumCircuit, execute, Aer\n",
    "\n",
    "qreg =  QuantumRegister(1)\n",
    "creg = ClassicalRegister(1)\n",
    "mycircuit = QuantumCircuit(qreg,creg)\n",
    "\n",
    "mycircuit.h(qreg[0])\n",
    "# tdg-gate\n",
    "mycircuit.tdg(qreg[0])\n",
    "mycircuit.h(qreg[0])\n",
    "\n",
    "mycircuit.measure(qreg,creg)\n",
    "\n",
    "job = execute(mycircuit,Aer.get_backend('qasm_simulator'),shots=10000)\n",
    "counts = job.result().get_counts(mycircuit)\n",
    "print(counts) # print the outcomes\n",
    "\n",
    "mycircuit.draw(output='mpl')"
   ]
  },
  {
   "cell_type": "markdown",
   "metadata": {},
   "source": [
    "\n",
    "<a id=\"task5\"></a>\n",
    "<h3> Task 5 </h3>\n",
    "\n",
    "Repeat previous experiment for different number of $\\qgate{H}$-gates and $\\qgate{T}$-gates, but this time applying them in opposite order: first $\\qgate{H}$ and then $\\qgate{T}$."
   ]
  },
  {
   "cell_type": "markdown",
   "metadata": {},
   "source": [
    "<h3> Solution </h3>"
   ]
  },
  {
   "cell_type": "code",
   "execution_count": 10,
   "metadata": {},
   "outputs": [
    {
     "name": "stdout",
     "output_type": "stream",
     "text": [
      "gates applied 0 times, outcome: {'0': 10000}\n",
      "gates applied 1 times, outcome: {'0': 4975, '1': 5025}\n",
      "gates applied 2 times, outcome: {'1': 1451, '0': 8549}\n",
      "gates applied 3 times, outcome: {'1': 2440, '0': 7560}\n",
      "gates applied 4 times, outcome: {'0': 5688, '1': 4312}\n",
      "gates applied 5 times, outcome: {'1': 219, '0': 9781}\n",
      "gates applied 6 times, outcome: {'1': 5376, '0': 4624}\n",
      "gates applied 7 times, outcome: {'1': 619, '0': 9381}\n",
      "gates applied 8 times, outcome: {'1': 3559, '0': 6441}\n",
      "gates applied 9 times, outcome: {'0': 6675, '1': 3325}\n",
      "gates applied 10 times, outcome: {'1': 825, '0': 9175}\n",
      "gates applied 11 times, outcome: {'1': 5210, '0': 4790}\n",
      "gates applied 12 times, outcome: {'1': 107, '0': 9893}\n",
      "gates applied 13 times, outcome: {'1': 4508, '0': 5492}\n",
      "gates applied 14 times, outcome: {'1': 2249, '0': 7751}\n",
      "gates applied 15 times, outcome: {'1': 1670, '0': 8330}\n",
      "gates applied 16 times, outcome: {'1': 4807, '0': 5193}\n",
      "gates applied 17 times, outcome: {'1': 17, '0': 9983}\n",
      "gates applied 18 times, outcome: {'0': 4770, '1': 5230}\n",
      "gates applied 19 times, outcome: {'1': 1222, '0': 8778}\n",
      "gates applied 20 times, outcome: {'1': 2838, '0': 7162}\n",
      "gates applied 21 times, outcome: {'1': 3994, '0': 6006}\n",
      "gates applied 22 times, outcome: {'1': 312, '0': 9688}\n",
      "gates applied 23 times, outcome: {'0': 4644, '1': 5356}\n",
      "gates applied 24 times, outcome: {'1': 450, '0': 9550}\n"
     ]
    }
   ],
   "source": [
    "from qiskit import QuantumRegister, ClassicalRegister, QuantumCircuit, execute, Aer\n",
    "\n",
    "for i in range(25):\n",
    "    qreg =  QuantumRegister(1)\n",
    "    creg = ClassicalRegister(1)\n",
    "    mycircuit = QuantumCircuit(qreg,creg)\n",
    "    for j in range(i):\n",
    "        mycircuit.h(qreg[0])\n",
    "        mycircuit.t(qreg[0])\n",
    "    mycircuit.measure(qreg,creg)\n",
    "\n",
    "    job = execute(mycircuit,Aer.get_backend('qasm_simulator'),shots=10000)\n",
    "    counts = job.result().get_counts(mycircuit)\n",
    "    print('gates applied',i,'times, outcome:',counts) # print the outcomes"
   ]
  },
  {
   "cell_type": "markdown",
   "metadata": {},
   "source": [
    "<a id=\"task6\"></a>\n",
    "<h3> Task 6 (discussion) </h3>\n",
    "\n",
    "Why do the outcomes repeat after several iterations?"
   ]
  },
  {
   "cell_type": "markdown",
   "metadata": {},
   "source": [
    "<h3> Solution </h3>"
   ]
  },
  {
   "cell_type": "markdown",
   "metadata": {},
   "source": [
    "We have $(\\qgate{HTH})^n$ for some $n$. As a result we have $\\qgate{H T HH T HH T} \\cdots \\qgate{HH T H}$, and $\\qgate{HH} = \\qgate{I}$, so in result $(\\qgate{HTH})^n = \\qgate{HT}^n\\qgate{H}$. Because $\\qgate{T}^8 = \\qgate{I}$, after 8 iterations outcomes repeat."
   ]
  }
 ],
 "metadata": {
  "kernelspec": {
   "display_name": "Python 3 (ipykernel)",
   "language": "python",
   "name": "python3"
  },
  "language_info": {
   "codemirror_mode": {
    "name": "ipython",
    "version": 3
   },
   "file_extension": ".py",
   "mimetype": "text/x-python",
   "name": "python",
   "nbconvert_exporter": "python",
   "pygments_lexer": "ipython3",
   "version": "3.8.10"
  }
 },
 "nbformat": 4,
 "nbformat_minor": 2
}
