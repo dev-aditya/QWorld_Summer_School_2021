{
 "cells": [
  {
   "cell_type": "markdown",
   "metadata": {},
   "source": [
    "<table align=\"left\"  width=\"100%\"> <tr>\n",
    "        <td  style=\"background-color:#ffffff;\">\n",
    "            <a href=\"http://qworld.lu.lv\" target=\"_blank\"><img src=\"../images/qworld.jpg\" width=\"35%\" align=\"left\"> </a></td>\n",
    "        <td style=\"background-color:#ffffff;vertical-align:bottom;text-align:right;\">\n",
    "            prepared by Maksim Dimitrijev (<a href=\"http://qworld.lu.lv/index.php/qlatvia/\" target=\"_blank\">QLatvia</a>)\n",
    "        </td>        \n",
    "</tr></table>"
   ]
  },
  {
   "cell_type": "markdown",
   "metadata": {},
   "source": [
    "<table width=\"100%\"><tr><td style=\"color:#bbbbbb;background-color:#ffffff;font-size:11px;font-style:italic;text-align:right;\">This cell contains some macros. If there is a problem with displaying mathematical formulas, please run this cell to load these macros. </td></tr></table>\n",
    "$ \\newcommand{\\bra}[1]{\\langle #1|} $\n",
    "$ \\newcommand{\\ket}[1]{|#1\\rangle} $\n",
    "$ \\newcommand{\\braket}[2]{\\langle #1|#2\\rangle} $\n",
    "$ \\newcommand{\\dot}[2]{ #1 \\cdot #2} $\n",
    "$ \\newcommand{\\biginner}[2]{\\left\\langle #1,#2\\right\\rangle} $\n",
    "$ \\newcommand{\\mymatrix}[2]{\\left( \\begin{array}{#1} #2\\end{array} \\right)} $\n",
    "$ \\newcommand{\\myvector}[1]{\\mymatrix{c}{#1}} $\n",
    "$ \\newcommand{\\myrvector}[1]{\\mymatrix{r}{#1}} $\n",
    "$ \\newcommand{\\mypar}[1]{\\left( #1 \\right)} $\n",
    "$ \\newcommand{\\mybigpar}[1]{ \\Big( #1 \\Big)} $\n",
    "$ \\newcommand{\\sqrttwo}{\\frac{1}{\\sqrt{2}}} $\n",
    "$ \\newcommand{\\dsqrttwo}{\\dfrac{1}{\\sqrt{2}}} $\n",
    "$ \\newcommand{\\onehalf}{\\frac{1}{2}} $\n",
    "$ \\newcommand{\\donehalf}{\\dfrac{1}{2}} $\n",
    "$ \\newcommand{\\hadamard}{ \\mymatrix{rr}{ \\sqrttwo & \\sqrttwo \\\\ \\sqrttwo & -\\sqrttwo }} $\n",
    "$ \\newcommand{\\vzero}{\\myvector{1\\\\0}} $\n",
    "$ \\newcommand{\\vone}{\\myvector{0\\\\1}} $\n",
    "$ \\newcommand{\\stateplus}{\\myvector{ \\sqrttwo \\\\  \\sqrttwo } } $\n",
    "$ \\newcommand{\\stateminus}{ \\myrvector{ \\sqrttwo \\\\ -\\sqrttwo } } $\n",
    "$ \\newcommand{\\myarray}[2]{ \\begin{array}{#1}#2\\end{array}} $\n",
    "$ \\newcommand{\\X}{ \\mymatrix{cc}{0 & 1 \\\\ 1 & 0}  } $\n",
    "$ \\newcommand{\\Z}{ \\mymatrix{rr}{1 & 0 \\\\ 0 & -1}  } $\n",
    "$ \\newcommand{\\Htwo}{ \\mymatrix{rrrr}{ \\frac{1}{2} & \\frac{1}{2} & \\frac{1}{2} & \\frac{1}{2} \\\\ \\frac{1}{2} & -\\frac{1}{2} & \\frac{1}{2} & -\\frac{1}{2} \\\\ \\frac{1}{2} & \\frac{1}{2} & -\\frac{1}{2} & -\\frac{1}{2} \\\\ \\frac{1}{2} & -\\frac{1}{2} & -\\frac{1}{2} & \\frac{1}{2} } } $\n",
    "$ \\newcommand{\\CNOT}{ \\mymatrix{cccc}{1 & 0 & 0 & 0 \\\\ 0 & 1 & 0 & 0 \\\\ 0 & 0 & 0 & 1 \\\\ 0 & 0 & 1 & 0} } $\n",
    "$ \\newcommand{\\norm}[1]{ \\left\\lVert #1 \\right\\rVert } $\n",
    "$ \\newcommand{\\pstate}[1]{ \\lceil \\mspace{-1mu} #1 \\mspace{-1.5mu} \\rfloor } $\n",
    "$ \\newcommand{\\Y}{ \\mymatrix{rr}{0 & -i \\\\ i & 0} } $ $ \\newcommand{\\S}{ \\mymatrix{rr}{1 & 0 \\\\ 0 & i} } $ \n",
    "$ \\newcommand{\\T}{ \\mymatrix{rr}{1 & 0 \\\\ 0 & e^{i \\frac{pi}{4}}} } $ \n",
    "$ \\newcommand{\\Sdg}{ \\mymatrix{rr}{1 & 0 \\\\ 0 & -i} } $ \n",
    "$ \\newcommand{\\Tdg}{ \\mymatrix{rr}{1 & 0 \\\\ 0 & e^{-i \\frac{pi}{4}}} } $\n",
    "$ \\newcommand{\\qgate}[1]{ \\mathop{\\textit{#1} } }$"
   ]
  },
  {
   "cell_type": "markdown",
   "metadata": {},
   "source": [
    "<h1> <font color=\"blue\"> Solutions for </font> Operations on a Bloch sphere </h1>"
   ]
  },
  {
   "cell_type": "code",
   "execution_count": 1,
   "metadata": {},
   "outputs": [],
   "source": [
    "# Import necessary libraries once.\n",
    "from qiskit import QuantumRegister, ClassicalRegister, QuantumCircuit, execute, Aer\n",
    "from math import pi, cos, sin\n",
    "from numpy import arcsin\n",
    "from qiskit.visualization import plot_bloch_vector, bloch\n",
    "from matplotlib.pyplot import text\n",
    "from qutip import *"
   ]
  },
  {
   "cell_type": "markdown",
   "metadata": {},
   "source": [
    "<a id=\"task2\"></a>\n",
    "<h3> Task 2 </h3>\n",
    "\n",
    "For which states the application of $\\qgate{RZ}$ do not change the state? Test them with the code, by trying also different angles for $\\qgate{RZ}$ rotation."
   ]
  },
  {
   "cell_type": "markdown",
   "metadata": {},
   "source": [
    "<h3> Solution </h3>"
   ]
  },
  {
   "cell_type": "markdown",
   "metadata": {},
   "source": [
    "The mentioned property holds for states that are located on z-axis. Namely: states $\\ket{0}$ and $\\ket{1}$."
   ]
  },
  {
   "cell_type": "code",
   "execution_count": null,
   "metadata": {},
   "outputs": [],
   "source": [
    "qreg =  QuantumRegister(1)\n",
    "creg = ClassicalRegister(1)\n",
    "mycircuit = QuantumCircuit(qreg,creg)\n",
    "\n",
    "# Try to create initial state here:\n",
    "\n",
    "# Apply Rz with different angles to see that you found the needed state.\n",
    "mycircuit.rz(pi/2, qreg[0])\n",
    "\n",
    "job = execute(mycircuit,Aer.get_backend('statevector_simulator'),optimization_level=0)\n",
    "current_quantum_state=job.result().get_statevector(mycircuit)\n",
    "\n",
    "%run quantum.py\n",
    "angles = state_to_angles(current_quantum_state)\n",
    "\n",
    "%run drawing.py\n",
    "draw_bloch(angles[0], angles[1])"
   ]
  },
  {
   "cell_type": "markdown",
   "metadata": {},
   "source": [
    "<a id=\"task3\"></a>\n",
    "<h3> Task 3 </h3>\n",
    "\n",
    "For which states the application of $\\qgate{RY}$ do not change the state? Test them with the code, by trying also different angles for $\\qgate{RY}$ rotation."
   ]
  },
  {
   "cell_type": "markdown",
   "metadata": {},
   "source": [
    "<h3> Solution </h3>"
   ]
  },
  {
   "cell_type": "markdown",
   "metadata": {},
   "source": [
    "The mentioned property holds for states that are located on y-axis. Namely: states $\\frac{1}{\\sqrt{2}} (\\ket{0} + i\\ket{1})$ and $\\frac{1}{\\sqrt{2}} (\\ket{0} - i\\ket{1})$."
   ]
  },
  {
   "cell_type": "code",
   "execution_count": null,
   "metadata": {},
   "outputs": [],
   "source": [
    "qreg =  QuantumRegister(1)\n",
    "creg = ClassicalRegister(1)\n",
    "mycircuit = QuantumCircuit(qreg,creg)\n",
    "\n",
    "# Try to create initial state here:\n",
    "mycircuit.h(qreg[0])\n",
    "mycircuit.s(qreg[0])\n",
    "\n",
    "# Apply Ry with different angles to see that you found the needed state.\n",
    "mycircuit.ry(pi/3, qreg[0])\n",
    "\n",
    "job = execute(mycircuit,Aer.get_backend('statevector_simulator'),optimization_level=0)\n",
    "current_quantum_state=job.result().get_statevector(mycircuit)\n",
    "\n",
    "%run quantum.py\n",
    "angles = state_to_angles(current_quantum_state)\n",
    "\n",
    "%run drawing.py\n",
    "draw_bloch(angles[0], angles[1])"
   ]
  },
  {
   "cell_type": "markdown",
   "metadata": {},
   "source": [
    "<a id=\"task4\"></a>\n",
    "<h3> Task 4 </h3>\n",
    "\n",
    "For which states the application of $\\qgate{RX}$ do not change the state? Test them with the code, by trying also different angles for $\\qgate{RX}$ rotation."
   ]
  },
  {
   "cell_type": "markdown",
   "metadata": {},
   "source": [
    "<h3> Solution </h3>"
   ]
  },
  {
   "cell_type": "markdown",
   "metadata": {},
   "source": [
    "The mentioned property holds for states that are located on x-axis. Namely: states $\\frac{1}{\\sqrt{2}} (\\ket{0} + \\ket{1})$ and $\\frac{1}{\\sqrt{2}} (\\ket{0} - \\ket{1})$."
   ]
  },
  {
   "cell_type": "code",
   "execution_count": null,
   "metadata": {},
   "outputs": [],
   "source": [
    "qreg =  QuantumRegister(1)\n",
    "creg = ClassicalRegister(1)\n",
    "mycircuit = QuantumCircuit(qreg,creg)\n",
    "\n",
    "# Try to create initial state here:\n",
    "mycircuit.h(qreg[0])\n",
    "\n",
    "# Apply Ry with different angles to see that you found the needed state.\n",
    "mycircuit.rx(pi/3, qreg[0])\n",
    "\n",
    "job = execute(mycircuit,Aer.get_backend('statevector_simulator'),optimization_level=0)\n",
    "current_quantum_state=job.result().get_statevector(mycircuit)\n",
    "\n",
    "%run quantum.py\n",
    "angles = state_to_angles(current_quantum_state)\n",
    "\n",
    "%run drawing.py\n",
    "draw_bloch(angles[0], angles[1])"
   ]
  },
  {
   "cell_type": "markdown",
   "metadata": {},
   "source": [
    "<a id=\"task5\"></a>\n",
    "<h3> Task 5 </h3>\n",
    "\n",
    "What are the possible states that can be obtained from state $\\ket{0}$ by using only gates $\\qgate{X}$, $\\qgate{Y}$, $\\qgate{Z}$?\n",
    "\n",
    "What are the possible states that can be obtained from state $\\frac{1}{\\sqrt{2}} (\\ket{0} + \\ket{1})$ by using only gates $\\qgate{X}$, $\\qgate{Y}$, $\\qgate{Z}$?\n",
    "\n",
    "You can also try checking this by writing the code."
   ]
  },
  {
   "cell_type": "markdown",
   "metadata": {},
   "source": [
    "<h3> Solution </h3>"
   ]
  },
  {
   "cell_type": "markdown",
   "metadata": {},
   "source": [
    "From state $\\ket{0}$ we only get states $\\ket{0}$ and $\\ket{1}$, with different global phases (e.g., $-i\\ket{0}$, which is still $\\ket{0}$).\n",
    "\n",
    "From state $\\frac{1}{\\sqrt{2}} (\\ket{0} + \\ket{1})$ we can only get to states $\\frac{1}{\\sqrt{2}} (\\ket{0} + \\ket{1})$ and $\\frac{1}{\\sqrt{2}} (\\ket{0} - \\ket{1})$, with different global phases (e.g., $\\frac{1}{\\sqrt{2}} (-i\\ket{0} + i\\ket{1}) = -i\\frac{1}{\\sqrt{2}} (\\ket{0} - \\ket{1})$)."
   ]
  },
  {
   "cell_type": "code",
   "execution_count": null,
   "metadata": {},
   "outputs": [],
   "source": [
    "qreg =  QuantumRegister(1)\n",
    "creg = ClassicalRegister(1)\n",
    "mycircuit = QuantumCircuit(qreg,creg)\n",
    "\n",
    "mycircuit.h(qreg[0])\n",
    "mycircuit.y(qreg[0])\n",
    "\n",
    "job = execute(mycircuit,Aer.get_backend('statevector_simulator'),optimization_level=0)\n",
    "current_quantum_state=job.result().get_statevector(mycircuit)\n",
    "print(current_quantum_state)"
   ]
  },
  {
   "cell_type": "markdown",
   "metadata": {},
   "source": [
    "<a id=\"task7\"></a>\n",
    "<h3> Task 7 </h3>\n",
    "\n",
    "Suppose that we begin in state $\\ket{0}$ and have only the following gates available: $\\qgate{X}$, $\\qgate{Y}$, $\\qgate{Z}$, $\\qgate{H}$, $\\qgate{S}$, $\\qgate{S}^\\dagger$. How many different states can we reach with all possible combinations of mentioned gates?"
   ]
  },
  {
   "cell_type": "markdown",
   "metadata": {},
   "source": [
    "<h3> Solution </h3>"
   ]
  },
  {
   "cell_type": "markdown",
   "metadata": {},
   "source": [
    "With mentioned gates we can only get all states, located on poles of all 3 axes: $\\ket{0}$, $\\ket{1}$, $\\frac{1}{\\sqrt{2}} (\\ket{0} + \\ket{1})$, $\\frac{1}{\\sqrt{2}} (\\ket{0} + i \\ket{1})$, $\\frac{1}{\\sqrt{2}} (\\ket{0} - \\ket{1})$, $\\frac{1}{\\sqrt{2}} (\\ket{0} - i \\ket{1})$ (with possible different global phases)."
   ]
  },
  {
   "cell_type": "markdown",
   "metadata": {},
   "source": [
    "<a id=\"task8\"></a>\n",
    "<h3> Task 8 </h3>\n",
    "\n",
    "Reach state $\\ket{1}$ by using only $\\qgate{H}$-gates and $\\qgate{T}$-gates."
   ]
  },
  {
   "cell_type": "markdown",
   "metadata": {},
   "source": [
    "<h3> Solution </h3>"
   ]
  },
  {
   "cell_type": "code",
   "execution_count": null,
   "metadata": {},
   "outputs": [],
   "source": [
    "qreg =  QuantumRegister(1)\n",
    "creg = ClassicalRegister(1)\n",
    "mycircuit = QuantumCircuit(qreg,creg)\n",
    "\n",
    "mycircuit.h(qreg[0])\n",
    "mycircuit.t(qreg[0])\n",
    "mycircuit.t(qreg[0])\n",
    "mycircuit.t(qreg[0])\n",
    "mycircuit.t(qreg[0])\n",
    "mycircuit.h(qreg[0])\n",
    "\n",
    "job = execute(mycircuit,Aer.get_backend('statevector_simulator'),optimization_level=0)\n",
    "current_quantum_state=job.result().get_statevector(mycircuit)\n",
    "\n",
    "%run quantum.py\n",
    "angles = state_to_angles(current_quantum_state)\n",
    "\n",
    "%run drawing.py\n",
    "draw_bloch(angles[0], angles[1])"
   ]
  },
  {
   "cell_type": "markdown",
   "metadata": {},
   "source": [
    "<a id=\"task9\"></a>\n",
    "<h3> Task 9 (optional) </h3>\n",
    "\n",
    "For each of the following well-known operations, write down the sequence of $\\qgate{H}$-gates and $\\qgate{T}$-gates that replaces it:\n",
    "\n",
    "<ul>\n",
    "    <li>$\\qgate{X}$-gate</li>\n",
    "    <li>$\\qgate{Z}$-gate</li>\n",
    "    <li>$\\qgate{Y}$-gate</li>\n",
    "    <li>$\\qgate{S}$-gate</li>\n",
    "</ul>"
   ]
  },
  {
   "cell_type": "markdown",
   "metadata": {},
   "source": [
    "<h3> Solution </h3>"
   ]
  },
  {
   "cell_type": "markdown",
   "metadata": {},
   "source": [
    "$\\qgate{X} = \\qgate{HZH} = \\qgate{HTTTTH}$\n",
    "\n",
    "$\\qgate{Z} = \\qgate{SS} = \\qgate{TTTT}$\n",
    "\n",
    "$\\qgate{Y} = \\qgate{SXS}^{\\dagger} = \\qgate{SXSSS} = \\qgate{SHTTTTHSSS}$\n",
    "\n",
    "$\\qgate{S} = \\qgate{TT}$\n"
   ]
  },
  {
   "cell_type": "markdown",
   "metadata": {},
   "source": [
    "<a id=\"task10\"></a>\n",
    "<h3> Task 10 (optional) </h3>\n",
    "\n",
    "Reach the state, such that applying $\\qgate{H}$-gate does not change the state. Such state is the axis, around which $\\qgate{H}$-gate performs a rotation.\n",
    "\n",
    "Can you reach also the opposite end of this axis?"
   ]
  },
  {
   "cell_type": "markdown",
   "metadata": {},
   "source": [
    "<h3> Solution </h3>"
   ]
  },
  {
   "cell_type": "code",
   "execution_count": null,
   "metadata": {},
   "outputs": [],
   "source": [
    "qreg =  QuantumRegister(1)\n",
    "creg = ClassicalRegister(1)\n",
    "mycircuit = QuantumCircuit(qreg,creg)\n",
    "\n",
    "# To reach Hadamard axis\n",
    "mycircuit.h(qreg[0])\n",
    "mycircuit.t(qreg[0])\n",
    "mycircuit.h(qreg[0])\n",
    "mycircuit.t(qreg[0])\n",
    "mycircuit.t(qreg[0])\n",
    "\n",
    "# Uncomment to reach the opposite end\n",
    "#mycircuit.h(qreg[0])\n",
    "#mycircuit.z(qreg[0])\n",
    "#mycircuit.h(qreg[0])\n",
    "#mycircuit.z(qreg[0])\n",
    "\n",
    "job = execute(mycircuit,Aer.get_backend('statevector_simulator'),optimization_level=0)\n",
    "current_quantum_state=job.result().get_statevector(mycircuit)\n",
    "\n",
    "%run quantum.py\n",
    "angles = state_to_angles(current_quantum_state)\n",
    "\n",
    "%run drawing.py\n",
    "draw_bloch(angles[0], angles[1])"
   ]
  },
  {
   "cell_type": "markdown",
   "metadata": {},
   "source": [
    "<a id=\"task11\"></a>\n",
    "<h3> Task 11 (optional) </h3>\n",
    "\n",
    "Try to get as close as possible to the state $\\ket{0}$ with $\\qgate{H}$-gates and $\\qgate{T}$-gates, but not exactly to the state $\\ket{0}$.\n",
    "\n",
    "Do you know the combination of $\\qgate{H}$-gates and $\\qgate{T}$-gates, that will transform this state to the state, which is very close to the state $\\ket{1}$?"
   ]
  },
  {
   "cell_type": "markdown",
   "metadata": {},
   "source": [
    "<h3> Solution </h3>"
   ]
  },
  {
   "cell_type": "code",
   "execution_count": null,
   "metadata": {},
   "outputs": [],
   "source": [
    "qreg =  QuantumRegister(1)\n",
    "creg = ClassicalRegister(1)\n",
    "mycircuit = QuantumCircuit(qreg,creg)\n",
    "\n",
    "# To get close to the state |0>\n",
    "for i in range(17):\n",
    "    mycircuit.t(qreg[0])\n",
    "    mycircuit.h(qreg[0])\n",
    "\n",
    "#x-gate to get to the state |1>\n",
    "mycircuit.h(qreg[0])\n",
    "mycircuit.t(qreg[0])\n",
    "mycircuit.t(qreg[0])\n",
    "mycircuit.t(qreg[0])\n",
    "mycircuit.t(qreg[0])\n",
    "mycircuit.h(qreg[0])\n",
    "\n",
    "job = execute(mycircuit,Aer.get_backend('statevector_simulator'),optimization_level=0)\n",
    "current_quantum_state=job.result().get_statevector(mycircuit)\n",
    "\n",
    "%run quantum.py\n",
    "angles = state_to_angles(current_quantum_state)\n",
    "\n",
    "%run drawing.py\n",
    "draw_bloch(angles[0], angles[1])"
   ]
  },
  {
   "cell_type": "markdown",
   "metadata": {},
   "source": [
    "<a id=\"task12\"></a>\n",
    "<h3> Task 12 (optional)</h3>\n",
    "\n",
    "Another way to have universal operations on a qubit is to have rotations available by two axes by any angles. Show how to replace rotation by z-axis with rotations by x-axis and y-axis. You can use the code to do testing.\n",
    "\n",
    "If you managed to get the idea, try to:\n",
    "<ul>\n",
    "    <li>replace rotation by x-axis with rotations by y-axis and z-axis;</li>\n",
    "    <li>replace rotation by y-axis with rotations by x-axis and z-axis.</li>\n",
    "</ul>"
   ]
  },
  {
   "cell_type": "markdown",
   "metadata": {},
   "source": [
    "<h3> Solution </h3>"
   ]
  },
  {
   "cell_type": "markdown",
   "metadata": {},
   "source": [
    "To rotate by $\\theta$ on z-axis, you need to rotate by $\\theta$ on x-axis, and then by $\\theta$ on y-axis. Other two axes have similar principle.\n",
    "\n",
    "To rotate by $\\theta$ on x-axis, you need to rotate by $\\theta$ on y-axis, and then by $\\theta$ on z-axis.\n",
    "\n",
    "To rotate by $\\theta$ on y-axis, you need to rotate by $\\theta$ on x-axis, and then by $\\theta$ on z-axis."
   ]
  },
  {
   "cell_type": "code",
   "execution_count": 9,
   "metadata": {},
   "outputs": [
    {
     "data": {
      "image/png": "[encoded data removed]",
      "text/plain": [
       "<Figure size 360x360 with 1 Axes>"
      ]
     },
     "metadata": {},
     "output_type": "display_data"
    }
   ],
   "source": [
    "qreg =  QuantumRegister(1)\n",
    "creg = ClassicalRegister(1)\n",
    "mycircuit = QuantumCircuit(qreg,creg)\n",
    "\n",
    "#mycircuit.rx(pi/2, qreg[0])\n",
    "#mycircuit.ry(pi/2, qreg[0])\n",
    "#mycircuit.rz(pi/2, qreg[0])\n",
    "\n",
    "job = execute(mycircuit,Aer.get_backend('statevector_simulator'),optimization_level=0)\n",
    "current_quantum_state=job.result().get_statevector(mycircuit)\n",
    "\n",
    "%run quantum.py\n",
    "angles = state_to_angles(current_quantum_state)\n",
    "\n",
    "%run drawing.py\n",
    "draw_bloch(angles[0], angles[1])"
   ]
  },
  {
   "cell_type": "markdown",
   "metadata": {},
   "source": [
    "<a id=\"task13\"></a>\n",
    "<h3> Task 13 (optional, challenging)</h3>\n",
    "\n",
    "Develop a method that allows to reach any different angle $\\theta$ from state $\\ket{0}$ with $\\qgate{H}$-gates and $\\qgate{T}$-gates. For this purpose you can create a function, that takes $\\theta$ as a parameter, and returns sequence of $\\qgate{H}$-gates and $\\qgate{T}$-gates to reach such state.\n",
    "\n",
    "Try to reach some different angles first, like 45 degrees, 22.5 degrees, 11.25 degrees, angles between them."
   ]
  },
  {
   "cell_type": "markdown",
   "metadata": {},
   "source": [
    "<h3> Solution </h3>"
   ]
  },
  {
   "cell_type": "code",
   "execution_count": null,
   "metadata": {},
   "outputs": [],
   "source": [
    "qreg =  QuantumRegister(1)\n",
    "creg = ClassicalRegister(1)\n",
    "mycircuit = QuantumCircuit(qreg,creg)\n",
    "\n",
    "# Reach 90 degrees\n",
    "mycircuit.h(qreg[0])\n",
    "# Reach 45 degrees\n",
    "mycircuit.t(qreg[0])\n",
    "mycircuit.h(qreg[0])\n",
    "mycircuit.t(qreg[0])\n",
    "mycircuit.t(qreg[0])\n",
    "\n",
    "job = execute(mycircuit,Aer.get_backend('statevector_simulator'),optimization_level=0)\n",
    "current_quantum_state=job.result().get_statevector(mycircuit)\n",
    "\n",
    "%run quantum.py\n",
    "angles = state_to_angles(current_quantum_state)\n",
    "\n",
    "%run drawing.py\n",
    "draw_bloch(angles[0], angles[1])"
   ]
  }
 ],
 "metadata": {
  "kernelspec": {
   "display_name": "Python 3",
   "language": "python",
   "name": "python3"
  },
  "language_info": {
   "codemirror_mode": {
    "name": "ipython",
    "version": 3
   },
   "file_extension": ".py",
   "mimetype": "text/x-python",
   "name": "python",
   "nbconvert_exporter": "python",
   "pygments_lexer": "ipython3",
   "version": "3.7.3"
  }
 },
 "nbformat": 4,
 "nbformat_minor": 2
}
