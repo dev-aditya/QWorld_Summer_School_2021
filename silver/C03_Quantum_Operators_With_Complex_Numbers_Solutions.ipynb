{
 "cells": [
  {
   "cell_type": "markdown",
   "metadata": {},
   "source": [
    "<table align=\"left\"  width=\"100%\"> <tr>\n",
    "        <td  style=\"background-color:#ffffff;\">\n",
    "            <a href=\"http://qworld.lu.lv\" target=\"_blank\"><img src=\"../images/qworld.jpg\" width=\"35%\" align=\"left\"> </a></td>\n",
    "        <td style=\"background-color:#ffffff;vertical-align:bottom;text-align:right;\">\n",
    "            prepared by Maksim Dimitrijev (<a href=\"http://qworld.lu.lv/index.php/qlatvia/\" target=\"_blank\">QLatvia</a>)\n",
    "        </td>        \n",
    "</tr></table>"
   ]
  },
  {
   "cell_type": "markdown",
   "metadata": {},
   "source": [
    "<table width=\"100%\"><tr><td style=\"color:#bbbbbb;background-color:#ffffff;font-size:11px;font-style:italic;text-align:right;\">This cell contains some macros. If there is a problem with displaying mathematical formulas, please run this cell to load these macros. </td></tr></table>\n",
    "$ \\newcommand{\\bra}[1]{\\langle #1|} $\n",
    "$ \\newcommand{\\ket}[1]{|#1\\rangle} $\n",
    "$ \\newcommand{\\braket}[2]{\\langle #1|#2\\rangle} $\n",
    "$ \\newcommand{\\dot}[2]{ #1 \\cdot #2} $\n",
    "$ \\newcommand{\\biginner}[2]{\\left\\langle #1,#2\\right\\rangle} $\n",
    "$ \\newcommand{\\mymatrix}[2]{\\left( \\begin{array}{#1} #2\\end{array} \\right)} $\n",
    "$ \\newcommand{\\myvector}[1]{\\mymatrix{c}{#1}} $\n",
    "$ \\newcommand{\\myrvector}[1]{\\mymatrix{r}{#1}} $\n",
    "$ \\newcommand{\\mypar}[1]{\\left( #1 \\right)} $\n",
    "$ \\newcommand{\\mybigpar}[1]{ \\Big( #1 \\Big)} $\n",
    "$ \\newcommand{\\sqrttwo}{\\frac{1}{\\sqrt{2}}} $\n",
    "$ \\newcommand{\\dsqrttwo}{\\dfrac{1}{\\sqrt{2}}} $\n",
    "$ \\newcommand{\\onehalf}{\\frac{1}{2}} $\n",
    "$ \\newcommand{\\donehalf}{\\dfrac{1}{2}} $\n",
    "$ \\newcommand{\\hadamard}{ \\mymatrix{rr}{ \\sqrttwo & \\sqrttwo \\\\ \\sqrttwo & -\\sqrttwo }} $\n",
    "$ \\newcommand{\\vzero}{\\myvector{1\\\\0}} $\n",
    "$ \\newcommand{\\vone}{\\myvector{0\\\\1}} $\n",
    "$ \\newcommand{\\stateplus}{\\myvector{ \\sqrttwo \\\\  \\sqrttwo } } $\n",
    "$ \\newcommand{\\stateminus}{ \\myrvector{ \\sqrttwo \\\\ -\\sqrttwo } } $\n",
    "$ \\newcommand{\\myarray}[2]{ \\begin{array}{#1}#2\\end{array}} $\n",
    "$ \\newcommand{\\X}{ \\mymatrix{cc}{0 & 1 \\\\ 1 & 0}  } $\n",
    "$ \\newcommand{\\Z}{ \\mymatrix{rr}{1 & 0 \\\\ 0 & -1}  } $\n",
    "$ \\newcommand{\\Htwo}{ \\mymatrix{rrrr}{ \\frac{1}{2} & \\frac{1}{2} & \\frac{1}{2} & \\frac{1}{2} \\\\ \\frac{1}{2} & -\\frac{1}{2} & \\frac{1}{2} & -\\frac{1}{2} \\\\ \\frac{1}{2} & \\frac{1}{2} & -\\frac{1}{2} & -\\frac{1}{2} \\\\ \\frac{1}{2} & -\\frac{1}{2} & -\\frac{1}{2} & \\frac{1}{2} } } $\n",
    "$ \\newcommand{\\CNOT}{ \\mymatrix{cccc}{1 & 0 & 0 & 0 \\\\ 0 & 1 & 0 & 0 \\\\ 0 & 0 & 0 & 1 \\\\ 0 & 0 & 1 & 0} } $\n",
    "$ \\newcommand{\\norm}[1]{ \\left\\lVert #1 \\right\\rVert } $\n",
    "$ \\newcommand{\\pstate}[1]{ \\lceil \\mspace{-1mu} #1 \\mspace{-1.5mu} \\rfloor } $\n",
    "$ \\newcommand{\\Y}{ \\mymatrix{rr}{0 & -i \\\\ i & 0} } $ $ \\newcommand{\\S}{ \\mymatrix{rr}{1 & 0 \\\\ 0 & i} } $ \n",
    "$ \\newcommand{\\T}{ \\mymatrix{rr}{1 & 0 \\\\ 0 & e^{i \\frac{pi}{4}}} } $ \n",
    "$ \\newcommand{\\Sdg}{ \\mymatrix{rr}{1 & 0 \\\\ 0 & -i} } $ \n",
    "$ \\newcommand{\\Tdg}{ \\mymatrix{rr}{1 & 0 \\\\ 0 & e^{-i \\frac{pi}{4}}} } $\n"
   ]
  },
  {
   "cell_type": "markdown",
   "metadata": {},
   "source": [
    "<h1> <font color=\"blue\"> Solutions for </font> Quantum operators with complex numbers </h1>"
   ]
  },
  {
   "cell_type": "markdown",
   "metadata": {},
   "source": [
    "<a id=\"task1\"></a>\n",
    "<h3> Task 1 </h3>\n",
    "\n",
    "Verify that $Y^{\\dagger} = Y$ and that $YY = I$."
   ]
  },
  {
   "cell_type": "markdown",
   "metadata": {},
   "source": [
    "<h3> Solution </h3>"
   ]
  },
  {
   "cell_type": "markdown",
   "metadata": {},
   "source": [
    "$\\overline{i} = -i, \\overline{-i} = i$.\n",
    "\n",
    "$Y^{\\dagger} = \\Y.$\n",
    "\n",
    "$\\Y \\Y = \\mymatrix{cc}{0 \\cdot 0 + -i \\cdot i & 0 \\cdot -i + -i \\cdot 0 \\\\ i \\cdot 0 + 0 \\cdot i & i \\cdot -i + 0 \\cdot 0} = \\mymatrix{cc}{-i^2 & 0 \\\\ 0 & -i^2} = \\mymatrix{cc}{1 & 0 \\\\ 0 & 1}$."
   ]
  },
  {
   "cell_type": "markdown",
   "metadata": {},
   "source": [
    "<a id=\"task2\"></a>\n",
    "<h3> Task 2</h3>\n",
    "\n",
    "Randomly create a 2-dimensional quantum state, where both amplitudes are complex numbers (you can use your solution from previous notebook, Task 3). After that apply the mentioned operator to the generated state and verify that the resulting state is a valid quantum state.\n",
    "\n",
    "<b>Repeat several times:</b>\n",
    "<ul>\n",
    "    <li> Randomly pick a quantum state. </li>\n",
    "    <li> Apply the mentioned operator to the state. </li>\n",
    "    <li> Check whether the resulting quantum state is valid. </li>"
   ]
  },
  {
   "cell_type": "markdown",
   "metadata": {},
   "source": [
    "<h3> Solution </h3>"
   ]
  },
  {
   "cell_type": "code",
   "execution_count": null,
   "metadata": {},
   "outputs": [],
   "source": [
    "# %load random_complex_quantum_state.py\n",
    "from random import randrange\n",
    "def random_complex_quantum_state():\n",
    "    # quantum state \n",
    "    quantum_state=[0,0]\n",
    "    length_square = 0\n",
    "    while length_square == 0:\n",
    "        first_entry_real = randrange(-100,101)\n",
    "        first_entry_imag = randrange(-100,101)\n",
    "        second_entry_real = randrange(-100,101)\n",
    "        second_entry_imag = randrange(-100,101)\n",
    "        length_square = first_entry_real**2+first_entry_imag**2+second_entry_real**2+second_entry_imag**2\n",
    "    first_entry_real = first_entry_real / length_square**0.5\n",
    "    first_entry_imag = first_entry_imag / length_square**0.5\n",
    "    second_entry_real = second_entry_real / length_square**0.5\n",
    "    second_entry_imag = second_entry_imag / length_square**0.5\n",
    "    quantum_state[0] = complex(first_entry_real, first_entry_imag)\n",
    "    quantum_state[1] = complex(second_entry_real, second_entry_imag)\n",
    "    return quantum_state"
   ]
  },
  {
   "cell_type": "code",
   "execution_count": null,
   "metadata": {},
   "outputs": [],
   "source": [
    "# %load is_quantum_state.py\n",
    "# testing whether a given quantum state is valid\n",
    "def is_quantum_state(quantum_state):\n",
    "    length_square = 0\n",
    "    for i in range(len(quantum_state)):\n",
    "        length_square += abs(quantum_state[i])**2\n",
    "    print(\"summation of entry squares is\",length_square)\n",
    "    # there might be precision problem\n",
    "    # the length may be very close to 1 but not exactly 1\n",
    "    # so we use the following trick\n",
    "    if (length_square - 1)**2 < 0.00000001: return True \n",
    "    return False\n",
    "for i in range(10):\n",
    "    new_state = random_complex_quantum_state()\n",
    "    print(new_state)\n",
    "    print(\"Is it valid?\",is_quantum_state(new_state))\n"
   ]
  },
  {
   "cell_type": "code",
   "execution_count": null,
   "metadata": {},
   "outputs": [],
   "source": [
    "for i in range(10):\n",
    "    initial_state = random_complex_quantum_state()\n",
    "    new_state = [0,0]\n",
    "    new_state[0] = initial_state[0] * complex(1/2,1/2) + initial_state[1] * complex(1/2,-1/2)\n",
    "    new_state[1] = initial_state[0] * complex(1/2,-1/2) + initial_state[1] * complex(1/2,1/2)\n",
    "    print(new_state)\n",
    "    print(\"Is it valid?\",is_quantum_state(new_state))"
   ]
  },
  {
   "cell_type": "markdown",
   "metadata": {},
   "source": [
    "<a id=\"task3\"></a>\n",
    "<h3> Task 3</h3>\n",
    "\n",
    "Repeat Task 2, but with Hadamard operator. Note that you should load the necessary functions if you did not complete Task 2."
   ]
  },
  {
   "cell_type": "markdown",
   "metadata": {},
   "source": [
    "<h3> Solution </h3>"
   ]
  },
  {
   "cell_type": "code",
   "execution_count": null,
   "metadata": {},
   "outputs": [],
   "source": [
    "for i in range(10):\n",
    "    initial_state = random_complex_quantum_state()\n",
    "    new_state = [0,0]\n",
    "    new_state[0] = initial_state[0] * (1/(2**0.5)) + initial_state[1] * (1/(2**0.5))\n",
    "    new_state[1] = initial_state[0] * (1/(2**0.5)) + initial_state[1] * (-1/(2**0.5))\n",
    "    print(new_state)\n",
    "    print(\"Is it valid?\",is_quantum_state(new_state))"
   ]
  },
  {
   "cell_type": "markdown",
   "metadata": {},
   "source": [
    "<a id=\"task4\"></a>\n",
    "<h3> Task 4</h3>\n",
    "\n",
    "Repeat Task 2 with the following quantum operators. Note that you should load the necessary functions if you did not complete Task 2.\n",
    "\n",
    "$$\n",
    "\\S \\mbox{ and } \\T.\n",
    "$$"
   ]
  },
  {
   "cell_type": "markdown",
   "metadata": {},
   "source": [
    "<h3> Solution </h3>"
   ]
  },
  {
   "cell_type": "code",
   "execution_count": null,
   "metadata": {},
   "outputs": [],
   "source": [
    "print('First operator:')\n",
    "for i in range(10):\n",
    "    initial_state = random_complex_quantum_state()\n",
    "    new_state = [0,0]\n",
    "    new_state[0] = initial_state[0] * 1 + initial_state[1] * 0\n",
    "    new_state[1] = initial_state[0] * 0 + initial_state[1] * complex(0,1)\n",
    "    print(new_state)\n",
    "    print(\"Is it valid?\",is_quantum_state(new_state))\n",
    "    \n",
    "# e^(i*pi/4) = 1/sqrt(2) * (1+i)\n",
    "print('Second operator:')\n",
    "for i in range(10):\n",
    "    initial_state = random_complex_quantum_state()\n",
    "    new_state = [0,0]\n",
    "    new_state[0] = initial_state[0] * 1 + initial_state[1] * 0\n",
    "    new_state[1] = initial_state[0] * 0 + initial_state[1] * complex(1/(2**0.5),1/(2**0.5))\n",
    "    print(new_state)\n",
    "    print(\"Is it valid?\",is_quantum_state(new_state))"
   ]
  }
 ],
 "metadata": {
  "kernelspec": {
   "display_name": "Python 3",
   "language": "python",
   "name": "python3"
  },
  "language_info": {
   "codemirror_mode": {
    "name": "ipython",
    "version": 3
   },
   "file_extension": ".py",
   "mimetype": "text/x-python",
   "name": "python",
   "nbconvert_exporter": "python",
   "pygments_lexer": "ipython3",
   "version": "3.7.3"
  }
 },
 "nbformat": 4,
 "nbformat_minor": 2
}
