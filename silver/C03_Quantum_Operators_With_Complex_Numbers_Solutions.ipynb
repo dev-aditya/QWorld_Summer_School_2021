{
 "cells": [
  {
   "cell_type": "markdown",
   "metadata": {},
   "source": [
    "<table align=\"left\"  width=\"100%\"> <tr>\n",
    "        <td  style=\"background-color:#ffffff;\">\n",
    "            <a href=\"http://qworld.lu.lv\" target=\"_blank\"><img src=\"../images/qworld.jpg\" width=\"35%\" align=\"left\"> </a></td>\n",
    "        <td style=\"background-color:#ffffff;vertical-align:bottom;text-align:right;\">\n",
    "            prepared by Maksim Dimitrijev (<a href=\"http://qworld.lu.lv/index.php/qlatvia/\" target=\"_blank\">QLatvia</a>)\n",
    "        </td>        \n",
    "</tr></table>"
   ]
  },
  {
   "cell_type": "markdown",
   "metadata": {},
   "source": [
    "<table width=\"100%\"><tr><td style=\"color:#bbbbbb;background-color:#ffffff;font-size:11px;font-style:italic;text-align:right;\">This cell contains some macros. If there is a problem with displaying mathematical formulas, please run this cell to load these macros. </td></tr></table>\n",
    "$ \\newcommand{\\bra}[1]{\\langle #1|} $\n",
    "$ \\newcommand{\\ket}[1]{|#1\\rangle} $\n",
    "$ \\newcommand{\\braket}[2]{\\langle #1|#2\\rangle} $\n",
    "$ \\newcommand{\\dot}[2]{ #1 \\cdot #2} $\n",
    "$ \\newcommand{\\biginner}[2]{\\left\\langle #1,#2\\right\\rangle} $\n",
    "$ \\newcommand{\\mymatrix}[2]{\\left( \\begin{array}{#1} #2\\end{array} \\right)} $\n",
    "$ \\newcommand{\\myvector}[1]{\\mymatrix{c}{#1}} $\n",
    "$ \\newcommand{\\myrvector}[1]{\\mymatrix{r}{#1}} $\n",
    "$ \\newcommand{\\mypar}[1]{\\left( #1 \\right)} $\n",
    "$ \\newcommand{\\mybigpar}[1]{ \\Big( #1 \\Big)} $\n",
    "$ \\newcommand{\\sqrttwo}{\\frac{1}{\\sqrt{2}}} $\n",
    "$ \\newcommand{\\dsqrttwo}{\\dfrac{1}{\\sqrt{2}}} $\n",
    "$ \\newcommand{\\onehalf}{\\frac{1}{2}} $\n",
    "$ \\newcommand{\\donehalf}{\\dfrac{1}{2}} $\n",
    "$ \\newcommand{\\hadamard}{ \\mymatrix{rr}{ \\sqrttwo & \\sqrttwo \\\\ \\sqrttwo & -\\sqrttwo }} $\n",
    "$ \\newcommand{\\vzero}{\\myvector{1\\\\0}} $\n",
    "$ \\newcommand{\\vone}{\\myvector{0\\\\1}} $\n",
    "$ \\newcommand{\\stateplus}{\\myvector{ \\sqrttwo \\\\  \\sqrttwo } } $\n",
    "$ \\newcommand{\\stateminus}{ \\myrvector{ \\sqrttwo \\\\ -\\sqrttwo } } $\n",
    "$ \\newcommand{\\myarray}[2]{ \\begin{array}{#1}#2\\end{array}} $\n",
    "$ \\newcommand{\\X}{ \\mymatrix{cc}{0 & 1 \\\\ 1 & 0}  } $\n",
    "$ \\newcommand{\\Z}{ \\mymatrix{rr}{1 & 0 \\\\ 0 & -1}  } $\n",
    "$ \\newcommand{\\Htwo}{ \\mymatrix{rrrr}{ \\frac{1}{2} & \\frac{1}{2} & \\frac{1}{2} & \\frac{1}{2} \\\\ \\frac{1}{2} & -\\frac{1}{2} & \\frac{1}{2} & -\\frac{1}{2} \\\\ \\frac{1}{2} & \\frac{1}{2} & -\\frac{1}{2} & -\\frac{1}{2} \\\\ \\frac{1}{2} & -\\frac{1}{2} & -\\frac{1}{2} & \\frac{1}{2} } } $\n",
    "$ \\newcommand{\\CNOT}{ \\mymatrix{cccc}{1 & 0 & 0 & 0 \\\\ 0 & 1 & 0 & 0 \\\\ 0 & 0 & 0 & 1 \\\\ 0 & 0 & 1 & 0} } $\n",
    "$ \\newcommand{\\norm}[1]{ \\left\\lVert #1 \\right\\rVert } $\n",
    "$ \\newcommand{\\pstate}[1]{ \\lceil \\mspace{-1mu} #1 \\mspace{-1.5mu} \\rfloor } $\n",
    "$ \\newcommand{\\Y}{ \\mymatrix{rr}{0 & -i \\\\ i & 0} } $ $ \\newcommand{\\S}{ \\mymatrix{rr}{1 & 0 \\\\ 0 & i} } $ \n",
    "$ \\newcommand{\\T}{ \\mymatrix{rr}{1 & 0 \\\\ 0 & e^{i \\frac{pi}{4}}} } $ \n",
    "$ \\newcommand{\\Sdg}{ \\mymatrix{rr}{1 & 0 \\\\ 0 & -i} } $ \n",
    "$ \\newcommand{\\Tdg}{ \\mymatrix{rr}{1 & 0 \\\\ 0 & e^{-i \\frac{pi}{4}}} } $\n"
   ]
  },
  {
   "cell_type": "markdown",
   "metadata": {},
   "source": [
    "<h1> <font color=\"blue\"> Solutions for </font> Quantum operators with complex numbers </h1>"
   ]
  },
  {
   "cell_type": "markdown",
   "metadata": {},
   "source": [
    "<a id=\"task1\"></a>\n",
    "<h3> Task 1 </h3>\n",
    "\n",
    "Verify that $Y^{\\dagger} = Y$ and that $YY = I$."
   ]
  },
  {
   "cell_type": "markdown",
   "metadata": {},
   "source": [
    "<h3> Solution </h3>"
   ]
  },
  {
   "cell_type": "markdown",
   "metadata": {},
   "source": [
    "$\\overline{i} = -i, \\overline{-i} = i$.\n",
    "\n",
    "$Y^{\\dagger} = \\Y.$\n",
    "\n",
    "$\\Y \\Y = \\mymatrix{cc}{0 \\cdot 0 + -i \\cdot i & 0 \\cdot -i + -i \\cdot 0 \\\\ i \\cdot 0 + 0 \\cdot i & i \\cdot -i + 0 \\cdot 0} = \\mymatrix{cc}{-i^2 & 0 \\\\ 0 & -i^2} = \\mymatrix{cc}{1 & 0 \\\\ 0 & 1}$."
   ]
  },
  {
   "cell_type": "markdown",
   "metadata": {},
   "source": [
    "<a id=\"task2\"></a>\n",
    "<h3> Task 2</h3>\n",
    "\n",
    "Randomly create a 2-dimensional quantum state, where both amplitudes are complex numbers (you can use your solution from previous notebook, Task 3). After that apply the mentioned operator to the generated state and verify that the resulting state is a valid quantum state.\n",
    "\n",
    "<b>Repeat several times:</b>\n",
    "<ul>\n",
    "    <li> Randomly pick a quantum state. </li>\n",
    "    <li> Apply the mentioned operator to the state. </li>\n",
    "    <li> Check whether the resulting quantum state is valid. </li>"
   ]
  },
  {
   "cell_type": "markdown",
   "metadata": {},
   "source": [
    "<h3> Solution </h3>"
   ]
  },
  {
   "cell_type": "code",
   "execution_count": 1,
   "metadata": {},
   "outputs": [],
   "source": [
    "# %load random_complex_quantum_state.py\n",
    "from random import randrange\n",
    "def random_complex_quantum_state():\n",
    "    # quantum state \n",
    "    quantum_state=[0,0]\n",
    "    length_square = 0\n",
    "    while length_square == 0:\n",
    "        first_entry_real = randrange(-100,101)\n",
    "        first_entry_imag = randrange(-100,101)\n",
    "        second_entry_real = randrange(-100,101)\n",
    "        second_entry_imag = randrange(-100,101)\n",
    "        length_square = first_entry_real**2+first_entry_imag**2+second_entry_real**2+second_entry_imag**2\n",
    "    first_entry_real = first_entry_real / length_square**0.5\n",
    "    first_entry_imag = first_entry_imag / length_square**0.5\n",
    "    second_entry_real = second_entry_real / length_square**0.5\n",
    "    second_entry_imag = second_entry_imag / length_square**0.5\n",
    "    quantum_state[0] = complex(first_entry_real, first_entry_imag)\n",
    "    quantum_state[1] = complex(second_entry_real, second_entry_imag)\n",
    "    return quantum_state"
   ]
  },
  {
   "cell_type": "code",
   "execution_count": 2,
   "metadata": {},
   "outputs": [
    {
     "name": "stdout",
     "output_type": "stream",
     "text": [
      "[(0.46838674975904854+0.05557130929344644j), (0.6430394361098802-0.6033456437574185j)]\n",
      "summation of entry squares is 1.0\n",
      "Is it valid? True\n",
      "[(0.6754697181621399+0.34309572986013454j), (0.632582751929623-0.16082612337193805j)]\n",
      "summation of entry squares is 0.9999999999999998\n",
      "Is it valid? True\n",
      "[(0.05212307104303968-0.5733537814734365j), (-0.5342614781911568-0.6189614686360962j)]\n",
      "summation of entry squares is 1.0\n",
      "Is it valid? True\n",
      "[(0.5576203897279107-0.6505571213492293j), (0.27881019486395536-0.4337047475661528j)]\n",
      "summation of entry squares is 0.9999999999999998\n",
      "Is it valid? True\n",
      "[(0.291330795817186+0.3884410610895813j), (0.019422053054479065+0.873992387451558j)]\n",
      "summation of entry squares is 1.0000000000000002\n",
      "Is it valid? True\n",
      "[(-0.013899282381201854+0.6254677071540834j), (-0.3544317007206473+0.6949641190600927j)]\n",
      "summation of entry squares is 0.9999999999999998\n",
      "Is it valid? True\n",
      "[(-0.2960679368817967-0.3238243059644652j), (-0.8604474415627218+0.25905944477157217j)]\n",
      "summation of entry squares is 0.9999999999999999\n",
      "Is it valid? True\n",
      "[(0.5822785567013485-0.08124817070251375j), (-0.6296733229444815+0.5078010668907109j)]\n",
      "summation of entry squares is 1.0\n",
      "Is it valid? True\n",
      "[(-0.18443358704828158-0.45083765722913277j), (-0.45083765722913277-0.7479806585846975j)]\n",
      "summation of entry squares is 1.0\n",
      "Is it valid? True\n",
      "[(0.19333826352191386-0.03866765270438277j), (0.7443523145593683-0.6380162696223157j)]\n",
      "summation of entry squares is 1.0\n",
      "Is it valid? True\n"
     ]
    }
   ],
   "source": [
    "# %load is_quantum_state.py\n",
    "# testing whether a given quantum state is valid\n",
    "def is_quantum_state(quantum_state):\n",
    "    length_square = 0\n",
    "    for i in range(len(quantum_state)):\n",
    "        length_square += abs(quantum_state[i])**2\n",
    "    print(\"summation of entry squares is\",length_square)\n",
    "    # there might be precision problem\n",
    "    # the length may be very close to 1 but not exactly 1\n",
    "    # so we use the following trick\n",
    "    if (length_square - 1)**2 < 0.00000001: return True \n",
    "    return False\n",
    "for i in range(10):\n",
    "    new_state = random_complex_quantum_state()\n",
    "    print(new_state)\n",
    "    print(\"Is it valid?\",is_quantum_state(new_state))\n"
   ]
  },
  {
   "cell_type": "code",
   "execution_count": 3,
   "metadata": {},
   "outputs": [
    {
     "name": "stdout",
     "output_type": "stream",
     "text": [
      "[(-0.05542077203890025-0.08150113535132386j), (-0.9877937604580457-0.12062168031995932j)]\n",
      "summation of entry squares is 1.0\n",
      "Is it valid? True\n",
      "[(0.1906109819921865+0.5407127856513049j), (-0.6963135872775795-0.43179222451291244j)]\n",
      "summation of entry squares is 1.0000000000000002\n",
      "Is it valid? True\n",
      "[(0.40862752722976614-0.7482659914207406j), (0.28126310315815073-0.44046863324766994j)]\n",
      "summation of entry squares is 1.0\n",
      "Is it valid? True\n",
      "[(0.677183528968012-0.39594883934195235j), (-0.39594883934195235+0.4773588810758117j)]\n",
      "summation of entry squares is 0.9999999999999998\n",
      "Is it valid? True\n",
      "[(-0.6214656250240564-0.44104012098481415j), (-0.5546413642687815-0.33412130377637445j)]\n",
      "summation of entry squares is 1.0000000000000002\n",
      "Is it valid? True\n",
      "[(-0.307481741634817-0.10249391387827234j), (0.9322065500357151-0.16106186466585654j)]\n",
      "summation of entry squares is 0.9999999999999999\n",
      "Is it valid? True\n",
      "[(-0.8701733425533875+0.31212739461154115j), (-0.047292029486597165-0.37833623589277715j)]\n",
      "summation of entry squares is 1.0\n",
      "Is it valid? True\n",
      "[(0.29628746099351677-0.8759803194590929j), (-0.15458476225748696-0.3478157150793457j)]\n",
      "summation of entry squares is 0.9999999999999997\n",
      "Is it valid? True\n",
      "[(0.8724391680106433-0.15959253073365423j), (-0.36174306966294967+0.28726655532057765j)]\n",
      "summation of entry squares is 0.9999999999999999\n",
      "Is it valid? True\n",
      "[(-0.757918329986397-0.577274582943007j), (-0.0746137216048785-0.2945278484403097j)]\n",
      "summation of entry squares is 1.0\n",
      "Is it valid? True\n"
     ]
    }
   ],
   "source": [
    "for i in range(10):\n",
    "    initial_state = random_complex_quantum_state()\n",
    "    new_state = [0,0]\n",
    "    new_state[0] = initial_state[0] * complex(1/2,1/2) + initial_state[1] * complex(1/2,-1/2)\n",
    "    new_state[1] = initial_state[0] * complex(1/2,-1/2) + initial_state[1] * complex(1/2,1/2)\n",
    "    print(new_state)\n",
    "    print(\"Is it valid?\",is_quantum_state(new_state))"
   ]
  },
  {
   "cell_type": "markdown",
   "metadata": {},
   "source": [
    "<a id=\"task3\"></a>\n",
    "<h3> Task 3</h3>\n",
    "\n",
    "Repeat Task 2, but with Hadamard operator. Note that you should load the necessary functions if you did not complete Task 2."
   ]
  },
  {
   "cell_type": "markdown",
   "metadata": {},
   "source": [
    "<h3> Solution </h3>"
   ]
  },
  {
   "cell_type": "code",
   "execution_count": 4,
   "metadata": {},
   "outputs": [
    {
     "name": "stdout",
     "output_type": "stream",
     "text": [
      "[(0.6610920187271597+0.7473214124741805j), (0.01231848482100295-0.06569858571201587j)]\n",
      "summation of entry squares is 0.9999999999999999\n",
      "Is it valid? True\n",
      "[(0.243395000094479-0.011063409095203647j), (-0.8186922730450658+0.5199802274745687j)]\n",
      "summation of entry squares is 1.0000000000000002\n",
      "Is it valid? True\n",
      "[(0.7199565791319672-0.05255157511912173j), (0.11035830775015554+0.683170476548582j)]\n",
      "summation of entry squares is 0.9999999999999998\n",
      "Is it valid? True\n",
      "[(0.7619438874806527+0.3671184185134054j), (-0.2632169793114981-0.4640930951018521j)]\n",
      "summation of entry squares is 0.9999999999999997\n",
      "Is it valid? True\n",
      "[(-0.874532250335653+0.32182786812352027j), (-0.23087651408861237-0.27985032010740896j)]\n",
      "summation of entry squares is 0.9999999999999996\n",
      "Is it valid? True\n",
      "[(-0.713740930510348+0.47582728700689875j), (0.48262481967842585+0.17673584945970527j)]\n",
      "summation of entry squares is 0.9999999999999998\n",
      "Is it valid? True\n",
      "[(-0.5066171622771768+0.19659770476427751j), (0.11342175274862165+0.8317595201565589j)]\n",
      "summation of entry squares is 0.9999999999999998\n",
      "Is it valid? True\n",
      "[(-0.1638691086686396+0.6107848595831112j), 0.7746539682517509j]\n",
      "summation of entry squares is 1.0000000000000002\n",
      "Is it valid? True\n",
      "[(0.07778715439702916-0.47869018090479476j), (-0.8077896802768412+0.3350831266333564j)]\n",
      "summation of entry squares is 0.9999999999999996\n",
      "Is it valid? True\n",
      "[(0.23649231412468447+0.4894840920255096j), (-0.7644751549611892-0.3464887392989562j)]\n",
      "summation of entry squares is 1.0000000000000004\n",
      "Is it valid? True\n"
     ]
    }
   ],
   "source": [
    "for i in range(10):\n",
    "    initial_state = random_complex_quantum_state()\n",
    "    new_state = [0,0]\n",
    "    new_state[0] = initial_state[0] * (1/(2**0.5)) + initial_state[1] * (1/(2**0.5))\n",
    "    new_state[1] = initial_state[0] * (1/(2**0.5)) + initial_state[1] * (-1/(2**0.5))\n",
    "    print(new_state)\n",
    "    print(\"Is it valid?\",is_quantum_state(new_state))"
   ]
  },
  {
   "cell_type": "markdown",
   "metadata": {},
   "source": [
    "<a id=\"task4\"></a>\n",
    "<h3> Task 4</h3>\n",
    "\n",
    "Repeat Task 2 with the following quantum operators. Note that you should load the necessary functions if you did not complete Task 2.\n",
    "\n",
    "$$\n",
    "\\S \\mbox{ and } \\T.\n",
    "$$"
   ]
  },
  {
   "cell_type": "markdown",
   "metadata": {},
   "source": [
    "<h3> Solution </h3>"
   ]
  },
  {
   "cell_type": "code",
   "execution_count": 5,
   "metadata": {},
   "outputs": [
    {
     "name": "stdout",
     "output_type": "stream",
     "text": [
      "First operator:\n",
      "[(-0.3614285968633786-0.4735960924416685j), (0.5359113677629407+0.5982266430842128j)]\n",
      "summation of entry squares is 1.0\n",
      "Is it valid? True\n",
      "[(0.5537922124626985+0.3126246360676524j), (0.21437117901781877+0.74136699410329j)]\n",
      "summation of entry squares is 1.0\n",
      "Is it valid? True\n",
      "[(-0.3119999032022611+0.33663147450770275j), (0.6404208539414833+0.6157892826360416j)]\n",
      "summation of entry squares is 0.9999999999999998\n",
      "Is it valid? True\n",
      "[(0.3808392674409624-0.6699950075350265j), (-0.6347321124016041+0.056420632213475916j)]\n",
      "summation of entry squares is 1.0\n",
      "Is it valid? True\n",
      "[(0.4628760361421624-0.060002449129539566j), (-0.4885913714833936-0.737172946448629j)]\n",
      "summation of entry squares is 1.0\n",
      "Is it valid? True\n",
      "[(-0.22069989655974098-0.7305927610253494j), (-0.5479445707690122-0.34246535673063255j)]\n",
      "summation of entry squares is 1.0000000000000002\n",
      "Is it valid? True\n",
      "[(0.8271101628258783+0.20926883637763188j), (-0.5181894996017551-0.05979109610789482j)]\n",
      "summation of entry squares is 1.0\n",
      "Is it valid? True\n",
      "[(0.28266827970287883+0.6124479393562375j), (-0.6438555259898907-0.3611872462870119j)]\n",
      "summation of entry squares is 1.0\n",
      "Is it valid? True\n",
      "[(0.2608899451745498+0.05929316935785222j), (-0.936832075854065-0.22531404355983842j)]\n",
      "summation of entry squares is 1.0\n",
      "Is it valid? True\n",
      "[(0.37729670976216834-0.14337274970962396j), (-0.5282153936670357+0.7470474853290934j)]\n",
      "summation of entry squares is 1.0\n",
      "Is it valid? True\n",
      "Second operator:\n",
      "[(0.6437975574972464+0.48984596766094834j), (-0.42059627807064487-0.4106998950572179j)]\n",
      "summation of entry squares is 1.0\n",
      "Is it valid? True\n",
      "[(0.2931797162970749+0.46563837294241306j), (0.1402386884264772+0.8231401277206272j)]\n",
      "summation of entry squares is 1.0\n",
      "Is it valid? True\n",
      "[(0.23623511950172107-0.5748387907875213j), (0.07795361231190462-0.7795361231190463j)]\n",
      "summation of entry squares is 0.9999999999999997\n",
      "Is it valid? True\n",
      "[(0.6056817391485274-0.5263662733076488j), (0.015295773749742336+0.596535176239951j)]\n",
      "summation of entry squares is 0.9999999999999998\n",
      "Is it valid? True\n",
      "[(-0.49523342990386154+0.4773334264133605j), (0.7256802608133788-0.016876285135194957j)]\n",
      "summation of entry squares is 0.9999999999999999\n",
      "Is it valid? True\n",
      "[(0.24046985618736616+0.4649083886289079j), (-0.7141590371203699-0.46477016701484386j)]\n",
      "summation of entry squares is 1.0\n",
      "Is it valid? True\n",
      "[(-0.5705279476732136-0.6045893176835547j), (-0.3552541292345404+0.42750920636698936j)]\n",
      "summation of entry squares is 1.0\n",
      "Is it valid? True\n",
      "[(-0.7681966835296987-0.38409834176484936j), (0.36778969243308635+0.3564730865120683j)]\n",
      "summation of entry squares is 1.0\n",
      "Is it valid? True\n",
      "[(0.05509830040894052-0.6060813044983457j), (-0.10129699281263999+0.7869997133905104j)]\n",
      "summation of entry squares is 1.0\n",
      "Is it valid? True\n",
      "[(-0.27698864412582436+0.7232481263285413j), (0.28290968127216565-0.5658193625443313j)]\n",
      "summation of entry squares is 1.0\n",
      "Is it valid? True\n"
     ]
    }
   ],
   "source": [
    "print('First operator:')\n",
    "for i in range(10):\n",
    "    initial_state = random_complex_quantum_state()\n",
    "    new_state = [0,0]\n",
    "    new_state[0] = initial_state[0] * 1 + initial_state[1] * 0\n",
    "    new_state[1] = initial_state[0] * 0 + initial_state[1] * complex(0,1)\n",
    "    print(new_state)\n",
    "    print(\"Is it valid?\",is_quantum_state(new_state))\n",
    "    \n",
    "# e^(i*pi/4) = 1/sqrt(2) * (1+i)\n",
    "print('Second operator:')\n",
    "for i in range(10):\n",
    "    initial_state = random_complex_quantum_state()\n",
    "    new_state = [0,0]\n",
    "    new_state[0] = initial_state[0] * 1 + initial_state[1] * 0\n",
    "    new_state[1] = initial_state[0] * 0 + initial_state[1] * complex(1/(2**0.5),1/(2**0.5))\n",
    "    print(new_state)\n",
    "    print(\"Is it valid?\",is_quantum_state(new_state))"
   ]
  },
  {
   "cell_type": "code",
   "execution_count": null,
   "metadata": {},
   "outputs": [],
   "source": []
  }
 ],
 "metadata": {
  "kernelspec": {
   "display_name": "Python 3 (ipykernel)",
   "language": "python",
   "name": "python3"
  },
  "language_info": {
   "codemirror_mode": {
    "name": "ipython",
    "version": 3
   },
   "file_extension": ".py",
   "mimetype": "text/x-python",
   "name": "python",
   "nbconvert_exporter": "python",
   "pygments_lexer": "ipython3",
   "version": "3.8.10"
  }
 },
 "nbformat": 4,
 "nbformat_minor": 2
}
