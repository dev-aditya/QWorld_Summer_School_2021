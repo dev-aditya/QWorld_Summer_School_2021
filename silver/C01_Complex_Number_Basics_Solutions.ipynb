{
 "cells": [
  {
   "cell_type": "markdown",
   "metadata": {},
   "source": [
    "<table align=\"left\"  width=\"100%\"> <tr>\n",
    "        <td  style=\"background-color:#ffffff;\">\n",
    "            <a href=\"http://qworld.lu.lv\" target=\"_blank\"><img src=\"../images/qworld.jpg\" width=\"35%\" align=\"left\"> </a></td>\n",
    "        <td style=\"background-color:#ffffff;vertical-align:bottom;text-align:right;\">\n",
    "            prepared by Maksim Dimitrijev (<a href=\"http://qworld.lu.lv/index.php/qlatvia/\" target=\"_blank\">QLatvia</a>)\n",
    "        </td>        \n",
    "</tr></table>"
   ]
  },
  {
   "cell_type": "markdown",
   "metadata": {},
   "source": [
    "<table width=\"100%\"><tr><td style=\"color:#bbbbbb;background-color:#ffffff;font-size:11px;font-style:italic;text-align:right;\">This cell contains some macros. If there is a problem with displaying mathematical formulas, please run this cell to load these macros. </td></tr></table>\n",
    "$ \\newcommand{\\bra}[1]{\\langle #1|} $\n",
    "$ \\newcommand{\\ket}[1]{|#1\\rangle} $\n",
    "$ \\newcommand{\\braket}[2]{\\langle #1|#2\\rangle} $\n",
    "$ \\newcommand{\\dot}[2]{ #1 \\cdot #2} $\n",
    "$ \\newcommand{\\biginner}[2]{\\left\\langle #1,#2\\right\\rangle} $\n",
    "$ \\newcommand{\\mymatrix}[2]{\\left( \\begin{array}{#1} #2\\end{array} \\right)} $\n",
    "$ \\newcommand{\\myvector}[1]{\\mymatrix{c}{#1}} $\n",
    "$ \\newcommand{\\myrvector}[1]{\\mymatrix{r}{#1}} $\n",
    "$ \\newcommand{\\mypar}[1]{\\left( #1 \\right)} $\n",
    "$ \\newcommand{\\mybigpar}[1]{ \\Big( #1 \\Big)} $\n",
    "$ \\newcommand{\\sqrttwo}{\\frac{1}{\\sqrt{2}}} $\n",
    "$ \\newcommand{\\dsqrttwo}{\\dfrac{1}{\\sqrt{2}}} $\n",
    "$ \\newcommand{\\onehalf}{\\frac{1}{2}} $\n",
    "$ \\newcommand{\\donehalf}{\\dfrac{1}{2}} $\n",
    "$ \\newcommand{\\hadamard}{ \\mymatrix{rr}{ \\sqrttwo & \\sqrttwo \\\\ \\sqrttwo & -\\sqrttwo }} $\n",
    "$ \\newcommand{\\vzero}{\\myvector{1\\\\0}} $\n",
    "$ \\newcommand{\\vone}{\\myvector{0\\\\1}} $\n",
    "$ \\newcommand{\\stateplus}{\\myvector{ \\sqrttwo \\\\  \\sqrttwo } } $\n",
    "$ \\newcommand{\\stateminus}{ \\myrvector{ \\sqrttwo \\\\ -\\sqrttwo } } $\n",
    "$ \\newcommand{\\myarray}[2]{ \\begin{array}{#1}#2\\end{array}} $\n",
    "$ \\newcommand{\\X}{ \\mymatrix{cc}{0 & 1 \\\\ 1 & 0}  } $\n",
    "$ \\newcommand{\\Z}{ \\mymatrix{rr}{1 & 0 \\\\ 0 & -1}  } $\n",
    "$ \\newcommand{\\Htwo}{ \\mymatrix{rrrr}{ \\frac{1}{2} & \\frac{1}{2} & \\frac{1}{2} & \\frac{1}{2} \\\\ \\frac{1}{2} & -\\frac{1}{2} & \\frac{1}{2} & -\\frac{1}{2} \\\\ \\frac{1}{2} & \\frac{1}{2} & -\\frac{1}{2} & -\\frac{1}{2} \\\\ \\frac{1}{2} & -\\frac{1}{2} & -\\frac{1}{2} & \\frac{1}{2} } } $\n",
    "$ \\newcommand{\\CNOT}{ \\mymatrix{cccc}{1 & 0 & 0 & 0 \\\\ 0 & 1 & 0 & 0 \\\\ 0 & 0 & 0 & 1 \\\\ 0 & 0 & 1 & 0} } $\n",
    "$ \\newcommand{\\norm}[1]{ \\left\\lVert #1 \\right\\rVert } $\n",
    "$ \\newcommand{\\pstate}[1]{ \\lceil \\mspace{-1mu} #1 \\mspace{-1.5mu} \\rfloor } $"
   ]
  },
  {
   "cell_type": "markdown",
   "metadata": {},
   "source": [
    "<h1> <font color=\"blue\"> Solutions for </font> Basics of complex numbers </h1> "
   ]
  },
  {
   "cell_type": "markdown",
   "metadata": {},
   "source": [
    "<a id=\"task1\"></a>\n",
    "<h3> Task 1 </h3>\n",
    "\n",
    "Calculate on the paper the following values.\n",
    "\n",
    "$(3-2i) + (7+i)$;\n",
    "\n",
    "$(4+5i) - (2+2i)$;\n",
    "\n",
    "$(2+i) \\cdot (8-4i)$;\n",
    "\n",
    "$\\mathopen|4+3i\\mathclose|$;\n",
    "\n",
    "$\\overline{5-6i}$."
   ]
  },
  {
   "cell_type": "markdown",
   "metadata": {},
   "source": [
    "<h3> Solution </h3>"
   ]
  },
  {
   "cell_type": "markdown",
   "metadata": {},
   "source": [
    "$(3-2i) + (7+i) = 3 + 7 - 2i + i = 10 - i$.\n",
    "\n",
    "$(4+5i) - (2+2i) = 4 - 2 + 5i - 2i = 2 + 3i$.\n",
    "\n",
    "$(2+i) \\cdot (8-4i) = 2 \\cdot 8 + 2 \\cdot (-4i) + i \\cdot 8 + i \\cdot (-4i) = 16 - 8i + 8i - 4i^2 = 16 - 4 \\cdot (-1) = 20$.\n",
    "\n",
    "$\\mathopen|4+3i\\mathclose| = \\sqrt{4^2 + 3^2} = \\sqrt{16 + 9} = 5$.\n",
    "\n",
    "$\\overline{5-6i} = 5 + 6i$."
   ]
  },
  {
   "cell_type": "markdown",
   "metadata": {},
   "source": [
    "<a id=\"task2\"></a>\n",
    "<h3> Task 2 </h3>\n",
    "\n",
    "Convert $4-4i$ to polar form.\n",
    "\n",
    "Convert $2 \\cdot e^{i \\pi}$ from polar form to the basic one."
   ]
  },
  {
   "cell_type": "markdown",
   "metadata": {},
   "source": [
    "<h3> Solution </h3>"
   ]
  },
  {
   "cell_type": "markdown",
   "metadata": {},
   "source": [
    "- $4-4i$:\n",
    "\n",
    "Length: $r = \\sqrt{4^2 + (-4)^2} = \\sqrt{32} = 4 \\cdot \\sqrt{2}.$\n",
    "\n",
    "$r \\cos{\\alpha} = 4 \\implies \\cos{\\alpha} = \\frac{4}{4 \\cdot \\sqrt{2}} = \\frac{1}{\\sqrt{2}} \\implies \\alpha = \\frac{\\pi}{4}$ \n",
    "\n",
    "$4-4i = r \\cdot e^{i \\alpha} = 4 \\cdot \\sqrt{2} \\cdot e^{i \\frac{\\pi}{4}}$.\n",
    "\n",
    "- $2 \\cdot e^{i \\pi}$:\n",
    "\n",
    "$r = 2$, $\\alpha = \\pi$.\n",
    "\n",
    "$e^{i \\pi} = \\cos{\\pi} + \\sin{\\pi} \\cdot i = -1$.\n",
    "\n",
    "$2 \\cdot e^{i \\pi} = 2 \\cdot (-1) = -2$."
   ]
  },
  {
   "cell_type": "markdown",
   "metadata": {},
   "source": [
    "<a id=\"task3\"></a>\n",
    "<h3> Task 3 </h3>\n",
    "\n",
    "Recreate famous Euler formula. Please use:\n",
    "<ul>\n",
    "    <li>=, + or -;</li>\n",
    "    <li>one instance of each of the following constants: 0, 1, $i$, $\\pi$, $e$.</li>\n",
    "</ul>"
   ]
  },
  {
   "cell_type": "markdown",
   "metadata": {},
   "source": [
    "<h3> Solution </h3>"
   ]
  },
  {
   "cell_type": "markdown",
   "metadata": {},
   "source": [
    "It is no secret for us that $e^{i \\pi} = -1$. To include all constants into formula, we need to add 1 to this number:\n",
    "\n",
    "$e^{i \\pi} + 1 = 0$."
   ]
  },
  {
   "cell_type": "markdown",
   "metadata": {},
   "source": [
    "<a id=\"task4\"></a>\n",
    "<h3> Task 4 </h3>\n",
    "\n",
    "Please calculate the following values in Python:\n",
    "\n",
    "<ul>\n",
    "    <li>$\\frac{3+4i}{2-i} \\cdot (7+2i) + 3i$;</li>\n",
    "    <li>$(1-2i)^5$;</li>\n",
    "    <li>$\\frac{8-4i}{\\mathopen|4+3i\\mathclose|}$.</li>\n",
    "</ul>"
   ]
  },
  {
   "cell_type": "markdown",
   "metadata": {},
   "source": [
    "<h3> Solution </h3>"
   ]
  },
  {
   "cell_type": "code",
   "execution_count": null,
   "metadata": {},
   "outputs": [],
   "source": [
    "result1 = ((3+4j)/(2-1j))*(7+2j)+3j\n",
    "print('((3+4j)/(2-j))*(7+2j)+3j=', result1)\n",
    "result2 = (1-2j)**5\n",
    "print('(1-2j)**5=', result2)\n",
    "result3 = (8-4j)/(abs(4+3j))\n",
    "print('(8-4j)/(abs(4+3j))=', result3)"
   ]
  },
  {
   "cell_type": "markdown",
   "metadata": {},
   "source": [
    "<a id=\"task5\"></a>\n",
    "<h3> Task 5 </h3>\n",
    "\n",
    "Use Python to convert:\n",
    "\n",
    "<ul>\n",
    "    <li>$3 - 3i$ to polar form;</li>\n",
    "    <li>$5 \\cdot e^{i \\cdot \\frac{pi}{3}}$ from polar form.</li>\n",
    "<ul>"
   ]
  },
  {
   "cell_type": "markdown",
   "metadata": {},
   "source": [
    "<h3> Solution </h3>"
   ]
  },
  {
   "cell_type": "code",
   "execution_count": null,
   "metadata": {},
   "outputs": [],
   "source": [
    "from math import pi, cos, sin, asin\n",
    "#3 - 3i\n",
    "# Length\n",
    "r1 = abs(3-3j)\n",
    "# Angle\n",
    "alpha1 = asin(-3/r1)\n",
    "# Result\n",
    "print('3 - 3i =', r1, '*e^(i*', alpha1, ')')\n",
    "\n",
    "#5*e^(i*(pi/3))\n",
    "# Length\n",
    "r2 = 5\n",
    "# Angle\n",
    "alpha2 = pi/3\n",
    "# Result\n",
    "print('5*e^(i*(pi/3)) =', 5*complex(cos(alpha2), sin(alpha2)))"
   ]
  }
 ],
 "metadata": {
  "kernelspec": {
   "display_name": "Python 3",
   "language": "python",
   "name": "python3"
  },
  "language_info": {
   "codemirror_mode": {
    "name": "ipython",
    "version": 3
   },
   "file_extension": ".py",
   "mimetype": "text/x-python",
   "name": "python",
   "nbconvert_exporter": "python",
   "pygments_lexer": "ipython3",
   "version": "3.7.3"
  }
 },
 "nbformat": 4,
 "nbformat_minor": 2
}
