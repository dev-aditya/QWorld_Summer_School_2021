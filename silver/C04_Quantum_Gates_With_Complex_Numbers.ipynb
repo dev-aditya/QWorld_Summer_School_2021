{
 "cells": [
  {
   "cell_type": "markdown",
   "metadata": {},
   "source": [
    "<table align=\"left\"  width=\"100%\"> <tr>\n",
    "        <td  style=\"background-color:#ffffff;\">\n",
    "            <a href=\"http://qworld.lu.lv\" target=\"_blank\"><img src=\"../images/qworld.jpg\" width=\"35%\" align=\"left\"> </a></td>\n",
    "        <td style=\"background-color:#ffffff;vertical-align:bottom;text-align:right;\">\n",
    "            prepared by Maksim Dimitrijev (<a href=\"http://qworld.lu.lv/index.php/qlatvia/\" target=\"_blank\">QLatvia</a>) \n",
    "        </td>        \n",
    "</tr></table>"
   ]
  },
  {
   "cell_type": "markdown",
   "metadata": {},
   "source": [
    "<table width=\"100%\"><tr><td style=\"color:#bbbbbb;background-color:#ffffff;font-size:11px;font-style:italic;text-align:right;\">This cell contains some macros. If there is a problem with displaying mathematical formulas, please run this cell to load these macros. </td></tr></table>\n",
    "$ \\newcommand{\\bra}[1]{\\langle #1|} $\n",
    "$ \\newcommand{\\ket}[1]{|#1\\rangle} $\n",
    "$ \\newcommand{\\braket}[2]{\\langle #1|#2\\rangle} $\n",
    "$ \\newcommand{\\dot}[2]{ #1 \\cdot #2} $\n",
    "$ \\newcommand{\\biginner}[2]{\\left\\langle #1,#2\\right\\rangle} $\n",
    "$ \\newcommand{\\mymatrix}[2]{\\left( \\begin{array}{#1} #2\\end{array} \\right)} $\n",
    "$ \\newcommand{\\myvector}[1]{\\mymatrix{c}{#1}} $\n",
    "$ \\newcommand{\\myrvector}[1]{\\mymatrix{r}{#1}} $\n",
    "$ \\newcommand{\\mypar}[1]{\\left( #1 \\right)} $\n",
    "$ \\newcommand{\\mybigpar}[1]{ \\Big( #1 \\Big)} $\n",
    "$ \\newcommand{\\sqrttwo}{\\frac{1}{\\sqrt{2}}} $\n",
    "$ \\newcommand{\\dsqrttwo}{\\dfrac{1}{\\sqrt{2}}} $\n",
    "$ \\newcommand{\\onehalf}{\\frac{1}{2}} $\n",
    "$ \\newcommand{\\donehalf}{\\dfrac{1}{2}} $\n",
    "$ \\newcommand{\\hadamard}{ \\mymatrix{rr}{ \\sqrttwo & \\sqrttwo \\\\ \\sqrttwo & -\\sqrttwo }} $\n",
    "$ \\newcommand{\\vzero}{\\myvector{1\\\\0}} $\n",
    "$ \\newcommand{\\vone}{\\myvector{0\\\\1}} $\n",
    "$ \\newcommand{\\stateplus}{\\myvector{ \\sqrttwo \\\\  \\sqrttwo } } $\n",
    "$ \\newcommand{\\stateminus}{ \\myrvector{ \\sqrttwo \\\\ -\\sqrttwo } } $\n",
    "$ \\newcommand{\\myarray}[2]{ \\begin{array}{#1}#2\\end{array}} $\n",
    "$ \\newcommand{\\X}{ \\mymatrix{cc}{0 & 1 \\\\ 1 & 0}  } $\n",
    "$ \\newcommand{\\Z}{ \\mymatrix{rr}{1 & 0 \\\\ 0 & -1}  } $\n",
    "$ \\newcommand{\\Htwo}{ \\mymatrix{rrrr}{ \\frac{1}{2} & \\frac{1}{2} & \\frac{1}{2} & \\frac{1}{2} \\\\ \\frac{1}{2} & -\\frac{1}{2} & \\frac{1}{2} & -\\frac{1}{2} \\\\ \\frac{1}{2} & \\frac{1}{2} & -\\frac{1}{2} & -\\frac{1}{2} \\\\ \\frac{1}{2} & -\\frac{1}{2} & -\\frac{1}{2} & \\frac{1}{2} } } $\n",
    "$ \\newcommand{\\CNOT}{ \\mymatrix{cccc}{1 & 0 & 0 & 0 \\\\ 0 & 1 & 0 & 0 \\\\ 0 & 0 & 0 & 1 \\\\ 0 & 0 & 1 & 0} } $\n",
    "$ \\newcommand{\\norm}[1]{ \\left\\lVert #1 \\right\\rVert } $\n",
    "$ \\newcommand{\\pstate}[1]{ \\lceil \\mspace{-1mu} #1 \\mspace{-1.5mu} \\rfloor } $\n",
    "$ \\newcommand{\\Y}{ \\mymatrix{rr}{0 & -i \\\\ i & 0} } $ \n",
    "$ \\newcommand{\\S}{ \\mymatrix{rr}{1 & 0 \\\\ 0 & i} } $ \n",
    "$ \\newcommand{\\T}{ \\mymatrix{rr}{1 & 0 \\\\ 0 & e^{i \\frac{\\pi}{4}}} } $ \n",
    "$ \\newcommand{\\Sdg}{ \\mymatrix{rr}{1 & 0 \\\\ 0 & -i} } $ \n",
    "$ \\newcommand{\\Tdg}{ \\mymatrix{rr}{1 & 0 \\\\ 0 & e^{-i \\frac{\\pi}{4}}} } $\n",
    "$ \\newcommand{\\qgate}[1]{ \\mathop{\\textit{#1} } }$"
   ]
  },
  {
   "cell_type": "markdown",
   "metadata": {},
   "source": [
    "<h1> Quantum gates with complex numbers </h1>"
   ]
  },
  {
   "cell_type": "markdown",
   "metadata": {},
   "source": [
    "Now we will finally write some code to use quantum gates with complex numbers on qubits. We will begin with $\\qgate{Y}$ operator, and $\\qgate{Y}$-gate is called in a way similar to calling an $\\qgate{X}$-gate."
   ]
  },
  {
   "cell_type": "code",
   "execution_count": 8,
   "metadata": {},
   "outputs": [
    {
     "name": "stdout",
     "output_type": "stream",
     "text": [
      "[0.+0.j 0.+1.j]\n",
      "{'1': 10000}\n"
     ]
    },
    {
     "data": {
      "image/png": "[encoded data removed]",
      "text/plain": [
       "<Figure size 220.123x144.48 with 1 Axes>"
      ]
     },
     "execution_count": 8,
     "metadata": {},
     "output_type": "execute_result"
    },
    {
     "data": {
      "image/png": "[encoded data removed]",
      "text/plain": [
       "<Figure size 220.123x144.48 with 1 Axes>"
      ]
     },
     "metadata": {},
     "output_type": "display_data"
    }
   ],
   "source": [
    "from qiskit import QuantumRegister, ClassicalRegister, QuantumCircuit, execute, Aer\n",
    "\n",
    "qreg1 =  QuantumRegister(1)\n",
    "creg1 = ClassicalRegister(1)\n",
    "mycircuit1 = QuantumCircuit(qreg1,creg1)\n",
    "\n",
    "# apply y-gate\n",
    "mycircuit1.y(qreg1[0])\n",
    "\n",
    "mycircuit1.measure(qreg1,creg1)\n",
    "\n",
    "job = execute(mycircuit1,Aer.get_backend('statevector_simulator'),shots=10000)\n",
    "counts1 = job.result().get_statevector(mycircuit1)\n",
    "print(counts1) # print the outcomes\n",
    "\n",
    "\n",
    "job = execute(mycircuit1,Aer.get_backend('qasm_simulator'),shots=10000)\n",
    "counts1 = job.result().get_counts(mycircuit1)\n",
    "print(counts1) # print the outcomes\n",
    "\n",
    "mycircuit1.draw(output='mpl')"
   ]
  },
  {
   "cell_type": "code",
   "execution_count": 9,
   "metadata": {},
   "outputs": [],
   "source": [
    "## Visualizing \n",
    "import numpy as np"
   ]
  },
  {
   "cell_type": "markdown",
   "metadata": {},
   "source": [
    "As we can see, the qubit, which was initially set to the state $\\ket{0}$ always outputs the state $\\ket{1}$, after applying $\\qgate{Y}$-gate and measurement. Let's check the statevector simulator to see what state does the qubit have before the measurement."
   ]
  },
  {
   "cell_type": "code",
   "execution_count": 10,
   "metadata": {},
   "outputs": [
    {
     "name": "stdout",
     "output_type": "stream",
     "text": [
      "[0.-0.j 0.+1.j]\n"
     ]
    }
   ],
   "source": [
    "from qiskit import QuantumRegister, ClassicalRegister, QuantumCircuit, execute, Aer\n",
    "\n",
    "qreg2 =  QuantumRegister(1)\n",
    "creg2 = ClassicalRegister(1)\n",
    "mycircuit2 = QuantumCircuit(qreg2,creg2)\n",
    "\n",
    "# apply y-gate\n",
    "mycircuit2.y(qreg2[0])\n",
    "\n",
    "job = execute(mycircuit2,Aer.get_backend('statevector_simulator'))\n",
    "current_quantum_state=job.result().get_statevector(mycircuit2)\n",
    "print(current_quantum_state)"
   ]
  },
  {
   "cell_type": "markdown",
   "metadata": {},
   "source": [
    "The statevector confirms that the amplitude of the state $\\ket{0}$ is zero, and so we will observe only state $\\ket{1}$. Let's see what happens if we apply $\\qgate{Y}$-gate to the qubit, which is in state $\\ket{1}$."
   ]
  },
  {
   "cell_type": "markdown",
   "metadata": {},
   "source": [
    "<h3> Task 1 </h3>\n",
    "\n",
    "Remember that $\\qgate{X}$-gate flips the value of a qubit.\n",
    "\n",
    "Design a quantum circuit with a single qubit. Set the value of qubit to $ \\ket{1} $ by using $\\qgate{X}$-gate. After that apply $\\qgate{Y}$-gate and check the outcome on a statevector_simulator."
   ]
  },
  {
   "cell_type": "code",
   "execution_count": 13,
   "metadata": {},
   "outputs": [
    {
     "name": "stdout",
     "output_type": "stream",
     "text": [
      "[-0.-1.j -0.+0.j]\n"
     ]
    }
   ],
   "source": [
    "from qiskit import QuantumRegister, ClassicalRegister, QuantumCircuit, execute, Aer\n",
    "\n",
    "qreg2 =  QuantumRegister(1)\n",
    "creg2 = ClassicalRegister(1)\n",
    "mycircuit2 = QuantumCircuit(qreg2,creg2)\n",
    "\n",
    "mycircuit2.x(qreg2[0])\n",
    "# apply y-gate\n",
    "mycircuit2.y(qreg2[0])\n",
    "\n",
    "job = execute(mycircuit2,Aer.get_backend('statevector_simulator'))\n",
    "current_quantum_state=job.result().get_statevector(mycircuit2, decimals = 4)\n",
    "print(current_quantum_state)"
   ]
  },
  {
   "cell_type": "markdown",
   "metadata": {},
   "source": [
    "<a href=\"C04_Quantum_Gates_With_Complex_Numbers_Solutions.ipynb#task1\">click for our solution</a>"
   ]
  },
  {
   "cell_type": "markdown",
   "metadata": {},
   "source": [
    "<h2> Phase gates </h2>\n",
    "\n",
    "Now we will observe the phase gates. Such gates do not change the probabilities of the states to be observed, but change the local phase. The simplest phase gate that we already know is $\\qgate{Z} = \\Z$. Here are two famous phase operators that change the phase by smaller amount compared to the $\\qgate{Z}$ operator:\n",
    "\n",
    "$$\n",
    "\\qgate{S} = \\S \\mbox{ and } \\qgate{T} = \\T.\n",
    "$$\n",
    "\n",
    "The conjugate versions of these operators are\n",
    "\n",
    "$$\n",
    "S ^{\\dagger} = \\Sdg \\mbox{ and } T^{\\dagger} = \\Tdg.\n",
    "$$\n",
    "\n",
    "As you can guess, in case of $\\qgate{Z}$ operator its conjugate version is trivial: $\\qgate{Z} = \\qgate{Z}^{\\dagger}$.\n",
    "\n",
    "Since $i^2 = -1$, it is easy to see that $\\qgate{S}^2 = \\qgate{Z}$, or, in other words, $\\qgate{S} = \\sqrt{\\qgate{Z}}$."
   ]
  },
  {
   "cell_type": "markdown",
   "metadata": {},
   "source": [
    "<h3> Task 2 </h3>\n",
    "\n",
    "Find the relationship between the following operators:\n",
    "<ul>\n",
    "    <li>$\\qgate{S}$ and $\\qgate{T}$;</li>\n",
    "    <li>$\\qgate{Z}$ and $\\qgate{T}$.</li>\n",
    "</ul>"
   ]
  },
  {
   "cell_type": "markdown",
   "metadata": {},
   "source": [
    "<a href=\"C04_Quantum_Gates_With_Complex_Numbers_Solutions.ipynb#task2\">click for our solution</a>"
   ]
  },
  {
   "cell_type": "markdown",
   "metadata": {},
   "source": [
    "We will discuss the phase and phase gates in more details in the next notebooks. Now we will check the behavior of the gates with the code."
   ]
  },
  {
   "cell_type": "markdown",
   "metadata": {},
   "source": [
    "<h2> Phase gates in Qiskit </h2>\n",
    "\n",
    "The syntax of the mentioned phase gates are quite simple. One can guess the gate from the provided notations.\n",
    "\n",
    "    mycircuit.s(quantum_register)\n",
    "    mycircuit.t(quantum_register)\n",
    "    mycircuit.sdg(quantum_register)\n",
    "    mycircuit.tdg(quantum_register)\n",
    "\n",
    "Let's make a quantum circuit with 4 qubits and apply each of the gates - one for each qubit. Guess the outcome of the measurement."
   ]
  },
  {
   "cell_type": "code",
   "execution_count": 15,
   "metadata": {},
   "outputs": [
    {
     "name": "stdout",
     "output_type": "stream",
     "text": [
      "{'0000': 10000}\n"
     ]
    },
    {
     "data": {
      "image/png": "[encoded data removed]",
      "text/plain": [
       "<Figure size 427.121x325.08 with 1 Axes>"
      ]
     },
     "execution_count": 15,
     "metadata": {},
     "output_type": "execute_result"
    },
    {
     "data": {
      "image/png": "[encoded data removed]",
      "text/plain": [
       "<Figure size 427.121x325.08 with 1 Axes>"
      ]
     },
     "metadata": {},
     "output_type": "display_data"
    }
   ],
   "source": [
    "from qiskit import QuantumRegister, ClassicalRegister, QuantumCircuit, execute, Aer\n",
    "\n",
    "qreg3 =  QuantumRegister(4)\n",
    "creg3 = ClassicalRegister(4)\n",
    "mycircuit3 = QuantumCircuit(qreg3,creg3)\n",
    "\n",
    "mycircuit3.s(qreg3[0])\n",
    "mycircuit3.t(qreg3[1])\n",
    "mycircuit3.sdg(qreg3[2])\n",
    "mycircuit3.tdg(qreg3[3])\n",
    "\n",
    "mycircuit3.measure(qreg3,creg3)\n",
    "\n",
    "job = execute(mycircuit3,Aer.get_backend('qasm_simulator'),shots=10000)\n",
    "counts3 = job.result().get_counts(mycircuit3)\n",
    "print(counts3) # print the outcomes\n",
    "\n",
    "mycircuit3.draw(output='mpl')"
   ]
  },
  {
   "cell_type": "code",
   "execution_count": 28,
   "metadata": {},
   "outputs": [
    {
     "name": "stdout",
     "output_type": "stream",
     "text": [
      "{'1': 10000}\n"
     ]
    },
    {
     "data": {
      "image/png": "[encoded data removed]",
      "text/plain": [
       "<Figure size 353.795x144.48 with 1 Axes>"
      ]
     },
     "metadata": {},
     "output_type": "display_data"
    }
   ],
   "source": [
    "from qiskit import QuantumRegister, ClassicalRegister, QuantumCircuit, execute, Aer\n",
    "\n",
    "qreg2 =  QuantumRegister(1)\n",
    "creg2 = ClassicalRegister(1)\n",
    "mycircuit2 = QuantumCircuit(qreg2,creg2)\n",
    "\n",
    "mycircuit2.tdg(qreg2[0])\n",
    "# apply y-gate\n",
    "mycircuit2.y(qreg2[0])\n",
    "\n",
    "mycircuit2.barrier()\n",
    "\n",
    "mycircuit2.measure(qreg2, creg2)\n",
    "\n",
    "mycircuit2.draw(output='mpl')\n",
    "\n",
    "\n",
    "job = execute(mycircuit2,Aer.get_backend('qasm_simulator'),shots=10000)\n",
    "counts2 = job.result().get_counts(mycircuit2)\n",
    "print(counts2) # print the outcomes"
   ]
  },
  {
   "cell_type": "markdown",
   "metadata": {},
   "source": [
    "The output outcome should not be surprising, the change of phase did not change the probabilities. Now let's convince ourselves that this is also the case when our qubit is in superposition."
   ]
  },
  {
   "cell_type": "markdown",
   "metadata": {},
   "source": [
    "<h3> Task 3 </h3>\n",
    "\n",
    "For each one of the discussed 4 phase gates construct the following circuit:\n",
    "\n",
    "<ul>\n",
    "    <li>Create a circuit with one qubit,</li>\n",
    "    <li>apply Hadamard operator,</li>\n",
    "    <li>apply the corresponding phase operator,</li>\n",
    "    <li>make a measurement.</li>\n",
    "</ul>\n",
    "\n",
    "What is the measurement outcome in each case?"
   ]
  },
  {
   "cell_type": "code",
   "execution_count": null,
   "metadata": {},
   "outputs": [],
   "source": [
    "#\n",
    "# your solution for s-gate is here\n",
    "#\n"
   ]
  },
  {
   "cell_type": "code",
   "execution_count": null,
   "metadata": {},
   "outputs": [],
   "source": [
    "#\n",
    "# your solution for t-gate is here\n",
    "#\n"
   ]
  },
  {
   "cell_type": "code",
   "execution_count": null,
   "metadata": {},
   "outputs": [],
   "source": [
    "#\n",
    "# your solution for sdg-gate is here\n",
    "#\n"
   ]
  },
  {
   "cell_type": "code",
   "execution_count": null,
   "metadata": {},
   "outputs": [],
   "source": [
    "#\n",
    "# your solution for tdg-gate is here\n",
    "#\n"
   ]
  },
  {
   "cell_type": "markdown",
   "metadata": {},
   "source": [
    "<a href=\"C04_Quantum_Gates_With_Complex_Numbers_Solutions.ipynb#task3\">click for our solution</a>"
   ]
  },
  {
   "cell_type": "markdown",
   "metadata": {},
   "source": [
    "The phase gate applied between two Hadamard operators can make the difference. Remember what happens with the qubit in state $\\ket{0}$ after applying the following sequence: $\\qgate{HZH}$ (if not, just write the code and check :) )?"
   ]
  },
  {
   "cell_type": "markdown",
   "metadata": {},
   "source": [
    "<h3> Task 4 </h3>\n",
    "\n",
    "For each one of the discussed 4 phase gates construct the following circuit:\n",
    "\n",
    "<ul>\n",
    "    <li>Create a circuit with one qubit,</li>\n",
    "    <li>apply Hadamard operator,</li>\n",
    "    <li>apply the corresponding phase operator,</li>\n",
    "    <li>apply Hadamard operator,</li>\n",
    "    <li>make a measurement.</li>\n",
    "</ul>\n",
    "\n",
    "Guess the measurement outcome in each case before executing the code."
   ]
  },
  {
   "cell_type": "code",
   "execution_count": null,
   "metadata": {},
   "outputs": [],
   "source": [
    "#\n",
    "# your solution for s-gate is here\n",
    "#\n"
   ]
  },
  {
   "cell_type": "code",
   "execution_count": null,
   "metadata": {},
   "outputs": [],
   "source": [
    "#\n",
    "# your solution for t-gate is here\n",
    "#\n"
   ]
  },
  {
   "cell_type": "code",
   "execution_count": null,
   "metadata": {},
   "outputs": [],
   "source": [
    "#\n",
    "# your solution for sdg-gate is here\n",
    "#\n"
   ]
  },
  {
   "cell_type": "code",
   "execution_count": null,
   "metadata": {},
   "outputs": [],
   "source": [
    "#\n",
    "# your solution for tdg-gate is here\n",
    "#\n"
   ]
  },
  {
   "cell_type": "markdown",
   "metadata": {},
   "source": [
    "<a href=\"C04_Quantum_Gates_With_Complex_Numbers_Solutions.ipynb#task4\">click for our solution</a>"
   ]
  },
  {
   "cell_type": "markdown",
   "metadata": {},
   "source": [
    "Although $\\qgate{T}^4 = \\qgate{Z}$, the presence of just $\\qgate{T}$-gate and $\\qgate{H}$-gate gives very powerful tool for putting qubit into different states. We will cover this in more details when we check Bloch sphere. Let's just check how different number of applied operators $\\qgate{T}$ and $\\qgate{H}$ gives different measurement outcomes. In the following example, we apply the sequence of $\\qgate{T}$-gate and $\\qgate{H}$-gate for different number of times. Notice how different are the probabilities to observe states $\\ket{0}$ and $\\ket{1}$."
   ]
  },
  {
   "cell_type": "code",
   "execution_count": 32,
   "metadata": {},
   "outputs": [
    {
     "name": "stdout",
     "output_type": "stream",
     "text": [
      "gates applied 0 times, outcome: {'0': 10000}\n",
      "gates applied 1 times, outcome: {'1': 5028, '0': 4972}\n",
      "gates applied 2 times, outcome: {'1': 1464, '0': 8536}\n",
      "gates applied 3 times, outcome: {'1': 2414, '0': 7586}\n",
      "gates applied 4 times, outcome: {'1': 4251, '0': 5749}\n",
      "gates applied 5 times, outcome: {'1': 217, '0': 9783}\n",
      "gates applied 6 times, outcome: {'1': 5292, '0': 4708}\n",
      "gates applied 7 times, outcome: {'1': 667, '0': 9333}\n",
      "gates applied 8 times, outcome: {'1': 3528, '0': 6472}\n",
      "gates applied 9 times, outcome: {'0': 6755, '1': 3245}\n",
      "gates applied 10 times, outcome: {'1': 799, '0': 9201}\n",
      "gates applied 11 times, outcome: {'0': 4739, '1': 5261}\n",
      "gates applied 12 times, outcome: {'1': 95, '0': 9905}\n",
      "gates applied 13 times, outcome: {'0': 5465, '1': 4535}\n",
      "gates applied 14 times, outcome: {'1': 2264, '0': 7736}\n",
      "gates applied 15 times, outcome: {'1': 1716, '0': 8284}\n",
      "gates applied 16 times, outcome: {'1': 4814, '0': 5186}\n",
      "gates applied 17 times, outcome: {'1': 17, '0': 9983}\n",
      "gates applied 18 times, outcome: {'1': 5231, '0': 4769}\n",
      "gates applied 19 times, outcome: {'1': 1265, '0': 8735}\n",
      "gates applied 20 times, outcome: {'0': 7225, '1': 2775}\n",
      "gates applied 21 times, outcome: {'0': 5996, '1': 4004}\n",
      "gates applied 22 times, outcome: {'1': 334, '0': 9666}\n",
      "gates applied 23 times, outcome: {'0': 4548, '1': 5452}\n",
      "gates applied 24 times, outcome: {'0': 9535, '1': 465}\n"
     ]
    }
   ],
   "source": [
    "from qiskit import QuantumRegister, ClassicalRegister, QuantumCircuit, execute, Aer\n",
    "\n",
    "for i in range(25):\n",
    "    qreg1 =  QuantumRegister(1)\n",
    "    creg1 = ClassicalRegister(1)\n",
    "    mycircuit1 = QuantumCircuit(qreg1,creg1)\n",
    "    for j in range(i):\n",
    "        mycircuit1.t(qreg1[0])\n",
    "        mycircuit1.h(qreg1[0])\n",
    "    mycircuit1.measure(qreg1,creg1)\n",
    "\n",
    "    job = execute(mycircuit1,Aer.get_backend('qasm_simulator'),shots=10000)\n",
    "    counts1 = job.result().get_counts(mycircuit1)\n",
    "    print('gates applied',i,'times, outcome:',counts1) # print the outcomes"
   ]
  },
  {
   "cell_type": "markdown",
   "metadata": {},
   "source": [
    "<h3> Task 5 </h3>\n",
    "\n",
    "Repeat previous experiment for different number of $\\qgate{H}$-gates and $\\qgate{T}$-gates, but this time applying them in opposite order: first $\\qgate{H}$ and then $\\qgate{T}$."
   ]
  },
  {
   "cell_type": "code",
   "execution_count": null,
   "metadata": {},
   "outputs": [],
   "source": [
    "#\n",
    "# your solution is here\n",
    "#\n"
   ]
  },
  {
   "cell_type": "markdown",
   "metadata": {},
   "source": [
    "<a href=\"C04_Quantum_Gates_With_Complex_Numbers_Solutions.ipynb#task5\">click for our solution</a>"
   ]
  },
  {
   "cell_type": "markdown",
   "metadata": {},
   "source": [
    "We will check one more combination of the gates - we will apply the sequence of $\\qgate{HTH}$ for multiple times and will check the measurement outcomes."
   ]
  },
  {
   "cell_type": "code",
   "execution_count": 31,
   "metadata": {},
   "outputs": [
    {
     "name": "stdout",
     "output_type": "stream",
     "text": [
      "gates applied 0 times, outcome: {'0': 10000}\n",
      "gates applied 1 times, outcome: {'1': 1428, '0': 8572}\n",
      "gates applied 2 times, outcome: {'0': 4947, '1': 5053}\n",
      "gates applied 3 times, outcome: {'0': 1438, '1': 8562}\n",
      "gates applied 4 times, outcome: {'1': 10000}\n",
      "gates applied 5 times, outcome: {'0': 1492, '1': 8508}\n",
      "gates applied 6 times, outcome: {'1': 4927, '0': 5073}\n",
      "gates applied 7 times, outcome: {'1': 1515, '0': 8485}\n",
      "gates applied 8 times, outcome: {'0': 10000}\n",
      "gates applied 9 times, outcome: {'1': 1504, '0': 8496}\n",
      "gates applied 10 times, outcome: {'1': 5035, '0': 4965}\n",
      "gates applied 11 times, outcome: {'1': 8550, '0': 1450}\n",
      "gates applied 12 times, outcome: {'1': 10000}\n",
      "gates applied 13 times, outcome: {'0': 1484, '1': 8516}\n",
      "gates applied 14 times, outcome: {'1': 4965, '0': 5035}\n",
      "gates applied 15 times, outcome: {'1': 1438, '0': 8562}\n",
      "gates applied 16 times, outcome: {'0': 10000}\n",
      "gates applied 17 times, outcome: {'0': 8545, '1': 1455}\n",
      "gates applied 18 times, outcome: {'1': 4877, '0': 5123}\n",
      "gates applied 19 times, outcome: {'0': 1507, '1': 8493}\n",
      "gates applied 20 times, outcome: {'1': 10000}\n",
      "gates applied 21 times, outcome: {'0': 1483, '1': 8517}\n",
      "gates applied 22 times, outcome: {'0': 5055, '1': 4945}\n",
      "gates applied 23 times, outcome: {'1': 1534, '0': 8466}\n",
      "gates applied 24 times, outcome: {'0': 10000}\n"
     ]
    }
   ],
   "source": [
    "from qiskit import QuantumRegister, ClassicalRegister, QuantumCircuit, execute, Aer\n",
    "\n",
    "for i in range(25):\n",
    "    qreg1 =  QuantumRegister(1)\n",
    "    creg1 = ClassicalRegister(1)\n",
    "    mycircuit1 = QuantumCircuit(qreg1,creg1)\n",
    "    for j in range(i):\n",
    "        mycircuit1.h(qreg1[0])\n",
    "        mycircuit1.t(qreg1[0])\n",
    "        mycircuit1.h(qreg1[0])\n",
    "    mycircuit1.measure(qreg1,creg1)\n",
    "\n",
    "    job = execute(mycircuit1,Aer.get_backend('qasm_simulator'),shots=10000)\n",
    "    counts1 = job.result().get_counts(mycircuit1)\n",
    "    print('gates applied',i,'times, outcome:',counts1) # print the outcomes"
   ]
  },
  {
   "cell_type": "markdown",
   "metadata": {},
   "source": [
    "<h3> Task 6 (discussion) </h3>\n",
    "\n",
    "Why do the outcomes repeat after several iterations?"
   ]
  },
  {
   "cell_type": "markdown",
   "metadata": {},
   "source": [
    "<a href=\"C04_Quantum_Gates_With_Complex_Numbers_Solutions.ipynb#task6\">click for our solution</a>"
   ]
  }
 ],
 "metadata": {
  "kernelspec": {
   "display_name": "Python 3 (ipykernel)",
   "language": "python",
   "name": "python3"
  },
  "language_info": {
   "codemirror_mode": {
    "name": "ipython",
    "version": 3
   },
   "file_extension": ".py",
   "mimetype": "text/x-python",
   "name": "python",
   "nbconvert_exporter": "python",
   "pygments_lexer": "ipython3",
   "version": "3.8.10"
  }
 },
 "nbformat": 4,
 "nbformat_minor": 2
}
