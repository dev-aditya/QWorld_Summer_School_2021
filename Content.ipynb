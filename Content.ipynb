{
 "cells": [
  {
   "cell_type": "markdown",
   "id": "literary-royal",
   "metadata": {},
   "source": [
    "<table width=\"100%\"><tr style=\"background-color:white;\">\n",
    "    <td style=\"text-align:left;padding:0px;width:142px'\">\n",
    "        <a href=\"https://qworld.net\" target=\"_blank\">\n",
    "            <img src=\"qworld/images/QWorld.png\"></a></td>\n",
    "    <td width=\"*\">&nbsp;&nbsp;&nbsp;&nbsp;&nbsp;&nbsp;</td>\n",
    "    <!-- ############################################# -->\n",
    "    <td style=\"padding:0px;width:90px;\">\n",
    "        <img align=\"right\" src=\"qworld/images/follow_us.png\" height=\"40px\"></td>\n",
    "    <td style=\"padding:0px;width:40px;\">\n",
    "        <a href=\"https://twitter.com/QWorld19\" target=\"_blank\">\n",
    "        <img align=\"right\" src=\"qworld/images/Twitter.png\" width=\"40px\"></a> </td>\n",
    "    <td style=\"padding:0px;width:5px;\"></td>\n",
    "    <td style=\"padding:0px;width:40px;\">\n",
    "        <a href=\"https://www.facebook.com/qworld19/\" target=\"_blank\">\n",
    "        <img align=\"right\" src=\"qworld/images/Fb.png\"></a></td>\n",
    "    <td style=\"padding:0px;width:5px;\"></td>\n",
    "    <td style=\"padding:0px;width:40px;\">\n",
    "        <a href=\"https://www.linkedin.com/company/qworld19\" target=\"_blank\">\n",
    "        <img align=\"right\" src=\"qworld/images/LinkedIn.png\"></a></td>\n",
    "    <td style=\"padding:0px;width:5px;\"></td>\n",
    "    <td style=\"padding:0px;width:40px;\">\n",
    "        <a href=\"https://youtube.com/QWorld19?sub_confirmation=1\" target=\"_blank\">\n",
    "        <img align=\"right\" src=\"qworld/images/YT.png\"></a></td>\n",
    "    <!-- ############################################# -->\n",
    "    <td style=\"padding:0px;width:60px;\">\n",
    "        <img align=\"right\" src=\"qworld/images/join.png\" height=\"40px\"></td>\n",
    "    <td style=\"padding:0px;width:40px;\">\n",
    "        <a href=\"https://discord.com/invite/akCvr7U87g\"\n",
    "           target=\"_blank\">\n",
    "        <img align=\"right\" src=\"qworld/images/Discord.png\"></a></td>\n",
    "    <!-- ############################################# -->\n",
    "    <td style=\"padding:0px;width:72px;\">\n",
    "        <img align=\"right\" src=\"qworld/images/w3.png\" height=\"40px\"></td>\n",
    "    <td style=\"padding:0px;width:40px;\">\n",
    "        <a href=\"https://qworld.net\" target=\"_blank\">\n",
    "        <img align=\"right\" src=\"qworld/images/www.png\"></a></td>\n",
    "</tr></table>"
   ]
  },
  {
   "cell_type": "markdown",
   "id": "offensive-messenger",
   "metadata": {},
   "source": [
    "\n",
    "\n",
    "<h1 align=\"center\" style=\"color: #cd7f32;\"> QWorld Quantum Summer School 2021 | Content</h2>"
   ]
  },
  {
   "cell_type": "markdown",
   "id": "gross-density",
   "metadata": {},
   "source": [
    "---\n",
    "### Reference notebooks\n",
    "\n",
    "[Qiskit Reference](quantum-with-qiskit/Q01_Qiskit_Reference.ipynb) &nbsp;|&nbsp;\n",
    "[Python Reference](python/Python04_Quick_Reference.ipynb) &nbsp;|&nbsp;\n",
    "[Drawing Reference](python/Python06_Drawing.ipynb)\n",
    "\n",
    "---"
   ]
  },
  {
   "cell_type": "markdown",
   "id": "medium-irrigation",
   "metadata": {},
   "source": [
    "### Day 1 (26.07.2021) - Basics of classical systems\n",
    "\n",
    "[One Bit](classical-systems/CS04_One_Bit.ipynb)  &nbsp;|&nbsp;\n",
    "[Coin Flipping](classical-systems/CS08_Coin_Flip.ipynb)  &nbsp;|&nbsp;\n",
    "[Coin Flipping Game](classical-systems/CS12_Coin_Flip_Game.ipynb)  &nbsp;|&nbsp;\n",
    "[Probabilistic States](classical-systems/CS16_Probabilistic_States.ipynb)  &nbsp;|&nbsp;\n",
    "[Probabilistic Operators](classical-systems/CS20_Probabilistic_Operators.ipynb) &nbsp;|&nbsp;\n",
    "[Two Probabilistic Bits](classical-systems/CS24_Two_Probabilistic_Bits.ipynb)\n",
    "\n",
    "#### _Optional content_ \n",
    "[Exercises](classical-systems/Exercises_Probabilistic_Systems.ipynb) &nbsp;|&nbsp;\n",
    "[Problem Set](classical-systems/Problems_Probabilistic_Systems.ipynb)  &nbsp;|&nbsp;\n",
    "[_Correlation (Extra)_](classical-systems/CS28_Correlation.ipynb)  &nbsp;|&nbsp;\n",
    "[_Operators on Multiple Bits (Extra)_](classical-systems/CS40_Operators_on_Multiple_Bits.ipynb) \n"
   ]
  },
  {
   "cell_type": "markdown",
   "id": "convertible-nirvana",
   "metadata": {},
   "source": [
    "### Day 2 (27.07.2021) - Basics of quantum systems and Qiskit basics\n",
    "\n",
    "[Quantum Coin Flipping](photon/Photon20_Quantum_Coin_Flipping.ipynb)\n",
    "\n",
    "[First Quantum Programs with Qiskit](quantum-with-qiskit/Q12_First_Quantum_Programs_with_Qiskit.ipynb)\n",
    "\n",
    "[Hadamard Operator](quantum-with-qiskit/Q20_Hadamard.ipynb) &nbsp;|&nbsp;\n",
    "[One Qubit](quantum-with-qiskit/Q24_One_Qubit.ipynb) &nbsp;|&nbsp;\n",
    "[Quantum State](quantum-with-qiskit/Q28_Quantum_State.ipynb) &nbsp;|&nbsp;\n",
    "[Superposition and Measurement](quantum-with-qiskit/Q36_Superposition_and_Measurement.ipynb) &nbsp;|&nbsp;\n",
    "[Visualization of a (Real-Valued) Qubit](quantum-with-qiskit/Q32_Visualization_of_a_Qubit.ipynb)\n",
    "\n",
    "#### _Optional content_\n",
    "\n",
    "[Exercises](quantum-with-qiskit/Exercises_Basics_of_Quantum_Systems.ipynb)"
   ]
  },
  {
   "cell_type": "markdown",
   "id": "flying-timothy",
   "metadata": {},
   "source": [
    "### Day 3 (28.07.2021) Quantum operators on a (real-valued) qubit and multiple qubits\n",
    "\n",
    "[Operations on the Unit Circle](quantum-with-qiskit/Q40_Operations_on_the_Unit_Circle.ipynb) &nbsp;|&nbsp;\n",
    "[Rotations](quantum-with-qiskit/Q44_Rotations.ipynb) &nbsp;|&nbsp;\n",
    "[Reflections](quantum-with-qiskit/Q48_Reflections.ipynb) &nbsp;|&nbsp; \n",
    "[Quantum Tomography](quantum-with-qiskit/Q52_Quantum_Tomography.ipynb) \n",
    "\n",
    "[Two Qubits](quantum-with-qiskit/Q60_Two_Qubits.ipynb) &nbsp;|&nbsp;\n",
    "[Phase Kickback](quantum-with-qiskit/Q64_Phase_Kickback.ipynb)\n",
    "\n",
    "#### _Optional content_\n",
    "\n",
    "[Exercises](quantum-with-qiskit/Exercises_Quantum_Operators_on_a_Real-Valued_Qubit.ipynb)"
   ]
  },
  {
   "cell_type": "markdown",
   "id": "involved-mistress",
   "metadata": {},
   "source": [
    "### Day 4 (29.07.2021) Entanglement and protocols, multiqubit gates\n",
    "\n",
    "[Entanglement and Superdense Coding](quantum-with-qiskit/Q72_Superdense_Coding.ipynb) &nbsp;|&nbsp;\n",
    "[Quantum Teleportation](quantum-with-qiskit/Q76_Quantum_Teleportation.ipynb) &nbsp;|&nbsp;\n",
    "[Multiple Control Constructions](quantum-with-qiskit/Q80_Multiple_Control_Constructions.ipynb) &nbsp;|&nbsp;\n",
    "\n",
    "#### _Optional content_\n",
    "\n",
    "[Exercises](quantum-with-qiskit/Exercises_Quantum_Correlation.ipynb)"
   ]
  },
  {
   "cell_type": "markdown",
   "id": "spoken-humor",
   "metadata": {},
   "source": [
    "### Day 5 (30.07.2021) Grover's search algorithm\n",
    "\n",
    "[Inversion About the Mean](quantum-with-qiskit/Q84_Inversion_About_the_Mean.ipynb) &nbsp;|&nbsp;\n",
    "[Grover's Search: One Qubit Representation](quantum-with-qiskit/Q88_Grovers_Search_One_Qubit_Representation.ipynb) &nbsp;|&nbsp;\n",
    "[Grover's Search: Implementation](quantum-with-qiskit/Q92_Grovers_Search_Implementation.ipynb)"
   ]
  },
  {
   "cell_type": "markdown",
   "id": "vocational-allowance",
   "metadata": {},
   "source": [
    "---\n",
    "<h3 align=\"left\"> Projects You can check at the end of first week:</h3>\n",
    "\n",
    "*Difficulty levels:\n",
    "easy (<font size=\"+1\" color=\"7777ee\">&#9733;</font>), \n",
    "medium (<font size=\"+1\" color=\"7777ee\">&#9733;&#9733;</font>), and\n",
    "hard (<font size=\"+1\" color=\"7777ee\">&#9733;&#9733;&#9733;</font>).*\n",
    "\n",
    "<font size=\"+1\" color=\"7777ee\">&nbsp;&nbsp;&nbsp;&nbsp;&nbsp;&nbsp;&#9733;</font> |\n",
    "[Correlation Game](projects/Project_Correlation_Game.ipynb) *on classical bits*\n",
    "<br>\n",
    "<font size=\"+1\" color=\"7777ee\">&nbsp;&nbsp;&nbsp;&nbsp;&nbsp;&nbsp;&#9733;</font> |\n",
    "[Swapping Quantum States](projects/Project_Swapping_Quantum_States.ipynb) *on qubits*\n",
    "<br>\n",
    "<font size=\"+1\" color=\"7777ee\">&nbsp;&nbsp;&nbsp;&#9734;&#9733;</font> |\n",
    "[Simulating a Real-Valued Qubit](projects/Project_Simulating_a_RealValued_Qubit.ipynb)\n",
    "<br>\n",
    "<font size=\"+1\" color=\"7777ee\">&nbsp;&nbsp;&nbsp;&#9733;&#9733;</font> |\n",
    "[Quantum Tomography with Many Qubits](projects/Project_Quantum_Tomography_with_Many_Qubits.ipynb)\n",
    "<br>\n",
    "<font size=\"+1\" color=\"7777ee\">&nbsp;&nbsp;&nbsp;&#9733;&#9733;</font> |\n",
    "[Implementing Quantum Teleportation](projects/Project_Implementing_Quantum_Teleportation.ipynb)\n",
    "<br>\n",
    "<font size=\"+1\" color=\"7777ee\">&#9734;&#9733;&#9733;</font> |\n",
    "[Communication via Superdense Coding](projects/Project_Communication_via_Superdense_Coding.ipynb)\n",
    "<br>\n",
    "<font size=\"+1\" color=\"7777ee\">&#9733;&#9733;&#9733;</font> |\n",
    "[Your Quantum Simulator](projects/Project_Your_Quantum_Simulator.ipynb)\n",
    "\n",
    "---"
   ]
  },
  {
   "cell_type": "markdown",
   "id": "embedded-porter",
   "metadata": {},
   "source": [
    "### Day 6 (02.08.2021) Introduction to Complex Numbers\n",
    "\n",
    "\n",
    "[Introduction to Qiskit](silver/A00_Qiskit_Introduction.ipynb)&nbsp;\n",
    "\n",
    "[Basics of complex numbers](silver/C01_Complex_Number_Basics.ipynb) &nbsp;|&nbsp;\n",
    "[Quantum states with complex numbers](silver/C02_Quantum_States_With_Complex_Numbers.ipynb) &nbsp;|&nbsp;\n",
    "[Mathematical notations](silver/C02_Mathematical_Notations.ipynb)\n",
    "\n",
    "[Quantum operators with complex numbers](silver/C03_Quantum_Operators_With_Complex_Numbers.ipynb)\n",
    "\n",
    "\n"
   ]
  },
  {
   "cell_type": "markdown",
   "id": "developed-jenny",
   "metadata": {},
   "source": [
    "### Day 7 (03.08.2021) Bloch Sphere\n",
    "\n",
    "[Global and local phase](silver/C05_Global_And_Local_Phase.ipynb) &nbsp;|&nbsp;\n",
    "[State representation conversion and visualization](silver/C06_State_Conversion_And_Visualization.ipynb) &nbsp;|&nbsp;\n",
    "[Bloch sphere](silver/C07_Bloch_Sphere.ipynb)\n",
    " "
   ]
  },
  {
   "cell_type": "markdown",
   "id": "ruled-sweet",
   "metadata": {},
   "source": [
    "### Day 8 (03.08.2021) Operations with Complex Numbers\n",
    "\n",
    "[Quantum gates with complex numbers](silver/C04_Quantum_Gates_With_Complex_Numbers.ipynb)&nbsp;|&nbsp; \n",
    "[Operations on Bloch sphere](silver/C08_Operations_On_Bloch_Sphere.ipynb)&nbsp;|&nbsp; \n",
    "[Multiqubit operations](silver/C09_Multiqubit_Operations.ipynb)"
   ]
  },
  {
   "cell_type": "markdown",
   "id": "alert-touch",
   "metadata": {},
   "source": [
    "### Day 9 (04.08.2021) Quantum Fourier Transform and its Applications\n",
    "\n",
    "\n",
    "[Introduction to Cirq](silver/D00_Cirq_Introduction.ipynb)&nbsp;\n",
    "\n",
    "[Discrete Fourier Transform](silver/D01_Discrete_Fourier_Transform.ipynb)&nbsp;|\n",
    "[Quantum Fourier Transform](silver/D02_Quantum_Fourier_Transform.ipynb)\n",
    "\n",
    "[Phase Estimation](silver/D03_Phase_Estimation.ipynb)&nbsp;|&nbsp;\n",
    "[Order Finding Algorithm](silver/D04_Order_Finding_Algorithm.ipynb)"
   ]
  },
  {
   "cell_type": "markdown",
   "id": "worst-farmer",
   "metadata": {},
   "source": [
    "### Day 10 (05.08.2021) Shor's Algorithm\n",
    "\n",
    "[Shor's Algorithm](silver/D05_Shors_Algorithm.ipynb)&nbsp;|&nbsp;\n",
    "[Shor's Algorithm in more detail](silver/D06_Shors_Algorithm_In_More_Detail.ipynb)&nbsp;"
   ]
  },
  {
   "cell_type": "markdown",
   "id": "established-thriller",
   "metadata": {},
   "source": [
    "---\n",
    "\n",
    "[Credits](silver/S00_Credits.ipynb) | [References](silver/S01_References.ipynb)"
   ]
  }
 ],
 "metadata": {
  "kernelspec": {
   "display_name": "Python 3",
   "language": "python",
   "name": "python3"
  },
  "language_info": {
   "codemirror_mode": {
    "name": "ipython",
    "version": 3
   },
   "file_extension": ".py",
   "mimetype": "text/x-python",
   "name": "python",
   "nbconvert_exporter": "python",
   "pygments_lexer": "ipython3",
   "version": "3.7.3"
  }
 },
 "nbformat": 4,
 "nbformat_minor": 5
}
