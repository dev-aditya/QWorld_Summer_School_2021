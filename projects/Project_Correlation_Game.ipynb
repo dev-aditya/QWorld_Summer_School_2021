{
 "cells": [
  {
   "cell_type": "markdown",
   "metadata": {},
   "source": [
    "<a href=\"https://qworld.net\" target=\"_blank\" align=\"left\"><img src=\"../qworld/images/header.jpg\"  align=\"left\"></a>\n",
    "$ \\newcommand{\\bra}[1]{\\langle #1|} $\n",
    "$ \\newcommand{\\ket}[1]{|#1\\rangle} $\n",
    "$ \\newcommand{\\braket}[2]{\\langle #1|#2\\rangle} $\n",
    "$ \\newcommand{\\dot}[2]{ #1 \\cdot #2} $\n",
    "$ \\newcommand{\\biginner}[2]{\\left\\langle #1,#2\\right\\rangle} $\n",
    "$ \\newcommand{\\mymatrix}[2]{\\left( \\begin{array}{#1} #2\\end{array} \\right)} $\n",
    "$ \\newcommand{\\myvector}[1]{\\mymatrix{c}{#1}} $\n",
    "$ \\newcommand{\\myrvector}[1]{\\mymatrix{r}{#1}} $\n",
    "$ \\newcommand{\\mypar}[1]{\\left( #1 \\right)} $\n",
    "$ \\newcommand{\\mybigpar}[1]{ \\Big( #1 \\Big)} $\n",
    "$ \\newcommand{\\sqrttwo}{\\frac{1}{\\sqrt{2}}} $\n",
    "$ \\newcommand{\\dsqrttwo}{\\dfrac{1}{\\sqrt{2}}} $\n",
    "$ \\newcommand{\\onehalf}{\\frac{1}{2}} $\n",
    "$ \\newcommand{\\donehalf}{\\dfrac{1}{2}} $\n",
    "$ \\newcommand{\\hadamard}{ \\mymatrix{rr}{ \\sqrttwo & \\sqrttwo \\\\ \\sqrttwo & -\\sqrttwo }} $\n",
    "$ \\newcommand{\\vzero}{\\myvector{1\\\\0}} $\n",
    "$ \\newcommand{\\vone}{\\myvector{0\\\\1}} $\n",
    "$ \\newcommand{\\stateplus}{\\myvector{ \\sqrttwo \\\\  \\sqrttwo } } $\n",
    "$ \\newcommand{\\stateminus}{ \\myrvector{ \\sqrttwo \\\\ -\\sqrttwo } } $\n",
    "$ \\newcommand{\\myarray}[2]{ \\begin{array}{#1}#2\\end{array}} $\n",
    "$ \\newcommand{\\X}{ \\mymatrix{cc}{0 & 1 \\\\ 1 & 0}  } $\n",
    "$ \\newcommand{\\I}{ \\mymatrix{rr}{1 & 0 \\\\ 0 & 1}  } $\n",
    "$ \\newcommand{\\Z}{ \\mymatrix{rr}{1 & 0 \\\\ 0 & -1}  } $\n",
    "$ \\newcommand{\\Htwo}{ \\mymatrix{rrrr}{ \\frac{1}{2} & \\frac{1}{2} & \\frac{1}{2} & \\frac{1}{2} \\\\ \\frac{1}{2} & -\\frac{1}{2} & \\frac{1}{2} & -\\frac{1}{2} \\\\ \\frac{1}{2} & \\frac{1}{2} & -\\frac{1}{2} & -\\frac{1}{2} \\\\ \\frac{1}{2} & -\\frac{1}{2} & -\\frac{1}{2} & \\frac{1}{2} } } $\n",
    "$ \\newcommand{\\CNOT}{ \\mymatrix{cccc}{1 & 0 & 0 & 0 \\\\ 0 & 1 & 0 & 0 \\\\ 0 & 0 & 0 & 1 \\\\ 0 & 0 & 1 & 0} } $\n",
    "$ \\newcommand{\\norm}[1]{ \\left\\lVert #1 \\right\\rVert } $\n",
    "$ \\newcommand{\\pstate}[1]{ \\lceil \\mspace{-1mu} #1 \\mspace{-1.5mu} \\rfloor } $\n",
    "$ \\newcommand{\\greenbit}[1] {\\mathbf{{\\color{green}#1}}} $\n",
    "$ \\newcommand{\\bluebit}[1] {\\mathbf{{\\color{blue}#1}}} $\n",
    "$ \\newcommand{\\redbit}[1] {\\mathbf{{\\color{red}#1}}} $\n",
    "$ \\newcommand{\\brownbit}[1] {\\mathbf{{\\color{brown}#1}}} $\n",
    "$ \\newcommand{\\blackbit}[1] {\\mathbf{{\\color{black}#1}}} $"
   ]
  },
  {
   "cell_type": "markdown",
   "metadata": {},
   "source": [
    "<font style=\"font-size:28px;\" align=\"left\"><b> Project | Correlation Game </b></font>\n",
    "<br>\n",
    "_prepared by Abuzer Yakaryilmaz_\n",
    "<br><br>"
   ]
  },
  {
   "cell_type": "markdown",
   "metadata": {},
   "source": [
    "We play a correlation game with classical bits. \n",
    "\n",
    "_We represent the basis state by using brackets such as $ \\pstate{0} $ or $ \\pstate{10} $._"
   ]
  },
  {
   "cell_type": "markdown",
   "metadata": {},
   "source": [
    "### Create a python class called `CorrelationGame()`\n",
    "Each instance of this class refers to a single probabilistic system. When an instance is created, it has a single bit that is in state $ \\onehalf \\pstate{0} + \\onehalf \\pstate{1} $.\n",
    "\n",
    "This class allows us to add new bits and also remove the existing bit(s). \n",
    "\n",
    "The bits are enumerated starting from 0, and they are denoted $ b_0, b_1,\\ldots,b_n $. The state of system is kept as a linear combination of the basis states, e.g., $ \\onehalf \\pstate{01100} + \\onehalf \\pstate{11110} $.\n"
   ]
  },
  {
   "cell_type": "markdown",
   "metadata": {},
   "source": [
    "### The methods\n",
    "\n",
    "1. `add_a_new_bit(state_value=-1)`: Add a new classical bit in the specified state (pick the state randomly if state_value is -1) to the system. For example, if the system is in state $ \\onehalf \\pstate{0} + \\onehalf \\pstate{1} $ and the method `add_a_new_bit(1)` is called, then the state of the system will be $ \\onehalf \\pstate{01} + \\onehalf \\pstate{11}  $. Remark that the index of the new bit will be the number of previous bits.\n",
    "\n",
    "1. `print_state()`: Print the state of the system as a linear combination of the basis states. \n",
    "\n",
    "1. `print_state_vector()`: Print the state of the system as a list corresponding to the state vector.\n",
    "\n",
    "1. `not(index_of_bit)`: Apply the NOT operator on the specified bit.\n",
    "\n",
    "1. `cnot(control_bit,target_bit)`: Apply a CNOT operator on the specified bits.\n",
    "\n",
    "1. `random_cnot()`: Apply a CNOT operator on two randomly picked bits.\n",
    "\n",
    "1. `is_correlated(index_of_bit)`: Determine whether the specified bit is part of the correlation.\n",
    "\n",
    "1. `uncorrelated_bits()`: Return the list of uncorrelated bits.\n",
    "\n",
    "1. `correlated_bits()`: Return the list of correlated bits.\n",
    "\n",
    "1. `create_correlations()`: For each uncorrelated bit, say $ b_j $, a bit among the correlated bits is randomly picked, say $b_i$, and CNOT(i,j) is applied.\n",
    "\n",
    "1. `remove_an_uncorrelated_bit()`: Do nothing if there is a single bit in the system. Randomly pick an uncorrelated bit, remove it from the system, update the state vector accordingly, and return the value of the removed bit.\n",
    "\n",
    "1. `remove_uncorrelated_bits()`: Do nothing if there is a single bit in the system. Remove all uncorrelated bits from the system and update the state vector accordingly as long as there is more than one bit."
   ]
  },
  {
   "cell_type": "markdown",
   "metadata": {},
   "source": [
    "### Test\n",
    "\n",
    "#### Scenario 1\n",
    "\n",
    "Create an instance of your class and set $ n = 10 $\n",
    "- Add $ n $ bits with random values 0 or 1 \n",
    "- Correlate all bits\n",
    "- Repeat until a single bit remains\n",
    "    * Apply $ (n-1) $ CNOT operators on the pair of randomly picked bits\n",
    "    * Find the uncorrelated bits, remove them from the system, and then update n."
   ]
  }
 ],
 "metadata": {
  "kernelspec": {
   "display_name": "Python 3",
   "language": "python",
   "name": "python3"
  },
  "language_info": {
   "codemirror_mode": {
    "name": "ipython",
    "version": 3
   },
   "file_extension": ".py",
   "mimetype": "text/x-python",
   "name": "python",
   "nbconvert_exporter": "python",
   "pygments_lexer": "ipython3",
   "version": "3.7.1"
  }
 },
 "nbformat": 4,
 "nbformat_minor": 2
}
