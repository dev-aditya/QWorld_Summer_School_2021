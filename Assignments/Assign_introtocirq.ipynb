{
 "cells": [
  {
   "cell_type": "markdown",
   "id": "5c2c3869",
   "metadata": {
    "deletable": false,
    "editable": false,
    "nbgrader": {
     "cell_type": "markdown",
     "checksum": "2a5b093df76c8450d0f0e969441e5d7d",
     "grade": false,
     "grade_id": "cell-22f9202c18efbe8b",
     "locked": true,
     "schema_version": 3,
     "solution": false,
     "task": false
    }
   },
   "source": [
    "# Instructions\n",
    "\n",
    "The places where you have enter code, to answer the questions, are marked with `# YOUR CODE HERE`. Once you have written your code you should remove the `raise NotImplementedError()` statement."
   ]
  },
  {
   "cell_type": "markdown",
   "id": "561eeeb7",
   "metadata": {
    "deletable": false,
    "editable": false,
    "nbgrader": {
     "cell_type": "markdown",
     "checksum": "ffa5885ed6d7942de771b2c5ece1f8f4",
     "grade": false,
     "grade_id": "cell-142fd0888771f0a4",
     "locked": true,
     "schema_version": 3,
     "solution": false,
     "task": false
    }
   },
   "source": [
    "## Question 1 (3 points)\n",
    "\n",
    "Implement the function `create_circuit_1` that has\n",
    "\n",
    "* Inputs: None\n",
    "* Returns: a `cirq.Circuit` object of 5 qubits.\n",
    "\n",
    "The function implements, in order, the following operations:\n",
    "\n",
    "1. Construct a quantum circuit with 5 qubits.\n",
    "2. Apply the $H$ gate to each qubit.\n",
    "3. Apply the $Z$ gate to qubits in position 0,2 and 4.\n",
    "4. Apply the $H$ gate to each qubit.\n"
   ]
  },
  {
   "cell_type": "code",
   "execution_count": 1,
   "id": "d440aedb",
   "metadata": {
    "deletable": false,
    "nbgrader": {
     "cell_type": "code",
     "checksum": "fa0382703d32603e0aa6879fbbe9d2b1",
     "grade": false,
     "grade_id": "cell-7f1195975a6e2e59",
     "locked": false,
     "schema_version": 3,
     "solution": true,
     "task": false
    }
   },
   "outputs": [],
   "source": [
    "import cirq\n",
    "from cirq import H, Z\n",
    "\n",
    "def create_circuit_1(): \n",
    "\n",
    "    circuit = cirq.Circuit()\n",
    "    # Do not modify anything above\n",
    "    \n",
    "    qlist = cirq.LineQubit.range(5)\n",
    "    circuit.append(H.on_each(*qlist))\n",
    "    circuit.append(Z.on_each(*qlist[0:6:2]))\n",
    "    circuit.append(H.on_each(*qlist))\n",
    "    \n",
    "    # Do not modify anything below\n",
    "    return circuit"
   ]
  },
  {
   "cell_type": "markdown",
   "id": "3150d24a",
   "metadata": {
    "deletable": false,
    "editable": false,
    "nbgrader": {
     "cell_type": "markdown",
     "checksum": "77b68673a50f384d399a4d376c5ac86d",
     "grade": false,
     "grade_id": "cell-670ea821b8948249",
     "locked": true,
     "schema_version": 3,
     "solution": false,
     "task": false
    }
   },
   "source": [
    "In the following cell, there is some code that will help you make sure your solution is correct. You can modify this code as you wish. You may also create more cells and write more code to test your own solution. "
   ]
  },
  {
   "cell_type": "code",
   "execution_count": 2,
   "id": "bcd683ec",
   "metadata": {},
   "outputs": [
    {
     "name": "stdout",
     "output_type": "stream",
     "text": [
      "0: ───H───Z───H───\n",
      "\n",
      "1: ───H───H───────\n",
      "\n",
      "2: ───H───Z───H───\n",
      "\n",
      "3: ───H───H───────\n",
      "\n",
      "4: ───H───Z───H───\n"
     ]
    }
   ],
   "source": [
    "circuit = create_circuit_1()\n",
    "print(circuit)"
   ]
  },
  {
   "cell_type": "markdown",
   "id": "ed8cefd6",
   "metadata": {
    "deletable": false,
    "editable": false,
    "nbgrader": {
     "cell_type": "markdown",
     "checksum": "027340e2dc9cc79530104137ecd6036b",
     "grade": false,
     "grade_id": "cell-2751d5413c9d1161",
     "locked": true,
     "schema_version": 3,
     "solution": false,
     "task": false
    }
   },
   "source": [
    "# How autograding will work in this workshop\n",
    "In the next cell, there are some hidden tests, not available to you, that will be used to *grade* if your solution is correct, once you submit this file back on Canvas. \n",
    "\n",
    "You will be notified which of these test cells pass and which fail as a comment on your Canvas assignment."
   ]
  },
  {
   "cell_type": "code",
   "execution_count": 3,
   "id": "aafea3c7",
   "metadata": {
    "deletable": false,
    "editable": false,
    "nbgrader": {
     "cell_type": "code",
     "checksum": "03da4ad6ba66b7d22e3b24f991436c27",
     "grade": true,
     "grade_id": "cell-3c7171352e16d580",
     "locked": true,
     "points": 3,
     "schema_version": 3,
     "solution": false,
     "task": false
    }
   },
   "outputs": [],
   "source": [
    "# hidden tests in this cell will be used for grading."
   ]
  },
  {
   "cell_type": "markdown",
   "id": "2557b931",
   "metadata": {
    "deletable": false,
    "editable": false,
    "nbgrader": {
     "cell_type": "markdown",
     "checksum": "4f18c95dfbfabf35e69c00ec61add989",
     "grade": false,
     "grade_id": "cell-077f191f18a4611d",
     "locked": true,
     "schema_version": 3,
     "solution": false,
     "task": false
    }
   },
   "source": [
    "## Question 2 (4 points)\n",
    "\n",
    "Implement the function `create_circuit_2` that has \n",
    "\n",
    "* Inputs: None\n",
    "* Returns: (1) a `cirq.Circuit` object of 5 qubits, (2) measurement results of the circuit for 1000 iterations (a `collections.Counter` object).\n",
    "\n",
    "The function implements, in order, the following operations:\n",
    "\n",
    "1. Construct a quantum circuit with 5 qubits.\n",
    "2. Apply the $H$ gate to each qubit\n",
    "3. Apply $NOT$ gate to qubit in position 0 controlled by the other qubits. (1,2,3,4)\n",
    "4. Measure qubit 0\n",
    "5. Run your circuit for 1000 times\n",
    "\n",
    "\n",
    "\n",
    "You should observe 0 and 1 almost with equal probability."
   ]
  },
  {
   "cell_type": "code",
   "execution_count": 4,
   "id": "d6cca0d1",
   "metadata": {
    "deletable": false,
    "nbgrader": {
     "cell_type": "code",
     "checksum": "466b235e9d2abdc5e0fcbabafbbe8c4c",
     "grade": false,
     "grade_id": "cell-a7fba205e9b16b89",
     "locked": false,
     "schema_version": 3,
     "solution": true,
     "task": false
    }
   },
   "outputs": [],
   "source": [
    "import cirq\n",
    "from cirq import X, H, measure\n",
    "\n",
    "def create_circuit_2():\n",
    "    \n",
    "    circuit = cirq.Circuit()\n",
    "    # Do not modify anything above\n",
    "    \n",
    "    qlist = cirq.LineQubit.range(5)\n",
    "    circuit.append(H.on_each(*qlist))\n",
    "    circuit.append(X(qlist[0]).controlled_by(*qlist[1:]))\n",
    "    circuit.append(measure(qlist[0], key='result'))\n",
    "    \n",
    "    s = cirq.Simulator()\n",
    "    samples = s.run(circuit, repetitions=1000)\n",
    "    # Do not modify anything below\n",
    "    \n",
    "    result = samples.histogram(key='result')\n",
    "    return circuit, result"
   ]
  },
  {
   "cell_type": "code",
   "execution_count": 5,
   "id": "c2438876",
   "metadata": {},
   "outputs": [
    {
     "name": "stdout",
     "output_type": "stream",
     "text": [
      "0: ───H───X───M('result')───\n",
      "          │\n",
      "1: ───H───@─────────────────\n",
      "          │\n",
      "2: ───H───@─────────────────\n",
      "          │\n",
      "3: ───H───@─────────────────\n",
      "          │\n",
      "4: ───H───@─────────────────\n",
      "Counter({1: 518, 0: 482})\n"
     ]
    }
   ],
   "source": [
    "# You can check your code by running this cell\n",
    "circuit, result = create_circuit_2()\n",
    "print(circuit)\n",
    "print(result)"
   ]
  },
  {
   "cell_type": "code",
   "execution_count": 6,
   "id": "eb7e6c73",
   "metadata": {
    "deletable": false,
    "editable": false,
    "nbgrader": {
     "cell_type": "code",
     "checksum": "a1c7f6e1d6c20164664f6714d2f8f3de",
     "grade": true,
     "grade_id": "cell-95022085876ca3f8",
     "locked": true,
     "points": 4,
     "schema_version": 3,
     "solution": false,
     "task": false
    }
   },
   "outputs": [],
   "source": [
    "# hidden tests in this cell will be used for grading."
   ]
  },
  {
   "cell_type": "markdown",
   "id": "5476a184",
   "metadata": {
    "deletable": false,
    "editable": false,
    "nbgrader": {
     "cell_type": "markdown",
     "checksum": "e14580170d60932021ebddbbbd59423b",
     "grade": false,
     "grade_id": "cell-17e76de3697d40b6",
     "locked": true,
     "schema_version": 3,
     "solution": false,
     "task": false
    }
   },
   "source": [
    "## Question 3 (3 points)\n",
    "\n",
    "\n",
    "Implement the function `create_circuit_3` \n",
    "\n",
    "* Inputs: None\n",
    "* Returns: (1) a `cirq.Circuit` object of 2 qubits, (2) a `numpy.ndarray` object that is the unitary matrix associated with the circuit.\n",
    "\n",
    "The function implements, in order, the following operations:\n",
    "\n",
    "1. Construct a quantum circuit with 2 qubits.\n",
    "2. Apply $CNOT$ gate where qubit 0 is the control and qubit 1 is the target qubit\n",
    "3. Apply $CNOT$ gate where qubit 1 is the control and qubit 0 is the target qubit\n",
    "4. Apply $CNOT$ gate where qubit 0 is the control and qubit 1 is the target qubit\n",
    "5. Obtain the unitary matrix representation of your circuit.\n",
    "\n",
    "_Note: The circuit you implemented swaps the qubits 0 and 1._"
   ]
  },
  {
   "cell_type": "code",
   "execution_count": 7,
   "id": "cf030eb4",
   "metadata": {
    "deletable": false,
    "nbgrader": {
     "cell_type": "code",
     "checksum": "bf157d0bfa54c43df50d03f7c45f9e8f",
     "grade": false,
     "grade_id": "cell-3424f8296e613c54",
     "locked": false,
     "schema_version": 3,
     "solution": true,
     "task": false
    }
   },
   "outputs": [],
   "source": [
    "import cirq\n",
    "from cirq import CX\n",
    "\n",
    "def create_circuit_3():\n",
    "    \n",
    "    circuit = cirq.Circuit()\n",
    "    # Do not modify anything above\n",
    "    \n",
    "    qlist = cirq.LineQubit.range(2)\n",
    "    circuit.append(CX(*qlist))\n",
    "    circuit.append(CX(*qlist[::-1])) ##reverses a list\n",
    "    circuit.append(CX(*qlist))\n",
    "    \n",
    "    unitary_matrix = cirq.unitary(circuit)\n",
    "    # Do not modify anything below\n",
    "\n",
    "    return circuit, unitary_matrix"
   ]
  },
  {
   "cell_type": "code",
   "execution_count": 8,
   "id": "a91631e0",
   "metadata": {},
   "outputs": [
    {
     "name": "stdout",
     "output_type": "stream",
     "text": [
      "0: ───@───X───@───\n",
      "      │   │   │\n",
      "1: ───X───@───X───\n",
      "[[1.+0.j 0.+0.j 0.+0.j 0.+0.j]\n",
      " [0.+0.j 0.+0.j 1.+0.j 0.+0.j]\n",
      " [0.+0.j 1.+0.j 0.+0.j 0.+0.j]\n",
      " [0.+0.j 0.+0.j 0.+0.j 1.+0.j]]\n"
     ]
    }
   ],
   "source": [
    "# You can check your code here by printing the circuit and the matrix\n",
    "circuit, matrix = create_circuit_3()\n",
    "print(circuit)\n",
    "print(matrix)"
   ]
  },
  {
   "cell_type": "code",
   "execution_count": 9,
   "id": "edbf82fe",
   "metadata": {
    "deletable": false,
    "editable": false,
    "nbgrader": {
     "cell_type": "code",
     "checksum": "ed9b2cb77529d4bcdb936b8fe8010db2",
     "grade": true,
     "grade_id": "cell-9bf79760c785bf1c",
     "locked": true,
     "points": 3,
     "schema_version": 3,
     "solution": false,
     "task": false
    }
   },
   "outputs": [],
   "source": [
    "# hidden tests in this cell will be used for grading."
   ]
  },
  {
   "cell_type": "code",
   "execution_count": null,
   "id": "78e756b9",
   "metadata": {},
   "outputs": [],
   "source": []
  }
 ],
 "metadata": {
  "kernelspec": {
   "display_name": "Python 3 (ipykernel)",
   "language": "python",
   "name": "python3"
  },
  "language_info": {
   "codemirror_mode": {
    "name": "ipython",
    "version": 3
   },
   "file_extension": ".py",
   "mimetype": "text/x-python",
   "name": "python",
   "nbconvert_exporter": "python",
   "pygments_lexer": "ipython3",
   "version": "3.8.10"
  }
 },
 "nbformat": 4,
 "nbformat_minor": 5
}
