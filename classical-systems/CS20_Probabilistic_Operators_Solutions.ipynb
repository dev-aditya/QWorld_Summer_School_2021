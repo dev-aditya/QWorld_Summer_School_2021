{
 "cells": [
  {
   "cell_type": "markdown",
   "metadata": {},
   "source": [
    "<a href=\"https://qworld.net\" target=\"_blank\" align=\"left\"><img src=\"../qworld/images/header.jpg\"  align=\"left\"></a>\n",
    "$ \\newcommand{\\bra}[1]{\\langle #1|} $\n",
    "$ \\newcommand{\\ket}[1]{|#1\\rangle} $\n",
    "$ \\newcommand{\\braket}[2]{\\langle #1|#2\\rangle} $\n",
    "$ \\newcommand{\\dot}[2]{ #1 \\cdot #2} $\n",
    "$ \\newcommand{\\biginner}[2]{\\left\\langle #1,#2\\right\\rangle} $\n",
    "$ \\newcommand{\\mymatrix}[2]{\\left( \\begin{array}{#1} #2\\end{array} \\right)} $\n",
    "$ \\newcommand{\\myvector}[1]{\\mymatrix{c}{#1}} $\n",
    "$ \\newcommand{\\myrvector}[1]{\\mymatrix{r}{#1}} $\n",
    "$ \\newcommand{\\mypar}[1]{\\left( #1 \\right)} $\n",
    "$ \\newcommand{\\mybigpar}[1]{ \\Big( #1 \\Big)} $\n",
    "$ \\newcommand{\\sqrttwo}{\\frac{1}{\\sqrt{2}}} $\n",
    "$ \\newcommand{\\dsqrttwo}{\\dfrac{1}{\\sqrt{2}}} $\n",
    "$ \\newcommand{\\onehalf}{\\frac{1}{2}} $\n",
    "$ \\newcommand{\\donehalf}{\\dfrac{1}{2}} $\n",
    "$ \\newcommand{\\hadamard}{ \\mymatrix{rr}{ \\sqrttwo & \\sqrttwo \\\\ \\sqrttwo & -\\sqrttwo }} $\n",
    "$ \\newcommand{\\vzero}{\\myvector{1\\\\0}} $\n",
    "$ \\newcommand{\\vone}{\\myvector{0\\\\1}} $\n",
    "$ \\newcommand{\\stateplus}{\\myvector{ \\sqrttwo \\\\  \\sqrttwo } } $\n",
    "$ \\newcommand{\\stateminus}{ \\myrvector{ \\sqrttwo \\\\ -\\sqrttwo } } $\n",
    "$ \\newcommand{\\myarray}[2]{ \\begin{array}{#1}#2\\end{array}} $\n",
    "$ \\newcommand{\\X}{ \\mymatrix{cc}{0 & 1 \\\\ 1 & 0}  } $\n",
    "$ \\newcommand{\\I}{ \\mymatrix{rr}{1 & 0 \\\\ 0 & 1}  } $\n",
    "$ \\newcommand{\\Z}{ \\mymatrix{rr}{1 & 0 \\\\ 0 & -1}  } $\n",
    "$ \\newcommand{\\Htwo}{ \\mymatrix{rrrr}{ \\frac{1}{2} & \\frac{1}{2} & \\frac{1}{2} & \\frac{1}{2} \\\\ \\frac{1}{2} & -\\frac{1}{2} & \\frac{1}{2} & -\\frac{1}{2} \\\\ \\frac{1}{2} & \\frac{1}{2} & -\\frac{1}{2} & -\\frac{1}{2} \\\\ \\frac{1}{2} & -\\frac{1}{2} & -\\frac{1}{2} & \\frac{1}{2} } } $\n",
    "$ \\newcommand{\\CNOT}{ \\mymatrix{cccc}{1 & 0 & 0 & 0 \\\\ 0 & 1 & 0 & 0 \\\\ 0 & 0 & 0 & 1 \\\\ 0 & 0 & 1 & 0} } $\n",
    "$ \\newcommand{\\norm}[1]{ \\left\\lVert #1 \\right\\rVert } $\n",
    "$ \\newcommand{\\pstate}[1]{ \\lceil \\mspace{-1mu} #1 \\mspace{-1.5mu} \\rfloor } $\n",
    "$ \\newcommand{\\greenbit}[1] {\\mathbf{{\\color{green}#1}}} $\n",
    "$ \\newcommand{\\bluebit}[1] {\\mathbf{{\\color{blue}#1}}} $\n",
    "$ \\newcommand{\\redbit}[1] {\\mathbf{{\\color{red}#1}}} $\n",
    "$ \\newcommand{\\brownbit}[1] {\\mathbf{{\\color{brown}#1}}} $\n",
    "$ \\newcommand{\\blackbit}[1] {\\mathbf{{\\color{black}#1}}} $"
   ]
  },
  {
   "cell_type": "markdown",
   "metadata": {},
   "source": [
    "<font style=\"font-size:28px;\" align=\"left\"><b> <font color=\"blue\"> Solutions for </font>Probabilistic Operators </b></font>\n",
    "<br>\n",
    "_prepared by Abuzer Yakaryilmaz_\n",
    "<br><br>"
   ]
  },
  {
   "cell_type": "markdown",
   "metadata": {},
   "source": [
    "<a id=\"task2\"></a>\n",
    "<h3>Task 2</h3>\n",
    "\n",
    "We are given the following probabilistic operator: $ B =  \\mymatrix{ccc}{ 0.4 & 0.6 & 0 \\\\ 0.2 & 0.1 & 0.7 \\\\ 0.4 & 0.3 & 0.3 } $.\n",
    "\n",
    "What is the transition probability from the second state to the third state?\n",
    "\n",
    "What is the transition probability from the third state to the first state?\n",
    "\n",
    "What is the transition probability from the first state to the second state?"
   ]
  },
  {
   "cell_type": "markdown",
   "metadata": {},
   "source": [
    "<h3>Solution</h3>"
   ]
  },
  {
   "cell_type": "markdown",
   "metadata": {},
   "source": [
    "Remember that the transitions are from the top to the left:\n",
    "\n",
    "$\n",
    "\\begin{array}{c|ccc} \\hookleftarrow & \\mathbf{s1} & \\mathbf{s2} & \\mathbf{s3} \\\\ \\hline \n",
    "    \\mathbf{s1} & 0.4 & 0.6 & 0 \\\\ \n",
    "    \\mathbf{s2} & 0.2 & 0.1 & 0.7 \\\\\n",
    "    \\mathbf{s3} & 0.4 & 0.3 & 0.3 \\end{array}\n",
    "$\n",
    "\n",
    "The transition probability **from the second state to the third state** is represented by the entry at **the 2nd column and 3rd row**, and so it is 0.3.\n",
    "\n",
    "$\n",
    "\\begin{array}{c|ccc} \\hookleftarrow & \\mathbf{s1} & \\color{blue}{\\mathbf{from}} & \\mathbf{s3} \\\\ \\hline \n",
    "    \\mathbf{s1} & 0.4 & 0.6 & 0 \\\\ \n",
    "    \\mathbf{s2} & 0.2 & 0.1 & 0.7 \\\\\n",
    "    \\color{blue}{\\mathbf{to}} & 0.4 & {\\color{blue}{\\mathbf{0.3}}} & 0.3 \\end{array}\n",
    "$\n",
    "\n",
    "The transition probability **from the third state to the first state** is represented by the entry at **the 3rd column and 1st row**, and so it is 0.\n",
    "\n",
    "$\n",
    "\\begin{array}{c|ccc} \\hookleftarrow & \\mathbf{s1} & \\mathbf{s2} & \\color{blue}{\\mathbf{from}} \\\\ \\hline \n",
    "     \\color{blue}{\\mathbf{to}} & 0.4 & 0.6 & {\\color{blue}{\\mathbf{0}}}  \\\\ \n",
    "    \\mathbf{s2} & 0.2 & 0.1 & 0.7 \\\\\n",
    "    \\mathbf{s3} & 0.4 & 0.3 & 0.3 \\end{array}\n",
    "$\n",
    "\n",
    "The transition probability **from the first state to the second state** is represented by the entry at **the 1st column and 2nd row**, and so it is 0.2.\n",
    "\n",
    "$\n",
    "\\begin{array}{c|ccc} \\hookleftarrow & \\color{blue}{\\mathbf{from}} & \\mathbf{s2} & \\mathbf{s3} \\\\ \\hline \n",
    "    \\mathbf{s1} & 0.4 & 0.6 & 0 \\\\ \n",
    "    \\color{blue}{\\mathbf{to}} & {\\color{blue}{\\mathbf{0.2}}} & 0.1 & 0.7 \\\\\n",
    "    \\mathbf{s3} & 0.4 & 0.3 & 0.3 \\end{array}\n",
    "$"
   ]
  },
  {
   "cell_type": "markdown",
   "metadata": {},
   "source": [
    "<a id=\"task3\"></a>\n",
    "<h3>Task 3</h3>\n",
    "\n",
    "Randomly construct a $ (3 \\times 3 ) $-dimensional probabilistic operator.\n",
    "\n",
    "Randomly determine the entries of the matrix that represents a probabilistic operator."
   ]
  },
  {
   "cell_type": "markdown",
   "metadata": {},
   "source": [
    "<h3>Solution</h3>"
   ]
  },
  {
   "cell_type": "code",
   "execution_count": null,
   "metadata": {},
   "outputs": [],
   "source": [
    "# let's start with a zero matrix\n",
    "A = [\n",
    "    [0,0,0],\n",
    "    [0,0,0],\n",
    "    [0,0,0]\n",
    "]\n",
    "\n",
    "# we will randomly pick the entries and then make normalization for each column\n",
    "# it will be easier to iteratively construct the columns\n",
    "# you may notice that each column is a probabilistic state\n",
    "from random import randrange\n",
    "\n",
    "normalization_factor = [0,0,0] # the normalization factor of each column may be different\n",
    "\n",
    "for j in range(3): # each column is iteratively constructed\n",
    "    normalization_factor[j] = 0\n",
    "    while normalization_factor[j]==0: # the normalization factor cannot be zero\n",
    "        for i in range(3):\n",
    "            A[i][j] = randrange(101) # pick a random value between 0 and 100\n",
    "            normalization_factor[j] += A[i][j]\n",
    "\n",
    "# let's print matrix A before the normalization\n",
    "# the entries are between 0 and 100\n",
    "print(\"matrix A before normalization:\")\n",
    "for i in range(3):\n",
    "    print(A[i])\n",
    "\n",
    "\n",
    "# let's normalize each column\n",
    "for j in range(3):\n",
    "    for i in range(3):\n",
    "        A[i][j] /= normalization_factor[j]  # shorter form of A[i][j] = A[i][j] / normalization_factor[j]\n",
    "        \n",
    "# let's print matrix A after the normalization\n",
    "print() # print an empty line\n",
    "print(\"matrix A after normalization:\")\n",
    "for i in range(3):\n",
    "    print(A[i]) \n",
    "\n",
    "print()\n",
    "print(\"the column summations must be 1\")\n",
    "\n",
    "sum = [0,0,0]\n",
    "for j in range(3):\n",
    "    for i in range(3):\n",
    "        sum[j] += A[i][j]\n",
    "\n",
    "print(sum) "
   ]
  },
  {
   "cell_type": "markdown",
   "metadata": {},
   "source": [
    "<a id=\"task4\"></a>\n",
    "<h3>Task 4</h3>\n",
    "\n",
    "What is the new probabilistic state if the operator $ B =  \\mymatrix{ccc}{ 0.4 & 0.6 & 0 \\\\ 0.2 & 0.1 & 0.7 \\\\ 0.4 & 0.3 & 0.3 } $ is applied to the state $ \\myvector{ 0.1 \\\\ 0.3 \\\\ 0.6 } $.\n",
    "\n",
    "Please find the result by using matrix-vector multiplication.\n",
    "\n",
    "Please do not use any python library for matrix-vector multiplication. \n",
    "\n",
    "<i> The new probabilistic state should be $ \\myvector{0.22 \\\\ 0.47 \\\\ 0.31} $. </i>"
   ]
  },
  {
   "cell_type": "markdown",
   "metadata": {},
   "source": [
    "<h3>Solution</h3>"
   ]
  },
  {
   "cell_type": "code",
   "execution_count": null,
   "metadata": {},
   "outputs": [],
   "source": [
    "# operator B\n",
    "B = [\n",
    "    [0.4,0.6,0],\n",
    "    [0.2,0.1,0.7],\n",
    "    [0.4,0.3,0.3]\n",
    "]\n",
    "\n",
    "# the current state\n",
    "v = [0.1,0.3,0.6]\n",
    "\n",
    "newstate = []\n",
    "\n",
    "index = 0\n",
    "\n",
    "for row in B:\n",
    "    newstate.append(0)\n",
    "    for i in range(len(row)):\n",
    "        newstate[index] = newstate[index] + row[i] * v[i]\n",
    "    index = index + 1\n",
    "    \n",
    "print(newstate)"
   ]
  },
  {
   "cell_type": "markdown",
   "metadata": {},
   "source": [
    "<a id=\"task5\"></a>\n",
    "<h3> Task 5 </h3>\n",
    "\n",
    "Write a function that takes a probabilistic operator and a probabilistic state, and then returns the new probabilistic state.\n",
    "\n",
    "Your function should work for any dimension.\n",
    "\n",
    "Test your function on $ \\mymatrix{ccc}{ 0.4 & 0.6 & 0 \\\\ 0.2 & 0.1 & 0.7 \\\\ 0.4 & 0.3 & 0.3 } $ and $ \\myvector{0.1 \\\\ 0.3 \\\\ 0.6} $. \n",
    "\n",
    "The new probabilistic state should be $ \\myvector{0.22 \\\\ 0.47 \\\\ 0.31} $.\n",
    "\n",
    "Then, evolve your system for 5, 10, 20, and 40 steps.\n",
    "\n",
    "This system should evolve to a fixed probabilistic state.\n",
    "\n",
    "Change your initial state to  $ \\myvector{1 \\\\ 0 \\\\ 0} $, and see whether the converged state is the same or not."
   ]
  },
  {
   "cell_type": "markdown",
   "metadata": {},
   "source": [
    "<h3>Solution</h3>"
   ]
  },
  {
   "cell_type": "code",
   "execution_count": null,
   "metadata": {},
   "outputs": [],
   "source": [
    "def linear_evolve(operator,state):\n",
    "    newstate=[]\n",
    "    for i in range(len(operator)): # for each row\n",
    "        # we calculate the corresponding entry of the new state\n",
    "        newstate.append(0) # we set this value to 0 for the initialization\n",
    "        for j in range(len(state)): # for each element in state\n",
    "            newstate[i] = newstate[i] + operator[i][j] * state[j] # summation of pairwise multiplications\n",
    "    return newstate # return the new probabilistic state"
   ]
  },
  {
   "cell_type": "code",
   "execution_count": null,
   "metadata": {},
   "outputs": [],
   "source": [
    "# test the function\n",
    "\n",
    "# operator for the test\n",
    "B = [\n",
    "    [0.4,0.6,0],\n",
    "    [0.2,0.1,0.7],\n",
    "    [0.4,0.3,0.3]\n",
    "]\n",
    "\n",
    "# state for test\n",
    "v = [0.1,0.3,0.6]\n",
    "\n",
    "newstate = linear_evolve(B,v)\n",
    "print(newstate)"
   ]
  },
  {
   "cell_type": "code",
   "execution_count": null,
   "metadata": {},
   "outputs": [],
   "source": [
    "for step in [5,10,20,40]:\n",
    "    new_state = [0.1,0.3,0.6] # initial state\n",
    "    for i in range(step):\n",
    "        new_state = linear_evolve(B,new_state)\n",
    "    print(new_state)"
   ]
  },
  {
   "cell_type": "markdown",
   "metadata": {},
   "source": [
    "<b> The system seems to converge to a fixed probabilistic state </b>.\n",
    "\n",
    "Moreover, the converged probabilistic state is an equal distribution."
   ]
  },
  {
   "cell_type": "code",
   "execution_count": null,
   "metadata": {},
   "outputs": [],
   "source": [
    "# change the initial state\n",
    "\n",
    "for step in [5,10,20,40]:\n",
    "    new_state = [1,0,0] # initial state\n",
    "    for i in range(step):\n",
    "        new_state = linear_evolve(B,new_state)\n",
    "    print(new_state)"
   ]
  },
  {
   "cell_type": "markdown",
   "metadata": {},
   "source": [
    "<b> The initial state do not change the convergance. </b>."
   ]
  }
 ],
 "metadata": {
  "kernelspec": {
   "display_name": "Python 3",
   "language": "python",
   "name": "python3"
  },
  "language_info": {
   "codemirror_mode": {
    "name": "ipython",
    "version": 3
   },
   "file_extension": ".py",
   "mimetype": "text/x-python",
   "name": "python",
   "nbconvert_exporter": "python",
   "pygments_lexer": "ipython3",
   "version": "3.7.1"
  }
 },
 "nbformat": 4,
 "nbformat_minor": 2
}
