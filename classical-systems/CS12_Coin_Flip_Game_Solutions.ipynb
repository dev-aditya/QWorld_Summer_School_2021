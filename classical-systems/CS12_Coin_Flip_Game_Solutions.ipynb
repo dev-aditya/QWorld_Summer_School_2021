{
 "cells": [
  {
   "cell_type": "markdown",
   "metadata": {},
   "source": [
    "<a href=\"https://qworld.net\" target=\"_blank\" align=\"left\"><img src=\"../qworld/images/header.jpg\"  align=\"left\"></a>\n",
    "$ \\newcommand{\\bra}[1]{\\langle #1|} $\n",
    "$ \\newcommand{\\ket}[1]{|#1\\rangle} $\n",
    "$ \\newcommand{\\braket}[2]{\\langle #1|#2\\rangle} $\n",
    "$ \\newcommand{\\dot}[2]{ #1 \\cdot #2} $\n",
    "$ \\newcommand{\\biginner}[2]{\\left\\langle #1,#2\\right\\rangle} $\n",
    "$ \\newcommand{\\mymatrix}[2]{\\left( \\begin{array}{#1} #2\\end{array} \\right)} $\n",
    "$ \\newcommand{\\myvector}[1]{\\mymatrix{c}{#1}} $\n",
    "$ \\newcommand{\\myrvector}[1]{\\mymatrix{r}{#1}} $\n",
    "$ \\newcommand{\\mypar}[1]{\\left( #1 \\right)} $\n",
    "$ \\newcommand{\\mybigpar}[1]{ \\Big( #1 \\Big)} $\n",
    "$ \\newcommand{\\sqrttwo}{\\frac{1}{\\sqrt{2}}} $\n",
    "$ \\newcommand{\\dsqrttwo}{\\dfrac{1}{\\sqrt{2}}} $\n",
    "$ \\newcommand{\\onehalf}{\\frac{1}{2}} $\n",
    "$ \\newcommand{\\donehalf}{\\dfrac{1}{2}} $\n",
    "$ \\newcommand{\\hadamard}{ \\mymatrix{rr}{ \\sqrttwo & \\sqrttwo \\\\ \\sqrttwo & -\\sqrttwo }} $\n",
    "$ \\newcommand{\\vzero}{\\myvector{1\\\\0}} $\n",
    "$ \\newcommand{\\vone}{\\myvector{0\\\\1}} $\n",
    "$ \\newcommand{\\stateplus}{\\myvector{ \\sqrttwo \\\\  \\sqrttwo } } $\n",
    "$ \\newcommand{\\stateminus}{ \\myrvector{ \\sqrttwo \\\\ -\\sqrttwo } } $\n",
    "$ \\newcommand{\\myarray}[2]{ \\begin{array}{#1}#2\\end{array}} $\n",
    "$ \\newcommand{\\X}{ \\mymatrix{cc}{0 & 1 \\\\ 1 & 0}  } $\n",
    "$ \\newcommand{\\I}{ \\mymatrix{rr}{1 & 0 \\\\ 0 & 1}  } $\n",
    "$ \\newcommand{\\Z}{ \\mymatrix{rr}{1 & 0 \\\\ 0 & -1}  } $\n",
    "$ \\newcommand{\\Htwo}{ \\mymatrix{rrrr}{ \\frac{1}{2} & \\frac{1}{2} & \\frac{1}{2} & \\frac{1}{2} \\\\ \\frac{1}{2} & -\\frac{1}{2} & \\frac{1}{2} & -\\frac{1}{2} \\\\ \\frac{1}{2} & \\frac{1}{2} & -\\frac{1}{2} & -\\frac{1}{2} \\\\ \\frac{1}{2} & -\\frac{1}{2} & -\\frac{1}{2} & \\frac{1}{2} } } $\n",
    "$ \\newcommand{\\CNOT}{ \\mymatrix{cccc}{1 & 0 & 0 & 0 \\\\ 0 & 1 & 0 & 0 \\\\ 0 & 0 & 0 & 1 \\\\ 0 & 0 & 1 & 0} } $\n",
    "$ \\newcommand{\\norm}[1]{ \\left\\lVert #1 \\right\\rVert } $\n",
    "$ \\newcommand{\\pstate}[1]{ \\lceil \\mspace{-1mu} #1 \\mspace{-1.5mu} \\rfloor } $\n",
    "$ \\newcommand{\\greenbit}[1] {\\mathbf{{\\color{green}#1}}} $\n",
    "$ \\newcommand{\\bluebit}[1] {\\mathbf{{\\color{blue}#1}}} $\n",
    "$ \\newcommand{\\redbit}[1] {\\mathbf{{\\color{red}#1}}} $\n",
    "$ \\newcommand{\\brownbit}[1] {\\mathbf{{\\color{brown}#1}}} $\n",
    "$ \\newcommand{\\blackbit}[1] {\\mathbf{{\\color{black}#1}}} $"
   ]
  },
  {
   "cell_type": "markdown",
   "metadata": {},
   "source": [
    "<font style=\"font-size:28px;\" align=\"left\"><b> <font color=\"blue\"> Solutions for </font>A Game with two biased coins  </b></font>\n",
    "<br>\n",
    "_prepared by Abuzer Yakaryilmaz_\n",
    "<br><br>"
   ]
  },
  {
   "cell_type": "markdown",
   "metadata": {},
   "source": [
    "<a id=\"task2\"></a>\n",
    "<h3> Task 2: Tracing ten biased coin tosses </h3>\n",
    "\n",
    "By using python, calculate the probabilities of Asja seeing heads and tails after 10 coin tosses.\n",
    "\n",
    "$\n",
    "GameCoins = \\begin{array}{c|cc} \\hookleftarrow & \\mathbf{Head} & \\mathbf{Tail} \\\\ \\hline \\mathbf{Head} & 0.6 & 0.3\\\\  \\mathbf{Tail} & 0.4 & 0.7  \\end{array} = \\begin{array}{c|cc} \\hookleftarrow & \\mathbf{0} & \\mathbf{1} \\\\ \\hline \\mathbf{0} & 0.6 & 0.3 \\\\  \\mathbf{1} & 0.4 & 0.7  \\end{array}\n",
    "$\n",
    "\n",
    "Use a loop in your solution."
   ]
  },
  {
   "cell_type": "markdown",
   "metadata": {},
   "source": [
    "<h3>Solution</h3>"
   ]
  },
  {
   "cell_type": "code",
   "execution_count": null,
   "metadata": {
    "scrolled": true
   },
   "outputs": [],
   "source": [
    "#\n",
    "# We copy and paste the previous code\n",
    "#\n",
    "\n",
    "# initial condition:\n",
    "# Asja will start with one euro,\n",
    "#    and so, we assume that the probability of having head is 1 at the beginning.\n",
    "prob_head = 1\n",
    "prob_tail = 0\n",
    "\n",
    "number_of_iterations = 10\n",
    "\n",
    "for i in range(number_of_iterations):\n",
    "    # the new probability of head is calculated by using the first row of table\n",
    "    new_prob_head = prob_head * 0.6 + prob_tail * 0.3\n",
    "\n",
    "    # the new probability of tail is calculated by using the second row of table\n",
    "    new_prob_tail = prob_head * 0.4 + prob_tail * 0.7\n",
    "\n",
    "    # update the probabilities\n",
    "    prob_head = new_prob_head\n",
    "    prob_tail = new_prob_tail\n",
    "    \n",
    "# print prob_head and prob_tail\n",
    "print(\"the probability of getting head after\",number_of_iterations,\"coin tosses is\",prob_head)\n",
    "print(\"the probability of getting tail after\",number_of_iterations,\"coin tosses is\",prob_tail)"
   ]
  },
  {
   "cell_type": "markdown",
   "metadata": {},
   "source": [
    "<a id=\"task3\"></a>\n",
    "<h3> Task 3 </h3>\n",
    "\n",
    "Repeat Task 2 for 20, 30, and 50 coin tosses."
   ]
  },
  {
   "cell_type": "markdown",
   "metadata": {},
   "source": [
    "<h3>Solution</h3>"
   ]
  },
  {
   "cell_type": "code",
   "execution_count": null,
   "metadata": {},
   "outputs": [],
   "source": [
    "# define iterations as a list\n",
    "iterations = [20,30,50]\n",
    "\n",
    "for iteration in iterations:\n",
    "    \n",
    "    # initial probabilites\n",
    "    prob_head = 1\n",
    "    prob_tail = 0\n",
    "    \n",
    "    print(\"the number of iterations is\",iteration)\n",
    "    \n",
    "    for i in range(iteration):\n",
    "         # the new probability of head is calculated by using the first row of table\n",
    "        new_prob_head = prob_head * 0.6 + prob_tail * 0.3\n",
    "\n",
    "        # the new probability of tail is calculated by using the second row of table\n",
    "        new_prob_tail = prob_head * 0.4 + prob_tail * 0.7\n",
    "\n",
    "        # update the probabilities\n",
    "        prob_head = new_prob_head\n",
    "        prob_tail = new_prob_tail\n",
    "    \n",
    "    # print prob_head and prob_tail\n",
    "    print(\"the probability of getting head after\",iteration,\"coin tosses is\",prob_head)\n",
    "    print(\"the probability of getting tail after\",iteration,\"coin tosses is\",prob_tail)\n",
    "    print()"
   ]
  },
  {
   "cell_type": "markdown",
   "metadata": {},
   "source": [
    "<a id=\"task4\"></a>\n",
    "<h3> Task 4 </h3>\n",
    "\n",
    "Repeat Task 2 for 10, 20, and 50 coin tosses by picking different initial conditions, e.g., \n",
    "    \n",
    "    prob_head = prob_tail = 1/2\n",
    "or\n",
    "    \n",
    "    prob_head = 0 \n",
    "    prob_tail = 1"
   ]
  },
  {
   "cell_type": "markdown",
   "metadata": {},
   "source": [
    "<h3>Solution</h3>"
   ]
  },
  {
   "cell_type": "code",
   "execution_count": null,
   "metadata": {},
   "outputs": [],
   "source": [
    "# define iterations as a list\n",
    "iterations = [20,30,50]\n",
    "\n",
    "# define initial probability pairs as a double list\n",
    "initial_probabilities =[    \n",
    "    [1/2,1/2],\n",
    "    [0,1]\n",
    "]\n",
    "\n",
    "\n",
    "for initial_probability_pair in initial_probabilities: \n",
    "    print(\"probability of head is\",initial_probability_pair[0])\n",
    "    print(\"probability of tail is\",initial_probability_pair[1])\n",
    "    print()\n",
    "\n",
    "    for iteration in iterations:\n",
    "\n",
    "        # initial probabilites\n",
    "        [prob_head,prob_tail] = initial_probability_pair\n",
    "        \n",
    "        print(\"the number of iterations is\",iteration)\n",
    "        \n",
    "        for i in range(iteration):\n",
    "             # the new probability of head is calculated by using the first row of table\n",
    "            new_prob_head = prob_head * 0.6 + prob_tail * 0.3\n",
    "\n",
    "            # the new probability of tail is calculated by using the second row of table\n",
    "            new_prob_tail = prob_head * 0.4 + prob_tail * 0.7\n",
    "\n",
    "            # update the probabilities\n",
    "            prob_head = new_prob_head\n",
    "            prob_tail = new_prob_tail\n",
    "\n",
    "        # print prob_head and prob_tail\n",
    "        print(\"the probability of getting head after\",iteration,\"coin tosses is\",prob_head)\n",
    "        print(\"the probability of getting tail after\",iteration,\"coin tosses is\",prob_tail)\n",
    "        print()\n",
    "    print()"
   ]
  }
 ],
 "metadata": {
  "kernelspec": {
   "display_name": "Python 3",
   "language": "python",
   "name": "python3"
  },
  "language_info": {
   "codemirror_mode": {
    "name": "ipython",
    "version": 3
   },
   "file_extension": ".py",
   "mimetype": "text/x-python",
   "name": "python",
   "nbconvert_exporter": "python",
   "pygments_lexer": "ipython3",
   "version": "3.7.1"
  }
 },
 "nbformat": 4,
 "nbformat_minor": 2
}
