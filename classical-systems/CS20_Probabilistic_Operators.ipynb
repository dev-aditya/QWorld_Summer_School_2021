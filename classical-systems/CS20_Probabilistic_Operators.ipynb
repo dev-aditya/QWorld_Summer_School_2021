{
 "cells": [
  {
   "cell_type": "markdown",
   "metadata": {},
   "source": [
    "<a href=\"https://qworld.net\" target=\"_blank\" align=\"left\"><img src=\"../qworld/images/header.jpg\"  align=\"left\"></a>\n",
    "$ \\newcommand{\\bra}[1]{\\langle #1|} $\n",
    "$ \\newcommand{\\ket}[1]{|#1\\rangle} $\n",
    "$ \\newcommand{\\braket}[2]{\\langle #1|#2\\rangle} $\n",
    "$ \\newcommand{\\dot}[2]{ #1 \\cdot #2} $\n",
    "$ \\newcommand{\\biginner}[2]{\\left\\langle #1,#2\\right\\rangle} $\n",
    "$ \\newcommand{\\mymatrix}[2]{\\left( \\begin{array}{#1} #2\\end{array} \\right)} $\n",
    "$ \\newcommand{\\myvector}[1]{\\mymatrix{c}{#1}} $\n",
    "$ \\newcommand{\\myrvector}[1]{\\mymatrix{r}{#1}} $\n",
    "$ \\newcommand{\\mypar}[1]{\\left( #1 \\right)} $\n",
    "$ \\newcommand{\\mybigpar}[1]{ \\Big( #1 \\Big)} $\n",
    "$ \\newcommand{\\sqrttwo}{\\frac{1}{\\sqrt{2}}} $\n",
    "$ \\newcommand{\\dsqrttwo}{\\dfrac{1}{\\sqrt{2}}} $\n",
    "$ \\newcommand{\\onehalf}{\\frac{1}{2}} $\n",
    "$ \\newcommand{\\donehalf}{\\dfrac{1}{2}} $\n",
    "$ \\newcommand{\\hadamard}{ \\mymatrix{rr}{ \\sqrttwo & \\sqrttwo \\\\ \\sqrttwo & -\\sqrttwo }} $\n",
    "$ \\newcommand{\\vzero}{\\myvector{1\\\\0}} $\n",
    "$ \\newcommand{\\vone}{\\myvector{0\\\\1}} $\n",
    "$ \\newcommand{\\stateplus}{\\myvector{ \\sqrttwo \\\\  \\sqrttwo } } $\n",
    "$ \\newcommand{\\stateminus}{ \\myrvector{ \\sqrttwo \\\\ -\\sqrttwo } } $\n",
    "$ \\newcommand{\\myarray}[2]{ \\begin{array}{#1}#2\\end{array}} $\n",
    "$ \\newcommand{\\X}{ \\mymatrix{cc}{0 & 1 \\\\ 1 & 0}  } $\n",
    "$ \\newcommand{\\I}{ \\mymatrix{rr}{1 & 0 \\\\ 0 & 1}  } $\n",
    "$ \\newcommand{\\Z}{ \\mymatrix{rr}{1 & 0 \\\\ 0 & -1}  } $\n",
    "$ \\newcommand{\\Htwo}{ \\mymatrix{rrrr}{ \\frac{1}{2} & \\frac{1}{2} & \\frac{1}{2} & \\frac{1}{2} \\\\ \\frac{1}{2} & -\\frac{1}{2} & \\frac{1}{2} & -\\frac{1}{2} \\\\ \\frac{1}{2} & \\frac{1}{2} & -\\frac{1}{2} & -\\frac{1}{2} \\\\ \\frac{1}{2} & -\\frac{1}{2} & -\\frac{1}{2} & \\frac{1}{2} } } $\n",
    "$ \\newcommand{\\CNOT}{ \\mymatrix{cccc}{1 & 0 & 0 & 0 \\\\ 0 & 1 & 0 & 0 \\\\ 0 & 0 & 0 & 1 \\\\ 0 & 0 & 1 & 0} } $\n",
    "$ \\newcommand{\\norm}[1]{ \\left\\lVert #1 \\right\\rVert } $\n",
    "$ \\newcommand{\\pstate}[1]{ \\lceil \\mspace{-1mu} #1 \\mspace{-1.5mu} \\rfloor } $\n",
    "$ \\newcommand{\\greenbit}[1] {\\mathbf{{\\color{green}#1}}} $\n",
    "$ \\newcommand{\\bluebit}[1] {\\mathbf{{\\color{blue}#1}}} $\n",
    "$ \\newcommand{\\redbit}[1] {\\mathbf{{\\color{red}#1}}} $\n",
    "$ \\newcommand{\\brownbit}[1] {\\mathbf{{\\color{brown}#1}}} $\n",
    "$ \\newcommand{\\blackbit}[1] {\\mathbf{{\\color{black}#1}}} $"
   ]
  },
  {
   "cell_type": "markdown",
   "metadata": {},
   "source": [
    "<font style=\"font-size:28px;\" align=\"left\"><b> Probabilistic Operators </b></font>\n",
    "<br>\n",
    "_prepared by Abuzer Yakaryilmaz_\n",
    "<br><br>\n",
    "[<img src=\"../qworld/images/watch_lecture.jpg\" align=\"left\">](https://youtu.be/zYgym4NVq6o)\n",
    "<br><br><br>"
   ]
  },
  {
   "cell_type": "markdown",
   "metadata": {},
   "source": [
    "Remember Asja's biased coins, and her coin-flipping protocol.\n",
    "\n",
    "$\n",
    "GameCoins = \\begin{array}{c|cc} \\hookleftarrow & \\mathbf{Head} & \\mathbf{Tail} \\\\ \\hline \\mathbf{Head} & 0.6 & 0.3\\\\  \\mathbf{Tail} & 0.4 & 0.7  \\end{array} \\equiv \\begin{array}{c|cc} \\hookleftarrow & \\mathbf{0} & \\mathbf{1} \\\\ \\hline \\mathbf{0} & 0.6 & 0.3 \\\\  \\mathbf{1} & 0.4 & 0.7  \\end{array}\n",
    "$"
   ]
  },
  {
   "cell_type": "markdown",
   "metadata": {},
   "source": [
    "We trace Asja's outcomes after two coin flips.\n",
    "\n",
    "<b> At the beginning: </b>\n",
    "\n",
    "<i> Remember the protocol:\n",
    "<ol> \n",
    "    <li> whenever she gets a head, she flips one euro; </li>\n",
    "    <li> whenever she gets a tail, she flips one cent; and </li>\n",
    "    <li> she starts with flipping one euro by assuming that she got head from nowhere </li>\n",
    "</ol>\n",
    "</i>\n",
    "\n",
    "She starts in state 0: $ v_0 = \\myvector{1 \\\\ 0} $.\n",
    "\n",
    "State 0 represents Head and state 1 represents Tail."
   ]
  },
  {
   "cell_type": "markdown",
   "metadata": {},
   "source": [
    "<b>After first coin flip:</b>\n",
    "\n",
    "$  \\mypar{ \n",
    "        GameCoins = \\begin{array}{c|cc} \\hookleftarrow & \\mathbf{Head} & \\mathbf{Tail} \\\\ \\hline \\mathbf{Head} & 0.6 & 0.3\\\\  \\mathbf{Tail} & 0.4 & 0.7  \\end{array}\n",
    "        }\n",
    "    \\mypar{\n",
    "        CurrentState=\\myvector{1 \\\\ 0}\n",
    "    } $\n",
    "    \n",
    "Each entry of the new vector is calculated by a row and current state:\n",
    "\n",
    "$\n",
    "\\myvector{  0.6 \\cdot 1 \\\\ + \\\\ 0.3 \\cdot 0 \\\\ \\hline 0.4 \\cdot 1 \\\\ + \\\\ 0.7 \\cdot 0  }\n",
    "=\n",
    "\\myvector{ 0.6 + 0 \\\\ 0.4 + 0 }\n",
    "=\n",
    "\\myvector{0.6 \\\\ 0.4}.\n",
    "$"
   ]
  },
  {
   "cell_type": "markdown",
   "metadata": {},
   "source": [
    "<b>After second coin flip:</b>\n",
    "\n",
    "$  \\mypar{ \n",
    "        GameCoins = \\begin{array}{c|cc} \\hookleftarrow & \\mathbf{Head} & \\mathbf{Tail} \\\\ \\hline \\mathbf{Head} & 0.6 & 0.3\\\\  \\mathbf{Tail} & 0.4 & 0.7  \\end{array}\n",
    "        }\n",
    "    \\mypar{\n",
    "        CurrentState=\\myvector{0.6 \\\\ 0.4}\n",
    "    } $\n",
    "    \n",
    "Each entry of the new vector is calculated by a row and current state:\n",
    "\n",
    "$\n",
    "\\myvector{  0.6 \\cdot 0.6 \\\\ + \\\\ 0.3 \\cdot 0.4 \\\\ \\hline 0.4 \\cdot 0.6 \\\\ + \\\\ 0.7 \\cdot 0.4  }\n",
    "=\n",
    "\\myvector{ 0.36 + 0.12 \\\\ 0.24 + 0.28 }\n",
    "=\n",
    "\\myvector{0.48 \\\\ 0.52}.\n",
    "$"
   ]
  },
  {
   "cell_type": "markdown",
   "metadata": {},
   "source": [
    "<b>Coin-flipping protocol</b> of Asja is a <i>probabilistic operator</i>.\n",
    "\n",
    "Similarly to any operator, depending on the current state, Asja's coin-flipping protocol determines the next state.\n",
    "\n",
    "$$\n",
    "    \\myvector{1 \\\\ 0} \\xrightarrow{\\mbox{Asja's coin-flipping protocol}} \\myvector{0.6 \\\\ 0.4}\n",
    "    \\xrightarrow{\\mbox{Asja's coin-flipping protocol}}  \\myvector{0.48 \\\\ 0.52}.\n",
    "$$"
   ]
  },
  {
   "cell_type": "markdown",
   "metadata": {},
   "source": [
    "<font color=\"blue\"><b>A probabilistic operator evolves the system from a probabilistic state to a probabilistic state.</b></font>\n",
    "\n",
    "Asja's coin-flipping protocol transforms $ \\myvector{ 0.8 \\\\ 0.2 } $ to $ \\myvector{ 0.54 \\\\ 0.46 } $.\n",
    "\n",
    "When calculating the new state, we use the table $  GameCoins = \\begin{array}{c|cc} \\hookleftarrow & \\mathbf{Head} & \\mathbf{Tail} \\\\ \\hline \\mathbf{Head} & 0.6 & 0.3\\\\  \\mathbf{Tail} & 0.4 & 0.7  \\end{array} $ and the current state $ \\myvector{ 0.8 \\\\ 0.2 } $:\n",
    "\n",
    "$$\n",
    "    \\myvector{ \\myarray{c}{0.6 \\cdot 0.8 \\\\ + \\\\ 0.3 \\cdot 0.2} \\\\ \\hline \\myarray{c}{0.4 \\cdot 0.8 \\\\ + \\\\ 0.7 \\cdot 0.2} } = \\myvector{ \\myarray{c}{0.48 + 0.06} \\\\ \\myarray{c}{0.32 + 0.14}  } = \\myvector{ 0.54 \\\\ 0.46 }.\n",
    "$$"
   ]
  },
  {
   "cell_type": "markdown",
   "metadata": {},
   "source": [
    "<h3> Probabilistic operator </h3>\n",
    "\n",
    "A probabilistic operator can be represented as a square table or matrix.\n",
    "\n",
    "The entries of a probabilistic operator represent the transition probabilities between the states.\n",
    "\n",
    "Therefore, <b>each entry is nonnegative.</b>\n",
    "\n",
    "Each column represents the transition probabilities from a state to all states. Therefore, <b>the summation of all entries in each column is 1</b>, i.e., probability 1 is distributed over all states. \n",
    "\n",
    "Any matrix satisfying these two properties is called a <b> stochastic matrix</b>.\n",
    "\n",
    "A probabilistic operator is a stochastic matrix, and vice versa.\n",
    "\n",
    "<i> Remark that the operator of any linear system is represented as a matrix. </i>"
   ]
  },
  {
   "cell_type": "markdown",
   "metadata": {},
   "source": [
    "<h3> Probabilistic evolution </h3>\n",
    "\n",
    "A probabilistic state is a stochastic vector,  say $ v $.\n",
    "\n",
    "A probabilistic operator is a stochastic matrix, say $ A $,\n",
    "\n",
    "If probabilistic operator $ A $ is applied to probabilistic state $ v $, the new state, say $v'$, is calculated as \n",
    "\n",
    "$  v' = A \\cdot v. $\n",
    "\n",
    "<i> Remark that the evolution of linear system is represented by matrix-vector multiplication. </i>"
   ]
  },
  {
   "cell_type": "markdown",
   "metadata": {},
   "source": [
    "If we represent $ GameCoins $ as a matrix: $ \\mymatrix{cc}{ 0.6 & 0.3 \\\\ 0.4 & 0.7 } $, then the new probabilistic state is calculated as\n",
    "\n",
    "$\n",
    "    \\myvector{ 0.54 \\\\ 0.46 } = \\mymatrix{cc}{ 0.6 & 0.3 \\\\ 0.4 & 0.7 } \\myvector{ 0.8 \\\\ 0.2 }.\n",
    "$"
   ]
  },
  {
   "cell_type": "markdown",
   "metadata": {},
   "source": [
    "<h3> Task 1 </h3>\n",
    "\n",
    "The operator $ GameCoins = \\mymatrix{cc}{ 0.6 & 0.3 \\\\ 0.4 & 0.7 } $ is applied to the probabilistic state $ \\myvector{ 0.1 \\\\ 0.9 } $. \n",
    "\n",
    "Then, the new probabilistic state is\n",
    "\n",
    "$ \\mymatrix{cc}{ 0.6 & 0.3 \\\\ 0.4 & 0.7 } \\myvector{ 0.1 \\\\ 0.9 } = \\myvector{ 0.33 \\\\ 0.67 }. $\n",
    "\n",
    "Please verify the correctness of matrix-vector multiplication."
   ]
  },
  {
   "cell_type": "markdown",
   "metadata": {},
   "source": [
    "<h3> Task 2 </h3>\n",
    "\n",
    "We are given the following probabilistic operator: $ B =  \\mymatrix{ccc}{ 0.4 & 0.6 & 0 \\\\ 0.2 & 0.1 & 0.7 \\\\ 0.4 & 0.3 & 0.3 } $.\n",
    "\n",
    "What is the transition probability from the second state to the third state?\n",
    "\n",
    "What is the transition probability from the third state to the first state?\n",
    "\n",
    "What is the transition probability from the first state to the second state?"
   ]
  },
  {
   "cell_type": "markdown",
   "metadata": {},
   "source": [
    "<a href=\"CS20_Probabilistic_Operators_Solutions.ipynb#task2\">click for our solution</a>"
   ]
  },
  {
   "cell_type": "markdown",
   "metadata": {},
   "source": [
    "<h3>Task 3</h3>\n",
    "\n",
    "Randomly construct a $ (3 \\times 3 ) $-dimensional probabilistic operator.\n",
    "\n",
    "That is, randomly determine the entries of the matrix that represents a probabilistic operator."
   ]
  },
  {
   "cell_type": "code",
   "execution_count": null,
   "metadata": {},
   "outputs": [],
   "source": [
    "#\n",
    "# your solution is here\n",
    "#\n"
   ]
  },
  {
   "cell_type": "markdown",
   "metadata": {},
   "source": [
    "<a href=\"CS20_Probabilistic_Operators_Solutions.ipynb#task3\">click for our solution</a>"
   ]
  },
  {
   "cell_type": "markdown",
   "metadata": {},
   "source": [
    "<h3> Task 4 </h3>\n",
    "\n",
    "What is the new probabilistic state if the operator $ B =  \\mymatrix{ccc}{ 0.4 & 0.6 & 0 \\\\ 0.2 & 0.1 & 0.7 \\\\ 0.4 & 0.3 & 0.3 } $ is applied to the state $ \\myvector{ 0.1 \\\\ 0.3 \\\\ 0.6 } $.\n",
    "\n",
    "Please find the result by using matrix-vector multiplication.\n",
    "\n",
    "Please do not use any python library for matrix-vector multiplication. \n",
    "\n",
    "<i> The new probabilistic state should be $ \\myvector{0.22 \\\\ 0.47 \\\\ 0.31} $. </i>"
   ]
  },
  {
   "cell_type": "code",
   "execution_count": null,
   "metadata": {},
   "outputs": [],
   "source": [
    "# operator B\n",
    "B = [\n",
    "    [0.4,0.6,0],\n",
    "    [0.2,0.1,0.7],\n",
    "    [0.4,0.3,0.3]\n",
    "]\n",
    "\n",
    "# the current state\n",
    "v = [0.1,0.3,0.6]\n",
    "\n",
    "#\n",
    "# your solution is here\n",
    "#"
   ]
  },
  {
   "cell_type": "markdown",
   "metadata": {},
   "source": [
    "<a href=\"CS20_Probabilistic_Operators_Solutions.ipynb#task4\">click for our solution</a>"
   ]
  },
  {
   "cell_type": "markdown",
   "metadata": {},
   "source": [
    "<h3> Task 5 </h3>\n",
    "\n",
    "Write a function named <i>linear_evolve</i> that takes a probabilistic operator and a probabilistic state, and then returns the new probabilistic state.\n",
    "\n",
    "Please do not use any python library for matrix-vector multiplication.\n",
    "\n",
    "Your function should work for any dimension.\n",
    "\n",
    "Save your function so that you can use it later.\n",
    "<br>\n",
    "<div style=\"background-color:#f8f8f8;\">\n",
    "<b><u>Write the content of a code cell</u></b> into an external file:\n",
    "    \n",
    "    %%writefile linear_evolve.py\n",
    "This command should be placed in the first line of cell, and then the cell should be executed.\n",
    "</div>\n",
    "\n",
    "Test your function on $ B = \\mymatrix{ccc}{ 0.4 & 0.6 & 0 \\\\ 0.2 & 0.1 & 0.7 \\\\ 0.4 & 0.3 & 0.3 } $ and $ \\myvector{0.1 \\\\ 0.3 \\\\ 0.6} $. \n",
    "\n",
    "The new probabilistic state should be $ \\myvector{0.22 \\\\ 0.47 \\\\ 0.31} $.\n",
    "\n",
    "Then, evolve your system for 5, 10, 20, and 40 steps.\n",
    "\n",
    "This system should evolve to a fixed probabilistic state.\n",
    "\n",
    "Change your initial state to  $ \\myvector{1 \\\\ 0 \\\\ 0} $, and see whether the converged state is the same or not."
   ]
  },
  {
   "cell_type": "code",
   "execution_count": null,
   "metadata": {},
   "outputs": [],
   "source": [
    "# %%writefile linear_evolve.py"
   ]
  },
  {
   "cell_type": "code",
   "execution_count": null,
   "metadata": {},
   "outputs": [],
   "source": [
    "# run your script\n",
    "# %run linear_evolve.py\n",
    "\n",
    "# operator for the test\n",
    "B = [\n",
    "    [0.4,0.6,0],\n",
    "    [0.2,0.1,0.7],\n",
    "    [0.4,0.3,0.3]\n",
    "]\n",
    "\n",
    "# state for test\n",
    "v = [0.1,0.3,0.6]\n",
    "\n",
    "#\n",
    "# your solution is here\n",
    "#\n"
   ]
  },
  {
   "cell_type": "markdown",
   "metadata": {},
   "source": [
    "<a href=\"CS20_Probabilistic_Operators_Solutions.ipynb#task4\">click for our solution</a>"
   ]
  },
  {
   "cell_type": "markdown",
   "metadata": {},
   "source": [
    "---\n",
    "\n",
    "<h3> Extra: Task 6 </h3>\n",
    "\n",
    "The operator $ \\widetilde{I} = \\mymatrix{cc}{0.999 & 0.001\\\\ 0.001 & 0.999 } $ is very similar to Identity operator. However, it converges to a certain matrix.\n",
    "\n",
    "Find $  \\underbrace{\\widetilde{I} \\cdot \\widetilde{I} \\cdots \\widetilde{I}}_{k\\mbox{ times}} $ for $ k = 10, 100, 1000, 10000, 100000 $ and then guess the converging matrix."
   ]
  },
  {
   "cell_type": "markdown",
   "metadata": {},
   "source": [
    "<h3> Extra: Task 7 </h3>\n",
    "\n",
    "Repeat Task 6 for the operator $ \\widetilde{NOT} = \\mymatrix{cc}{0.001 & 0.999\\\\ 0.999 & 0.001 } $."
   ]
  }
 ],
 "metadata": {
  "kernelspec": {
   "display_name": "Python 3",
   "language": "python",
   "name": "python3"
  },
  "language_info": {
   "codemirror_mode": {
    "name": "ipython",
    "version": 3
   },
   "file_extension": ".py",
   "mimetype": "text/x-python",
   "name": "python",
   "nbconvert_exporter": "python",
   "pygments_lexer": "ipython3",
   "version": "3.7.1"
  }
 },
 "nbformat": 4,
 "nbformat_minor": 2
}
